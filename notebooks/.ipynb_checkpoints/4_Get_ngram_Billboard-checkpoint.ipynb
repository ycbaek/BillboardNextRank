{
 "cells": [
  {
   "cell_type": "code",
   "execution_count": 1,
   "metadata": {
    "collapsed": true
   },
   "outputs": [],
   "source": [
    "import pandas as pd"
   ]
  },
  {
   "cell_type": "code",
   "execution_count": 2,
   "metadata": {
    "collapsed": true
   },
   "outputs": [],
   "source": [
    "def clean_data(df):\n",
    "    df=df.rename(columns = {'artist':'artist_long'})\n",
    "    try:\n",
    "        df[\"artist\"] = df[\"artist_long\"].map(lambda x : x.split('featuring')[0])\n",
    "    except:\n",
    "        df[\"artist\"] = df[\"artist_long\"].map(lambda x : x)\n",
    "    df[\"ID\"] = df[\"song\"] + \"%\" +  df[\"artist\"]\n",
    "    col_name = ['date','rank','ID','song','artist']\n",
    "    df = df[~df['artist'].isnull()]\n",
    "    df = df[~df['song'].isnull()]\n",
    "    \n",
    "    return df[col_name]#.drop_duplicates() "
   ]
  },
  {
   "cell_type": "code",
   "execution_count": 3,
   "metadata": {
    "collapsed": true
   },
   "outputs": [],
   "source": [
    "def remove_duplicates(df_clean):\n",
    "    df_clean = df_clean[(df_clean['ID'] != \"Heartless%KANYE WEST\") | (df_clean['date'] != \"2009-06-06\") | (df_clean['rank'] != 79)]\n",
    "    \n",
    "    return df_clean"
   ]
  },
  {
   "cell_type": "code",
   "execution_count": 4,
   "metadata": {
    "collapsed": true
   },
   "outputs": [],
   "source": [
    "def wide_pivot(df_long):\n",
    "    df= df_long.pivot('ID', 'date', 'rank')\n",
    "    df[\"ID\"] = df.index\n",
    "    df[\"song\"] = df[\"ID\"].map(lambda x : x.split('%')[0])\n",
    "    df[\"artist\"] = df[\"ID\"].map(lambda x : x.split('%')[1])\n",
    "    df.fillna(101,inplace=True)\n",
    "    df.columns = [range(len(df.columns)-3)+['ID', 'song', 'artist']]\n",
    "    #df.index = range(len(df))\n",
    "    #df[\"IDN\"] = df.index\n",
    "    return df"
   ]
  },
  {
   "cell_type": "code",
   "execution_count": 5,
   "metadata": {
    "collapsed": true
   },
   "outputs": [],
   "source": [
    "def get_est_form(df, n=4):\n",
    "    data = []\n",
    "    for k in xrange(len(df)):\n",
    "        df_row = df[df.index == df.index[k]]\n",
    "\n",
    "        for i in xrange(len(df.columns)-n-3):\n",
    "            ser = [df_row[j].values[0] for j in range(i, i+n+1)]\n",
    "            if np.product(np.array(ser) <101) == 1:\n",
    "                diff = []\n",
    "                for i in range(len(ser)-1):\n",
    "                    if ser[i+1]-ser[i] > 0:\n",
    "                        value = -1\n",
    "                    elif ser[i+1]-ser[i] < 0:\n",
    "                        value = 1\n",
    "                    else:\n",
    "                        value = 0    \n",
    "                    diff.append(value)\n",
    "                data.append(diff[:-1] + [ser[n-1]] + [diff[-1]])\n",
    "\n",
    "    result = pd.DataFrame(data)\n",
    "    result.columns = [[\"diff_{}\".format(i) for i in range(result.shape[1]-2)] + ['rank','target']]\n",
    "    file_name = \"pattern_{}.csv\".format(n)\n",
    "    result.to_csv(file_name, sep=',', encoding='utf-8')\n",
    "    return result"
   ]
  },
  {
   "cell_type": "code",
   "execution_count": 6,
   "metadata": {
    "collapsed": true
   },
   "outputs": [],
   "source": [
    "def get_ngram_form(df, n=4, name=\"../data/ngram\"):\n",
    "    data = []\n",
    "    for k in xrange(len(df)):\n",
    "        df_row = df[df.index == df.index[k]]\n",
    "\n",
    "        for i in xrange(len(df.columns)-n-3):\n",
    "            ser = [df_row[j].values[0] for j in range(i, i+n+1)]\n",
    "            ser1 = ser[0:-1]\n",
    "            if np.product(np.array(ser1) <101) == 1:\n",
    "                data.append(ser)\n",
    "\n",
    "    result = pd.DataFrame(data)\n",
    "    result.columns = [[\"diff_{}\".format(i) for i in range(result.shape[1]-1)] + ['target']]\n",
    "    file_name = name+\"_{}.csv\".format(n)\n",
    "    result.to_csv(file_name, sep=',', encoding='utf-8')\n",
    "    return result"
   ]
  },
  {
   "cell_type": "markdown",
   "metadata": {},
   "source": [
    "# Run code"
   ]
  },
  {
   "cell_type": "markdown",
   "metadata": {},
   "source": [
    "### Get data with type of ngram ( number in ngram = order)"
   ]
  },
  {
   "cell_type": "code",
   "execution_count": 7,
   "metadata": {
    "collapsed": false
   },
   "outputs": [
    {
     "name": "stdout",
     "output_type": "stream",
     "text": [
      "i: 1\n",
      "i: 2\n",
      "i: 3\n",
      "i: 4\n",
      "i: 5\n",
      "i: 6\n",
      "i: 7\n",
      "i: 8\n",
      "i: 9\n",
      "i: 10\n"
     ]
    }
   ],
   "source": [
    "df_raw = pd.read_csv(\"../data/billboard_result_19900106_20091226.csv\")\n",
    "#df_raw = pd.read_csv(\"../data/billboard_result_20100102_20160423.csv\")\n",
    "\n",
    "df_clean = clean_data(df_raw)\n",
    "df_clean = remove_duplicates(df_clean)\n",
    "df = wide_pivot(df_clean)\n",
    "\n",
    "for i in range(1, 11):\n",
    "    print \"i: {}\".format(i)\n",
    "    get_ngram_form(df, n=i, name=\"../data/ngram_1990_2009\")"
   ]
  },
  {
   "cell_type": "code",
   "execution_count": null,
   "metadata": {
    "collapsed": true
   },
   "outputs": [],
   "source": []
  }
 ],
 "metadata": {
  "kernelspec": {
   "display_name": "Python 2",
   "language": "python",
   "name": "python2"
  },
  "language_info": {
   "codemirror_mode": {
    "name": "ipython",
    "version": 2
   },
   "file_extension": ".py",
   "mimetype": "text/x-python",
   "name": "python",
   "nbconvert_exporter": "python",
   "pygments_lexer": "ipython2",
   "version": "2.7.11"
  }
 },
 "nbformat": 4,
 "nbformat_minor": 0
}
