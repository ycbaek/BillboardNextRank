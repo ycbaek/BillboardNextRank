{
 "cells": [
  {
   "cell_type": "code",
   "execution_count": 1,
   "metadata": {
    "collapsed": true
   },
   "outputs": [],
   "source": [
    "import pandas as pd\n",
    "import numpy as np\n",
    "from sklearn.cross_validation import KFold\n",
    "%matplotlib inline\n",
    "import matplotlib.pyplot as plt"
   ]
  },
  {
   "cell_type": "code",
   "execution_count": 2,
   "metadata": {
    "collapsed": true
   },
   "outputs": [],
   "source": [
    "def get_base(dfngram, ngram = 2):\n",
    "    dfngram = dfngram.astype('int')\n",
    "    col = [\"diff_{}\".format(i) for i in range(ngram)]\n",
    "    df = dfngram[col]\n",
    "    ASET = set()\n",
    "    for i in xrange(len(df)):\n",
    "        ASET.add(tuple(df.iloc[i]))\n",
    "    \n",
    "    return ASET"
   ]
  },
  {
   "cell_type": "code",
   "execution_count": 3,
   "metadata": {
    "collapsed": true
   },
   "outputs": [],
   "source": [
    "def get_markov(dfngram, ngram = 2):\n",
    "    \n",
    "    if ngram == 1:\n",
    "        base = set(range(1,101))\n",
    "    else:\n",
    "        base = get_base(dfngram, ngram = ngram)\n",
    "        \n",
    "    xy_table = pd.DataFrame(data = np.zeros([len(base), 101]), index=base, columns=range(1,102))\n",
    "    x_table = pd.DataFrame(data = np.zeros([len(base), 1]), index=base, columns= ['target'])\n",
    "    \n",
    "    dfngram = dfngram.astype('int')\n",
    "    col = [\"diff_{}\".format(i) for i in range(ngram)]\n",
    "    df = dfngram[col]\n",
    "    target = dfngram['target'].values\n",
    "    \n",
    "    for i in range(len(df)):\n",
    "        if ngram == 1:\n",
    "            t = df.iloc[i].values[0]\n",
    "        else:\n",
    "            t = tuple(df.iloc[i])\n",
    "            \n",
    "        s = target[i]\n",
    "        xy_table.ix[t,s] += 1\n",
    "        x_table.ix[t,\"target\"] += 1\n",
    "    \n",
    "    prob_value = np.array(xy_table)/np.array(x_table)\n",
    "    p_table = pd.DataFrame(data = prob_value, index=base, columns=range(1,102))\n",
    "    \n",
    "    p_table[\"base\"] = p_table.index\n",
    "    p_xy = p_table[range(1,102)].values\n",
    "    p_y = np.array(range(1,102))\n",
    "    p_table['pred'] = np.dot(p_xy,p_y)\n",
    "    \n",
    "    #return p_table, xy_table, x_table, base\n",
    "    return p_table, base\n",
    "    "
   ]
  },
  {
   "cell_type": "code",
   "execution_count": 4,
   "metadata": {
    "collapsed": false
   },
   "outputs": [],
   "source": [
    "def get_mse_7(dfngram, p_table7, p_table6, p_table5, p_table4, p_table3, p_table2, p_table1, \\\n",
    "              base7, base6, base5, base4, base3, base2, base1):\n",
    "    \n",
    "    ngram = 7\n",
    "    dfngram = dfngram.astype('int')\n",
    "    col = [\"diff_{}\".format(i) for i in range(ngram)]\n",
    "    df = dfngram[col]\n",
    "\n",
    "    est_list = []\n",
    "    diff_list = []\n",
    "    for i in range(len(df)):\n",
    "        basei = tuple(df.iloc[i])\n",
    "        esti = get_est_7(basei, p_table7, p_table6, p_table5, p_table4, p_table3, p_table2, p_table1, \\\n",
    "              base7, base6, base5, base4, base3, base2, base1)\n",
    "        est_list.append(esti)\n",
    "        diff_list.append(dfngram['target'].values[i] - esti)\n",
    "    \n",
    "    dfngram['est'] = est_list\n",
    "    dfngram['diff'] = diff_list\n",
    "    mse_list = np.array(diff_list)\n",
    "    return np.sqrt(np.mean(mse_list**2))\n"
   ]
  },
  {
   "cell_type": "code",
   "execution_count": 5,
   "metadata": {
    "collapsed": true
   },
   "outputs": [],
   "source": [
    "def get_mse_6(dfngram, p_table6, p_table5, p_table4, p_table3, p_table2, p_table1,\\\n",
    "              base6, base5, base4, base3, base2, base1):\n",
    "    \n",
    "    ngram = 6\n",
    "    dfngram = dfngram.astype('int')\n",
    "    col = [\"diff_{}\".format(i) for i in range(ngram)]\n",
    "    df = dfngram[col]\n",
    "\n",
    "    est_list = []\n",
    "    diff_list = []\n",
    "    for i in range(len(df)):\n",
    "        basei = tuple(df.iloc[i])\n",
    "        esti = get_est_6(basei, p_table6, p_table5, p_table4, p_table3, p_table2, p_table1,\\\n",
    "              base6, base5, base4, base3, base2, base1)\n",
    "        est_list.append(esti)\n",
    "        diff_list.append(dfngram['target'].values[i] - esti)\n",
    "    \n",
    "    dfngram['est'] = est_list\n",
    "    dfngram['diff'] = diff_list\n",
    "    mse_list = np.array(diff_list)\n",
    "    \n",
    "    return np.sqrt(np.mean(mse_list**2))\n"
   ]
  },
  {
   "cell_type": "code",
   "execution_count": 6,
   "metadata": {
    "collapsed": false
   },
   "outputs": [],
   "source": [
    "def get_mse_5(dfngram, p_table5, p_table4, p_table3, p_table2, p_table1,\\\n",
    "              base5, base4, base3, base2, base1):\n",
    "    \n",
    "    ngram = 5\n",
    "    dfngram = dfngram.astype('int')\n",
    "    col = [\"diff_{}\".format(i) for i in range(ngram)]\n",
    "    df = dfngram[col]\n",
    "\n",
    "    est_list = []\n",
    "    diff_list = []\n",
    "    for i in range(len(df)):\n",
    "        basei = tuple(df.iloc[i])\n",
    "        esti = get_est_5(basei, p_table5, p_table4, p_table3, p_table2, p_table1,\\\n",
    "              base5, base4, base3, base2, base1)\n",
    "        est_list.append(esti)\n",
    "        diff_list.append(dfngram['target'].values[i] - esti)\n",
    "    \n",
    "    dfngram['est'] = est_list\n",
    "    dfngram['diff'] = diff_list\n",
    "    mse_list = np.array(diff_list)\n",
    "    \n",
    "    return np.sqrt(np.mean(mse_list**2))"
   ]
  },
  {
   "cell_type": "code",
   "execution_count": 7,
   "metadata": {
    "collapsed": false
   },
   "outputs": [],
   "source": [
    "def get_mse_4(dfngram, p_table4, p_table3, p_table2, p_table1, base4, base3, base2, base1):\n",
    "    \n",
    "    ngram = 4\n",
    "    dfngram = dfngram.astype('int')\n",
    "    col = [\"diff_{}\".format(i) for i in range(ngram)]\n",
    "    df = dfngram[col]\n",
    "\n",
    "    est_list = []\n",
    "    diff_list = []\n",
    "    for i in range(len(df)):\n",
    "        basei = tuple(df.iloc[i])\n",
    "        esti = get_est_4(basei, p_table4, p_table3, p_table2, p_table1, base4, base3, base2, base1)\n",
    "        est_list.append(esti)\n",
    "        diff_list.append(dfngram['target'].values[i] - esti)\n",
    "    \n",
    "    dfngram['est'] = est_list\n",
    "    dfngram['diff'] = diff_list\n",
    "    mse_list = np.array(diff_list)\n",
    "    \n",
    "    return np.sqrt(np.mean(mse_list**2))"
   ]
  },
  {
   "cell_type": "code",
   "execution_count": 8,
   "metadata": {
    "collapsed": false
   },
   "outputs": [],
   "source": [
    "def get_mse_3(dfngram, p_table3, p_table2, p_table1, base3, base2, base1):\n",
    "    \n",
    "    ngram = 3\n",
    "    dfngram = dfngram.astype('int')\n",
    "    col = [\"diff_{}\".format(i) for i in range(ngram)]\n",
    "    df = dfngram[col]\n",
    "\n",
    "    est_list = []\n",
    "    diff_list = []\n",
    "    for i in range(len(df)):\n",
    "        basei = tuple(df.iloc[i])\n",
    "        esti = get_est_3(basei, p_table3, p_table2, p_table1, base3, base2, base1)\n",
    "        est_list.append(esti)\n",
    "        diff_list.append(dfngram['target'].values[i] - esti)\n",
    "    \n",
    "    dfngram['est'] = est_list\n",
    "    dfngram['diff'] = diff_list\n",
    "    mse_list = np.array(diff_list)\n",
    "    \n",
    "    return np.sqrt(np.mean(mse_list**2))"
   ]
  },
  {
   "cell_type": "code",
   "execution_count": 9,
   "metadata": {
    "collapsed": false
   },
   "outputs": [],
   "source": [
    "def get_mse_2(dfngram, p_table2, p_table1, base2, base1):\n",
    "    \n",
    "    ngram = 2\n",
    "    dfngram = dfngram.astype('int')\n",
    "    col = [\"diff_{}\".format(i) for i in range(ngram)]\n",
    "    df = dfngram[col]\n",
    "\n",
    "    est_list = []\n",
    "    diff_list = []\n",
    "    for i in range(len(df)):\n",
    "        basei = tuple(df.iloc[i])\n",
    "        esti = get_est_2(basei, p_table2, p_table1, base2, base1)\n",
    "        est_list.append(esti)\n",
    "        diff_list.append(dfngram['target'].values[i] - esti)\n",
    "    \n",
    "    dfngram['est'] = est_list\n",
    "    dfngram['diff'] = diff_list\n",
    "    mse_list = np.array(diff_list)\n",
    "    \n",
    "    return np.sqrt(np.mean(mse_list**2))"
   ]
  },
  {
   "cell_type": "code",
   "execution_count": 10,
   "metadata": {
    "collapsed": true
   },
   "outputs": [],
   "source": [
    "def get_mse_1(dfngram, p_table1, base1):\n",
    "    \n",
    "    ngram = 1\n",
    "    dfngram = dfngram.astype('int')\n",
    "    col = [\"diff_{}\".format(i) for i in range(ngram)]\n",
    "    df = dfngram[col]\n",
    "\n",
    "    est_list = []\n",
    "    diff_list = []\n",
    "    for i in range(len(df)):\n",
    "        basei = tuple(df.iloc[i])\n",
    "        esti = get_est_1(basei, p_table1, base1)\n",
    "        est_list.append(esti)\n",
    "        diff_list.append(dfngram['target'].values[i] - esti)\n",
    "    \n",
    "    dfngram['est'] = est_list\n",
    "    dfngram['diff'] = diff_list\n",
    "    mse_list = np.array(diff_list)\n",
    "    \n",
    "    return np.sqrt(np.mean(mse_list**2))"
   ]
  },
  {
   "cell_type": "code",
   "execution_count": 11,
   "metadata": {
    "collapsed": true
   },
   "outputs": [],
   "source": [
    "def get_est_7(basei, p_table7, p_table6, p_table5, p_table4, p_table3, p_table2, p_table1, \\\n",
    "              base7, base6, base5, base4, base3, base2, base1):\n",
    "    \n",
    "    if basei in base7:\n",
    "        return p_table7[p_table7['base']==basei]['pred'].values[0]\n",
    "    else:\n",
    "        if basei[1:] in base6:\n",
    "            return p_table6[p_table6['base']==basei[1:]]['pred'].values[0]\n",
    "        else:\n",
    "            if basei[2:] in base5:\n",
    "                return p_table5[p_table5['base']==basei[2:]]['pred'].values[0]\n",
    "            else: \n",
    "                if basei[3:] in base4:\n",
    "                    return p_table4[p_table4['base']==basei[3:]]['pred'].values[0]\n",
    "                else:\n",
    "                    if basei[4:] in base3:\n",
    "                        return p_table3[p_table3['base']==basei[4:]]['pred'].values[0]\n",
    "                    else:\n",
    "                        if basei[5:] in base2:\n",
    "                            return p_table2[p_table2['base']==basei[5:]]['pred'].values[0]\n",
    "                        else:\n",
    "                            return p_table1[p_table1['base']==basei[6]]['pred'].values[0]"
   ]
  },
  {
   "cell_type": "code",
   "execution_count": 12,
   "metadata": {
    "collapsed": true
   },
   "outputs": [],
   "source": [
    "def get_est_6(basei, p_table6, p_table5, p_table4, p_table3, p_table2, p_table1,\\\n",
    "              base6, base5, base4, base3, base2, base1):\n",
    "    \n",
    "    if basei in base6:\n",
    "        return p_table6[p_table6['base']==basei]['pred'].values[0]\n",
    "    else:\n",
    "        if basei[1:] in base5:\n",
    "            return p_table5[p_table5['base']==basei[1:]]['pred'].values[0]\n",
    "        else:\n",
    "            if basei[2:] in base4:\n",
    "                return p_table4[p_table4['base']==basei[2:]]['pred'].values[0]\n",
    "            else: \n",
    "                if basei[3:] in base3:\n",
    "                    return p_table3[p_table3['base']==basei[3:]]['pred'].values[0]\n",
    "                else:\n",
    "                    if basei[4:] in base2:\n",
    "                        return p_table2[p_table2['base']==basei[4:]]['pred'].values[0]\n",
    "                    else:\n",
    "                        return p_table1[p_table1['base']==basei[5]]['pred'].values[0]"
   ]
  },
  {
   "cell_type": "code",
   "execution_count": 13,
   "metadata": {
    "collapsed": true
   },
   "outputs": [],
   "source": [
    "def get_est_5(basei, p_table5, p_table4, p_table3, p_table2, p_table1,\\\n",
    "              base5, base4, base3, base2, base1):\n",
    "    \n",
    "    if basei in base5:\n",
    "        return p_table5[p_table5['base']==basei]['pred'].values[0]\n",
    "    else:\n",
    "        if basei[1:] in base4:\n",
    "            return p_table4[p_table4['base']==basei[1:]]['pred'].values[0]\n",
    "        else:\n",
    "            if basei[2:] in base3:\n",
    "                return p_table3[p_table3['base']==basei[2:]]['pred'].values[0]\n",
    "            else: \n",
    "                if basei[3:] in base2:\n",
    "                    return p_table2[p_table2['base']==basei[3:]]['pred'].values[0]\n",
    "                else:\n",
    "                    return p_table1[p_table1['base']==basei[4]]['pred'].values[0]"
   ]
  },
  {
   "cell_type": "code",
   "execution_count": 14,
   "metadata": {
    "collapsed": true
   },
   "outputs": [],
   "source": [
    "def get_est_4(basei, p_table4, p_table3, p_table2, p_table1, base4, base3, base2, base1):\n",
    "    \n",
    "    if basei in base4:\n",
    "        return p_table4[p_table4['base']==basei]['pred'].values[0]\n",
    "    else:\n",
    "        if basei[1:] in base3:\n",
    "            return p_table3[p_table3['base']==basei[1:]]['pred'].values[0]\n",
    "        else:\n",
    "            if basei[2:] in base2:\n",
    "                return p_table2[p_table2['base']==basei[2:]]['pred'].values[0]\n",
    "            else: \n",
    "                return p_table1[p_table1['base']==basei[3]]['pred'].values[0]"
   ]
  },
  {
   "cell_type": "code",
   "execution_count": 15,
   "metadata": {
    "collapsed": false
   },
   "outputs": [],
   "source": [
    "def get_est_3(basei, p_table3, p_table2, p_table1, base3, base2, base1):\n",
    "    \n",
    "    if basei in base3:\n",
    "        return p_table3[p_table3['base']==basei]['pred'].values[0]\n",
    "    else:\n",
    "        if basei[1:] in base2:\n",
    "            return p_table2[p_table2['base']==basei[1:]]['pred'].values[0]\n",
    "        else:\n",
    "            return p_table1[p_table1['base']==basei[2]]['pred'].values[0]"
   ]
  },
  {
   "cell_type": "code",
   "execution_count": 16,
   "metadata": {
    "collapsed": true
   },
   "outputs": [],
   "source": [
    "def get_est_2(basei, p_table2, p_table1, base2, base1):\n",
    "    \n",
    "    if basei in base2:\n",
    "        return p_table2[p_table2['base']==basei]['pred'].values[0]\n",
    "    else:\n",
    "        return p_table1[p_table1['base']==basei[1]]['pred'].values[0]"
   ]
  },
  {
   "cell_type": "code",
   "execution_count": 17,
   "metadata": {
    "collapsed": true
   },
   "outputs": [],
   "source": [
    "def get_est_1(basei, p_table1, base1):\n",
    "    \n",
    "    basei = basei[0]\n",
    "    return p_table1[p_table1['base']==basei]['pred'].values[0]\n",
    "    "
   ]
  },
  {
   "cell_type": "code",
   "execution_count": 70,
   "metadata": {
    "collapsed": false
   },
   "outputs": [],
   "source": [
    "def get_cv(dfngram1, dfngram2, dfngram3, dfngram4, dfngram5, dfngram6, dfngram7):\n",
    "    \n",
    "    num_kfold = 5\n",
    "\n",
    "    kf1 = KFold(len(dfngram1), num_kfold, shuffle=True)\n",
    "    kf2 = KFold(len(dfngram2), num_kfold, shuffle=True)\n",
    "    kf3 = KFold(len(dfngram3), num_kfold, shuffle=True)\n",
    "    kf4 = KFold(len(dfngram4), num_kfold, shuffle=True)\n",
    "    kf5 = KFold(len(dfngram5), num_kfold, shuffle=True)\n",
    "    kf6 = KFold(len(dfngram6), num_kfold, shuffle=True)\n",
    "    kf7 = KFold(len(dfngram7), num_kfold, shuffle=True)\n",
    "\n",
    "    kf = zip(kf1, kf2, kf3, kf4, kf5, kf6, kf7)\n",
    "    \n",
    "    list_mse_train = []\n",
    "    list_mse_test = []\n",
    "    \n",
    "    for index1, index2, index3, index4, index5, index6, index7 in kf:\n",
    "        train_index1, test_index1 = index1\n",
    "        train_index2, test_index2 = index2\n",
    "        train_index3, test_index3 = index3\n",
    "        train_index4, test_index4 = index4\n",
    "        train_index5, test_index5 = index5\n",
    "        train_index6, test_index6 = index6\n",
    "        train_index7, test_index7 = index7\n",
    "        \n",
    "        dfngram1_train = dfngram1.iloc[train_index1]\n",
    "        dfngram1_test = dfngram1.iloc[test_index1]\n",
    "        dfngram2_train = dfngram2.iloc[train_index2]\n",
    "        dfngram2_test = dfngram2.iloc[test_index2]\n",
    "        dfngram3_train = dfngram3.iloc[train_index3]\n",
    "        dfngram3_test = dfngram3.iloc[test_index3]\n",
    "        dfngram4_train = dfngram4.iloc[train_index4]\n",
    "        dfngram4_test = dfngram4.iloc[test_index4]\n",
    "        dfngram5_train = dfngram5.iloc[train_index5]\n",
    "        dfngram5_test = dfngram5.iloc[test_index5]\n",
    "        dfngram6_train = dfngram6.iloc[train_index6]\n",
    "        dfngram6_test = dfngram6.iloc[test_index6]\n",
    "        dfngram7_train = dfngram7.iloc[train_index7]\n",
    "        dfngram7_test = dfngram7.iloc[test_index7]\n",
    "        \n",
    "        p_table_train7, base_train7 = get_markov(dfngram7_train, ngram = 7)\n",
    "        p_table_train6, base_train6 = get_markov(dfngram6_train, ngram = 6)\n",
    "        p_table_train5, base_train5 = get_markov(dfngram5_train, ngram = 5)\n",
    "        p_table_train4, base_train4 = get_markov(dfngram4_train, ngram = 4)\n",
    "        p_table_train3, base_train3 = get_markov(dfngram3_train, ngram = 3)\n",
    "        p_table_train2, base_train2 = get_markov(dfngram2_train, ngram = 2)\n",
    "        p_table_train1, base_train1 = get_markov(dfngram1_train, ngram = 1)\n",
    "        \n",
    "        mse_train7 = get_mse_7(dfngram7_train, p_table_train7, p_table_train6, p_table_train5, p_table_train4, \\\n",
    "                              p_table_train3, p_table_train2, p_table_train1, \\\n",
    "                              base_train7, base_train6, base_train5, base_train4, \\\n",
    "                              base_train3, base_train2, base_train1)\n",
    "        mse_test7 = get_mse_7(dfngram7_test, p_table_train7, p_table_train6, p_table_train5, p_table_train4, \\\n",
    "                              p_table_train3, p_table_train2, p_table_train1, \\\n",
    "                              base_train7, base_train6, base_train5, base_train4, \\\n",
    "                              base_train3, base_train2, base_train1)\n",
    "    \n",
    "        mse_train6 = get_mse_6(dfngram6_train, p_table_train6, p_table_train5, p_table_train4, \\\n",
    "                              p_table_train3, p_table_train2, p_table_train1, \\\n",
    "                              base_train6, base_train5, base_train4, \\\n",
    "                              base_train3, base_train2, base_train1)\n",
    "        mse_test6 = get_mse_6(dfngram6_test, p_table_train6, p_table_train5, p_table_train4, \\\n",
    "                              p_table_train3, p_table_train2, p_table_train1, \\\n",
    "                              base_train6, base_train5, base_train4, \\\n",
    "                              base_train3, base_train2, base_train1)\n",
    "        \n",
    "        mse_train5 = get_mse_5(dfngram5_train, p_table_train5, p_table_train4, \\\n",
    "                              p_table_train3, p_table_train2, p_table_train1, \\\n",
    "                              base_train5, base_train4, \\\n",
    "                              base_train3, base_train2, base_train1)\n",
    "        mse_test5 = get_mse_5(dfngram5_test, p_table_train5, p_table_train4, \\\n",
    "                              p_table_train3, p_table_train2, p_table_train1, \\\n",
    "                              base_train5, base_train4, \\\n",
    "                              base_train3, base_train2, base_train1)\n",
    "        \n",
    "        mse_train4 = get_mse_4(dfngram4_train, p_table_train4, p_table_train3, p_table_train2, p_table_train1, \\\n",
    "                              base_train4, base_train3, base_train2, base_train1)\n",
    "        mse_test4 = get_mse_4(dfngram4_test, p_table_train4, p_table_train3, p_table_train2, p_table_train1, \\\n",
    "                              base_train4, base_train3, base_train2, base_train1)\n",
    "        \n",
    "        mse_train3 = get_mse_3(dfngram3_train, p_table_train3, p_table_train2, p_table_train1, \\\n",
    "                              base_train3, base_train2, base_train1)\n",
    "        mse_test3 = get_mse_3(dfngram3_test, p_table_train3, p_table_train2, p_table_train1, \\\n",
    "                              base_train3, base_train2, base_train1)\n",
    "        \n",
    "        mse_train2 = get_mse_2(dfngram2_train, p_table_train2, p_table_train1, base_train2, base_train1)\n",
    "        mse_test2 = get_mse_2(dfngram2_test, p_table_train2, p_table_train1, base_train2, base_train1)\n",
    "        \n",
    "        mse_train1 = get_mse_1(dfngram1_train, p_table_train1, base_train1)\n",
    "        mse_test1 = get_mse_1(dfngram1_test, p_table_train1, base_train1)\n",
    "        \n",
    "        mse_train = [mse_train1, mse_train2, mse_train3, mse_train4, mse_train5, mse_train6, mse_train7] \n",
    "        mse_test = [mse_test1, mse_test2, mse_test3, mse_test4, mse_test5, mse_test6, mse_test7]\n",
    "        \n",
    "        list_mse_train.append(mse_train)\n",
    "        list_mse_test.append(mse_test)\n",
    "    \n",
    "    col_name = ['ngram_2','ngram_3','ngram_4','ngram_5', 'ngram_6','ngram_7','ngram_8']  \n",
    "    mse_train = pd.DataFrame(data = list_mse_train)\n",
    "    mse_test = pd.DataFrame(data = list_mse_test)   \n",
    "    mse_train.columns = col_name\n",
    "    mse_test.columns = col_name\n",
    "    \n",
    "    mse_train.to_csv(\"../data/train_cv\", sep=',', encoding='utf-8')\n",
    "    mse_test.to_csv(\"../data/test_cv\", sep=',', encoding='utf-8')\n",
    "    \n",
    "    return mse_train, mse_test"
   ]
  },
  {
   "cell_type": "code",
   "execution_count": null,
   "metadata": {
    "collapsed": true
   },
   "outputs": [],
   "source": []
  },
  {
   "cell_type": "code",
   "execution_count": 19,
   "metadata": {
    "collapsed": true
   },
   "outputs": [],
   "source": [
    "\n",
    "'''\n",
    "dfngram1 = pd.read_csv('../data/small_101_1.csv')\n",
    "dfngram2 = pd.read_csv('../data/small_101_2.csv')\n",
    "dfngram3 = pd.read_csv('../data/small_101_3.csv')\n",
    "dfngram4 = pd.read_csv('../data/small_101_4.csv')\n",
    "dfngram5 = pd.read_csv('../data/small_101_5.csv')\n",
    "dfngram6 = pd.read_csv('../data/small_101_6.csv')\n",
    "dfngram7 = pd.read_csv('../data/small_101_7.csv')\n",
    "'''\n"
   ]
  },
  {
   "cell_type": "code",
   "execution_count": 136,
   "metadata": {
    "collapsed": true
   },
   "outputs": [],
   "source": [
    "\n",
    "dfngram1 = pd.read_csv('../data/ngram101_1.csv')\n",
    "dfngram2 = pd.read_csv('../data/ngram101_2.csv')\n",
    "dfngram3 = pd.read_csv('../data/ngram101_3.csv')\n",
    "dfngram4 = pd.read_csv('../data/ngram101_4.csv')\n",
    "dfngram5 = pd.read_csv('../data/ngram101_5.csv')\n",
    "dfngram6 = pd.read_csv('../data/ngram101_6.csv')\n",
    "dfngram7 = pd.read_csv('../data/ngram101_7.csv')\n"
   ]
  },
  {
   "cell_type": "code",
   "execution_count": null,
   "metadata": {
    "collapsed": true
   },
   "outputs": [],
   "source": []
  },
  {
   "cell_type": "code",
   "execution_count": 146,
   "metadata": {
    "collapsed": false
   },
   "outputs": [
    {
     "data": {
      "text/plain": [
       "2"
      ]
     },
     "execution_count": 146,
     "metadata": {},
     "output_type": "execute_result"
    }
   ],
   "source": [
    "1+1"
   ]
  },
  {
   "cell_type": "code",
   "execution_count": null,
   "metadata": {
    "collapsed": true
   },
   "outputs": [],
   "source": []
  },
  {
   "cell_type": "code",
   "execution_count": null,
   "metadata": {
    "collapsed": true
   },
   "outputs": [],
   "source": [
    "mse_train, mse_test = get_cv(dfngram1, dfngram2, dfngram3, dfngram4, dfngram5, dfngram6, dfngram7)\n",
    "mse_mean = pd.DataFrame(data = np.array([list(mse_train.mean()), list(mse_test.mean())]).T)\n",
    "mse_mean.index = mse_train.columns\n",
    "mse_mean.columns = ['cv_train', 'cv_test']\n",
    "\n",
    "ax1 = mse_mean.plot(lw=2, figsize=(10,6))\n",
    "ax1.set_title(\"cv_mean over ngram\",fontsize=20)\n",
    "ax1.set_xlabel(\"ngram\",fontsize=18)\n",
    "ax1.set_ylabel(\"mse\",fontsize=18)\n",
    "plt.savefig(\"../data/cv_train_test2.png\")\n",
    "#plt.savefig(\"../data/cv_train_test2_small.png\")\n",
    "plt.show()\n"
   ]
  },
  {
   "cell_type": "code",
   "execution_count": null,
   "metadata": {
    "collapsed": true
   },
   "outputs": [],
   "source": []
  },
  {
   "cell_type": "code",
   "execution_count": null,
   "metadata": {
    "collapsed": true
   },
   "outputs": [],
   "source": [
    "1+1"
   ]
  },
  {
   "cell_type": "code",
   "execution_count": null,
   "metadata": {
    "collapsed": true
   },
   "outputs": [],
   "source": []
  },
  {
   "cell_type": "code",
   "execution_count": null,
   "metadata": {
    "collapsed": true
   },
   "outputs": [],
   "source": []
  },
  {
   "cell_type": "code",
   "execution_count": null,
   "metadata": {
    "collapsed": true
   },
   "outputs": [],
   "source": []
  }
 ],
 "metadata": {
  "kernelspec": {
   "display_name": "Python 2",
   "language": "python",
   "name": "python2"
  },
  "language_info": {
   "codemirror_mode": {
    "name": "ipython",
    "version": 2
   },
   "file_extension": ".py",
   "mimetype": "text/x-python",
   "name": "python",
   "nbconvert_exporter": "python",
   "pygments_lexer": "ipython2",
   "version": "2.7.11"
  }
 },
 "nbformat": 4,
 "nbformat_minor": 0
}
