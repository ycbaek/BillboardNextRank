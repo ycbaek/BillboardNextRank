{
 "cells": [
  {
   "cell_type": "code",
   "execution_count": 2,
   "metadata": {
    "collapsed": true
   },
   "outputs": [],
   "source": [
    "import pandas as pd\n",
    "import time\n",
    "import datetime\n",
    "from datetime import timedelta\n",
    "from pymongo import MongoClient\n",
    "from textblob import TextBlob"
   ]
  },
  {
   "cell_type": "code",
   "execution_count": 3,
   "metadata": {
    "collapsed": true
   },
   "outputs": [],
   "source": [
    "client = MongoClient('localhost', 27017)\n",
    "#db = client['test01_database']"
   ]
  },
  {
   "cell_type": "code",
   "execution_count": 4,
   "metadata": {
    "collapsed": true
   },
   "outputs": [],
   "source": [
    "def get_dataframe(tab):\n",
    "\n",
    "    dataSet = pd.DataFrame()    \n",
    "    dataSet[\"id\"] = [tweet['id'] for tweet in tab.find()]\n",
    "    dataSet[\"text\"] = [tweet['text'] for tweet in tab.find()]\n",
    "    dataSet[\"created_at\"] = [tweet['created_at'] for tweet in tab.find()]\n",
    "    dataSet[\"favorite_count\"] = [tweet['favorite_count'] for tweet in tab.find()]\n",
    "    #dataSet[\"retweet_count\"] = [tweet['retweeted_status']['retweet_count'] tweet in tab.find()]\n",
    "    dataSet[\"source\"] = [tweet['source'] for tweet in tab.find()]\n",
    "    dataSet[\"user_id\"] = [tweet['user']['id'] for tweet in tab.find()]\n",
    "    dataSet[\"user_screen_name\"] = [tweet['user']['screen_name'] for tweet in tab.find()]\n",
    "    dataSet[\"user_name\"] = [tweet['user']['name'] for tweet in tab.find()]\n",
    "    dataSet[\"user_created_at\"] = [tweet['user']['created_at'] for tweet in tab.find()]\n",
    "    dataSet[\"user_description\"] = [tweet['user']['description'] for tweet in tab.find()]\n",
    "    dataSet[\"user_followers_count\"] = [tweet['user']['followers_count'] for tweet in tab.find()]\n",
    "    dataSet[\"user_friends_count\"] = [tweet['user']['friends_count'] for tweet in tab.find()]\n",
    "    dataSet[\"user_location\"] = [tweet['user']['location'] for tweet in tab.find()]\n",
    "    dataSet[\"user_time_zone\"] = [tweet['user']['time_zone'] for tweet in tab.find()]\n",
    "\n",
    "    return dataSet.drop_duplicates()"
   ]
  },
  {
   "cell_type": "code",
   "execution_count": 5,
   "metadata": {
    "collapsed": true
   },
   "outputs": [],
   "source": [
    "def get_category_sent(score):\n",
    "    if score > 0 :\n",
    "        return \"Pos\"\n",
    "    elif score < 0:\n",
    "        return \"Neg\"\n",
    "    else:\n",
    "        return \"Neu\""
   ]
  },
  {
   "cell_type": "code",
   "execution_count": 6,
   "metadata": {
    "collapsed": true
   },
   "outputs": [],
   "source": [
    "def find_week(date_time):\n",
    "    \n",
    "    day7 = timedelta(days=7)\n",
    "    date_slected = datetime.date(2016,1, 9)\n",
    "    all_date =[date_slected]\n",
    "    for i in range(51):\n",
    "        date_slected = date_slected + day7\n",
    "        all_date.append(date_slected)\n",
    "\n",
    "    week_firstDate = pd.DataFrame()\n",
    "    week_firstDate['firstData'] = all_date\n",
    "    week_firstDate['week'] = range(1,53)\n",
    "    \n",
    "    for i in range(52):\n",
    "        if date_time.date() <= week_firstDate['firstData'][i]:\n",
    "            return week_firstDate['week'][i]"
   ]
  },
  {
   "cell_type": "code",
   "execution_count": 7,
   "metadata": {
    "collapsed": false
   },
   "outputs": [],
   "source": [
    "def info_twitter_song(tab):\n",
    "\n",
    "    df= get_dataframe(tab)\n",
    "    df['sent_score'] = df['text'].map(lambda x : TextBlob(x).sentiment.polarity)\n",
    "    df['sent_category'] = df['sent_score'].map(get_category_sent)\n",
    "    df['pos'] = df['sent_category'].map(lambda x: 1 if x == 'Pos' else 0)\n",
    "    df['neg'] = df['sent_category'].map(lambda x: 1 if x == 'Neg' else 0)\n",
    "    df['neu'] = df['sent_category'].map(lambda x: 1 if x == 'Neu' else 0)\n",
    "    df['created_at_time'] = df['created_at'].map(lambda x : datetime.datetime.strptime(x, \"%a %b %d %H:%M:%S +0000 %Y\"))\n",
    "    df['created_at_time_date'] = df['created_at_time'].map(lambda x : x.date())\n",
    "    df['week_from_one'] = df['created_at_time'].map(find_week)\n",
    "    df['count'] = 1\n",
    "    #df['source_short'] = df['source'].map(lambda x : str(x.split('>')[1].split('<')[0]))\n",
    "\n",
    "    col_list = ['week_from_one']\n",
    "    agg_dic = {'favorite_count':sum, 'count':sum, 'pos':sum, 'neg':sum, 'neu':sum}\n",
    "    grouped = df.groupby(col_list).agg(agg_dic)\n",
    "    grouped = grouped.reset_index()\n",
    "\n",
    "    grouped['neg_rate']=1.0*grouped['neg']/grouped['count']\n",
    "    grouped['pos_rate']=1.0*grouped['pos']/grouped['count']\n",
    "    grouped['neu_rate']=1.0*grouped['neu']/grouped['count']\n",
    "    grouped['favorite_rate']=1.0*grouped['favorite_count']/grouped['count']\n",
    "\n",
    "    selected_col = ['week_from_one','count','pos_rate','neg_rate', 'neu_rate','favorite_rate']\n",
    "    slected = grouped[selected_col]\n",
    "    \n",
    "    return slected"
   ]
  },
  {
   "cell_type": "code",
   "execution_count": 8,
   "metadata": {
    "collapsed": true
   },
   "outputs": [],
   "source": [
    "def get_billboard(billboard_filename_path):\n",
    "\n",
    "    df2 = pd.read_csv(billboard_filename_path, sep='|', names=['last_date','rank','song','long_artist'])\n",
    "    df2['last_date_time'] = df2['last_date'].map(lambda x : datetime.datetime.strptime(x, \"%Y-%m-%d\"))\n",
    "    df2['week_from_one'] = df2['last_date_time'].map(find_week)\n",
    "    df2[\"artist\"] = df2[\"long_artist\"].map(lambda x : x.split('featuring')[0])\n",
    "    df2[\"ID\"] = df2[\"song\"] + \"%\" +  df2[\"artist\"]\n",
    "    \n",
    "    df= df2.pivot('ID', 'week_from_one', 'rank')\n",
    "    df[\"ID\"] = df.index\n",
    "    df[\"song\"] = df[\"ID\"].map(lambda x : x.split('%')[0])\n",
    "    df[\"artist\"] = df[\"ID\"].map(lambda x : x.split('%')[1])\n",
    "    df.fillna(101,inplace=True)\n",
    "    df.index = range(1,len(df)+1)\n",
    "    df[\"IDN\"] = df.index\n",
    "    \n",
    "    return df"
   ]
  },
  {
   "cell_type": "code",
   "execution_count": 9,
   "metadata": {
    "collapsed": true
   },
   "outputs": [],
   "source": [
    "def find_date(week_from_one):\n",
    "    \n",
    "    day7 = timedelta(days=7)\n",
    "    day6 = timedelta(days=6)\n",
    "    date_slected = datetime.date(2016,1,3)\n",
    "    all_date =[date_slected]\n",
    "    all_date_last = [date_slected + day6]\n",
    "    for i in range(51):\n",
    "        date_slected = date_slected + day7\n",
    "        all_date.append(date_slected)\n",
    "        all_date_last.append(date_slected +day6)\n",
    "        \n",
    "        \n",
    "\n",
    "    week_Date = pd.DataFrame()\n",
    "    week_Date['firstData'] = all_date\n",
    "    week_Date['lastData'] = all_date_last\n",
    "    week_Date['week'] = range(1,53)\n",
    "    index_date = week_from_one - 1\n",
    "    \n",
    "    return str(all_date[index_date]) + ' ~ ' + str(all_date_last[index_date])"
   ]
  },
  {
   "cell_type": "code",
   "execution_count": 13,
   "metadata": {
    "collapsed": false
   },
   "outputs": [],
   "source": [
    "song_id = 2\n",
    "db = client['song3_database']\n",
    "table_name = \"test_01_\" + str(song_id)\n",
    "tab = db[table_name]\n",
    "\n",
    "billboard_filename_path = \"../data/billboard.csv\"\n",
    "list_input = get_billboard(billboard_filename_path)\n",
    "Input = [ [\"#\"+str(id.split('%')[0]), str(id.split('%')[1])]  for id in list_input[\"ID\"]]\n",
    "\n",
    "billboard_filename_path = \"../data/billboard2.csv\"\n",
    "current_billboard = get_billboard(billboard_filename_path)\n",
    "\n",
    "Song_history = current_billboard[current_billboard['ID']==list_input['ID'].values[song_id]]\n",
    "\n",
    "twit = info_twitter_song(tab)\n",
    "\n",
    "twit['Billboard_rank'] = [int(Song_history[week]) for week in twit['week_from_one']]\n",
    "twit['date_period'] = twit['week_from_one'].map(find_date)\n",
    "twit['Billboard_rank_text'] = twit['Billboard_rank'].map(lambda x : x if x <= 100 else \"Not on Billboard\")\n",
    "\n",
    "col = ['date_period','week_from_one', 'Billboard_rank_text','count', 'pos_rate', 'neg_rate', 'favorite_rate']\n",
    "twitter_table = twit[col]"
   ]
  },
  {
   "cell_type": "code",
   "execution_count": 14,
   "metadata": {
    "collapsed": false
   },
   "outputs": [
    {
     "name": "stdout",
     "output_type": "stream",
     "text": [
      "Song Title : Back To Sleep\n",
      "artist : CHRIS BROWN\n"
     ]
    },
    {
     "data": {
      "text/html": [
       "<div>\n",
       "<table border=\"1\" class=\"dataframe\">\n",
       "  <thead>\n",
       "    <tr style=\"text-align: right;\">\n",
       "      <th>week_from_one</th>\n",
       "      <th>9</th>\n",
       "      <th>10</th>\n",
       "      <th>11</th>\n",
       "      <th>12</th>\n",
       "      <th>13</th>\n",
       "      <th>14</th>\n",
       "      <th>15</th>\n",
       "      <th>16</th>\n",
       "      <th>ID</th>\n",
       "      <th>song</th>\n",
       "      <th>artist</th>\n",
       "      <th>IDN</th>\n",
       "    </tr>\n",
       "  </thead>\n",
       "  <tbody>\n",
       "    <tr>\n",
       "      <th>11</th>\n",
       "      <td>50</td>\n",
       "      <td>36</td>\n",
       "      <td>20</td>\n",
       "      <td>25</td>\n",
       "      <td>29</td>\n",
       "      <td>30</td>\n",
       "      <td>37</td>\n",
       "      <td>37</td>\n",
       "      <td>Back To Sleep%CHRIS BROWN</td>\n",
       "      <td>Back To Sleep</td>\n",
       "      <td>CHRIS BROWN</td>\n",
       "      <td>11</td>\n",
       "    </tr>\n",
       "  </tbody>\n",
       "</table>\n",
       "</div>"
      ],
      "text/plain": [
       "week_from_one   9  10  11  12  13  14  15  16                         ID  \\\n",
       "11             50  36  20  25  29  30  37  37  Back To Sleep%CHRIS BROWN   \n",
       "\n",
       "week_from_one           song       artist  IDN  \n",
       "11             Back To Sleep  CHRIS BROWN   11  "
      ]
     },
     "execution_count": 14,
     "metadata": {},
     "output_type": "execute_result"
    }
   ],
   "source": [
    "print \"Song Title :\", list_input['song'].values[song_id]\n",
    "print \"artist :\", list_input['artist'].values[song_id]\n",
    "Song_history"
   ]
  },
  {
   "cell_type": "code",
   "execution_count": 15,
   "metadata": {
    "collapsed": false
   },
   "outputs": [
    {
     "data": {
      "text/html": [
       "<div>\n",
       "<table border=\"1\" class=\"dataframe\">\n",
       "  <thead>\n",
       "    <tr style=\"text-align: right;\">\n",
       "      <th></th>\n",
       "      <th>date_period</th>\n",
       "      <th>week_from_one</th>\n",
       "      <th>Billboard_rank_text</th>\n",
       "      <th>count</th>\n",
       "      <th>pos_rate</th>\n",
       "      <th>neg_rate</th>\n",
       "      <th>favorite_rate</th>\n",
       "    </tr>\n",
       "  </thead>\n",
       "  <tbody>\n",
       "    <tr>\n",
       "      <th>0</th>\n",
       "      <td>2016-04-10 ~ 2016-04-16</td>\n",
       "      <td>15</td>\n",
       "      <td>37</td>\n",
       "      <td>2</td>\n",
       "      <td>0.5</td>\n",
       "      <td>0.0</td>\n",
       "      <td>1.5</td>\n",
       "    </tr>\n",
       "    <tr>\n",
       "      <th>1</th>\n",
       "      <td>2016-04-17 ~ 2016-04-23</td>\n",
       "      <td>16</td>\n",
       "      <td>37</td>\n",
       "      <td>2</td>\n",
       "      <td>0.0</td>\n",
       "      <td>0.5</td>\n",
       "      <td>0.0</td>\n",
       "    </tr>\n",
       "  </tbody>\n",
       "</table>\n",
       "</div>"
      ],
      "text/plain": [
       "               date_period  week_from_one  Billboard_rank_text  count  \\\n",
       "0  2016-04-10 ~ 2016-04-16             15                   37      2   \n",
       "1  2016-04-17 ~ 2016-04-23             16                   37      2   \n",
       "\n",
       "   pos_rate  neg_rate  favorite_rate  \n",
       "0       0.5       0.0            1.5  \n",
       "1       0.0       0.5            0.0  "
      ]
     },
     "execution_count": 15,
     "metadata": {},
     "output_type": "execute_result"
    }
   ],
   "source": [
    "twitter_table"
   ]
  },
  {
   "cell_type": "code",
   "execution_count": null,
   "metadata": {
    "collapsed": true
   },
   "outputs": [],
   "source": []
  }
 ],
 "metadata": {
  "kernelspec": {
   "display_name": "Python 2",
   "language": "python",
   "name": "python2"
  },
  "language_info": {
   "codemirror_mode": {
    "name": "ipython",
    "version": 2
   },
   "file_extension": ".py",
   "mimetype": "text/x-python",
   "name": "python",
   "nbconvert_exporter": "python",
   "pygments_lexer": "ipython2",
   "version": "2.7.11"
  }
 },
 "nbformat": 4,
 "nbformat_minor": 0
}
