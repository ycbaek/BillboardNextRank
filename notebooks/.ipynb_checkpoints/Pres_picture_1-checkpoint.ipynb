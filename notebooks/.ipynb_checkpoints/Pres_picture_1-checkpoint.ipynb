{
 "cells": [
  {
   "cell_type": "code",
   "execution_count": 90,
   "metadata": {
    "collapsed": false
   },
   "outputs": [],
   "source": [
    "import pandas as pd\n",
    "import time\n",
    "import datetime\n",
    "from datetime import timedelta\n",
    "from pymongo import MongoClient\n",
    "from textblob import TextBlob\n",
    "import matplotlib.pyplot as plt\n",
    "%matplotlib inline"
   ]
  },
  {
   "cell_type": "code",
   "execution_count": 2,
   "metadata": {
    "collapsed": true
   },
   "outputs": [],
   "source": [
    "client = MongoClient('localhost', 27017)"
   ]
  },
  {
   "cell_type": "code",
   "execution_count": 72,
   "metadata": {
    "collapsed": true
   },
   "outputs": [],
   "source": [
    "def get_dataframe(tab):\n",
    "\n",
    "    dataSet = pd.DataFrame()    \n",
    "    dataSet[\"id\"] = [tweet['id'] for tweet in tab.find()]\n",
    "    dataSet[\"text\"] = [tweet['text'] for tweet in tab.find()]\n",
    "    dataSet[\"created_at\"] = [tweet['created_at'] for tweet in tab.find()]\n",
    "    dataSet[\"favorite_count\"] = [tweet['favorite_count'] for tweet in tab.find()]\n",
    "    #dataSet[\"retweet_count\"] = [tweet['retweeted_status']['retweet_count'] tweet in tab.find()]\n",
    "    dataSet[\"source\"] = [tweet['source'] for tweet in tab.find()]\n",
    "    dataSet[\"user_id\"] = [tweet['user']['id'] for tweet in tab.find()]\n",
    "    dataSet[\"user_screen_name\"] = [tweet['user']['screen_name'] for tweet in tab.find()]\n",
    "    dataSet[\"user_name\"] = [tweet['user']['name'] for tweet in tab.find()]\n",
    "    dataSet[\"user_created_at\"] = [tweet['user']['created_at'] for tweet in tab.find()]\n",
    "    dataSet[\"user_description\"] = [tweet['user']['description'] for tweet in tab.find()]\n",
    "    dataSet[\"user_followers_count\"] = [tweet['user']['followers_count'] for tweet in tab.find()]\n",
    "    dataSet[\"user_friends_count\"] = [tweet['user']['friends_count'] for tweet in tab.find()]\n",
    "    dataSet[\"user_location\"] = [tweet['user']['location'] for tweet in tab.find()]\n",
    "    dataSet[\"user_time_zone\"] = [tweet['user']['time_zone'] for tweet in tab.find()]\n",
    "    return dataSet.drop_duplicates()"
   ]
  },
  {
   "cell_type": "code",
   "execution_count": 4,
   "metadata": {
    "collapsed": true
   },
   "outputs": [],
   "source": [
    "def get_category_sent(score):\n",
    "    if score > 0 :\n",
    "        return \"Pos\"\n",
    "    elif score < 0:\n",
    "        return \"Neg\"\n",
    "    else:\n",
    "        return \"Neu\""
   ]
  },
  {
   "cell_type": "code",
   "execution_count": 5,
   "metadata": {
    "collapsed": true
   },
   "outputs": [],
   "source": [
    "def find_week(date_time):\n",
    "    \n",
    "    day7 = timedelta(days=7)\n",
    "    date_slected = datetime.date(2016,1, 9)\n",
    "    all_date =[date_slected]\n",
    "    for i in range(51):\n",
    "        date_slected = date_slected + day7\n",
    "        all_date.append(date_slected)\n",
    "\n",
    "    week_firstDate = pd.DataFrame()\n",
    "    week_firstDate['firstData'] = all_date\n",
    "    week_firstDate['week'] = range(1,53)\n",
    "    \n",
    "    for i in range(52):\n",
    "        if date_time.date() <= week_firstDate['firstData'][i]:\n",
    "            return week_firstDate['week'][i]"
   ]
  },
  {
   "cell_type": "code",
   "execution_count": 6,
   "metadata": {
    "collapsed": false
   },
   "outputs": [],
   "source": [
    "def info_twitter_song(tab):\n",
    "\n",
    "    df= get_dataframe(tab)\n",
    "    df['sent_score'] = df['text'].map(lambda x : TextBlob(x).sentiment.polarity)\n",
    "    df['sent_category'] = df['sent_score'].map(get_category_sent)\n",
    "    df['pos'] = df['sent_category'].map(lambda x: 1 if x == 'Pos' else 0)\n",
    "    df['neg'] = df['sent_category'].map(lambda x: 1 if x == 'Neg' else 0)\n",
    "    df['neu'] = df['sent_category'].map(lambda x: 1 if x == 'Neu' else 0)\n",
    "    df['created_at_time'] = df['created_at'].map(lambda x : datetime.datetime.strptime(x, \"%a %b %d %H:%M:%S +0000 %Y\"))\n",
    "    df['created_at_time_min'] = df['created_at_time']\n",
    "    df['created_at_time_max'] = df['created_at_time']\n",
    "    df['created_at_time_date'] = df['created_at_time'].map(lambda x : x.date())\n",
    "    df['week_from_one'] = df['created_at_time'].map(find_week)\n",
    "    df['count'] = 1\n",
    "    #df['source_short'] = df['source'].map(lambda x : str(x.split('>')[1].split('<')[0]))\n",
    "\n",
    "    col_list = ['week_from_one']\n",
    "    #agg_dic = {'favorite_count':sum, 'count':sum, 'pos':sum, 'neg':sum, 'neu':sum, 'created_at_time': [min, max]}\n",
    "    agg_dic = {'favorite_count':sum, 'count':sum, 'pos':sum, 'neg':sum, 'neu':sum,'created_at_time_min': min,\\\n",
    "               'created_at_time_max': max}\n",
    "    grouped = df.groupby(col_list).agg(agg_dic)\n",
    "    grouped = grouped.reset_index()\n",
    "\n",
    "    grouped['neg_rate']=1.0*grouped['neg']/grouped['count']\n",
    "    grouped['pos_rate']=1.0*grouped['pos']/grouped['count']\n",
    "    grouped['neu_rate']=1.0*grouped['neu']/grouped['count']\n",
    "    grouped['ratio_pos_neg']=1.0*(grouped['pos']+1)/(grouped['neg'] +1)\n",
    "    grouped['favorite_rate']=1.0*grouped['favorite_count']/grouped['count']\n",
    "\n",
    "    #selected_col = ['week_from_one','count','pos_rate','neg_rate', 'neu_rate','ratio_pos_neg','favorite_rate']\n",
    "    #slected = grouped[selected_col]\n",
    "    slected = grouped\n",
    "    return slected"
   ]
  },
  {
   "cell_type": "code",
   "execution_count": 7,
   "metadata": {
    "collapsed": true
   },
   "outputs": [],
   "source": [
    "def get_billboard(billboard_filename_path):\n",
    "\n",
    "    df2 = pd.read_csv(billboard_filename_path, sep='|', names=['last_date','rank','song','long_artist'])\n",
    "    df2['last_date_time'] = df2['last_date'].map(lambda x : datetime.datetime.strptime(x, \"%Y-%m-%d\"))\n",
    "    df2['week_from_one'] = df2['last_date_time'].map(find_week)\n",
    "    df2[\"artist\"] = df2[\"long_artist\"].map(lambda x : x.split('featuring')[0])\n",
    "    df2[\"ID\"] = df2[\"song\"] + \"%\" +  df2[\"artist\"]\n",
    "    \n",
    "    df= df2.pivot('ID', 'week_from_one', 'rank')\n",
    "    df[\"ID\"] = df.index\n",
    "    df[\"song\"] = df[\"ID\"].map(lambda x : x.split('%')[0])\n",
    "    df[\"artist\"] = df[\"ID\"].map(lambda x : x.split('%')[1])\n",
    "    df.fillna(101,inplace=True)\n",
    "    df.index = range(1,len(df)+1)\n",
    "    df[\"IDN\"] = df.index\n",
    "    \n",
    "    return df"
   ]
  },
  {
   "cell_type": "code",
   "execution_count": 8,
   "metadata": {
    "collapsed": true
   },
   "outputs": [],
   "source": [
    "def find_date(week_from_one):\n",
    "    \n",
    "    day7 = timedelta(days=7)\n",
    "    day6 = timedelta(days=6)\n",
    "    date_slected = datetime.date(2016,1,3)\n",
    "    all_date =[date_slected]\n",
    "    all_date_last = [date_slected + day6]\n",
    "    for i in range(51):\n",
    "        date_slected = date_slected + day7\n",
    "        all_date.append(date_slected)\n",
    "        all_date_last.append(date_slected +day6)\n",
    "        \n",
    "        \n",
    "\n",
    "    week_Date = pd.DataFrame()\n",
    "    week_Date['firstData'] = all_date\n",
    "    week_Date['lastData'] = all_date_last\n",
    "    week_Date['week'] = range(1,53)\n",
    "    index_date = week_from_one - 1\n",
    "    \n",
    "    return str(all_date[index_date]) + ' ~ ' + str(all_date_last[index_date])"
   ]
  },
  {
   "cell_type": "code",
   "execution_count": 9,
   "metadata": {
    "collapsed": false
   },
   "outputs": [],
   "source": [
    "def list_no_twitter(list_id, db):\n",
    "    list_count = []\n",
    "    for song_id in list_id:\n",
    "        table_name = \"test_01_\" + str(song_id)\n",
    "        tab = db[table_name]\n",
    "        list_count.append(tab.find().count())\n",
    "    \n",
    "    return list(np.array(list_id)[np.array(list_count) == 0])\n",
    "\n",
    "db = client['song3_database']\n",
    "list_input = get_billboard(\"../data/billboard.csv\")\n",
    "list_id = range(len(list_input))    \n",
    "\n",
    "#list_no_twitter(list_id, db)\n"
   ]
  },
  {
   "cell_type": "code",
   "execution_count": 10,
   "metadata": {
    "collapsed": false
   },
   "outputs": [
    {
     "data": {
      "text/plain": [
       "\"\\nfrom collections import Counter\\n\\nlist_song_df_data_csv = Counter(df_data_csv['Song_IDN']-1).keys()\\n\\nNo_list_song_df_data_csv = list(set(range(146)) - set(list_song_df_data_csv))\\nNO_data_twitter = list(np.where (np.array(list_count) == 0)[0])\\n\\nprint len(No_list_song_df_data_csv), len(NO_data_twitter)\\nprint set(No_list_song_df_data_csv) - set(NO_data_twitter)\\nprint set(NO_data_twitter) - set(No_list_song_df_data_csv)\\n\\nprint len(list_song_df_data_csv), len(list_input)\\n\""
      ]
     },
     "execution_count": 10,
     "metadata": {},
     "output_type": "execute_result"
    }
   ],
   "source": [
    "'''\n",
    "from collections import Counter\n",
    "\n",
    "list_song_df_data_csv = Counter(df_data_csv['Song_IDN']-1).keys()\n",
    "\n",
    "No_list_song_df_data_csv = list(set(range(146)) - set(list_song_df_data_csv))\n",
    "NO_data_twitter = list(np.where (np.array(list_count) == 0)[0])\n",
    "\n",
    "print len(No_list_song_df_data_csv), len(NO_data_twitter)\n",
    "print set(No_list_song_df_data_csv) - set(NO_data_twitter)\n",
    "print set(NO_data_twitter) - set(No_list_song_df_data_csv)\n",
    "\n",
    "print len(list_song_df_data_csv), len(list_input)\n",
    "'''"
   ]
  },
  {
   "cell_type": "code",
   "execution_count": 11,
   "metadata": {
    "collapsed": true
   },
   "outputs": [],
   "source": [
    "def twitter_info_table(song_id, db, list_input, current_billboard, week_all):\n",
    "\n",
    "    table_name = \"test_01_\" + str(song_id)\n",
    "    tab = db[table_name]\n",
    "    \n",
    "    Input = [ [\"#\"+str(id.split('%')[0]), str(id.split('%')[1])]  for id in list_input[\"ID\"]]\n",
    "    max_week = max([x for x in list(current_billboard.columns) if isinstance(x, int)])\n",
    "    current_billboard[max_week+1] = 0\n",
    "    Song_history = current_billboard[current_billboard['ID']==list_input['ID'].values[song_id]]\n",
    "\n",
    "    twit = info_twitter_song(tab)\n",
    "    twit['diff_time'] = twit['created_at_time_max'] - twit['created_at_time_min']\n",
    "    twit['diff_hour'] = twit['diff_time'].astype(pd.Timedelta).map(lambda x : float(x.seconds)/3600)\n",
    "    twit['diff_hour_adj'] = twit['diff_hour'].map(lambda x: 24*7 if x == 0 else x )\n",
    "    twit['twitter_per_hour'] = 1.0*twit['count']/twit['diff_hour_adj']\n",
    "    \n",
    "    \n",
    "    col = ['week_from_one', 'twitter_per_hour','pos_rate', 'neg_rate','ratio_pos_neg' ,'favorite_rate']\n",
    "    twitter_table = twit[col]\n",
    "    \n",
    "    list(twitter_table['week_from_one'].values)\n",
    "    diff = set(week_all) - set(list(twitter_table['week_from_one'].values))\n",
    "    \n",
    "    if len(diff) > 0:\n",
    "        for i in diff:\n",
    "            add_one = twitter_table.iloc[0:1,]\n",
    "            add_one['week_from_one'] = i\n",
    "            add_one['twitter_per_hour'] = 1.0/(24*7)\n",
    "            add_one['pos_rate'] = 0\n",
    "            add_one['neg_rate'] = 0\n",
    "            add_one['ratio_pos_neg'] = 1\n",
    "            add_one['favorite_rate'] = 0\n",
    "            twitter_table = pd.concat([add_one, twitter_table])\n",
    "            \n",
    "    twitter_table['Billboard_rank'] = [int(Song_history[week]) for week in twitter_table['week_from_one']]\n",
    "    twitter_table['date_period'] = twitter_table['week_from_one'].map(find_date)\n",
    "    #twitter_table['Billboard_rank_text'] = twitter_table['Billboard_rank'].map(lambda x : x if x <= 100 else \"Not on Billboard\")\n",
    "    twitter_table['Song_ID'] = list_input[\"ID\"].values[song_id]\n",
    "    twitter_table['Song_IDN'] = song_id+1\n",
    "    \n",
    "    \n",
    "    return Song_history, twitter_table\n"
   ]
  },
  {
   "cell_type": "code",
   "execution_count": 12,
   "metadata": {
    "collapsed": true
   },
   "outputs": [],
   "source": [
    "def twitter_info_table_no_twitter(song_id, db, list_input, current_billboard, week_all):\n",
    "\n",
    "\n",
    "    Input = [ [\"#\"+str(id.split('%')[0]), str(id.split('%')[1])]  for id in list_input[\"ID\"]]\n",
    "    max_week = max([x for x in list(current_billboard.columns) if isinstance(x, int)])\n",
    "    current_billboard[max_week+1] = 0\n",
    "    \n",
    "    Song_history = current_billboard[current_billboard['ID']==list_input['ID'].values[song_id]]\n",
    "\n",
    "    \n",
    "    twitter_table = pd.DataFrame()\n",
    "    twitter_table['week_from_one'] = week_all\n",
    "    twitter_table['twitter_per_hour'] = 1.0/(24*7)\n",
    "    twitter_table['pos_rate'] = 0\n",
    "    twitter_table['neg_rate'] = 0\n",
    "    twitter_table['ratio_pos_neg'] = 1\n",
    "    twitter_table['favorite_rate'] = 0\n",
    "            \n",
    "    twitter_table['Billboard_rank'] = [int(Song_history[week]) for week in twitter_table['week_from_one']]\n",
    "    twitter_table['date_period'] = twitter_table['week_from_one'].map(find_date)\n",
    "    #twitter_table['Billboard_rank_text'] = twitter_table['Billboard_rank'].map(lambda x : x if x <= 100 else \"Not on Billboard\")\n",
    "    twitter_table['Song_ID'] = list_input[\"ID\"].values[song_id]\n",
    "    twitter_table['Song_IDN'] = song_id+1\n",
    "    \n",
    "    return Song_history, twitter_table\n"
   ]
  },
  {
   "cell_type": "code",
   "execution_count": 13,
   "metadata": {
    "collapsed": true
   },
   "outputs": [],
   "source": [
    "def get_DataFrame_for_song(song_id, db, list_input, current_billboard, week_all):\n",
    "    \n",
    "    NoTwitter = list_no_twitter(range(len(list_input)), db)\n",
    "    \n",
    "    if song_id in NoTwitter:\n",
    "        Song_history, twitter_table = twitter_info_table_no_twitter(song_id, db, list_input, current_billboard, week_all)\n",
    "    else:\n",
    "        Song_history, twitter_table = twitter_info_table(song_id, db, list_input, current_billboard, week_all)\n",
    "    \n",
    "    df_song = twitter_table\n",
    "    df_song = df_song.rename(columns = {'week_from_one':'week'})\n",
    "    df_song = df_song.rename(columns = {'Billboard_rank':'current_rank'})\n",
    "    df_song['past_rank_1'] = df_song['week'].map(lambda x : int(Song_history[x-1]))\n",
    "    df_song['past_rank_2'] = df_song['week'].map(lambda x : int(Song_history[x-2]))\n",
    "    df_song['past_rank_3'] = df_song['week'].map(lambda x : int(Song_history[x-3]))\n",
    "    df_song['past_rank_4'] = df_song['week'].map(lambda x : int(Song_history[x-4]))\n",
    "    df_song['next_rank'] = df_song['week'].map(lambda x : int(Song_history[x+1]))                                     \n",
    "    \n",
    "    \n",
    "    col =['date_period','week','current_rank','count','twitter_per_hour','pos_rate',\\\n",
    "          'neg_rate','ratio_pos_neg','favorite_rate','Song_ID','Song_IDN',\\\n",
    "          'past_rank_1','past_rank_2','past_rank_3','past_rank_4','past_rank_4','next_rank']\n",
    "    \n",
    "    return df_song\n",
    "    "
   ]
  },
  {
   "cell_type": "code",
   "execution_count": 14,
   "metadata": {
    "collapsed": true
   },
   "outputs": [],
   "source": [
    "def merge_dataframe(list_id, db, list_input, current_billboard, file_name, week_all=[]):\n",
    "    \n",
    "    print \"We are getting data frame for id = {}\".format(list_id[0])\n",
    "    df = get_DataFrame_for_song(list_id[0], db, list_input, current_billboard, week_all)    \n",
    "    print \"The length of dataFrame is {}.\".format(len(df))\n",
    "    print \" \"\n",
    "    \n",
    "    if len(list_id) == 1:\n",
    "        print \"We're done\"\n",
    "        return df\n",
    "    \n",
    "    \n",
    "    for i in range(1, len(list_id)):\n",
    "        print \"We completed {} of the total work and now are merging the data frame with id = {}\".format\\\n",
    "        (1.0*i/len(list_id), list_id[i])\n",
    "        \n",
    "        add_df = get_DataFrame_for_song(list_id[i], db, list_input, current_billboard, week_all)\n",
    "        df = pd.concat([df, add_df])\n",
    "        print \"The length of dataFrame is {}.\".format(len(df))\n",
    "        print \" \"\n",
    "    \n",
    "    df.to_csv(file_name, sep=',', encoding='utf-8')\n",
    "    print \"We're done\"\n",
    "    return df\n",
    "    "
   ]
  },
  {
   "cell_type": "code",
   "execution_count": 15,
   "metadata": {
    "collapsed": true
   },
   "outputs": [],
   "source": [
    "db = client['song3_database']\n",
    "list_input = get_billboard(\"../data/billboard.csv\")\n",
    "current_billboard = get_billboard(\"../data/billboard2.csv\")"
   ]
  },
  {
   "cell_type": "code",
   "execution_count": 16,
   "metadata": {
    "collapsed": false
   },
   "outputs": [],
   "source": [
    "list_id = range(len(list_input))\n",
    "week_14_16 = [14,15,16]\n",
    "file_name = 'result_05.csv' \n",
    "#df_total = merge_dataframe(list_id, db, list_input, current_billboard, file_name, week_all=week_14_16)\n"
   ]
  },
  {
   "cell_type": "code",
   "execution_count": 31,
   "metadata": {
    "collapsed": false
   },
   "outputs": [],
   "source": [
    "def Count_twitter(list_id, db):\n",
    "    list_count = []\n",
    "    for song_id in list_id:\n",
    "        table_name = \"test_01_\" + str(song_id)\n",
    "        tab = db[table_name]\n",
    "        list_count.append(tab.find().count())\n",
    "    \n",
    "    return list_count\n",
    "\n",
    "db = client['song3_database']\n",
    "list_input = get_billboard(\"../data/billboard.csv\")\n",
    "list_id = range(len(list_input))    \n",
    "\n",
    "list_count = Count_twitter(list_id, db)\n"
   ]
  },
  {
   "cell_type": "code",
   "execution_count": 42,
   "metadata": {
    "collapsed": false
   },
   "outputs": [
    {
     "name": "stdout",
     "output_type": "stream",
     "text": [
      "3 92549\n",
      "25 49292\n",
      "120 24551\n",
      "63 22521\n",
      "34 21223\n"
     ]
    }
   ],
   "source": [
    "max_order = np.argsort(-np.array(list_count))\n",
    "print max_order[0], list_count[max_order[0]]\n",
    "print max_order[1], list_count[max_order[1]]\n",
    "print max_order[2], list_count[max_order[2]]\n",
    "print max_order[3], list_count[max_order[3]]\n",
    "print max_order[4], list_count[max_order[4]]"
   ]
  },
  {
   "cell_type": "code",
   "execution_count": null,
   "metadata": {
    "collapsed": true
   },
   "outputs": [],
   "source": []
  },
  {
   "cell_type": "code",
   "execution_count": 25,
   "metadata": {
    "collapsed": true
   },
   "outputs": [],
   "source": [
    "def info_twitter_song_picture(tab):\n",
    "\n",
    "    df= get_dataframe(tab)\n",
    "    df['sent_score'] = df['text'].map(lambda x : TextBlob(x).sentiment.polarity)\n",
    "    df['sent_category'] = df['sent_score'].map(get_category_sent)\n",
    "    df['pos'] = df['sent_category'].map(lambda x: 1 if x == 'Pos' else 0)\n",
    "    df['neg'] = df['sent_category'].map(lambda x: 1 if x == 'Neg' else 0)\n",
    "    df['neu'] = df['sent_category'].map(lambda x: 1 if x == 'Neu' else 0)\n",
    "    df['created_at_time'] = df['created_at'].map(lambda x : datetime.datetime.strptime(x, \"%a %b %d %H:%M:%S +0000 %Y\"))\n",
    "    df['created_at_time_min'] = df['created_at_time']\n",
    "    df['created_at_time_max'] = df['created_at_time']\n",
    "    df['created_at_time_date'] = df['created_at_time'].map(lambda x : x.date())\n",
    "    df['week_from_one'] = df['created_at_time'].map(find_week)\n",
    "    df['date_period'] = df['week_from_one'].map(find_date)\n",
    "    df['count'] = 1\n",
    "\n",
    "    return df"
   ]
  },
  {
   "cell_type": "code",
   "execution_count": null,
   "metadata": {
    "collapsed": true
   },
   "outputs": [],
   "source": []
  },
  {
   "cell_type": "code",
   "execution_count": 76,
   "metadata": {
    "collapsed": true
   },
   "outputs": [],
   "source": []
  },
  {
   "cell_type": "code",
   "execution_count": 77,
   "metadata": {
    "collapsed": true
   },
   "outputs": [],
   "source": []
  },
  {
   "cell_type": "code",
   "execution_count": 170,
   "metadata": {
    "collapsed": true
   },
   "outputs": [],
   "source": [
    "def plot_hist_sent(table, week, Song_name, artist, file_path ='test.png'):\n",
    "    sentiment = table['sent_score'][table['week_from_one']== week]\n",
    "    plt.figure(figsize = (16,10)) \n",
    "    plt.hist(sentiment, bins = 20, facecolor='g', alpha=0.75)\n",
    "    titlename = \"{} by {} over {}\".format(Song_name, artist,find_date(week))\n",
    "    plt.title (titlename, fontsize = 25)\n",
    "    plt.xlabel('sentiment polarity score', fontsize = 25)\n",
    "    plt.savefig(file_path)\n",
    "    plt.show()"
   ]
  },
  {
   "cell_type": "code",
   "execution_count": null,
   "metadata": {
    "collapsed": true
   },
   "outputs": [],
   "source": [
    "song_id = 3\n",
    "db = client['song3_database']\n",
    "table_name = \"test_01_\" + str(song_id)\n",
    "tab = db[table_name]\n",
    "table = info_twitter_song_picture(tab)"
   ]
  },
  {
   "cell_type": "code",
   "execution_count": 156,
   "metadata": {
    "collapsed": false
   },
   "outputs": [
    {
     "data": {
      "text/plain": [
       "16    9026\n",
       "Name: week_from_one, dtype: int64"
      ]
     },
     "execution_count": 156,
     "metadata": {},
     "output_type": "execute_result"
    }
   ],
   "source": [
    "table['week_from_one'].value_counts()"
   ]
  },
  {
   "cell_type": "code",
   "execution_count": 171,
   "metadata": {
    "collapsed": false
   },
   "outputs": [
    {
     "data": {
      "image/png": "[encoded data removed]",
      "text/plain": [
       "<matplotlib.figure.Figure at 0x11bf6fc10>"
      ]
     },
     "metadata": {},
     "output_type": "display_data"
    }
   ],
   "source": [
    "week = 16\n",
    "Song_name = list_input[\"ID\"].values[song_id].split('%')[0]\n",
    "artist = list_input[\"ID\"].values[song_id].split('%')[1]\n",
    "file_path_name = \"sent_song_id_{}.png\".format(song_id)\n",
    "plot_hist_sent(table, week, Song_name, artist, file_path = file_path_name)"
   ]
  },
  {
   "cell_type": "code",
   "execution_count": 118,
   "metadata": {
    "collapsed": false
   },
   "outputs": [
    {
     "data": {
      "text/html": [
       "<div>\n",
       "<table border=\"1\" class=\"dataframe\">\n",
       "  <thead>\n",
       "    <tr style=\"text-align: right;\">\n",
       "      <th></th>\n",
       "      <th>0</th>\n",
       "      <th>1</th>\n",
       "      <th>2</th>\n",
       "      <th>3</th>\n",
       "      <th>4</th>\n",
       "    </tr>\n",
       "  </thead>\n",
       "  <tbody>\n",
       "    <tr>\n",
       "      <th>id</th>\n",
       "      <td>722104402098532352</td>\n",
       "      <td>722104398457872385</td>\n",
       "      <td>722104301347188736</td>\n",
       "      <td>722104261652410370</td>\n",
       "      <td>722104184640839680</td>\n",
       "    </tr>\n",
       "    <tr>\n",
       "      <th>text</th>\n",
       "      <td>7 years// lukas graham</td>\n",
       "      <td>7 years x lukas graham</td>\n",
       "      <td>#NowPlaying 7 Years by Lukas Graham ♫ https://...</td>\n",
       "      <td>iTunes US\\n#1. Lukas Graham — \"7 Years\"\\n\\n#3....</td>\n",
       "      <td>ฉันชอบวิดีโอ @YouTube https://t.co/mjDoBiWdnu ...</td>\n",
       "    </tr>\n",
       "    <tr>\n",
       "      <th>created_at</th>\n",
       "      <td>Mon Apr 18 16:48:00 +0000 2016</td>\n",
       "      <td>Mon Apr 18 16:47:59 +0000 2016</td>\n",
       "      <td>Mon Apr 18 16:47:36 +0000 2016</td>\n",
       "      <td>Mon Apr 18 16:47:26 +0000 2016</td>\n",
       "      <td>Mon Apr 18 16:47:08 +0000 2016</td>\n",
       "    </tr>\n",
       "    <tr>\n",
       "      <th>favorite_count</th>\n",
       "      <td>0</td>\n",
       "      <td>0</td>\n",
       "      <td>0</td>\n",
       "      <td>0</td>\n",
       "      <td>0</td>\n",
       "    </tr>\n",
       "    <tr>\n",
       "      <th>source</th>\n",
       "      <td>&lt;a href=\"http://twitter.com/download/android\" ...</td>\n",
       "      <td>&lt;a href=\"http://twitter.com/download/android\" ...</td>\n",
       "      <td>&lt;a href=\"http://spotify.com\" rel=\"nofollow\"&gt;Sp...</td>\n",
       "      <td>&lt;a href=\"http://twitter.com/download/android\" ...</td>\n",
       "      <td>&lt;a href=\"http://www.google.com/\" rel=\"nofollow...</td>\n",
       "    </tr>\n",
       "    <tr>\n",
       "      <th>user_id</th>\n",
       "      <td>268856945</td>\n",
       "      <td>1351288699</td>\n",
       "      <td>400527880</td>\n",
       "      <td>912850280</td>\n",
       "      <td>156976664</td>\n",
       "    </tr>\n",
       "    <tr>\n",
       "      <th>user_screen_name</th>\n",
       "      <td>athirah_J</td>\n",
       "      <td>HannysJayy</td>\n",
       "      <td>haizathaiqal</td>\n",
       "      <td>horrortronz</td>\n",
       "      <td>Ayo_louis</td>\n",
       "    </tr>\n",
       "    <tr>\n",
       "      <th>user_name</th>\n",
       "      <td>ㅅ.ㄴ.ㄹ.</td>\n",
       "      <td>keknis</td>\n",
       "      <td>haizat haiqal</td>\n",
       "      <td>enzø</td>\n",
       "      <td>วันเดอร์หุย</td>\n",
       "    </tr>\n",
       "    <tr>\n",
       "      <th>user_created_at</th>\n",
       "      <td>Sat Mar 19 16:17:05 +0000 2011</td>\n",
       "      <td>Sun Apr 14 07:47:38 +0000 2013</td>\n",
       "      <td>Sat Oct 29 05:31:47 +0000 2011</td>\n",
       "      <td>Mon Oct 29 17:11:20 +0000 2012</td>\n",
       "      <td>Fri Jun 18 13:30:57 +0000 2010</td>\n",
       "    </tr>\n",
       "    <tr>\n",
       "      <th>user_description</th>\n",
       "      <td>lendurians |  im home  | ㅈㅎ.</td>\n",
       "      <td>the chubbier, the better</td>\n",
       "      <td>H.H</td>\n",
       "      <td>Algo errado não está certo</td>\n",
       "      <td>보라. 1996. Korean SWU #dek57</td>\n",
       "    </tr>\n",
       "    <tr>\n",
       "      <th>user_followers_count</th>\n",
       "      <td>342</td>\n",
       "      <td>1477</td>\n",
       "      <td>245</td>\n",
       "      <td>231</td>\n",
       "      <td>207</td>\n",
       "    </tr>\n",
       "    <tr>\n",
       "      <th>user_friends_count</th>\n",
       "      <td>313</td>\n",
       "      <td>1329</td>\n",
       "      <td>106</td>\n",
       "      <td>317</td>\n",
       "      <td>263</td>\n",
       "    </tr>\n",
       "    <tr>\n",
       "      <th>user_location</th>\n",
       "      <td>rawang, malaysia</td>\n",
       "      <td></td>\n",
       "      <td></td>\n",
       "      <td>Twitter</td>\n",
       "      <td>Thailand</td>\n",
       "    </tr>\n",
       "    <tr>\n",
       "      <th>user_time_zone</th>\n",
       "      <td>Alaska</td>\n",
       "      <td>Beijing</td>\n",
       "      <td>Beijing</td>\n",
       "      <td>Mid-Atlantic</td>\n",
       "      <td>Jakarta</td>\n",
       "    </tr>\n",
       "    <tr>\n",
       "      <th>tab_count</th>\n",
       "      <td>92549</td>\n",
       "      <td>92549</td>\n",
       "      <td>92549</td>\n",
       "      <td>92549</td>\n",
       "      <td>92549</td>\n",
       "    </tr>\n",
       "    <tr>\n",
       "      <th>sent_score</th>\n",
       "      <td>0</td>\n",
       "      <td>0</td>\n",
       "      <td>0</td>\n",
       "      <td>0</td>\n",
       "      <td>0</td>\n",
       "    </tr>\n",
       "    <tr>\n",
       "      <th>sent_category</th>\n",
       "      <td>Neu</td>\n",
       "      <td>Neu</td>\n",
       "      <td>Neu</td>\n",
       "      <td>Neu</td>\n",
       "      <td>Neu</td>\n",
       "    </tr>\n",
       "    <tr>\n",
       "      <th>pos</th>\n",
       "      <td>0</td>\n",
       "      <td>0</td>\n",
       "      <td>0</td>\n",
       "      <td>0</td>\n",
       "      <td>0</td>\n",
       "    </tr>\n",
       "    <tr>\n",
       "      <th>neg</th>\n",
       "      <td>0</td>\n",
       "      <td>0</td>\n",
       "      <td>0</td>\n",
       "      <td>0</td>\n",
       "      <td>0</td>\n",
       "    </tr>\n",
       "    <tr>\n",
       "      <th>neu</th>\n",
       "      <td>1</td>\n",
       "      <td>1</td>\n",
       "      <td>1</td>\n",
       "      <td>1</td>\n",
       "      <td>1</td>\n",
       "    </tr>\n",
       "    <tr>\n",
       "      <th>created_at_time</th>\n",
       "      <td>2016-04-18 16:48:00</td>\n",
       "      <td>2016-04-18 16:47:59</td>\n",
       "      <td>2016-04-18 16:47:36</td>\n",
       "      <td>2016-04-18 16:47:26</td>\n",
       "      <td>2016-04-18 16:47:08</td>\n",
       "    </tr>\n",
       "    <tr>\n",
       "      <th>created_at_time_min</th>\n",
       "      <td>2016-04-18 16:48:00</td>\n",
       "      <td>2016-04-18 16:47:59</td>\n",
       "      <td>2016-04-18 16:47:36</td>\n",
       "      <td>2016-04-18 16:47:26</td>\n",
       "      <td>2016-04-18 16:47:08</td>\n",
       "    </tr>\n",
       "    <tr>\n",
       "      <th>created_at_time_max</th>\n",
       "      <td>2016-04-18 16:48:00</td>\n",
       "      <td>2016-04-18 16:47:59</td>\n",
       "      <td>2016-04-18 16:47:36</td>\n",
       "      <td>2016-04-18 16:47:26</td>\n",
       "      <td>2016-04-18 16:47:08</td>\n",
       "    </tr>\n",
       "    <tr>\n",
       "      <th>created_at_time_date</th>\n",
       "      <td>2016-04-18</td>\n",
       "      <td>2016-04-18</td>\n",
       "      <td>2016-04-18</td>\n",
       "      <td>2016-04-18</td>\n",
       "      <td>2016-04-18</td>\n",
       "    </tr>\n",
       "    <tr>\n",
       "      <th>week_from_one</th>\n",
       "      <td>16</td>\n",
       "      <td>16</td>\n",
       "      <td>16</td>\n",
       "      <td>16</td>\n",
       "      <td>16</td>\n",
       "    </tr>\n",
       "    <tr>\n",
       "      <th>date_period</th>\n",
       "      <td>2016-04-17 ~ 2016-04-23</td>\n",
       "      <td>2016-04-17 ~ 2016-04-23</td>\n",
       "      <td>2016-04-17 ~ 2016-04-23</td>\n",
       "      <td>2016-04-17 ~ 2016-04-23</td>\n",
       "      <td>2016-04-17 ~ 2016-04-23</td>\n",
       "    </tr>\n",
       "    <tr>\n",
       "      <th>count</th>\n",
       "      <td>1</td>\n",
       "      <td>1</td>\n",
       "      <td>1</td>\n",
       "      <td>1</td>\n",
       "      <td>1</td>\n",
       "    </tr>\n",
       "  </tbody>\n",
       "</table>\n",
       "</div>"
      ],
      "text/plain": [
       "                                                                      0  \\\n",
       "id                                                   722104402098532352   \n",
       "text                                             7 years// lukas graham   \n",
       "created_at                               Mon Apr 18 16:48:00 +0000 2016   \n",
       "favorite_count                                                        0   \n",
       "source                <a href=\"http://twitter.com/download/android\" ...   \n",
       "user_id                                                       268856945   \n",
       "user_screen_name                                              athirah_J   \n",
       "user_name                                                        ㅅ.ㄴ.ㄹ.   \n",
       "user_created_at                          Sat Mar 19 16:17:05 +0000 2011   \n",
       "user_description                           lendurians |  im home  | ㅈㅎ.   \n",
       "user_followers_count                                                342   \n",
       "user_friends_count                                                  313   \n",
       "user_location                                          rawang, malaysia   \n",
       "user_time_zone                                                   Alaska   \n",
       "tab_count                                                         92549   \n",
       "sent_score                                                            0   \n",
       "sent_category                                                       Neu   \n",
       "pos                                                                   0   \n",
       "neg                                                                   0   \n",
       "neu                                                                   1   \n",
       "created_at_time                                     2016-04-18 16:48:00   \n",
       "created_at_time_min                                 2016-04-18 16:48:00   \n",
       "created_at_time_max                                 2016-04-18 16:48:00   \n",
       "created_at_time_date                                         2016-04-18   \n",
       "week_from_one                                                        16   \n",
       "date_period                                     2016-04-17 ~ 2016-04-23   \n",
       "count                                                                 1   \n",
       "\n",
       "                                                                      1  \\\n",
       "id                                                   722104398457872385   \n",
       "text                                             7 years x lukas graham   \n",
       "created_at                               Mon Apr 18 16:47:59 +0000 2016   \n",
       "favorite_count                                                        0   \n",
       "source                <a href=\"http://twitter.com/download/android\" ...   \n",
       "user_id                                                      1351288699   \n",
       "user_screen_name                                             HannysJayy   \n",
       "user_name                                                        keknis   \n",
       "user_created_at                          Sun Apr 14 07:47:38 +0000 2013   \n",
       "user_description                               the chubbier, the better   \n",
       "user_followers_count                                               1477   \n",
       "user_friends_count                                                 1329   \n",
       "user_location                                                             \n",
       "user_time_zone                                                  Beijing   \n",
       "tab_count                                                         92549   \n",
       "sent_score                                                            0   \n",
       "sent_category                                                       Neu   \n",
       "pos                                                                   0   \n",
       "neg                                                                   0   \n",
       "neu                                                                   1   \n",
       "created_at_time                                     2016-04-18 16:47:59   \n",
       "created_at_time_min                                 2016-04-18 16:47:59   \n",
       "created_at_time_max                                 2016-04-18 16:47:59   \n",
       "created_at_time_date                                         2016-04-18   \n",
       "week_from_one                                                        16   \n",
       "date_period                                     2016-04-17 ~ 2016-04-23   \n",
       "count                                                                 1   \n",
       "\n",
       "                                                                      2  \\\n",
       "id                                                   722104301347188736   \n",
       "text                  #NowPlaying 7 Years by Lukas Graham ♫ https://...   \n",
       "created_at                               Mon Apr 18 16:47:36 +0000 2016   \n",
       "favorite_count                                                        0   \n",
       "source                <a href=\"http://spotify.com\" rel=\"nofollow\">Sp...   \n",
       "user_id                                                       400527880   \n",
       "user_screen_name                                           haizathaiqal   \n",
       "user_name                                                 haizat haiqal   \n",
       "user_created_at                          Sat Oct 29 05:31:47 +0000 2011   \n",
       "user_description                                                    H.H   \n",
       "user_followers_count                                                245   \n",
       "user_friends_count                                                  106   \n",
       "user_location                                                             \n",
       "user_time_zone                                                  Beijing   \n",
       "tab_count                                                         92549   \n",
       "sent_score                                                            0   \n",
       "sent_category                                                       Neu   \n",
       "pos                                                                   0   \n",
       "neg                                                                   0   \n",
       "neu                                                                   1   \n",
       "created_at_time                                     2016-04-18 16:47:36   \n",
       "created_at_time_min                                 2016-04-18 16:47:36   \n",
       "created_at_time_max                                 2016-04-18 16:47:36   \n",
       "created_at_time_date                                         2016-04-18   \n",
       "week_from_one                                                        16   \n",
       "date_period                                     2016-04-17 ~ 2016-04-23   \n",
       "count                                                                 1   \n",
       "\n",
       "                                                                      3  \\\n",
       "id                                                   722104261652410370   \n",
       "text                  iTunes US\\n#1. Lukas Graham — \"7 Years\"\\n\\n#3....   \n",
       "created_at                               Mon Apr 18 16:47:26 +0000 2016   \n",
       "favorite_count                                                        0   \n",
       "source                <a href=\"http://twitter.com/download/android\" ...   \n",
       "user_id                                                       912850280   \n",
       "user_screen_name                                            horrortronz   \n",
       "user_name                                                          enzø   \n",
       "user_created_at                          Mon Oct 29 17:11:20 +0000 2012   \n",
       "user_description                             Algo errado não está certo   \n",
       "user_followers_count                                                231   \n",
       "user_friends_count                                                  317   \n",
       "user_location                                                   Twitter   \n",
       "user_time_zone                                             Mid-Atlantic   \n",
       "tab_count                                                         92549   \n",
       "sent_score                                                            0   \n",
       "sent_category                                                       Neu   \n",
       "pos                                                                   0   \n",
       "neg                                                                   0   \n",
       "neu                                                                   1   \n",
       "created_at_time                                     2016-04-18 16:47:26   \n",
       "created_at_time_min                                 2016-04-18 16:47:26   \n",
       "created_at_time_max                                 2016-04-18 16:47:26   \n",
       "created_at_time_date                                         2016-04-18   \n",
       "week_from_one                                                        16   \n",
       "date_period                                     2016-04-17 ~ 2016-04-23   \n",
       "count                                                                 1   \n",
       "\n",
       "                                                                      4  \n",
       "id                                                   722104184640839680  \n",
       "text                  ฉันชอบวิดีโอ @YouTube https://t.co/mjDoBiWdnu ...  \n",
       "created_at                               Mon Apr 18 16:47:08 +0000 2016  \n",
       "favorite_count                                                        0  \n",
       "source                <a href=\"http://www.google.com/\" rel=\"nofollow...  \n",
       "user_id                                                       156976664  \n",
       "user_screen_name                                              Ayo_louis  \n",
       "user_name                                                   วันเดอร์หุย  \n",
       "user_created_at                          Fri Jun 18 13:30:57 +0000 2010  \n",
       "user_description                            보라. 1996. Korean SWU #dek57  \n",
       "user_followers_count                                                207  \n",
       "user_friends_count                                                  263  \n",
       "user_location                                                  Thailand  \n",
       "user_time_zone                                                  Jakarta  \n",
       "tab_count                                                         92549  \n",
       "sent_score                                                            0  \n",
       "sent_category                                                       Neu  \n",
       "pos                                                                   0  \n",
       "neg                                                                   0  \n",
       "neu                                                                   1  \n",
       "created_at_time                                     2016-04-18 16:47:08  \n",
       "created_at_time_min                                 2016-04-18 16:47:08  \n",
       "created_at_time_max                                 2016-04-18 16:47:08  \n",
       "created_at_time_date                                         2016-04-18  \n",
       "week_from_one                                                        16  \n",
       "date_period                                     2016-04-17 ~ 2016-04-23  \n",
       "count                                                                 1  "
      ]
     },
     "execution_count": 118,
     "metadata": {},
     "output_type": "execute_result"
    }
   ],
   "source": [
    "table.head().T"
   ]
  },
  {
   "cell_type": "code",
   "execution_count": 46,
   "metadata": {
    "collapsed": false
   },
   "outputs": [
    {
     "data": {
      "text/plain": [
       "\"\\ntable['text'][531]\\n\""
      ]
     },
     "execution_count": 46,
     "metadata": {},
     "output_type": "execute_result"
    }
   ],
   "source": [
    "'''\n",
    "table['text'][531]\n",
    "'''"
   ]
  },
  {
   "cell_type": "code",
   "execution_count": null,
   "metadata": {
    "collapsed": false
   },
   "outputs": [],
   "source": []
  },
  {
   "cell_type": "code",
   "execution_count": null,
   "metadata": {
    "collapsed": true
   },
   "outputs": [],
   "source": []
  }
 ],
 "metadata": {
  "kernelspec": {
   "display_name": "Python 2",
   "language": "python",
   "name": "python2"
  },
  "language_info": {
   "codemirror_mode": {
    "name": "ipython",
    "version": 2
   },
   "file_extension": ".py",
   "mimetype": "text/x-python",
   "name": "python",
   "nbconvert_exporter": "python",
   "pygments_lexer": "ipython2",
   "version": "2.7.11"
  }
 },
 "nbformat": 4,
 "nbformat_minor": 0
}
