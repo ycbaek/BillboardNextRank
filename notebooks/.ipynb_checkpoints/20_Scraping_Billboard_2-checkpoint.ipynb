{
 "cells": [
  {
   "cell_type": "code",
   "execution_count": 23,
   "metadata": {
    "collapsed": true
   },
   "outputs": [],
   "source": [
    "import requests\n",
    "import datetime\n",
    "import time\n",
    "from datetime import timedelta\n",
    "from bs4 import BeautifulSoup, Comment"
   ]
  },
  {
   "cell_type": "code",
   "execution_count": 24,
   "metadata": {
    "collapsed": true
   },
   "outputs": [],
   "source": [
    "def get_url(date):\n",
    "    str_date=''.join([date[0:4], date[5:7], date[8:10]])\n",
    "    url = \"http://www.umdmusic.com/default.asp?Lang=English&Chart=D&ChDate={}&ChMode=P\".format(str_date)\n",
    "    return url"
   ]
  },
  {
   "cell_type": "code",
   "execution_count": 25,
   "metadata": {
    "collapsed": true
   },
   "outputs": [],
   "source": [
    "def get_song_artist(song_raw_data):\n",
    "    song_name = []\n",
    "    artist_name = []\n",
    "    space_num = 0\n",
    "    for item in song_raw_data.split(\" \"):\n",
    "        if len(item) == 0:\n",
    "            space_num +=1\n",
    "        if space_num == 0:\n",
    "            song_name.append(item)\n",
    "        else:\n",
    "            if len(item) !=0:\n",
    "                artist_name.append(item)\n",
    "    return \" \".join(song_name), \" \".join(artist_name)"
   ]
  },
  {
   "cell_type": "code",
   "execution_count": 26,
   "metadata": {
    "collapsed": true
   },
   "outputs": [],
   "source": [
    "def get_song_info(link):\n",
    "    set_info = link.findAll('td')\n",
    "    rank = set_info[0].text\n",
    "    song, artist = get_song_artist(set_info[4].text) \n",
    "    return rank, song, artist"
   ]
  },
  {
   "cell_type": "code",
   "execution_count": 27,
   "metadata": {
    "collapsed": false
   },
   "outputs": [],
   "source": [
    "def get_all_info_one_week (data):\n",
    "    url =  get_url(data.strftime('%Y-%m-%d'))\n",
    "    soup = BeautifulSoup(requests.get(url).content, 'html.parser')\n",
    "    AllComments = soup.findAll(text=lambda text:isinstance(text,Comment))\n",
    "    index_num = AllComments.index(' Display Chart Table ')\n",
    "    RankTable = AllComments[index_num].find_next_sibling('table')\n",
    "    RankList = RankTable.findAll(\"tr\")\n",
    "    \n",
    "    ListD = []\n",
    "    ListR = []\n",
    "    ListS = []\n",
    "    ListA = []\n",
    "\n",
    "    for i, link in enumerate(RankList):\n",
    "        if i >= 2:\n",
    "            rank, song, artist = get_song_info(link)\n",
    "            ListD =data.strftime('%Y-%m-%d')\n",
    "            ListR.append(rank)\n",
    "            ListS.append(song)\n",
    "            ListA.append(artist)\n",
    "\n",
    "    table = pd.DataFrame({'date':ListD, 'rank':ListR, 'song':ListS, 'artist':ListA})\n",
    "    return table\n",
    "    "
   ]
  },
  {
   "cell_type": "code",
   "execution_count": 28,
   "metadata": {
    "collapsed": true
   },
   "outputs": [],
   "source": [
    "def get_all_info(start_date = datetime.datetime.strptime('2016-01-02', \"%Y-%m-%d\"),\\\n",
    "                 end_date = datetime.datetime.fromtimestamp(time.time())):\n",
    "\n",
    "    next_date = start_date\n",
    "    table = get_all_info_one_week (next_date)\n",
    "    while next_date +  timedelta(days=7) <= end_date:\n",
    "        next_date = next_date +  timedelta(days=7)\n",
    "        table = pd.concat([table, get_all_info_one_week (next_date)])\n",
    "    \n",
    "    filename = \"../data/billboard_result_{}_{}.csv\".format(start_date.strftime('%Y%m%d'), next_date.strftime('%Y%m%d'))\n",
    "    table.to_csv(filename, sep=',', encoding='utf-8')\n",
    "    return table"
   ]
  },
  {
   "cell_type": "code",
   "execution_count": null,
   "metadata": {
    "collapsed": true
   },
   "outputs": [],
   "source": [
    "startDate = datetime.datetime.strptime('2016-03-05', \"%Y-%m-%d\")\n",
    "endDate = datetime.datetime.strptime('2016-04-30', \"%Y-%m-%d\")\n",
    "get_all_info(start_date=startDate, end_date=endDate)"
   ]
  },
  {
   "cell_type": "code",
   "execution_count": null,
   "metadata": {
    "collapsed": true
   },
   "outputs": [],
   "source": []
  }
 ],
 "metadata": {
  "kernelspec": {
   "display_name": "Python 2",
   "language": "python",
   "name": "python2"
  },
  "language_info": {
   "codemirror_mode": {
    "name": "ipython",
    "version": 2
   },
   "file_extension": ".py",
   "mimetype": "text/x-python",
   "name": "python",
   "nbconvert_exporter": "python",
   "pygments_lexer": "ipython2",
   "version": "2.7.11"
  }
 },
 "nbformat": 4,
 "nbformat_minor": 0
}
