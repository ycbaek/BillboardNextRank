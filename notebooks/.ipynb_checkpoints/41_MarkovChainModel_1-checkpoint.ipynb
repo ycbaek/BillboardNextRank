{
 "cells": [
  {
   "cell_type": "code",
   "execution_count": 154,
   "metadata": {
    "collapsed": true
   },
   "outputs": [],
   "source": [
    "import pandas as pd"
   ]
  },
  {
   "cell_type": "code",
   "execution_count": 144,
   "metadata": {
    "collapsed": true
   },
   "outputs": [],
   "source": [
    "def get_markov(dfngram):\n",
    "    xymatrix = np.zeros([100,101])\n",
    "    xmatrix = np.zeros(100)\n",
    "\n",
    "    for i in xrange(len(dfngram)):\n",
    "        item0 = np.int(dfngram[i:i+1].values[0][1])\n",
    "        item1 = np.int(dfngram[i:i+1].values[0][2])\n",
    "        xymatrix[item0-1, item1-1] +=1\n",
    "        xmatrix[item0-1] +=1\n",
    " \n",
    "    first = xymatrix[:,0:101]/xmatrix\n",
    "    second = xymatrix[:,101:102].T/xmatrix\n",
    "    \n",
    "    base = set(range(1,101))\n",
    "    \n",
    "    xy_matrix = pd.DataFrame(data =xymatrix, index = range(1,101), columns = range(1,102))\n",
    "    x_matrix = pd.DataFrame(data = xmatrix, index = range(1,101), columns = ['target'])\n",
    "    p_table = pd.DataFrame(data = np.concatenate((first, second.T), axis=1), index = range(1,101), columns = range(1,102))\n",
    "    \n",
    "    return p_table, xy_matrix, x_matrix, base"
   ]
  },
  {
   "cell_type": "code",
   "execution_count": 76,
   "metadata": {
    "collapsed": true
   },
   "outputs": [],
   "source": [
    "def get_base(dfngram, ngram = 2):\n",
    "    dfngram = dfngram.astype('int')\n",
    "    col = [\"diff_{}\".format(i) for i in range(ngram)]\n",
    "    df = dfngram[col]\n",
    "    ASET = set()\n",
    "    for i in xrange(len(df)):\n",
    "        ASET.add(tuple(df.iloc[i]))\n",
    "    \n",
    "    return ASET"
   ]
  },
  {
   "cell_type": "code",
   "execution_count": 310,
   "metadata": {
    "collapsed": true
   },
   "outputs": [],
   "source": [
    "def get_markov_ngram(dfngram, ngram = 2):\n",
    "    \n",
    "    if ngram == 1:\n",
    "        base = set(range(1,101))\n",
    "    else:\n",
    "        base = get_base(dfngram, ngram = ngram)\n",
    "        \n",
    "    xy_table = pd.DataFrame(data = np.zeros([len(base), 101]), index=base, columns=range(1,102))\n",
    "    x_table = pd.DataFrame(data = np.zeros([len(base), 1]), index=base, columns= ['target'])\n",
    "    \n",
    "    dfngram = dfngram.astype('int')\n",
    "    col = [\"diff_{}\".format(i) for i in range(ngram)]\n",
    "    df = dfngram[col]\n",
    "    target = dfngram['target'].values\n",
    "    \n",
    "    for i in range(len(df)):\n",
    "        if ngram == 1:\n",
    "            t = df.iloc[i].values[0]\n",
    "        else:\n",
    "            t = tuple(df.iloc[i])\n",
    "            \n",
    "        s = target[i]\n",
    "        xy_table.ix[t,s] += 1\n",
    "        x_table.ix[t,\"target\"] += 1\n",
    "    \n",
    "    prob_value = np.array(xy_table)/np.array(x_table)\n",
    "    p_table = pd.DataFrame(data = prob_value, index=base, columns=range(1,102))\n",
    "    \n",
    "    p_table[\"base\"] = p_table.index\n",
    "    p_xy = p_table[range(1,102)].values\n",
    "    p_y = np.array(range(1,102))\n",
    "    p_table['pred'] = np.dot(p_xy,p_y)\n",
    "    \n",
    "    return p_table, xy_table, x_table, base\n",
    "    "
   ]
  },
  {
   "cell_type": "code",
   "execution_count": null,
   "metadata": {
    "collapsed": true
   },
   "outputs": [],
   "source": []
  },
  {
   "cell_type": "code",
   "execution_count": 198,
   "metadata": {
    "collapsed": true
   },
   "outputs": [],
   "source": [
    "dfngram_long_1 = pd.read_csv('../data/ngram101_1.csv')\n",
    "dfngram_long_2 = pd.read_csv('../data/ngram101_2.csv')\n",
    "dfngram_long_3 = pd.read_csv('../data/ngram101_3.csv')\n",
    "dfngram_long_4 = pd.read_csv('../data/ngram101_4.csv')\n",
    "dfngram_long_5 = pd.read_csv('../data/ngram101_5.csv')\n",
    "dfngram_long_6 = pd.read_csv('../data/ngram101_6.csv')\n",
    "\n",
    "dfngram_long_1.drop(\"Unnamed: 0\", axis=1, inplace=True)\n",
    "dfngram_long_2.drop(\"Unnamed: 0\", axis=1, inplace=True)\n",
    "dfngram_long_3.drop(\"Unnamed: 0\", axis=1, inplace=True)\n",
    "dfngram_long_4.drop(\"Unnamed: 0\", axis=1, inplace=True)\n",
    "dfngram_long_5.drop(\"Unnamed: 0\", axis=1, inplace=True)\n",
    "dfngram_long_6.drop(\"Unnamed: 0\", axis=1, inplace=True)"
   ]
  },
  {
   "cell_type": "code",
   "execution_count": 199,
   "metadata": {
    "collapsed": true
   },
   "outputs": [],
   "source": [
    "dfngram_long_1t = dfngram_long_1[:10000]\n",
    "dfngram_long_2t = dfngram_long_2[:10000]\n",
    "dfngram_long_3t = dfngram_long_3[:10000]\n",
    "dfngram_long_4t = dfngram_long_4[:10000]\n",
    "dfngram_long_5t = dfngram_long_5[:10000]\n",
    "dfngram_long_6t = dfngram_long_6[:10000]"
   ]
  },
  {
   "cell_type": "code",
   "execution_count": 380,
   "metadata": {
    "collapsed": false
   },
   "outputs": [],
   "source": [
    "dfngram1 = pd.read_csv('../data/small_101_1.csv')\n",
    "dfngram2 = pd.read_csv('../data/small_101_2.csv')\n",
    "dfngram3 = pd.read_csv('../data/small_101_3.csv')\n",
    "dfngram4 = pd.read_csv('../data/small_101_4.csv')\n",
    "dfngram5 = pd.read_csv('../data/small_101_5.csv')\n",
    "dfngram6 = pd.read_csv('../data/small_101_6.csv')\n",
    "dfngram7 = pd.read_csv('../data/small_101_7.csv')\n",
    "\n",
    "p_table1, xy_table1, x_table1, base1 = get_markov_ngram(dfngram1, ngram = 1)\n",
    "p_table2, xy_table2, x_table2, base2 = get_markov_ngram(dfngram2, ngram = 2)\n",
    "p_table3, xy_table3, x_table3, base3 = get_markov_ngram(dfngram3, ngram = 3)\n",
    "p_table4, xy_table4, x_table4, base4 = get_markov_ngram(dfngram4, ngram = 4)\n",
    "p_table5, xy_table5, x_table5, base5 = get_markov_ngram(dfngram5, ngram = 5)\n",
    "p_table6, xy_table6, x_table6, base6 = get_markov_ngram(dfngram6, ngram = 6)\n",
    "p_table7, xy_table7, x_table7, base7 = get_markov_ngram(dfngram7, ngram = 7)"
   ]
  },
  {
   "cell_type": "code",
   "execution_count": 376,
   "metadata": {
    "collapsed": true
   },
   "outputs": [],
   "source": [
    "dfngram1 = pd.read_csv('../data/ngram101_1.csv')\n",
    "dfngram2 = pd.read_csv('../data/ngram101_2.csv')\n",
    "dfngram3 = pd.read_csv('../data/ngram101_3.csv')\n",
    "dfngram4 = pd.read_csv('../data/ngram101_4.csv')\n",
    "dfngram5 = pd.read_csv('../data/ngram101_5.csv')\n",
    "dfngram6 = pd.read_csv('../data/ngram101_6.csv')\n",
    "dfngram7 = pd.read_csv('../data/ngram101_7.csv')\n",
    "\n",
    "p_table1, xy_table1, x_table1, base1 = get_markov_ngram(dfngram1, ngram = 1)\n",
    "p_table2, xy_table2, x_table2, base2 = get_markov_ngram(dfngram2, ngram = 2)\n",
    "p_table3, xy_table3, x_table3, base3 = get_markov_ngram(dfngram3, ngram = 3)\n",
    "p_table4, xy_table4, x_table4, base4 = get_markov_ngram(dfngram4, ngram = 4)\n",
    "p_table5, xy_table5, x_table5, base5 = get_markov_ngram(dfngram5, ngram = 5)\n",
    "p_table6, xy_table6, x_table6, base6 = get_markov_ngram(dfngram6, ngram = 6)\n",
    "p_table7, xy_table7, x_table7, base7 = get_markov_ngram(dfngram7, ngram = 7)"
   ]
  },
  {
   "cell_type": "code",
   "execution_count": null,
   "metadata": {
    "collapsed": true
   },
   "outputs": [],
   "source": [
    "def get_mse_7(dfngram, p_table7, p_table6, p_table5, p_table4, p_table3, p_table2, p_table1, \\\n",
    "              base7, base6, base5, base4, base3, base2, base1):\n",
    "    \n",
    "    ngram = 7\n",
    "    dfngram = dfngram.astype('int')\n",
    "    col = [\"diff_{}\".format(i) for i in range(ngram)]\n",
    "    df = dfngram[col]\n",
    "\n",
    "    est_list = []\n",
    "    diff_list = []\n",
    "    for i in range(len(df)):\n",
    "        basei = tuple(df.iloc[i])\n",
    "        esti = get_est_7(basei)\n",
    "        est_list.append(esti)\n",
    "        diff_list.append(dfngram['target'][i] - esti)\n",
    "    \n",
    "    dfngram['est'] = est_list\n",
    "    dfngram['diff'] = diff_list\n",
    "    mse_list = np.array(diff_list)\n",
    "    \n",
    "    return np.sqrt(np.mean(mse_list**2))\n"
   ]
  },
  {
   "cell_type": "code",
   "execution_count": 363,
   "metadata": {
    "collapsed": true
   },
   "outputs": [],
   "source": [
    "def get_mse_6(dfngram, p_table6, p_table5, p_table4, p_table3, p_table2, p_table1,\\\n",
    "              base6, base5, base4, base3, base2, base1):\n",
    "    \n",
    "    ngram = 6\n",
    "    dfngram = dfngram.astype('int')\n",
    "    col = [\"diff_{}\".format(i) for i in range(ngram)]\n",
    "    df = dfngram[col]\n",
    "\n",
    "    est_list = []\n",
    "    diff_list = []\n",
    "    for i in range(len(df)):\n",
    "        basei = tuple(df.iloc[i])\n",
    "        esti = get_est_6(basei)\n",
    "        est_list.append(esti)\n",
    "        diff_list.append(dfngram['target'][i] - esti)\n",
    "    \n",
    "    dfngram['est'] = est_list\n",
    "    dfngram['diff'] = diff_list\n",
    "    mse_list = np.array(diff_list)\n",
    "    \n",
    "    return np.sqrt(np.mean(mse_list**2))\n"
   ]
  },
  {
   "cell_type": "code",
   "execution_count": 366,
   "metadata": {
    "collapsed": false
   },
   "outputs": [],
   "source": [
    "def get_mse_5(dfngram, p_table5, p_table4, p_table3, p_table2, p_table1,\\\n",
    "              base5, base4, base3, base2, base1):\n",
    "    \n",
    "    ngram = 5\n",
    "    dfngram = dfngram.astype('int')\n",
    "    col = [\"diff_{}\".format(i) for i in range(ngram)]\n",
    "    df = dfngram[col]\n",
    "\n",
    "    est_list = []\n",
    "    diff_list = []\n",
    "    for i in range(len(df)):\n",
    "        basei = tuple(df.iloc[i])\n",
    "        esti = get_est_5(basei)\n",
    "        est_list.append(esti)\n",
    "        diff_list.append(dfngram['target'][i] - esti)\n",
    "    \n",
    "    dfngram['est'] = est_list\n",
    "    dfngram['diff'] = diff_list\n",
    "    mse_list = np.array(diff_list)\n",
    "    \n",
    "    return np.sqrt(np.mean(mse_list**2))"
   ]
  },
  {
   "cell_type": "code",
   "execution_count": 368,
   "metadata": {
    "collapsed": false
   },
   "outputs": [],
   "source": [
    "def get_mse_4(dfngram, p_table4, p_table3, p_table2, p_table1, base4, base3, base2, base1):\n",
    "    \n",
    "    ngram = 4\n",
    "    dfngram = dfngram.astype('int')\n",
    "    col = [\"diff_{}\".format(i) for i in range(ngram)]\n",
    "    df = dfngram[col]\n",
    "\n",
    "    est_list = []\n",
    "    diff_list = []\n",
    "    for i in range(len(df)):\n",
    "        basei = tuple(df.iloc[i])\n",
    "        esti = get_est_4(basei)\n",
    "        est_list.append(esti)\n",
    "        diff_list.append(dfngram['target'][i] - esti)\n",
    "    \n",
    "    dfngram['est'] = est_list\n",
    "    dfngram['diff'] = diff_list\n",
    "    mse_list = np.array(diff_list)\n",
    "    \n",
    "    return np.sqrt(np.mean(mse_list**2))"
   ]
  },
  {
   "cell_type": "code",
   "execution_count": 370,
   "metadata": {
    "collapsed": false
   },
   "outputs": [],
   "source": [
    "def get_mse_3(dfngram, p_table3, p_table2, p_table1, base3, base2, base1):\n",
    "    \n",
    "    ngram = 3\n",
    "    dfngram = dfngram.astype('int')\n",
    "    col = [\"diff_{}\".format(i) for i in range(ngram)]\n",
    "    df = dfngram[col]\n",
    "\n",
    "    est_list = []\n",
    "    diff_list = []\n",
    "    for i in range(len(df)):\n",
    "        basei = tuple(df.iloc[i])\n",
    "        esti = get_est_3(basei)\n",
    "        est_list.append(esti)\n",
    "        diff_list.append(dfngram['target'][i] - esti)\n",
    "    \n",
    "    dfngram['est'] = est_list\n",
    "    dfngram['diff'] = diff_list\n",
    "    mse_list = np.array(diff_list)\n",
    "    \n",
    "    return np.sqrt(np.mean(mse_list**2))"
   ]
  },
  {
   "cell_type": "code",
   "execution_count": 372,
   "metadata": {
    "collapsed": false
   },
   "outputs": [],
   "source": [
    "def get_mse_2(dfngram, p_table2, p_table1, base2, base1):\n",
    "    \n",
    "    ngram = 2\n",
    "    dfngram = dfngram.astype('int')\n",
    "    col = [\"diff_{}\".format(i) for i in range(ngram)]\n",
    "    df = dfngram[col]\n",
    "\n",
    "    est_list = []\n",
    "    diff_list = []\n",
    "    for i in range(len(df)):\n",
    "        basei = tuple(df.iloc[i])\n",
    "        esti = get_est_2(basei)\n",
    "        est_list.append(esti)\n",
    "        diff_list.append(dfngram['target'][i] - esti)\n",
    "    \n",
    "    dfngram['est'] = est_list\n",
    "    dfngram['diff'] = diff_list\n",
    "    mse_list = np.array(diff_list)\n",
    "    \n",
    "    return np.sqrt(np.mean(mse_list**2))"
   ]
  },
  {
   "cell_type": "code",
   "execution_count": 374,
   "metadata": {
    "collapsed": true
   },
   "outputs": [],
   "source": [
    "def get_mse_1(dfngram, p_table1, base1):\n",
    "    \n",
    "    ngram = 1\n",
    "    dfngram = dfngram.astype('int')\n",
    "    col = [\"diff_{}\".format(i) for i in range(ngram)]\n",
    "    df = dfngram[col]\n",
    "\n",
    "    est_list = []\n",
    "    diff_list = []\n",
    "    for i in range(len(df)):\n",
    "        basei = tuple(df.iloc[i])\n",
    "        esti = get_est_1(basei)\n",
    "        est_list.append(esti)\n",
    "        diff_list.append(dfngram['target'][i] - esti)\n",
    "    \n",
    "    dfngram['est'] = est_list\n",
    "    dfngram['diff'] = diff_list\n",
    "    mse_list = np.array(diff_list)\n",
    "    \n",
    "    return np.sqrt(np.mean(mse_list**2))"
   ]
  },
  {
   "cell_type": "code",
   "execution_count": 378,
   "metadata": {
    "collapsed": false
   },
   "outputs": [
    {
     "data": {
      "text/plain": [
       "2"
      ]
     },
     "execution_count": 378,
     "metadata": {},
     "output_type": "execute_result"
    }
   ],
   "source": [
    "1+1"
   ]
  },
  {
   "cell_type": "code",
   "execution_count": 379,
   "metadata": {
    "collapsed": false
   },
   "outputs": [
    {
     "name": "stdout",
     "output_type": "stream",
     "text": [
      "mse6 : 0.367626053399\n",
      "mse5 : 0.844756406342\n",
      "mse4 : 2.45499298668\n",
      "mse3 : 6.26906420524\n",
      "mse2 : 8.92988218392\n",
      "mse1 : 11.2127767336\n"
     ]
    }
   ],
   "source": [
    "mse6 = get_mse_6(dfngram_long_6, p_table6, p_table5, p_table4, p_table3, p_table2, p_table1,\\\n",
    "          base6, base5, base4, base3, base2, base1)\n",
    "mse5 = get_mse_5(dfngram_long_5, p_table5, p_table4, p_table3, p_table2, p_table1,\\\n",
    "                 base5, base4, base3, base2, base1)\n",
    "mse4 = get_mse_4(dfngram_long_4, p_table4, p_table3, p_table2, p_table1,\\\n",
    "                 base4, base3, base2, base1)\n",
    "mse3 = get_mse_3(dfngram_long_3, p_table3, p_table2, p_table1,\\\n",
    "                 base3, base2, base1)\n",
    "mse2 = get_mse_2(dfngram_long_2, p_table2, p_table1,\\\n",
    "                 base2, base1)\n",
    "mse1 = get_mse_1(dfngram_long_1, p_table1, base1)\n",
    "\n",
    "print \"mse6 : {}\".format(mse6)\n",
    "print \"mse5 : {}\".format(mse5)\n",
    "print \"mse4 : {}\".format(mse4)\n",
    "print \"mse3 : {}\".format(mse3)\n",
    "print \"mse2 : {}\".format(mse2)\n",
    "print \"mse1 : {}\".format(mse1)\n"
   ]
  },
  {
   "cell_type": "code",
   "execution_count": null,
   "metadata": {
    "collapsed": true
   },
   "outputs": [],
   "source": [
    "'''\n",
    "mse6 : 0.367626053399\n",
    "mse5 : 0.844756406342\n",
    "mse4 : 2.45499298668\n",
    "mse3 : 6.26906420524\n",
    "mse2 : 8.92988218392\n",
    "mse1 : 11.2127767336\n",
    "'''"
   ]
  },
  {
   "cell_type": "code",
   "execution_count": null,
   "metadata": {
    "collapsed": true
   },
   "outputs": [],
   "source": []
  },
  {
   "cell_type": "code",
   "execution_count": null,
   "metadata": {
    "collapsed": true
   },
   "outputs": [],
   "source": [
    "def get_est_7(basei):\n",
    "    \n",
    "    if basei in base7:\n",
    "        return p_table7[p_table7['base']==basei]['pred'].values[0]\n",
    "    else:\n",
    "        if basei[1:] in base6:\n",
    "            return p_table6[p_table6['base']==basei[1:]]['pred'].values[0]\n",
    "        else:\n",
    "            if basei[2:] in base5:\n",
    "                return p_table5[p_table5['base']==basei[2:]]['pred'].values[0]\n",
    "            else: \n",
    "                if basei[3:] in base4:\n",
    "                    return p_table4[p_table4['base']==basei[3:]]['pred'].values[0]\n",
    "                else:\n",
    "                    if basei[4:] in base3:\n",
    "                        return p_table3[p_table3['base']==basei[4:]]['pred'].values[0]\n",
    "                    else:\n",
    "                        if basei[5:] in base2:\n",
    "                            return p_table2[p_table2['base']==basei[5:]]['pred'].values[0]\n",
    "                        else:\n",
    "                            return p_table1[p_table1['base']==basei[6]]['pred'].values[0]"
   ]
  },
  {
   "cell_type": "code",
   "execution_count": 326,
   "metadata": {
    "collapsed": true
   },
   "outputs": [],
   "source": [
    "def get_est_6(basei):\n",
    "    \n",
    "    if basei in base6:\n",
    "        return p_table6[p_table6['base']==basei]['pred'].values[0]\n",
    "    else:\n",
    "        if basei[1:] in base5:\n",
    "            return p_table5[p_table5['base']==basei[1:]]['pred'].values[0]\n",
    "        else:\n",
    "            if basei[2:] in base4:\n",
    "                return p_table4[p_table4['base']==basei[2:]]['pred'].values[0]\n",
    "            else: \n",
    "                if basei[3:] in base3:\n",
    "                    return p_table3[p_table3['base']==basei[3:]]['pred'].values[0]\n",
    "                else:\n",
    "                    if basei[4:] in base2:\n",
    "                        return p_table2[p_table2['base']==basei[4:]]['pred'].values[0]\n",
    "                    else:\n",
    "                        return p_table1[p_table1['base']==basei[5]]['pred'].values[0]"
   ]
  },
  {
   "cell_type": "code",
   "execution_count": 327,
   "metadata": {
    "collapsed": true
   },
   "outputs": [],
   "source": [
    "def get_est_5(basei):\n",
    "    \n",
    "    if basei in base5:\n",
    "        return p_table5[p_table5['base']==basei]['pred'].values[0]\n",
    "    else:\n",
    "        if basei[1:] in base4:\n",
    "            return p_table4[p_table4['base']==basei[1:]]['pred'].values[0]\n",
    "        else:\n",
    "            if basei[2:] in base3:\n",
    "                return p_table3[p_table3['base']==basei[2:]]['pred'].values[0]\n",
    "            else: \n",
    "                if basei[3:] in base2:\n",
    "                    return p_table2[p_table2['base']==basei[3:]]['pred'].values[0]\n",
    "                else:\n",
    "                    return p_table1[p_table1['base']==basei[4]]['pred'].values[0]"
   ]
  },
  {
   "cell_type": "code",
   "execution_count": 328,
   "metadata": {
    "collapsed": true
   },
   "outputs": [],
   "source": [
    "def get_est_4(basei):\n",
    "    \n",
    "    if basei in base4:\n",
    "        return p_table4[p_table4['base']==basei]['pred'].values[0]\n",
    "    else:\n",
    "        if basei[1:] in base3:\n",
    "            return p_table3[p_table3['base']==basei[1:]]['pred'].values[0]\n",
    "        else:\n",
    "            if basei[2:] in base2:\n",
    "                return p_table2[p_table2['base']==basei[2:]]['pred'].values[0]\n",
    "            else: \n",
    "                return p_table1[p_table1['base']==basei[3]]['pred'].values[0]"
   ]
  },
  {
   "cell_type": "code",
   "execution_count": 332,
   "metadata": {
    "collapsed": false
   },
   "outputs": [],
   "source": [
    "def get_est_3(basei):\n",
    "    \n",
    "    if basei in base3:\n",
    "        return p_table3[p_table3['base']==basei]['pred'].values[0]\n",
    "    else:\n",
    "        if basei[1:] in base2:\n",
    "            return p_table2[p_table2['base']==basei[1:]]['pred'].values[0]\n",
    "        else:\n",
    "            return p_table1[p_table1['base']==basei[2]]['pred'].values[0]"
   ]
  },
  {
   "cell_type": "code",
   "execution_count": 346,
   "metadata": {
    "collapsed": true
   },
   "outputs": [],
   "source": [
    "def get_est_2(basei):\n",
    "    \n",
    "    if basei in base2:\n",
    "        return p_table2[p_table2['base']==basei]['pred'].values[0]\n",
    "    else:\n",
    "        return p_table1[p_table1['base']==basei[1]]['pred'].values[0]"
   ]
  },
  {
   "cell_type": "code",
   "execution_count": 356,
   "metadata": {
    "collapsed": true
   },
   "outputs": [],
   "source": [
    "def get_est_1(basei):\n",
    "    \n",
    "    basei = basei[0]\n",
    "    return p_table1[p_table1['base']==basei]['pred'].values[0]\n",
    "    "
   ]
  },
  {
   "cell_type": "code",
   "execution_count": null,
   "metadata": {
    "collapsed": true
   },
   "outputs": [],
   "source": []
  },
  {
   "cell_type": "code",
   "execution_count": null,
   "metadata": {
    "collapsed": true
   },
   "outputs": [],
   "source": []
  },
  {
   "cell_type": "code",
   "execution_count": 48,
   "metadata": {
    "collapsed": false
   },
   "outputs": [
    {
     "data": {
      "text/plain": [
       "989"
      ]
     },
     "execution_count": 48,
     "metadata": {},
     "output_type": "execute_result"
    }
   ],
   "source": [
    "dfngram2 = pd.read_csv('../data/small_101_2.csv')\n",
    "base2 = get_base(dfngram2, ngram = 2)\n",
    "len(base2)"
   ]
  },
  {
   "cell_type": "code",
   "execution_count": 47,
   "metadata": {
    "collapsed": false
   },
   "outputs": [
    {
     "data": {
      "text/plain": [
       "1147"
      ]
     },
     "execution_count": 47,
     "metadata": {},
     "output_type": "execute_result"
    }
   ],
   "source": [
    "dfngram3 = pd.read_csv('../data/small_101_3.csv')\n",
    "base3 = get_base(dfngram3, ngram = 3)\n",
    "len(base3)"
   ]
  },
  {
   "cell_type": "code",
   "execution_count": 49,
   "metadata": {
    "collapsed": false
   },
   "outputs": [
    {
     "data": {
      "text/plain": [
       "1036"
      ]
     },
     "execution_count": 49,
     "metadata": {},
     "output_type": "execute_result"
    }
   ],
   "source": [
    "dfngram4 = pd.read_csv('../data/small_101_4.csv')\n",
    "base4 = get_base(dfngram4, ngram = 4)\n",
    "len(base4)"
   ]
  },
  {
   "cell_type": "code",
   "execution_count": 50,
   "metadata": {
    "collapsed": false
   },
   "outputs": [
    {
     "data": {
      "text/plain": [
       "906"
      ]
     },
     "execution_count": 50,
     "metadata": {},
     "output_type": "execute_result"
    }
   ],
   "source": [
    "dfngram5 = pd.read_csv('../data/small_101_5.csv')\n",
    "base5 = get_base(dfngram5, ngram = 5)\n",
    "len(base5)"
   ]
  },
  {
   "cell_type": "code",
   "execution_count": 53,
   "metadata": {
    "collapsed": false
   },
   "outputs": [
    {
     "data": {
      "text/plain": [
       "775"
      ]
     },
     "execution_count": 53,
     "metadata": {},
     "output_type": "execute_result"
    }
   ],
   "source": [
    "dfngram6 = pd.read_csv('../data/small_101_6.csv')\n",
    "base6 = get_base(dfngram6, ngram = 6)\n",
    "len(base6)"
   ]
  },
  {
   "cell_type": "code",
   "execution_count": null,
   "metadata": {
    "collapsed": true
   },
   "outputs": [],
   "source": []
  },
  {
   "cell_type": "code",
   "execution_count": null,
   "metadata": {
    "collapsed": true
   },
   "outputs": [],
   "source": []
  }
 ],
 "metadata": {
  "kernelspec": {
   "display_name": "Python 2",
   "language": "python",
   "name": "python2"
  },
  "language_info": {
   "codemirror_mode": {
    "name": "ipython",
    "version": 2
   },
   "file_extension": ".py",
   "mimetype": "text/x-python",
   "name": "python",
   "nbconvert_exporter": "python",
   "pygments_lexer": "ipython2",
   "version": "2.7.11"
  }
 },
 "nbformat": 4,
 "nbformat_minor": 0
}
