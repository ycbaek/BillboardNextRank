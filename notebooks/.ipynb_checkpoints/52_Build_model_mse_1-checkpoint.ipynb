{
 "cells": [
  {
   "cell_type": "code",
   "execution_count": 3,
   "metadata": {
    "collapsed": false
   },
   "outputs": [],
   "source": [
    "import pandas as pd\n",
    "import numpy as np\n",
    "import random\n",
    "\n",
    "from sklearn.cross_validation import train_test_split\n",
    "\n",
    "from sklearn.ensemble import RandomForestClassifier, RandomForestRegressor\n",
    "from sklearn.neighbors import KNeighborsClassifier\n",
    "from sklearn.linear_model import LogisticRegression\n",
    "from sklearn.tree import DecisionTreeClassifier\n",
    "\n",
    "import sklearn.metrics as skm\n",
    "\n",
    "import datetime\n",
    "from datetime import timedelta\n",
    "\n",
    "import matplotlib.pyplot as plt\n",
    "%matplotlib inline"
   ]
  },
  {
   "cell_type": "code",
   "execution_count": 4,
   "metadata": {
    "collapsed": true
   },
   "outputs": [],
   "source": [
    "def find_date_1990(week_from_one):\n",
    "    \n",
    "    day7 = timedelta(days=7)\n",
    "    day6 = timedelta(days=6)\n",
    "    date_slected = datetime.date(1990,1,7)\n",
    "    all_date =[date_slected]\n",
    "    all_date_last = [date_slected + day6]\n",
    "    for i in range(5200):\n",
    "        date_slected = date_slected + day7\n",
    "        all_date.append(date_slected)\n",
    "        all_date_last.append(date_slected +day6)\n",
    "\n",
    "    week_Date = pd.DataFrame()\n",
    "    week_Date['firstData'] = all_date\n",
    "    week_Date['lastData'] = all_date_last\n",
    "    week_Date['week'] = range(1,5202)\n",
    "        \n",
    "    index_date = week_from_one - 2\n",
    "    \n",
    "    return str(all_date[index_date]) + ' ~ ' + str(all_date_last[index_date])"
   ]
  },
  {
   "cell_type": "code",
   "execution_count": 5,
   "metadata": {
    "collapsed": true
   },
   "outputs": [],
   "source": [
    "def plot_hist_sent(table, week, Song_name, artist, file_path ='test.png'):\n",
    "    sentiment = table['sent_score'][table['week_from_one']== week]\n",
    "    plt.figure(figsize = (16,10)) \n",
    "    plt.hist(sentiment, bins = 20, facecolor='g', alpha=0.75)\n",
    "    titlename = \"{} by {} over {}\".format(Song_name, artist,find_date_1990(week))\n",
    "    plt.title (titlename, fontsize = 25)\n",
    "    plt.xlabel('sentiment polarity score', fontsize = 25)\n",
    "    plt.savefig(file_path)\n",
    "    plt.show()"
   ]
  },
  {
   "cell_type": "code",
   "execution_count": 6,
   "metadata": {
    "collapsed": true
   },
   "outputs": [],
   "source": [
    "def separate_data(data):\n",
    "    \n",
    "    df = data[(data['next_rank'] < 101) & (data['next_rank'] > 0) & (data['current_rank'] < 101)]\n",
    "    \n",
    "    df0 = df[df['past_rank_1']>100]\n",
    "    df1 = df[df['past_rank_1'] <=100]\n",
    "    \n",
    "    df1_only = df1[df1['past_rank_2']>100]\n",
    "    df2 = df1[df1['past_rank_2'] <=100]\n",
    "    \n",
    "    df2_only = df2[df2['past_rank_3']>100]\n",
    "    df3 = df2[df2['past_rank_3'] <=100]\n",
    "    \n",
    "    df3_only = df3[df3['past_rank_4']>100]\n",
    "    df4 = df3[df3['past_rank_4'] <=100]\n",
    "    \n",
    "    return df, df0, df1, df1_only, df2, df2_only, df3, df3_only, df4 "
   ]
  },
  {
   "cell_type": "code",
   "execution_count": 7,
   "metadata": {
    "collapsed": true
   },
   "outputs": [],
   "source": [
    "def get_dataForAnalysis_reg(df):\n",
    "    df = df.drop(\"Unnamed: 0\", axis = 1)\n",
    "    df['twitter_per_hour_log'] = np.log(df['twitter_per_hour'])\n",
    "    #col = ['twitter_per_hour_log', 'pos_rate', 'neg_rate', 'ratio_pos_neg', 'favorite_rate', 'current_rank', 'diff']\n",
    "    col = ['twitter_per_hour_log', 'pos_rate', 'neg_rate', 'ratio_pos_neg', 'favorite_rate', 'est', 'next_rank']\n",
    "    \n",
    "    return df[col]"
   ]
  },
  {
   "cell_type": "markdown",
   "metadata": {},
   "source": [
    "# Sentiment Analysis with one example"
   ]
  },
  {
   "cell_type": "code",
   "execution_count": null,
   "metadata": {
    "collapsed": true
   },
   "outputs": [],
   "source": [
    "df_raw_data_csv = pd.read_csv('../data/result_raw__database34_20160430.csv')"
   ]
  },
  {
   "cell_type": "code",
   "execution_count": 107,
   "metadata": {
    "collapsed": true
   },
   "outputs": [],
   "source": [
    "song_id = '7 Years%LUKAS GRAHAM'\n",
    "week = 1373"
   ]
  },
  {
   "cell_type": "code",
   "execution_count": 108,
   "metadata": {
    "collapsed": false
   },
   "outputs": [
    {
     "name": "stdout",
     "output_type": "stream",
     "text": [
      "13329\n",
      "(3340.0, 9771.0, 218.0)\n",
      "0.250581438968 0.733063245555 0.0163553154775\n"
     ]
    }
   ],
   "source": [
    "sample = df_raw_data_csv[(df_raw_data_csv['Song_ID']== song_id) & (df_raw_data_csv['week_from_one']== week)]\n",
    "a1,a2,a3 = sum(sample['pos'].values), sum(sample['neu'].values), sum(sample['neg'].values)\n",
    "a123 = a1 + a2 + a3\n",
    "print len(sample)\n",
    "print (a1,a2,a3)\n",
    "print a1/a123, a2/a123, a3/a123"
   ]
  },
  {
   "cell_type": "code",
   "execution_count": 112,
   "metadata": {
    "collapsed": false
   },
   "outputs": [
    {
     "data": {
      "image/png": "[encoded data removed]",
      "text/plain": [
       "<matplotlib.figure.Figure at 0x111089810>"
      ]
     },
     "metadata": {},
     "output_type": "display_data"
    }
   ],
   "source": [
    "Song_name =song_id.split('%')[0]\n",
    "artist = song_id.split('%')[1]\n",
    "table = df_raw_data_csv[df_raw_data_csv['Song_ID']== song_id]\n",
    "file_path_name = \"sentiment_example_1.png\"\n",
    "plot_hist_sent(table, week, Song_name, artist, file_path = file_path_name)"
   ]
  },
  {
   "cell_type": "markdown",
   "metadata": {},
   "source": [
    "# load data"
   ]
  },
  {
   "cell_type": "code",
   "execution_count": 8,
   "metadata": {
    "collapsed": false
   },
   "outputs": [],
   "source": [
    "data_twitter_reg = pd.read_csv('../data/data_twitter_reg.csv')\n",
    "df_reg = get_dataForAnalysis_reg(data_twitter_reg)"
   ]
  },
  {
   "cell_type": "code",
   "execution_count": 9,
   "metadata": {
    "collapsed": true
   },
   "outputs": [],
   "source": [
    "X = df_reg.copy()\n",
    "y = X.pop('next_rank').values\n",
    "X_train, X_test, y_train, y_test = train_test_split(X.values, y)"
   ]
  },
  {
   "cell_type": "markdown",
   "metadata": {},
   "source": [
    "# Random Forest Modeling"
   ]
  },
  {
   "cell_type": "markdown",
   "metadata": {
    "collapsed": false
   },
   "source": [
    "## N-estimator tuning"
   ]
  },
  {
   "cell_type": "code",
   "execution_count": 10,
   "metadata": {
    "collapsed": true
   },
   "outputs": [],
   "source": [
    "def estimators():\n",
    "    score_list = []\n",
    "    for x in xrange(5, 500, 5):\n",
    "        RFC = RandomForestRegressor(n_estimators=x)\n",
    "        RFC.fit(X_train, y_train)\n",
    "        score = RFC.score(X_test, y_test)\n",
    "        score_list.append(score)\n",
    "    return score_list"
   ]
  },
  {
   "cell_type": "code",
   "execution_count": 11,
   "metadata": {
    "collapsed": false
   },
   "outputs": [
    {
     "data": {
      "image/png": "[encoded data removed]",
      "text/plain": [
       "<matplotlib.figure.Figure at 0x10dc3e6d0>"
      ]
     },
     "metadata": {},
     "output_type": "display_data"
    }
   ],
   "source": [
    "score_list = estimators()\n",
    "plt.figure(figsize=(16,8))\n",
    "plt.plot(xrange(5, 500, 5), score_list)\n",
    "#plt.ylabel('Accuracy')\n",
    "plt.ylabel('accuracy')\n",
    "plt.xlabel('Number of trees used')\n",
    "plt.title('Random Forest')\n",
    "plt.savefig('../data/RandomForestSim_01.png')\n",
    "plt.show()"
   ]
  },
  {
   "cell_type": "markdown",
   "metadata": {},
   "source": [
    "## feature importance"
   ]
  },
  {
   "cell_type": "code",
   "execution_count": 156,
   "metadata": {
    "collapsed": false
   },
   "outputs": [
    {
     "name": "stdout",
     "output_type": "stream",
     "text": [
      "RandomForestClassifier\n",
      "Accuracy : 0.885100374082\n",
      "Accuracy_out_of_bag: 0.891505910955\n"
     ]
    }
   ],
   "source": [
    "RFC = RandomForestRegressor(oob_score=True, n_estimators=500)\n",
    "RFC.fit(X_train, y_train)\n",
    "y_pred = RFC.predict(X_test)\n",
    "print \"Accuracy : {}\".format(RFC.score(X_test, y_test))\n",
    "print \"Accuracy_out_of_bag: {}\".format(RFC.oob_score_)"
   ]
  },
  {
   "cell_type": "code",
   "execution_count": 165,
   "metadata": {
    "collapsed": false,
    "scrolled": true
   },
   "outputs": [
    {
     "name": "stderr",
     "output_type": "stream",
     "text": [
      "/Users/Yeongcheon/anaconda/lib/python2.7/site-packages/ipykernel/__main__.py:6: FutureWarning: sort(columns=....) is deprecated, use sort_values(by=.....)\n"
     ]
    },
    {
     "data": {
      "text/html": [
       "<div>\n",
       "<table border=\"1\" class=\"dataframe\">\n",
       "  <thead>\n",
       "    <tr style=\"text-align: right;\">\n",
       "      <th></th>\n",
       "      <th>feature</th>\n",
       "      <th>importance</th>\n",
       "    </tr>\n",
       "  </thead>\n",
       "  <tbody>\n",
       "    <tr>\n",
       "      <th>2</th>\n",
       "      <td>neg_rate</td>\n",
       "      <td>0.253907</td>\n",
       "    </tr>\n",
       "    <tr>\n",
       "      <th>3</th>\n",
       "      <td>ratio_pos_neg</td>\n",
       "      <td>0.299256</td>\n",
       "    </tr>\n",
       "    <tr>\n",
       "      <th>1</th>\n",
       "      <td>pos_rate</td>\n",
       "      <td>0.312796</td>\n",
       "    </tr>\n",
       "    <tr>\n",
       "      <th>0</th>\n",
       "      <td>twitter_per_hour_log</td>\n",
       "      <td>0.561607</td>\n",
       "    </tr>\n",
       "    <tr>\n",
       "      <th>4</th>\n",
       "      <td>favorite_rate</td>\n",
       "      <td>0.611240</td>\n",
       "    </tr>\n",
       "    <tr>\n",
       "      <th>5</th>\n",
       "      <td>est</td>\n",
       "      <td>97.961194</td>\n",
       "    </tr>\n",
       "  </tbody>\n",
       "</table>\n",
       "</div>"
      ],
      "text/plain": [
       "                feature  importance\n",
       "2              neg_rate    0.253907\n",
       "3         ratio_pos_neg    0.299256\n",
       "1              pos_rate    0.312796\n",
       "0  twitter_per_hour_log    0.561607\n",
       "4         favorite_rate    0.611240\n",
       "5                   est   97.961194"
      ]
     },
     "execution_count": 165,
     "metadata": {},
     "output_type": "execute_result"
    }
   ],
   "source": [
    "importances = RFC.feature_importances_\n",
    "Imp_table2 = pd.DataFrame(columns=['feature','importance'])\n",
    "Imp_table2['feature'] = list(df_reg.columns[:-1])\n",
    "Imp_table2['importance'] = list(importances)\n",
    "Imp_table2['importance'] = Imp_table2['importance']*100\n",
    "Imp_table = Imp_table2.sort(['importance'], ascending=[1])\n",
    "Imp_table_twitter = Imp_table[:5]\n",
    "Imp_table"
   ]
  },
  {
   "cell_type": "code",
   "execution_count": 166,
   "metadata": {
    "collapsed": false
   },
   "outputs": [
    {
     "data": {
      "image/png": "[encoded data removed]",
      "text/plain": [
       "<matplotlib.figure.Figure at 0x110967c50>"
      ]
     },
     "metadata": {},
     "output_type": "display_data"
    }
   ],
   "source": [
    "Col_Name = [ \"Neg Rate\", \"Ratio Pos/Neg\", \"Pos Rate\", \"tweets/hour\", \"Favorite Rate\"]\n",
    "Imp_table_twitter.index = Col_Name\n",
    "#Imp_table.index = Imp_table['feature']\n",
    "Imp_table_twitter['importance'].plot(kind='barh', figsize=(13, 7), rot=0, fontsize=17 , layout = \"rows\")\n",
    "plt.savefig('../data/Important_feature_03.png')\n",
    "plt.show()"
   ]
  },
  {
   "cell_type": "markdown",
   "metadata": {
    "collapsed": true
   },
   "source": [
    "## K-fold cross validation"
   ]
  },
  {
   "cell_type": "code",
   "execution_count": 149,
   "metadata": {
    "collapsed": true
   },
   "outputs": [],
   "source": [
    "from sklearn.cross_validation import KFold\n",
    "num_kfold = 5\n",
    "kf = KFold(X.shape[0], num_kfold, shuffle=True)\n",
    "\n",
    "list_RF_r2 = []\n",
    "\n",
    "for train_index, test_index in kf:\n",
    "    X_train = X.values[train_index]\n",
    "    X_test = X.values[test_index]\n",
    "    y_train = y[train_index]\n",
    "    y_test = y[test_index]\n",
    "    \n",
    "    RFC = RandomForestRegressor(oob_score=True, n_estimators=100)\n",
    "    RFC.fit(X_train, y_train)\n",
    "    list_RF_r2.append(RFC.score(X_test, y_test))\n"
   ]
  },
  {
   "cell_type": "code",
   "execution_count": 150,
   "metadata": {
    "collapsed": false
   },
   "outputs": [
    {
     "data": {
      "text/plain": [
       "0.87582335239494946"
      ]
     },
     "execution_count": 150,
     "metadata": {},
     "output_type": "execute_result"
    }
   ],
   "source": [
    "np.mean(list_RF_r2)"
   ]
  },
  {
   "cell_type": "code",
   "execution_count": null,
   "metadata": {
    "collapsed": true
   },
   "outputs": [],
   "source": []
  }
 ],
 "metadata": {
  "kernelspec": {
   "display_name": "Python 2",
   "language": "python",
   "name": "python2"
  },
  "language_info": {
   "codemirror_mode": {
    "name": "ipython",
    "version": 2
   },
   "file_extension": ".py",
   "mimetype": "text/x-python",
   "name": "python",
   "nbconvert_exporter": "python",
   "pygments_lexer": "ipython2",
   "version": "2.7.11"
  }
 },
 "nbformat": 4,
 "nbformat_minor": 0
}
