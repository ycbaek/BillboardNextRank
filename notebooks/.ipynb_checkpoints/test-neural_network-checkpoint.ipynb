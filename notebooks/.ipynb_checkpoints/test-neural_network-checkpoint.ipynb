{
 "cells": [
  {
   "cell_type": "code",
   "execution_count": 3,
   "metadata": {
    "collapsed": false
   },
   "outputs": [],
   "source": [
    "import graphlab"
   ]
  },
  {
   "cell_type": "code",
   "execution_count": 4,
   "metadata": {
    "collapsed": false
   },
   "outputs": [
    {
     "name": "stderr",
     "output_type": "stream",
     "text": [
      "[INFO] This trial license of GraphLab Create is assigned to ycbaekmath@hotmail.com and will expire on May 22, 2016. Please contact trial@dato.com for licensing options or to request a free non-commercial license for personal or academic use.\n",
      "\n",
      "[INFO] Start server at: ipc:///tmp/graphlab_server-1962 - Server binary: /Users/Yeongcheon/anaconda/lib/python2.7/site-packages/graphlab/unity_server - Server log: /tmp/graphlab_server_1461358271.log\n",
      "[INFO] GraphLab Server Version: 1.8.1\n"
     ]
    },
    {
     "name": "stdout",
     "output_type": "stream",
     "text": [
      "PROGRESS: Downloading http://s3.amazonaws.com/dato-datasets/mnist/sframe/train/dir_archive.ini to /var/tmp/graphlab-Yeongcheon/1962/37156bf4-c5d9-4270-8199-fb49e87a232e.ini\n",
      "PROGRESS: Downloading http://s3.amazonaws.com/dato-datasets/mnist/sframe/train/objects.bin to /var/tmp/graphlab-Yeongcheon/1962/105206f7-9bdd-4067-a728-8ec647f2fc36.bin\n",
      "PROGRESS: Downloading http://s3.amazonaws.com/dato-datasets/mnist/sframe/train/m_4558118e.frame_idx to /var/tmp/graphlab-Yeongcheon/1962/b6064e4c-eb95-4e34-a9ac-76c01e4aac8c.frame_idx\n",
      "PROGRESS: Downloading http://s3.amazonaws.com/dato-datasets/mnist/sframe/train/m_4558118e.sidx to /var/tmp/graphlab-Yeongcheon/1962/6e0f6abe-94f9-4819-80a1-495002bc9d45.sidx\n",
      "PROGRESS: Downloading http://s3.amazonaws.com/dato-datasets/mnist/sframe/test/dir_archive.ini to /var/tmp/graphlab-Yeongcheon/1962/76986e84-e158-4f5e-95f2-93c3ae04c71b.ini\n",
      "PROGRESS: Downloading http://s3.amazonaws.com/dato-datasets/mnist/sframe/test/objects.bin to /var/tmp/graphlab-Yeongcheon/1962/6cc654f7-b45a-4841-a723-73bb74ac8fa1.bin\n",
      "PROGRESS: Downloading http://s3.amazonaws.com/dato-datasets/mnist/sframe/test/m_310c50b3.frame_idx to /var/tmp/graphlab-Yeongcheon/1962/68e1c96f-d9f6-4512-9801-04cb21fc80ed.frame_idx\n",
      "PROGRESS: Downloading http://s3.amazonaws.com/dato-datasets/mnist/sframe/test/m_310c50b3.sidx to /var/tmp/graphlab-Yeongcheon/1962/bd86be51-1c61-4d6a-a664-358de3b1e8a9.sidx\n"
     ]
    }
   ],
   "source": [
    "data = graphlab.SFrame('http://s3.amazonaws.com/dato-datasets/mnist/sframe/train')\n",
    "test_data = graphlab.SFrame('http://s3.amazonaws.com/dato-datasets/mnist/sframe/test')\n",
    "training_data, validation_data = data.random_split(0.8)"
   ]
  },
  {
   "cell_type": "code",
   "execution_count": 5,
   "metadata": {
    "collapsed": false
   },
   "outputs": [
    {
     "name": "stdout",
     "output_type": "stream",
     "text": [
      "PROGRESS: Downloading http://s3.amazonaws.com/dato-datasets/mnist/sframe/train/m_4558118e.0000 to /var/tmp/graphlab-Yeongcheon/1962/1025e4a1-3e42-498a-93a7-76ebb102b8ce.0000\n",
      "PROGRESS: Downloading http://s3.amazonaws.com/dato-datasets/mnist/sframe/train/m_4558118e.0001 to /var/tmp/graphlab-Yeongcheon/1962/38b1987f-0ac0-4a49-921a-af87b174a02a.0001\n",
      "PROGRESS: Downloading http://s3.amazonaws.com/dato-datasets/mnist/sframe/train/m_4558118e.0002 to /var/tmp/graphlab-Yeongcheon/1962/5c6c79aa-d418-4110-92d4-ae51594cfb4b.0002\n",
      "PROGRESS: Downloading http://s3.amazonaws.com/dato-datasets/mnist/sframe/train/m_4558118e.0003 to /var/tmp/graphlab-Yeongcheon/1962/b32d3bd3-d793-4e35-bb65-cd82601682ff.0003\n",
      "PROGRESS: Downloading http://s3.amazonaws.com/dato-datasets/mnist/sframe/train/m_4558118e.0004 to /var/tmp/graphlab-Yeongcheon/1962/b09725f3-56b7-4134-b868-bc3e8932321e.0004\n",
      "PROGRESS: Downloading http://s3.amazonaws.com/dato-datasets/mnist/sframe/train/m_4558118e.0005 to /var/tmp/graphlab-Yeongcheon/1962/11a283d5-3722-4c20-82f9-b6b2a9d4dd90.0005\n",
      "PROGRESS: Downloading http://s3.amazonaws.com/dato-datasets/mnist/sframe/train/m_4558118e.0006 to /var/tmp/graphlab-Yeongcheon/1962/63f199bd-7f9a-47cf-a86e-e7123c69456d.0006\n",
      "PROGRESS: Downloading http://s3.amazonaws.com/dato-datasets/mnist/sframe/train/m_4558118e.0007 to /var/tmp/graphlab-Yeongcheon/1962/d90017fb-02ec-4d45-b9d2-93f90da78d3e.0007\n",
      "PROGRESS: Downloading http://s3.amazonaws.com/dato-datasets/mnist/sframe/test/m_310c50b3.0000 to /var/tmp/graphlab-Yeongcheon/1962/98614368-1647-4dd3-b9f8-4c4c9831ff06.0000\n",
      "PROGRESS: Downloading http://s3.amazonaws.com/dato-datasets/mnist/sframe/test/m_310c50b3.0001 to /var/tmp/graphlab-Yeongcheon/1962/58ff3ce3-3bc1-491b-95d4-1bb54148a1b4.0001\n",
      "PROGRESS: Downloading http://s3.amazonaws.com/dato-datasets/mnist/sframe/test/m_310c50b3.0002 to /var/tmp/graphlab-Yeongcheon/1962/1bdca5b2-b2e5-43c4-bf0f-4d7842d54ff7.0002\n",
      "PROGRESS: Downloading http://s3.amazonaws.com/dato-datasets/mnist/sframe/test/m_310c50b3.0003 to /var/tmp/graphlab-Yeongcheon/1962/8fd2e600-2622-4464-8402-4a786e0f98d4.0003\n",
      "PROGRESS: Downloading http://s3.amazonaws.com/dato-datasets/mnist/sframe/test/m_310c50b3.0004 to /var/tmp/graphlab-Yeongcheon/1962/21ff0bd0-88e7-406b-8ee2-f3b47f93b5ce.0004\n",
      "PROGRESS: Downloading http://s3.amazonaws.com/dato-datasets/mnist/sframe/test/m_310c50b3.0005 to /var/tmp/graphlab-Yeongcheon/1962/dc375af8-a687-4061-b85f-1b944f98d3ef.0005\n",
      "PROGRESS: Downloading http://s3.amazonaws.com/dato-datasets/mnist/sframe/test/m_310c50b3.0006 to /var/tmp/graphlab-Yeongcheon/1962/81e57002-4bae-4c72-819e-bddebed392f1.0006\n",
      "PROGRESS: Downloading http://s3.amazonaws.com/dato-datasets/mnist/sframe/test/m_310c50b3.0007 to /var/tmp/graphlab-Yeongcheon/1962/75c851b6-72df-423e-a9d3-b459f0074147.0007\n"
     ]
    }
   ],
   "source": [
    "training_data['image'] = graphlab.image_analysis.resize(training_data['image'], 28, 28, 1)\n",
    "validation_data['image'] = graphlab.image_analysis.resize(validation_data['image'], 28, 28, 1)\n",
    "test_data['image'] = graphlab.image_analysis.resize(test_data['image'], 28, 28, 1)"
   ]
  },
  {
   "cell_type": "code",
   "execution_count": 6,
   "metadata": {
    "collapsed": true
   },
   "outputs": [],
   "source": [
    "net = graphlab.deeplearning.create(training_data, target='label')"
   ]
  },
  {
   "cell_type": "code",
   "execution_count": 7,
   "metadata": {
    "collapsed": false
   },
   "outputs": [
    {
     "data": {
      "text/plain": [
       "layer[0]: ConvolutionLayer\n",
       "  init_random = gaussian\n",
       "  padding = 0\n",
       "  stride = 2\n",
       "  num_channels = 10\n",
       "  num_groups = 1\n",
       "  kernel_size = 3\n",
       "layer[1]: MaxPoolingLayer\n",
       "  padding = 0\n",
       "  stride = 2\n",
       "  kernel_size = 3\n",
       "layer[2]: FlattenLayer\n",
       "layer[3]: FullConnectionLayer\n",
       "  init_sigma = 0.01\n",
       "  init_random = gaussian\n",
       "  init_bias = 0\n",
       "  num_hidden_units = 100\n",
       "layer[4]: RectifiedLinearLayer\n",
       "layer[5]: DropoutLayer\n",
       "  threshold = 0.5\n",
       "layer[6]: FullConnectionLayer\n",
       "  init_sigma = 0.01\n",
       "  init_random = gaussian\n",
       "  init_bias = 0\n",
       "  num_hidden_units = 10\n",
       "layer[7]: SoftmaxLayer"
      ]
     },
     "execution_count": 7,
     "metadata": {},
     "output_type": "execute_result"
    }
   ],
   "source": [
    "net.layers"
   ]
  },
  {
   "cell_type": "code",
   "execution_count": 8,
   "metadata": {
    "collapsed": false
   },
   "outputs": [
    {
     "data": {
      "text/plain": [
       "{'learning_rate': 0.001, 'momentum': 0.9}"
      ]
     },
     "execution_count": 8,
     "metadata": {},
     "output_type": "execute_result"
    }
   ],
   "source": [
    "net.params"
   ]
  },
  {
   "cell_type": "code",
   "execution_count": 9,
   "metadata": {
    "collapsed": true
   },
   "outputs": [],
   "source": [
    "net.layers[4].num_hidden_units = 10"
   ]
  },
  {
   "cell_type": "code",
   "execution_count": 10,
   "metadata": {
    "collapsed": false
   },
   "outputs": [
    {
     "name": "stdout",
     "output_type": "stream",
     "text": [
      "Using network:\n",
      "\n",
      "### network layers ###\n",
      "layer[0]: ConvolutionLayer\n",
      "  init_random = gaussian\n",
      "  padding = 0\n",
      "  stride = 2\n",
      "  num_channels = 10\n",
      "  num_groups = 1\n",
      "  kernel_size = 3\n",
      "layer[1]: MaxPoolingLayer\n",
      "  padding = 0\n",
      "  stride = 2\n",
      "  kernel_size = 3\n",
      "layer[2]: FlattenLayer\n",
      "layer[3]: FullConnectionLayer\n",
      "  init_sigma = 0.01\n",
      "  init_random = gaussian\n",
      "  init_bias = 0\n",
      "  num_hidden_units = 100\n",
      "layer[4]: RectifiedLinearLayer\n",
      "  num_hidden_units = 10\n",
      "layer[5]: DropoutLayer\n",
      "  threshold = 0.5\n",
      "layer[6]: FullConnectionLayer\n",
      "  init_sigma = 0.01\n",
      "  init_random = gaussian\n",
      "  init_bias = 0\n",
      "  num_hidden_units = 10\n",
      "layer[7]: SoftmaxLayer\n",
      "### end network layers ###\n",
      "\n",
      "### network parameters ###\n",
      "learning_rate = 0.001\n",
      "metric = accuracy,recall@2\n",
      "momentum = 0.9\n",
      "### end network parameters ###\n",
      "\n",
      "PROGRESS: Computing mean image...\n",
      "PROGRESS: Done computing mean image.\n",
      "PROGRESS: Creating neuralnet using cpu\n",
      "PROGRESS: Training with batch size = 100\n",
      "PROGRESS: +-----------+----------+--------------+-------------------+---------------------+-------------------+---------------------+-----------------+\n",
      "PROGRESS: | Iteration | Examples | Elapsed Time | Training-accuracy | Validation-accuracy | Training-recall@2 | Validation-recall@2 | Examples/second |\n",
      "PROGRESS: +-----------+----------+--------------+-------------------+---------------------+-------------------+---------------------+-----------------+\n",
      "PROGRESS: | 1         | 36600    | 10.019052    | 0.759235          |                     | 0.863306          |                     | 3653.044434     |\n",
      "PROGRESS: | 1         | 48100    | 14.869102    | 0.794324          | 0.946263            | 0.887963          | 0.982925            | 2371.103760     |\n",
      "PROGRESS: | 2         | 35000    | 24.877481    | 0.922714          |                     | 0.973257          |                     | 3497.148926     |\n",
      "PROGRESS: | 2         | 48100    | 30.192344    | 0.925031          | 0.959320            | 0.974740          | 0.988282            | 2464.784424     |\n",
      "PROGRESS: | 3         | 36200    | 40.211757    | 0.939641          |                     | 0.981215          |                     | 3613.049561     |\n",
      "PROGRESS: | 3         | 48100    | 45.033743    | 0.940707          | 0.964008            | 0.981726          | 0.989537            | 2467.860596     |\n",
      "PROGRESS: +-----------+----------+--------------+-------------------+---------------------+-------------------+---------------------+-----------------+\n"
     ]
    }
   ],
   "source": [
    "m = graphlab.neuralnet_classifier.create(training_data, target='label',\n",
    "...                                          network = net,\n",
    "...                                          validation_set=validation_data,\n",
    "...                                          metric=['accuracy', 'recall@2'],\n",
    "...                                          max_iterations=3)"
   ]
  },
  {
   "cell_type": "code",
   "execution_count": 11,
   "metadata": {
    "collapsed": true
   },
   "outputs": [],
   "source": [
    "pred = m.classify(test_data)"
   ]
  },
  {
   "cell_type": "code",
   "execution_count": 12,
   "metadata": {
    "collapsed": false
   },
   "outputs": [
    {
     "data": {
      "text/html": [
       "<div style=\"max-height:1000px;max-width:1500px;overflow:auto;\"><table frame=\"box\" rules=\"cols\">\n",
       "    <tr>\n",
       "        <th style=\"padding-left: 1em; padding-right: 1em; text-align: center\">row_id</th>\n",
       "        <th style=\"padding-left: 1em; padding-right: 1em; text-align: center\">class</th>\n",
       "        <th style=\"padding-left: 1em; padding-right: 1em; text-align: center\">probability</th>\n",
       "    </tr>\n",
       "    <tr>\n",
       "        <td style=\"padding-left: 1em; padding-right: 1em; text-align: center; vertical-align: top\">0</td>\n",
       "        <td style=\"padding-left: 1em; padding-right: 1em; text-align: center; vertical-align: top\">0</td>\n",
       "        <td style=\"padding-left: 1em; padding-right: 1em; text-align: center; vertical-align: top\">0.998328387737</td>\n",
       "    </tr>\n",
       "    <tr>\n",
       "        <td style=\"padding-left: 1em; padding-right: 1em; text-align: center; vertical-align: top\">1</td>\n",
       "        <td style=\"padding-left: 1em; padding-right: 1em; text-align: center; vertical-align: top\">0</td>\n",
       "        <td style=\"padding-left: 1em; padding-right: 1em; text-align: center; vertical-align: top\">0.999999642372</td>\n",
       "    </tr>\n",
       "    <tr>\n",
       "        <td style=\"padding-left: 1em; padding-right: 1em; text-align: center; vertical-align: top\">2</td>\n",
       "        <td style=\"padding-left: 1em; padding-right: 1em; text-align: center; vertical-align: top\">0</td>\n",
       "        <td style=\"padding-left: 1em; padding-right: 1em; text-align: center; vertical-align: top\">0.999976158142</td>\n",
       "    </tr>\n",
       "    <tr>\n",
       "        <td style=\"padding-left: 1em; padding-right: 1em; text-align: center; vertical-align: top\">3</td>\n",
       "        <td style=\"padding-left: 1em; padding-right: 1em; text-align: center; vertical-align: top\">0</td>\n",
       "        <td style=\"padding-left: 1em; padding-right: 1em; text-align: center; vertical-align: top\">0.999999046326</td>\n",
       "    </tr>\n",
       "    <tr>\n",
       "        <td style=\"padding-left: 1em; padding-right: 1em; text-align: center; vertical-align: top\">4</td>\n",
       "        <td style=\"padding-left: 1em; padding-right: 1em; text-align: center; vertical-align: top\">0</td>\n",
       "        <td style=\"padding-left: 1em; padding-right: 1em; text-align: center; vertical-align: top\">0.999932408333</td>\n",
       "    </tr>\n",
       "    <tr>\n",
       "        <td style=\"padding-left: 1em; padding-right: 1em; text-align: center; vertical-align: top\">5</td>\n",
       "        <td style=\"padding-left: 1em; padding-right: 1em; text-align: center; vertical-align: top\">0</td>\n",
       "        <td style=\"padding-left: 1em; padding-right: 1em; text-align: center; vertical-align: top\">0.999663114548</td>\n",
       "    </tr>\n",
       "    <tr>\n",
       "        <td style=\"padding-left: 1em; padding-right: 1em; text-align: center; vertical-align: top\">6</td>\n",
       "        <td style=\"padding-left: 1em; padding-right: 1em; text-align: center; vertical-align: top\">0</td>\n",
       "        <td style=\"padding-left: 1em; padding-right: 1em; text-align: center; vertical-align: top\">0.999493956566</td>\n",
       "    </tr>\n",
       "    <tr>\n",
       "        <td style=\"padding-left: 1em; padding-right: 1em; text-align: center; vertical-align: top\">7</td>\n",
       "        <td style=\"padding-left: 1em; padding-right: 1em; text-align: center; vertical-align: top\">0</td>\n",
       "        <td style=\"padding-left: 1em; padding-right: 1em; text-align: center; vertical-align: top\">0.999983549118</td>\n",
       "    </tr>\n",
       "    <tr>\n",
       "        <td style=\"padding-left: 1em; padding-right: 1em; text-align: center; vertical-align: top\">8</td>\n",
       "        <td style=\"padding-left: 1em; padding-right: 1em; text-align: center; vertical-align: top\">0</td>\n",
       "        <td style=\"padding-left: 1em; padding-right: 1em; text-align: center; vertical-align: top\">0.999334394932</td>\n",
       "    </tr>\n",
       "    <tr>\n",
       "        <td style=\"padding-left: 1em; padding-right: 1em; text-align: center; vertical-align: top\">9</td>\n",
       "        <td style=\"padding-left: 1em; padding-right: 1em; text-align: center; vertical-align: top\">0</td>\n",
       "        <td style=\"padding-left: 1em; padding-right: 1em; text-align: center; vertical-align: top\">0.999997138977</td>\n",
       "    </tr>\n",
       "</table>\n",
       "[10000 rows x 3 columns]<br/>Note: Only the head of the SFrame is printed.<br/>You can use print_rows(num_rows=m, num_columns=n) to print more rows and columns.\n",
       "</div>"
      ],
      "text/plain": [
       "Columns:\n",
       "\trow_id\tint\n",
       "\tclass\tint\n",
       "\tprobability\tfloat\n",
       "\n",
       "Rows: 10000\n",
       "\n",
       "Data:\n",
       "+--------+-------+----------------+\n",
       "| row_id | class |  probability   |\n",
       "+--------+-------+----------------+\n",
       "|   0    |   0   | 0.998328387737 |\n",
       "|   1    |   0   | 0.999999642372 |\n",
       "|   2    |   0   | 0.999976158142 |\n",
       "|   3    |   0   | 0.999999046326 |\n",
       "|   4    |   0   | 0.999932408333 |\n",
       "|   5    |   0   | 0.999663114548 |\n",
       "|   6    |   0   | 0.999493956566 |\n",
       "|   7    |   0   | 0.999983549118 |\n",
       "|   8    |   0   | 0.999334394932 |\n",
       "|   9    |   0   | 0.999997138977 |\n",
       "+--------+-------+----------------+\n",
       "[10000 rows x 3 columns]\n",
       "Note: Only the head of the SFrame is printed.\n",
       "You can use print_rows(num_rows=m, num_columns=n) to print more rows and columns."
      ]
     },
     "execution_count": 12,
     "metadata": {},
     "output_type": "execute_result"
    }
   ],
   "source": [
    "pred"
   ]
  },
  {
   "cell_type": "code",
   "execution_count": 13,
   "metadata": {
    "collapsed": true
   },
   "outputs": [],
   "source": [
    "pred_top2 = m.predict_topk(test_data, k=2)"
   ]
  },
  {
   "cell_type": "code",
   "execution_count": 14,
   "metadata": {
    "collapsed": false
   },
   "outputs": [
    {
     "data": {
      "text/html": [
       "<div style=\"max-height:1000px;max-width:1500px;overflow:auto;\"><table frame=\"box\" rules=\"cols\">\n",
       "    <tr>\n",
       "        <th style=\"padding-left: 1em; padding-right: 1em; text-align: center\">row_id</th>\n",
       "        <th style=\"padding-left: 1em; padding-right: 1em; text-align: center\">class</th>\n",
       "        <th style=\"padding-left: 1em; padding-right: 1em; text-align: center\">probability</th>\n",
       "    </tr>\n",
       "    <tr>\n",
       "        <td style=\"padding-left: 1em; padding-right: 1em; text-align: center; vertical-align: top\">0</td>\n",
       "        <td style=\"padding-left: 1em; padding-right: 1em; text-align: center; vertical-align: top\">0</td>\n",
       "        <td style=\"padding-left: 1em; padding-right: 1em; text-align: center; vertical-align: top\">0.998328387737</td>\n",
       "    </tr>\n",
       "    <tr>\n",
       "        <td style=\"padding-left: 1em; padding-right: 1em; text-align: center; vertical-align: top\">0</td>\n",
       "        <td style=\"padding-left: 1em; padding-right: 1em; text-align: center; vertical-align: top\">6</td>\n",
       "        <td style=\"padding-left: 1em; padding-right: 1em; text-align: center; vertical-align: top\">0.00125994638074</td>\n",
       "    </tr>\n",
       "    <tr>\n",
       "        <td style=\"padding-left: 1em; padding-right: 1em; text-align: center; vertical-align: top\">1</td>\n",
       "        <td style=\"padding-left: 1em; padding-right: 1em; text-align: center; vertical-align: top\">0</td>\n",
       "        <td style=\"padding-left: 1em; padding-right: 1em; text-align: center; vertical-align: top\">0.999999642372</td>\n",
       "    </tr>\n",
       "    <tr>\n",
       "        <td style=\"padding-left: 1em; padding-right: 1em; text-align: center; vertical-align: top\">1</td>\n",
       "        <td style=\"padding-left: 1em; padding-right: 1em; text-align: center; vertical-align: top\">7</td>\n",
       "        <td style=\"padding-left: 1em; padding-right: 1em; text-align: center; vertical-align: top\">2.00756232971e-07</td>\n",
       "    </tr>\n",
       "    <tr>\n",
       "        <td style=\"padding-left: 1em; padding-right: 1em; text-align: center; vertical-align: top\">2</td>\n",
       "        <td style=\"padding-left: 1em; padding-right: 1em; text-align: center; vertical-align: top\">0</td>\n",
       "        <td style=\"padding-left: 1em; padding-right: 1em; text-align: center; vertical-align: top\">0.999976158142</td>\n",
       "    </tr>\n",
       "    <tr>\n",
       "        <td style=\"padding-left: 1em; padding-right: 1em; text-align: center; vertical-align: top\">2</td>\n",
       "        <td style=\"padding-left: 1em; padding-right: 1em; text-align: center; vertical-align: top\">2</td>\n",
       "        <td style=\"padding-left: 1em; padding-right: 1em; text-align: center; vertical-align: top\">1.33391686177e-05</td>\n",
       "    </tr>\n",
       "    <tr>\n",
       "        <td style=\"padding-left: 1em; padding-right: 1em; text-align: center; vertical-align: top\">3</td>\n",
       "        <td style=\"padding-left: 1em; padding-right: 1em; text-align: center; vertical-align: top\">0</td>\n",
       "        <td style=\"padding-left: 1em; padding-right: 1em; text-align: center; vertical-align: top\">0.999999046326</td>\n",
       "    </tr>\n",
       "    <tr>\n",
       "        <td style=\"padding-left: 1em; padding-right: 1em; text-align: center; vertical-align: top\">3</td>\n",
       "        <td style=\"padding-left: 1em; padding-right: 1em; text-align: center; vertical-align: top\">6</td>\n",
       "        <td style=\"padding-left: 1em; padding-right: 1em; text-align: center; vertical-align: top\">2.17221739263e-07</td>\n",
       "    </tr>\n",
       "    <tr>\n",
       "        <td style=\"padding-left: 1em; padding-right: 1em; text-align: center; vertical-align: top\">4</td>\n",
       "        <td style=\"padding-left: 1em; padding-right: 1em; text-align: center; vertical-align: top\">0</td>\n",
       "        <td style=\"padding-left: 1em; padding-right: 1em; text-align: center; vertical-align: top\">0.999932408333</td>\n",
       "    </tr>\n",
       "    <tr>\n",
       "        <td style=\"padding-left: 1em; padding-right: 1em; text-align: center; vertical-align: top\">4</td>\n",
       "        <td style=\"padding-left: 1em; padding-right: 1em; text-align: center; vertical-align: top\">2</td>\n",
       "        <td style=\"padding-left: 1em; padding-right: 1em; text-align: center; vertical-align: top\">3.95633105654e-05</td>\n",
       "    </tr>\n",
       "</table>\n",
       "[20000 rows x 3 columns]<br/>Note: Only the head of the SFrame is printed.<br/>You can use print_rows(num_rows=m, num_columns=n) to print more rows and columns.\n",
       "</div>"
      ],
      "text/plain": [
       "Columns:\n",
       "\trow_id\tint\n",
       "\tclass\tint\n",
       "\tprobability\tfloat\n",
       "\n",
       "Rows: 20000\n",
       "\n",
       "Data:\n",
       "+--------+-------+-------------------+\n",
       "| row_id | class |    probability    |\n",
       "+--------+-------+-------------------+\n",
       "|   0    |   0   |   0.998328387737  |\n",
       "|   0    |   6   |  0.00125994638074 |\n",
       "|   1    |   0   |   0.999999642372  |\n",
       "|   1    |   7   | 2.00756232971e-07 |\n",
       "|   2    |   0   |   0.999976158142  |\n",
       "|   2    |   2   | 1.33391686177e-05 |\n",
       "|   3    |   0   |   0.999999046326  |\n",
       "|   3    |   6   | 2.17221739263e-07 |\n",
       "|   4    |   0   |   0.999932408333  |\n",
       "|   4    |   2   | 3.95633105654e-05 |\n",
       "+--------+-------+-------------------+\n",
       "[20000 rows x 3 columns]\n",
       "Note: Only the head of the SFrame is printed.\n",
       "You can use print_rows(num_rows=m, num_columns=n) to print more rows and columns."
      ]
     },
     "execution_count": 14,
     "metadata": {},
     "output_type": "execute_result"
    }
   ],
   "source": [
    "pred_top2"
   ]
  },
  {
   "cell_type": "code",
   "execution_count": 15,
   "metadata": {
    "collapsed": false
   },
   "outputs": [
    {
     "data": {
      "text/plain": [
       "{'accuracy': 0.9688000082969666, 'confusion_matrix': Columns:\n",
       " \ttarget_label\tint\n",
       " \tpredicted_label\tint\n",
       " \tcount\tint\n",
       " \n",
       " Rows: 66\n",
       " \n",
       " Data:\n",
       " +--------------+-----------------+-------+\n",
       " | target_label | predicted_label | count |\n",
       " +--------------+-----------------+-------+\n",
       " |      0       |        0        |  972  |\n",
       " |      2       |        0        |   6   |\n",
       " |      5       |        0        |   3   |\n",
       " |      6       |        0        |   2   |\n",
       " |      8       |        0        |   2   |\n",
       " |      9       |        0        |   6   |\n",
       " |      1       |        1        |  1127 |\n",
       " |      2       |        1        |   1   |\n",
       " |      6       |        1        |   3   |\n",
       " |      7       |        1        |   3   |\n",
       " +--------------+-----------------+-------+\n",
       " [66 rows x 3 columns]\n",
       " Note: Only the head of the SFrame is printed.\n",
       " You can use print_rows(num_rows=m, num_columns=n) to print more rows and columns.}"
      ]
     },
     "execution_count": 15,
     "metadata": {},
     "output_type": "execute_result"
    }
   ],
   "source": [
    "eval_ = m.evaluate(test_data)\n",
    "eval_"
   ]
  },
  {
   "cell_type": "code",
   "execution_count": 16,
   "metadata": {
    "collapsed": true
   },
   "outputs": [],
   "source": [
    "mnist_net = graphlab.deeplearning.get_builtin_neuralnet('mnist')"
   ]
  },
  {
   "cell_type": "code",
   "execution_count": 17,
   "metadata": {
    "collapsed": true
   },
   "outputs": [],
   "source": [
    "imagenet_net = graphlab.deeplearning.get_builtin_neuralnet('imagenet')"
   ]
  },
  {
   "cell_type": "code",
   "execution_count": null,
   "metadata": {
    "collapsed": true
   },
   "outputs": [],
   "source": []
  },
  {
   "cell_type": "code",
   "execution_count": null,
   "metadata": {
    "collapsed": true
   },
   "outputs": [],
   "source": []
  }
 ],
 "metadata": {
  "kernelspec": {
   "display_name": "Python 2",
   "language": "python",
   "name": "python2"
  },
  "language_info": {
   "codemirror_mode": {
    "name": "ipython",
    "version": 2
   },
   "file_extension": ".py",
   "mimetype": "text/x-python",
   "name": "python",
   "nbconvert_exporter": "python",
   "pygments_lexer": "ipython2",
   "version": "2.7.11"
  }
 },
 "nbformat": 4,
 "nbformat_minor": 0
}
