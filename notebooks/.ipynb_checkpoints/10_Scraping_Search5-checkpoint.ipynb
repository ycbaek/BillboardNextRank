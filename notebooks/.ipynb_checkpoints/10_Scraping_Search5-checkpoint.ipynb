{
 "cells": [
  {
   "cell_type": "code",
   "execution_count": 16,
   "metadata": {
    "collapsed": false
   },
   "outputs": [],
   "source": [
    "import tweepy\n",
    "import csv\n",
    "import os\n",
    "import pandas as pd\n",
    "import matplotlib.pyplot as plt\n",
    "%matplotlib inline\n",
    "import time\n",
    "import json\n",
    "from pymongo import MongoClient"
   ]
  },
  {
   "cell_type": "markdown",
   "metadata": {},
   "source": [
    "# Get key words for searching"
   ]
  },
  {
   "cell_type": "code",
   "execution_count": 17,
   "metadata": {
    "collapsed": true
   },
   "outputs": [],
   "source": [
    "def clean_data(df):\n",
    "    df=df.rename(columns = {'artist':'artist_long'})\n",
    "    try:\n",
    "        df[\"artist\"] = df[\"artist_long\"].map(lambda x : x.split('featuring')[0])\n",
    "    except:\n",
    "        df[\"artist\"] = df[\"artist_long\"].map(lambda x : x)\n",
    "    df[\"ID\"] = df[\"song\"] + \"%\" +  df[\"artist\"]\n",
    "    col_name = ['date','rank','ID','song','artist']\n",
    "    df = df[~df['artist'].isnull()]\n",
    "    df = df[~df['song'].isnull()]\n",
    "    \n",
    "    return df[col_name]"
   ]
  },
  {
   "cell_type": "code",
   "execution_count": 18,
   "metadata": {
    "collapsed": true
   },
   "outputs": [],
   "source": [
    "df_raw = pd.read_csv(\"../data/billboard_result_20160305_20160416.csv\")\n",
    "df=clean_data(df_raw)\n",
    "\n",
    "# list of key words\n",
    "Input = [ [\"#\"+str(id.split('%')[0]), str(id.split('%')[1])]  for id in df[\"ID\"]]"
   ]
  },
  {
   "cell_type": "markdown",
   "metadata": {},
   "source": [
    "# Twitter scraping"
   ]
  },
  {
   "cell_type": "code",
   "execution_count": 19,
   "metadata": {
    "collapsed": true
   },
   "outputs": [],
   "source": [
    "def twitterScraping_cursor(query, tab):\n",
    "    \n",
    "    for tweet in tweepy.Cursor(api.search, q=query).items():\n",
    "        tweet_json= tweet._json\n",
    "        tab.insert(tweet_json)  "
   ]
  },
  {
   "cell_type": "code",
   "execution_count": 9,
   "metadata": {
    "collapsed": false
   },
   "outputs": [],
   "source": [
    "def twitterScraping(query, tab, j):\n",
    "    \n",
    "    # After 12 time search, go to next key search\n",
    "    if j > 12:\n",
    "        print \"It exceeds Max_J and j is {}.\".format(j)\n",
    "        return\n",
    "    \n",
    "    try:\n",
    "        twitterScraping_cursor(query, tab)\n",
    "        \n",
    "    except KeyboardInterrupt:\n",
    "        print \"KeyboardInterrupt\"\n",
    "        return\n",
    "    \n",
    "    except:\n",
    "        j += 1\n",
    "        print \"Error encountered at {} on {}, will try in 15 minutes. The curent number of data is {} \".format\\\n",
    "        (time.asctime(time.localtime()), query[0], tab.count())\n",
    "        time.sleep(901)\n",
    "        print \"twitter scrape resumes\"\n",
    "        twitterScraping(query, tab, j)\n",
    "        return\n"
   ]
  },
  {
   "cell_type": "markdown",
   "metadata": {},
   "source": [
    "## Twitter API credentials"
   ]
  },
  {
   "cell_type": "code",
   "execution_count": null,
   "metadata": {
    "collapsed": true
   },
   "outputs": [],
   "source": [
    "#Twitter API credentials\n",
    "consumer_key = os.getenv(\"TWITTER_CONSUMER_KEY\")\n",
    "consumer_secret = os.getenv(\"TWITTER_CONSUMER_SECRET\")\n",
    "access_key = os.getenv(\"TWITTER_ACCESS_TOKEN\")\n",
    "access_secret = os.getenv(\"TWITTER_ACCESS_TOKEN_SECRET\")"
   ]
  },
  {
   "cell_type": "code",
   "execution_count": null,
   "metadata": {
    "collapsed": true
   },
   "outputs": [],
   "source": [
    "#authorize twitter, initialize tweepy\n",
    "auth = tweepy.OAuthHandler(consumer_key, consumer_secret)\n",
    "auth.set_access_token(access_key, access_secret)\n",
    "api = tweepy.API(auth)"
   ]
  },
  {
   "cell_type": "markdown",
   "metadata": {},
   "source": [
    "## Set Mongo Client and database"
   ]
  },
  {
   "cell_type": "code",
   "execution_count": null,
   "metadata": {
    "collapsed": true
   },
   "outputs": [],
   "source": [
    "client = MongoClient('localhost', 27017)\n",
    "db = client['song5_database']"
   ]
  },
  {
   "cell_type": "markdown",
   "metadata": {},
   "source": [
    "### Run code to start to scrape"
   ]
  },
  {
   "cell_type": "code",
   "execution_count": null,
   "metadata": {
    "collapsed": true
   },
   "outputs": [],
   "source": [
    "MaxIt = df.shape[0]\n",
    "\n",
    "for i in range(0,MaxIt):\n",
    "    j = 0\n",
    "    print \"Start scraping for id = {}\".format(i)\n",
    "    table_name = \"test_01_\" + str(i)\n",
    "    tab = db[table_name]\n",
    "    query = Input[i]\n",
    "    continuous_scraper(query, tab, j)\n",
    "    print \"Final number of the data is {} at id = {} among {}\".format(tab.count(),i, MaxIt)\n",
    "    print \"---------------------------------------------------\"\n",
    "    \n",
    "print \"Work is completed\""
   ]
  }
 ],
 "metadata": {
  "kernelspec": {
   "display_name": "Python 2",
   "language": "python",
   "name": "python2"
  },
  "language_info": {
   "codemirror_mode": {
    "name": "ipython",
    "version": 2
   },
   "file_extension": ".py",
   "mimetype": "text/x-python",
   "name": "python",
   "nbconvert_exporter": "python",
   "pygments_lexer": "ipython2",
   "version": "2.7.11"
  }
 },
 "nbformat": 4,
 "nbformat_minor": 0
}
