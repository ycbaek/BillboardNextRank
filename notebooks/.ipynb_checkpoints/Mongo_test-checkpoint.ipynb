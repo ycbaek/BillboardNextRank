{
 "cells": [
  {
   "cell_type": "code",
   "execution_count": 4,
   "metadata": {
    "collapsed": true
   },
   "outputs": [],
   "source": [
    "from pymongo import MongoClient\n",
    "client = MongoClient()\n",
    "# Access/Initiate Database\n",
    "db = client['test2_database']\n",
    "# Access/Initiate Table\n",
    "tab = db['test2_table']"
   ]
  },
  {
   "cell_type": "code",
   "execution_count": 5,
   "metadata": {
    "collapsed": false
   },
   "outputs": [
    {
     "name": "stderr",
     "output_type": "stream",
     "text": [
      "/Users/Yeongcheon/anaconda/lib/python2.7/site-packages/ipykernel/__main__.py:1: DeprecationWarning: insert is deprecated. Use insert_one or insert_many instead.\n",
      "  if __name__ == '__main__':\n"
     ]
    },
    {
     "data": {
      "text/plain": [
       "ObjectId('5711430c1a3ad50546d78096')"
      ]
     },
     "execution_count": 5,
     "metadata": {},
     "output_type": "execute_result"
    }
   ],
   "source": [
    "db.test2_table.insert({ 'name': 'Jon', 'age': '45', 'friends': ['Henry', 'Ashley']})\n",
    "db.test2_table.insert({ 'name': 'Jon', 'age': '45', 'friends': ['Henry', 'Ashley']})\n",
    "db.test2_table.insert({ 'name': 'Ashley', 'age': '37', 'friends': [ 'Jon', 'Henry']})\n",
    "db.test2_table.insert({ 'name': 'Frank', 'age': '17', 'friends': [ 'Billy'], 'car' : 'Civic'})\n",
    "tab.insert({ 'name': 'Frank2', 'age': '56', 'friends': [ 'Billy2'], 'car' : 'Civic2'})"
   ]
  },
  {
   "cell_type": "code",
   "execution_count": null,
   "metadata": {
    "collapsed": true
   },
   "outputs": [],
   "source": []
  }
 ],
 "metadata": {
  "kernelspec": {
   "display_name": "Python 2",
   "language": "python",
   "name": "python2"
  },
  "language_info": {
   "codemirror_mode": {
    "name": "ipython",
    "version": 2
   },
   "file_extension": ".py",
   "mimetype": "text/x-python",
   "name": "python",
   "nbconvert_exporter": "python",
   "pygments_lexer": "ipython2",
   "version": "2.7.11"
  }
 },
 "nbformat": 4,
 "nbformat_minor": 0
}
