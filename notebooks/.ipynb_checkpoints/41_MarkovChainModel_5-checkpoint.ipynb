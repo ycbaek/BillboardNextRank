{
 "cells": [
  {
   "cell_type": "code",
   "execution_count": 48,
   "metadata": {
    "collapsed": true
   },
   "outputs": [],
   "source": [
    "import pandas as pd\n",
    "import numpy as np\n",
    "from sklearn.cross_validation import KFold\n",
    "%matplotlib inline\n",
    "import matplotlib.pyplot as plt"
   ]
  },
  {
   "cell_type": "code",
   "execution_count": 49,
   "metadata": {
    "collapsed": true
   },
   "outputs": [],
   "source": [
    "def get_base(dfngram, ngram = 2):\n",
    "    dfngram = dfngram.astype('int')\n",
    "    col = [\"diff_{}\".format(i) for i in range(ngram)]\n",
    "    df = dfngram[col]\n",
    "    ASET = set()\n",
    "    for i in xrange(len(df)):\n",
    "        ASET.add(tuple(df.iloc[i]))\n",
    "    \n",
    "    return ASET"
   ]
  },
  {
   "cell_type": "code",
   "execution_count": 50,
   "metadata": {
    "collapsed": true
   },
   "outputs": [],
   "source": [
    "def get_markov(dfngram, ngram = 2):\n",
    "    \n",
    "    if ngram == 1:\n",
    "        base = set(range(1,101))\n",
    "    else:\n",
    "        base = get_base(dfngram, ngram = ngram)\n",
    "        \n",
    "    xy_table = pd.DataFrame(data = np.zeros([len(base), 101]), index=base, columns=range(1,102))\n",
    "    x_table = pd.DataFrame(data = np.zeros([len(base), 1]), index=base, columns= ['target'])\n",
    "    \n",
    "    dfngram = dfngram.astype('int')\n",
    "    col = [\"diff_{}\".format(i) for i in range(ngram)]\n",
    "    df = dfngram[col]\n",
    "    target = dfngram['target'].values\n",
    "    \n",
    "    for i in range(len(df)):\n",
    "        if ngram == 1:\n",
    "            t = df.iloc[i].values[0]\n",
    "        else:\n",
    "            t = tuple(df.iloc[i])\n",
    "            \n",
    "        s = target[i]\n",
    "        xy_table.ix[t,s] += 1\n",
    "        x_table.ix[t,\"target\"] += 1\n",
    "    \n",
    "    prob_value = np.array(xy_table)/np.array(x_table)\n",
    "    p_table = pd.DataFrame(data = prob_value, index=base, columns=range(1,102))\n",
    "    \n",
    "    p_table[\"base\"] = p_table.index\n",
    "    p_xy = p_table[range(1,102)].values\n",
    "    p_y = np.array(range(1,102))\n",
    "    p_table['pred'] = np.dot(p_xy,p_y)\n",
    "    \n",
    "    #return p_table, xy_table, x_table, base\n",
    "    return p_table, base\n",
    "    "
   ]
  },
  {
   "cell_type": "code",
   "execution_count": 51,
   "metadata": {
    "collapsed": false
   },
   "outputs": [],
   "source": [
    "def get_mse_7(dfngram, p_table7, p_table6, p_table5, p_table4, p_table3, p_table2, p_table1, \\\n",
    "              base7, base6, base5, base4, base3, base2, base1):\n",
    "    \n",
    "    ngram = 7\n",
    "    dfngram = dfngram.astype('int')\n",
    "    col = [\"diff_{}\".format(i) for i in range(ngram)]\n",
    "    df = dfngram[col]\n",
    "\n",
    "    est_list = []\n",
    "    diff_list = []\n",
    "    for i in range(len(df)):\n",
    "        basei = tuple(df.iloc[i])\n",
    "        esti = get_est_7(basei, p_table7, p_table6, p_table5, p_table4, p_table3, p_table2, p_table1, \\\n",
    "              base7, base6, base5, base4, base3, base2, base1)\n",
    "        est_list.append(esti)\n",
    "        diff_list.append(dfngram['target'].values[i] - esti)\n",
    "    \n",
    "    dfngram['est'] = est_list\n",
    "    dfngram['diff'] = diff_list\n",
    "    mse_list = np.array(diff_list)\n",
    "    return np.sqrt(np.mean(mse_list**2))\n"
   ]
  },
  {
   "cell_type": "code",
   "execution_count": 52,
   "metadata": {
    "collapsed": true
   },
   "outputs": [],
   "source": [
    "def get_mse_6(dfngram, p_table6, p_table5, p_table4, p_table3, p_table2, p_table1,\\\n",
    "              base6, base5, base4, base3, base2, base1):\n",
    "    \n",
    "    ngram = 6\n",
    "    dfngram = dfngram.astype('int')\n",
    "    col = [\"diff_{}\".format(i) for i in range(ngram)]\n",
    "    df = dfngram[col]\n",
    "\n",
    "    est_list = []\n",
    "    diff_list = []\n",
    "    for i in range(len(df)):\n",
    "        basei = tuple(df.iloc[i])\n",
    "        esti = get_est_6(basei, p_table6, p_table5, p_table4, p_table3, p_table2, p_table1,\\\n",
    "              base6, base5, base4, base3, base2, base1)\n",
    "        est_list.append(esti)\n",
    "        diff_list.append(dfngram['target'].values[i] - esti)\n",
    "    \n",
    "    dfngram['est'] = est_list\n",
    "    dfngram['diff'] = diff_list\n",
    "    mse_list = np.array(diff_list)\n",
    "    \n",
    "    return np.sqrt(np.mean(mse_list**2))\n"
   ]
  },
  {
   "cell_type": "code",
   "execution_count": 53,
   "metadata": {
    "collapsed": false
   },
   "outputs": [],
   "source": [
    "def get_mse_5(dfngram, p_table5, p_table4, p_table3, p_table2, p_table1,\\\n",
    "              base5, base4, base3, base2, base1):\n",
    "    \n",
    "    ngram = 5\n",
    "    dfngram = dfngram.astype('int')\n",
    "    col = [\"diff_{}\".format(i) for i in range(ngram)]\n",
    "    df = dfngram[col]\n",
    "\n",
    "    est_list = []\n",
    "    diff_list = []\n",
    "    for i in range(len(df)):\n",
    "        basei = tuple(df.iloc[i])\n",
    "        esti = get_est_5(basei, p_table5, p_table4, p_table3, p_table2, p_table1,\\\n",
    "              base5, base4, base3, base2, base1)\n",
    "        est_list.append(esti)\n",
    "        diff_list.append(dfngram['target'].values[i] - esti)\n",
    "    \n",
    "    dfngram['est'] = est_list\n",
    "    dfngram['diff'] = diff_list\n",
    "    mse_list = np.array(diff_list)\n",
    "    \n",
    "    return np.sqrt(np.mean(mse_list**2))"
   ]
  },
  {
   "cell_type": "code",
   "execution_count": 54,
   "metadata": {
    "collapsed": false
   },
   "outputs": [],
   "source": [
    "def get_mse_4(dfngram, p_table4, p_table3, p_table2, p_table1, base4, base3, base2, base1):\n",
    "    \n",
    "    ngram = 4\n",
    "    dfngram = dfngram.astype('int')\n",
    "    col = [\"diff_{}\".format(i) for i in range(ngram)]\n",
    "    df = dfngram[col]\n",
    "\n",
    "    est_list = []\n",
    "    diff_list = []\n",
    "    for i in range(len(df)):\n",
    "        basei = tuple(df.iloc[i])\n",
    "        esti = get_est_4(basei, p_table4, p_table3, p_table2, p_table1, base4, base3, base2, base1)\n",
    "        est_list.append(esti)\n",
    "        diff_list.append(dfngram['target'].values[i] - esti)\n",
    "    \n",
    "    dfngram['est'] = est_list\n",
    "    dfngram['diff'] = diff_list\n",
    "    mse_list = np.array(diff_list)\n",
    "    \n",
    "    return np.sqrt(np.mean(mse_list**2))"
   ]
  },
  {
   "cell_type": "code",
   "execution_count": 55,
   "metadata": {
    "collapsed": false
   },
   "outputs": [],
   "source": [
    "def get_mse_3(dfngram, p_table3, p_table2, p_table1, base3, base2, base1):\n",
    "    \n",
    "    ngram = 3\n",
    "    dfngram = dfngram.astype('int')\n",
    "    col = [\"diff_{}\".format(i) for i in range(ngram)]\n",
    "    df = dfngram[col]\n",
    "\n",
    "    est_list = []\n",
    "    diff_list = []\n",
    "    for i in range(len(df)):\n",
    "        basei = tuple(df.iloc[i])\n",
    "        esti = get_est_3(basei, p_table3, p_table2, p_table1, base3, base2, base1)\n",
    "        est_list.append(esti)\n",
    "        diff_list.append(dfngram['target'].values[i] - esti)\n",
    "    \n",
    "    dfngram['est'] = est_list\n",
    "    dfngram['diff'] = diff_list\n",
    "    mse_list = np.array(diff_list)\n",
    "    \n",
    "    return np.sqrt(np.mean(mse_list**2))"
   ]
  },
  {
   "cell_type": "code",
   "execution_count": 56,
   "metadata": {
    "collapsed": false
   },
   "outputs": [],
   "source": [
    "def get_mse_2(dfngram, p_table2, p_table1, base2, base1):\n",
    "    \n",
    "    ngram = 2\n",
    "    dfngram = dfngram.astype('int')\n",
    "    col = [\"diff_{}\".format(i) for i in range(ngram)]\n",
    "    df = dfngram[col]\n",
    "\n",
    "    est_list = []\n",
    "    diff_list = []\n",
    "    for i in range(len(df)):\n",
    "        basei = tuple(df.iloc[i])\n",
    "        esti = get_est_2(basei, p_table2, p_table1, base2, base1)\n",
    "        est_list.append(esti)\n",
    "        diff_list.append(dfngram['target'].values[i] - esti)\n",
    "    \n",
    "    dfngram['est'] = est_list\n",
    "    dfngram['diff'] = diff_list\n",
    "    mse_list = np.array(diff_list)\n",
    "    \n",
    "    return np.sqrt(np.mean(mse_list**2))"
   ]
  },
  {
   "cell_type": "code",
   "execution_count": 57,
   "metadata": {
    "collapsed": true
   },
   "outputs": [],
   "source": [
    "def get_mse_1(dfngram, p_table1, base1):\n",
    "    \n",
    "    ngram = 1\n",
    "    dfngram = dfngram.astype('int')\n",
    "    col = [\"diff_{}\".format(i) for i in range(ngram)]\n",
    "    df = dfngram[col]\n",
    "\n",
    "    est_list = []\n",
    "    diff_list = []\n",
    "    for i in range(len(df)):\n",
    "        basei = tuple(df.iloc[i])\n",
    "        esti = get_est_1(basei, p_table1, base1)\n",
    "        est_list.append(esti)\n",
    "        diff_list.append(dfngram['target'].values[i] - esti)\n",
    "    \n",
    "    dfngram['est'] = est_list\n",
    "    dfngram['diff'] = diff_list\n",
    "    mse_list = np.array(diff_list)\n",
    "    \n",
    "    return np.sqrt(np.mean(mse_list**2))"
   ]
  },
  {
   "cell_type": "code",
   "execution_count": 58,
   "metadata": {
    "collapsed": true
   },
   "outputs": [],
   "source": [
    "def get_est_7(basei, p_table7, p_table6, p_table5, p_table4, p_table3, p_table2, p_table1, \\\n",
    "              base7, base6, base5, base4, base3, base2, base1):\n",
    "    \n",
    "    if basei in base7:\n",
    "        return p_table7[p_table7['base']==basei]['pred'].values[0]\n",
    "    else:\n",
    "        if basei[1:] in base6:\n",
    "            return p_table6[p_table6['base']==basei[1:]]['pred'].values[0]\n",
    "        else:\n",
    "            if basei[2:] in base5:\n",
    "                return p_table5[p_table5['base']==basei[2:]]['pred'].values[0]\n",
    "            else: \n",
    "                if basei[3:] in base4:\n",
    "                    return p_table4[p_table4['base']==basei[3:]]['pred'].values[0]\n",
    "                else:\n",
    "                    if basei[4:] in base3:\n",
    "                        return p_table3[p_table3['base']==basei[4:]]['pred'].values[0]\n",
    "                    else:\n",
    "                        if basei[5:] in base2:\n",
    "                            return p_table2[p_table2['base']==basei[5:]]['pred'].values[0]\n",
    "                        else:\n",
    "                            return p_table1[p_table1['base']==basei[6]]['pred'].values[0]"
   ]
  },
  {
   "cell_type": "code",
   "execution_count": 59,
   "metadata": {
    "collapsed": true
   },
   "outputs": [],
   "source": [
    "def get_est_6(basei, p_table6, p_table5, p_table4, p_table3, p_table2, p_table1,\\\n",
    "              base6, base5, base4, base3, base2, base1):\n",
    "    \n",
    "    if basei in base6:\n",
    "        return p_table6[p_table6['base']==basei]['pred'].values[0]\n",
    "    else:\n",
    "        if basei[1:] in base5:\n",
    "            return p_table5[p_table5['base']==basei[1:]]['pred'].values[0]\n",
    "        else:\n",
    "            if basei[2:] in base4:\n",
    "                return p_table4[p_table4['base']==basei[2:]]['pred'].values[0]\n",
    "            else: \n",
    "                if basei[3:] in base3:\n",
    "                    return p_table3[p_table3['base']==basei[3:]]['pred'].values[0]\n",
    "                else:\n",
    "                    if basei[4:] in base2:\n",
    "                        return p_table2[p_table2['base']==basei[4:]]['pred'].values[0]\n",
    "                    else:\n",
    "                        return p_table1[p_table1['base']==basei[5]]['pred'].values[0]"
   ]
  },
  {
   "cell_type": "code",
   "execution_count": 60,
   "metadata": {
    "collapsed": true
   },
   "outputs": [],
   "source": [
    "def get_est_5(basei, p_table5, p_table4, p_table3, p_table2, p_table1,\\\n",
    "              base5, base4, base3, base2, base1):\n",
    "    \n",
    "    if basei in base5:\n",
    "        return p_table5[p_table5['base']==basei]['pred'].values[0]\n",
    "    else:\n",
    "        if basei[1:] in base4:\n",
    "            return p_table4[p_table4['base']==basei[1:]]['pred'].values[0]\n",
    "        else:\n",
    "            if basei[2:] in base3:\n",
    "                return p_table3[p_table3['base']==basei[2:]]['pred'].values[0]\n",
    "            else: \n",
    "                if basei[3:] in base2:\n",
    "                    return p_table2[p_table2['base']==basei[3:]]['pred'].values[0]\n",
    "                else:\n",
    "                    return p_table1[p_table1['base']==basei[4]]['pred'].values[0]"
   ]
  },
  {
   "cell_type": "code",
   "execution_count": 61,
   "metadata": {
    "collapsed": true
   },
   "outputs": [],
   "source": [
    "def get_est_4(basei, p_table4, p_table3, p_table2, p_table1, base4, base3, base2, base1):\n",
    "    \n",
    "    if basei in base4:\n",
    "        return p_table4[p_table4['base']==basei]['pred'].values[0]\n",
    "    else:\n",
    "        if basei[1:] in base3:\n",
    "            return p_table3[p_table3['base']==basei[1:]]['pred'].values[0]\n",
    "        else:\n",
    "            if basei[2:] in base2:\n",
    "                return p_table2[p_table2['base']==basei[2:]]['pred'].values[0]\n",
    "            else: \n",
    "                return p_table1[p_table1['base']==basei[3]]['pred'].values[0]"
   ]
  },
  {
   "cell_type": "code",
   "execution_count": 62,
   "metadata": {
    "collapsed": false
   },
   "outputs": [],
   "source": [
    "def get_est_3(basei, p_table3, p_table2, p_table1, base3, base2, base1):\n",
    "    \n",
    "    if basei in base3:\n",
    "        return p_table3[p_table3['base']==basei]['pred'].values[0]\n",
    "    else:\n",
    "        if basei[1:] in base2:\n",
    "            return p_table2[p_table2['base']==basei[1:]]['pred'].values[0]\n",
    "        else:\n",
    "            return p_table1[p_table1['base']==basei[2]]['pred'].values[0]"
   ]
  },
  {
   "cell_type": "code",
   "execution_count": 63,
   "metadata": {
    "collapsed": true
   },
   "outputs": [],
   "source": [
    "def get_est_2(basei, p_table2, p_table1, base2, base1):\n",
    "    \n",
    "    if basei in base2:\n",
    "        return p_table2[p_table2['base']==basei]['pred'].values[0]\n",
    "    else:\n",
    "        return p_table1[p_table1['base']==basei[1]]['pred'].values[0]"
   ]
  },
  {
   "cell_type": "code",
   "execution_count": 64,
   "metadata": {
    "collapsed": true
   },
   "outputs": [],
   "source": [
    "def get_est_1(basei, p_table1, base1):\n",
    "    \n",
    "    basei = basei[0]\n",
    "    return p_table1[p_table1['base']==basei]['pred'].values[0]\n",
    "    "
   ]
  },
  {
   "cell_type": "code",
   "execution_count": 65,
   "metadata": {
    "collapsed": false
   },
   "outputs": [],
   "source": [
    "def get_train_test(dfngram1_train, dfngram2_train, dfngram3_train, dfngram4_train, dfngram5_train,\\\n",
    "                   dfngram6_train, dfngram7_train, dfngram1_test, dfngram2_test, dfngram3_test,\\\n",
    "                   dfngram4_test, dfngram5_test, dfngram6_test, dfngram7_test, file_name = \"../data/temp.csv\"):\n",
    "    \n",
    "\n",
    "            \n",
    "    p_table_train7, base_train7 = get_markov(dfngram7_train, ngram = 7)\n",
    "    p_table_train6, base_train6 = get_markov(dfngram6_train, ngram = 6)\n",
    "    p_table_train5, base_train5 = get_markov(dfngram5_train, ngram = 5)\n",
    "    p_table_train4, base_train4 = get_markov(dfngram4_train, ngram = 4)\n",
    "    p_table_train3, base_train3 = get_markov(dfngram3_train, ngram = 3)\n",
    "    p_table_train2, base_train2 = get_markov(dfngram2_train, ngram = 2)\n",
    "    p_table_train1, base_train1 = get_markov(dfngram1_train, ngram = 1)\n",
    "    \n",
    "        \n",
    "    mse_train7 = get_mse_7(dfngram7_train, p_table_train7, p_table_train6, p_table_train5, p_table_train4, \\\n",
    "                          p_table_train3, p_table_train2, p_table_train1, \\\n",
    "                          base_train7, base_train6, base_train5, base_train4, \\\n",
    "                          base_train3, base_train2, base_train1)\n",
    "    mse_test7 = get_mse_7(dfngram7_test, p_table_train7, p_table_train6, p_table_train5, p_table_train4, \\\n",
    "                          p_table_train3, p_table_train2, p_table_train1, \\\n",
    "                          base_train7, base_train6, base_train5, base_train4, \\\n",
    "                          base_train3, base_train2, base_train1)\n",
    "\n",
    "    mse_train6 = get_mse_6(dfngram6_train, p_table_train6, p_table_train5, p_table_train4, \\\n",
    "                          p_table_train3, p_table_train2, p_table_train1, \\\n",
    "                          base_train6, base_train5, base_train4, \\\n",
    "                          base_train3, base_train2, base_train1)\n",
    "    mse_test6 = get_mse_6(dfngram6_test, p_table_train6, p_table_train5, p_table_train4, \\\n",
    "                          p_table_train3, p_table_train2, p_table_train1, \\\n",
    "                          base_train6, base_train5, base_train4, \\\n",
    "                          base_train3, base_train2, base_train1)\n",
    "\n",
    "    mse_train5 = get_mse_5(dfngram5_train, p_table_train5, p_table_train4, \\\n",
    "                          p_table_train3, p_table_train2, p_table_train1, \\\n",
    "                          base_train5, base_train4, \\\n",
    "                          base_train3, base_train2, base_train1)\n",
    "    mse_test5 = get_mse_5(dfngram5_test, p_table_train5, p_table_train4, \\\n",
    "                          p_table_train3, p_table_train2, p_table_train1, \\\n",
    "                          base_train5, base_train4, \\\n",
    "                          base_train3, base_train2, base_train1)\n",
    "\n",
    "    mse_train4 = get_mse_4(dfngram4_train, p_table_train4, p_table_train3, p_table_train2, p_table_train1, \\\n",
    "                          base_train4, base_train3, base_train2, base_train1)\n",
    "    mse_test4 = get_mse_4(dfngram4_test, p_table_train4, p_table_train3, p_table_train2, p_table_train1, \\\n",
    "                          base_train4, base_train3, base_train2, base_train1)\n",
    "\n",
    "    mse_train3 = get_mse_3(dfngram3_train, p_table_train3, p_table_train2, p_table_train1, \\\n",
    "                          base_train3, base_train2, base_train1)\n",
    "    mse_test3 = get_mse_3(dfngram3_test, p_table_train3, p_table_train2, p_table_train1, \\\n",
    "                          base_train3, base_train2, base_train1)\n",
    "\n",
    "    mse_train2 = get_mse_2(dfngram2_train, p_table_train2, p_table_train1, base_train2, base_train1)\n",
    "    mse_test2 = get_mse_2(dfngram2_test, p_table_train2, p_table_train1, base_train2, base_train1)\n",
    "\n",
    "    mse_train1 = get_mse_1(dfngram1_train, p_table_train1, base_train1)\n",
    "    mse_test1 = get_mse_1(dfngram1_test, p_table_train1, base_train1)\n",
    "\n",
    "    mse_train = [mse_train1, mse_train2, mse_train3, mse_train4, mse_train5, mse_train6, mse_train7] \n",
    "    mse_test = [mse_test1, mse_test2, mse_test3, mse_test4, mse_test5, mse_test6, mse_test7]\n",
    "    mse = [mse_train, mse_test]\n",
    "    \n",
    "    col_name = ['ngram_2','ngram_3','ngram_4','ngram_5', 'ngram_6','ngram_7','ngram_8']  \n",
    "    mse_data = pd.DataFrame(data = mse)\n",
    "    mse_data.columns = col_name\n",
    "    mse_data.index = ['train_mse', 'test_mse']\n",
    "    \n",
    "    mse_data.to_csv(file_name, sep=',', encoding='utf-8')\n",
    "    \n",
    "    return mse_data"
   ]
  },
  {
   "cell_type": "code",
   "execution_count": null,
   "metadata": {
    "collapsed": true
   },
   "outputs": [],
   "source": []
  },
  {
   "cell_type": "code",
   "execution_count": 39,
   "metadata": {
    "collapsed": false
   },
   "outputs": [],
   "source": [
    "\n",
    "'''\n",
    "dfngram1_train = pd.read_csv('../data/small_101_1.csv')\n",
    "dfngram2_train = pd.read_csv('../data/small_101_2.csv')\n",
    "dfngram3_train = pd.read_csv('../data/small_101_3.csv')\n",
    "dfngram4_train = pd.read_csv('../data/small_101_4.csv')\n",
    "dfngram5_train = pd.read_csv('../data/small_101_5.csv')\n",
    "dfngram6_train = pd.read_csv('../data/small_101_6.csv')\n",
    "dfngram7_train = pd.read_csv('../data/small_101_7.csv')\n",
    "\n",
    "dfngram1_test = pd.read_csv('../data/small_101_1.csv')\n",
    "dfngram2_test = pd.read_csv('../data/small_101_2.csv')\n",
    "dfngram3_test = pd.read_csv('../data/small_101_3.csv')\n",
    "dfngram4_test = pd.read_csv('../data/small_101_4.csv')\n",
    "dfngram5_test = pd.read_csv('../data/small_101_5.csv')\n",
    "dfngram6_test = pd.read_csv('../data/small_101_6.csv')\n",
    "dfngram7_test = pd.read_csv('../data/small_101_7.csv')\n",
    "'''\n"
   ]
  },
  {
   "cell_type": "code",
   "execution_count": 66,
   "metadata": {
    "collapsed": false
   },
   "outputs": [],
   "source": [
    "\n",
    "dfngram1_train = pd.read_csv('../data/ngram_1990_2009_1.csv')\n",
    "dfngram2_train = pd.read_csv('../data/ngram_1990_2009_2.csv')\n",
    "dfngram3_train = pd.read_csv('../data/ngram_1990_2009_3.csv')\n",
    "dfngram4_train = pd.read_csv('../data/ngram_1990_2009_4.csv')\n",
    "dfngram5_train = pd.read_csv('../data/ngram_1990_2009_5.csv')\n",
    "dfngram6_train = pd.read_csv('../data/ngram_1990_2009_6.csv')\n",
    "dfngram7_train = pd.read_csv('../data/ngram_1990_2009_7.csv')\n",
    "\n",
    "dfngram1_test = pd.read_csv('../data/ngram_2010_2016_1.csv')\n",
    "dfngram2_test = pd.read_csv('../data/ngram_2010_2016_2.csv')\n",
    "dfngram3_test = pd.read_csv('../data/ngram_2010_2016_3.csv')\n",
    "dfngram4_test = pd.read_csv('../data/ngram_2010_2016_4.csv')\n",
    "dfngram5_test = pd.read_csv('../data/ngram_2010_2016_5.csv')\n",
    "dfngram6_test = pd.read_csv('../data/ngram_2010_2016_6.csv')\n",
    "dfngram7_test = pd.read_csv('../data/ngram_2010_2016_7.csv')\n"
   ]
  },
  {
   "cell_type": "code",
   "execution_count": null,
   "metadata": {
    "collapsed": true
   },
   "outputs": [],
   "source": []
  },
  {
   "cell_type": "code",
   "execution_count": 67,
   "metadata": {
    "collapsed": false
   },
   "outputs": [
    {
     "data": {
      "text/plain": [
       "2"
      ]
     },
     "execution_count": 67,
     "metadata": {},
     "output_type": "execute_result"
    }
   ],
   "source": [
    "1+1"
   ]
  },
  {
   "cell_type": "code",
   "execution_count": null,
   "metadata": {
    "collapsed": true
   },
   "outputs": [],
   "source": []
  },
  {
   "cell_type": "code",
   "execution_count": 68,
   "metadata": {
    "collapsed": false
   },
   "outputs": [],
   "source": [
    "#fileName = \"../data/mse_train_test_2010.csv\"\n",
    "mse_data = get_train_test(dfngram1_train, dfngram2_train, dfngram3_train, dfngram4_train, dfngram5_train,\\\n",
    "                   dfngram6_train, dfngram7_train, dfngram1_test, dfngram2_test, dfngram3_test,\\\n",
    "                   dfngram4_test, dfngram5_test, dfngram6_test, dfngram7_test, file_name = fileName)"
   ]
  },
  {
   "cell_type": "code",
   "execution_count": 72,
   "metadata": {
    "collapsed": false
   },
   "outputs": [
    {
     "data": {
      "image/png": "[encoded data removed]",
      "text/plain": [
       "<matplotlib.figure.Figure at 0x11ca08390>"
      ]
     },
     "metadata": {},
     "output_type": "display_data"
    }
   ],
   "source": [
    "df = pd.read_csv(fileName)\n",
    "df = df.drop(\"Unnamed: 0\", axis = 1)\n",
    "df.index = ['train_mse', 'test_mse']\n",
    "col_name = [\"ngram={}\".format(i+3) for i in range(7)]\n",
    "df.columns = col_name\n",
    "\n",
    "ax1 = df.T.plot(lw=2, figsize=(10,6))\n",
    "ax1.set_title(\"mse over ngram\",fontsize=20)\n",
    "ax1.set_xlabel(\"ngram\",fontsize=18)\n",
    "ax1.set_ylabel(\"mse\",fontsize=18)\n",
    "\n",
    "#plt.savefig(\"../data/mse_train_test_2010.png\")\n",
    "#plt.savefig(\"../data/temp.png\")\n",
    "\n",
    "plt.show()"
   ]
  },
  {
   "cell_type": "code",
   "execution_count": null,
   "metadata": {
    "collapsed": true
   },
   "outputs": [],
   "source": []
  },
  {
   "cell_type": "code",
   "execution_count": 70,
   "metadata": {
    "collapsed": false
   },
   "outputs": [
    {
     "data": {
      "text/plain": [
       "2"
      ]
     },
     "execution_count": 70,
     "metadata": {},
     "output_type": "execute_result"
    }
   ],
   "source": [
    "1+1"
   ]
  },
  {
   "cell_type": "code",
   "execution_count": null,
   "metadata": {
    "collapsed": true
   },
   "outputs": [],
   "source": []
  },
  {
   "cell_type": "code",
   "execution_count": null,
   "metadata": {
    "collapsed": true
   },
   "outputs": [],
   "source": []
  }
 ],
 "metadata": {
  "kernelspec": {
   "display_name": "Python 2",
   "language": "python",
   "name": "python2"
  },
  "language_info": {
   "codemirror_mode": {
    "name": "ipython",
    "version": 2
   },
   "file_extension": ".py",
   "mimetype": "text/x-python",
   "name": "python",
   "nbconvert_exporter": "python",
   "pygments_lexer": "ipython2",
   "version": "2.7.11"
  }
 },
 "nbformat": 4,
 "nbformat_minor": 0
}
