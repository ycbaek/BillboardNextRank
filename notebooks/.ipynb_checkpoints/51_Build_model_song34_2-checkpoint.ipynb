{
 "cells": [
  {
   "cell_type": "code",
   "execution_count": 188,
   "metadata": {
    "collapsed": false
   },
   "outputs": [],
   "source": [
    "import pandas as pd\n",
    "import numpy as np\n",
    "import random\n",
    "\n",
    "from sklearn.cross_validation import train_test_split\n",
    "\n",
    "from sklearn.ensemble import RandomForestClassifier\n",
    "from sklearn.neighbors import KNeighborsClassifier\n",
    "from sklearn.linear_model import LogisticRegression\n",
    "from sklearn.tree import DecisionTreeClassifier\n",
    "\n",
    "import sklearn.metrics as skm\n",
    "\n",
    "import datetime\n",
    "from datetime import timedelta\n",
    "\n",
    "import matplotlib.pyplot as plt\n",
    "%matplotlib inline"
   ]
  },
  {
   "cell_type": "code",
   "execution_count": 157,
   "metadata": {
    "collapsed": false
   },
   "outputs": [],
   "source": [
    "df_raw_data_csv = pd.read_csv(\"result_raw_song_3_4_03.csv\")"
   ]
  },
  {
   "cell_type": "code",
   "execution_count": 158,
   "metadata": {
    "collapsed": false
   },
   "outputs": [
    {
     "data": {
      "text/html": [
       "<div>\n",
       "<table border=\"1\" class=\"dataframe\">\n",
       "  <thead>\n",
       "    <tr style=\"text-align: right;\">\n",
       "      <th></th>\n",
       "      <th>Unnamed: 0</th>\n",
       "      <th>song_id</th>\n",
       "      <th>created_at_time</th>\n",
       "      <th>created_at_time_date</th>\n",
       "      <th>week_from_one</th>\n",
       "      <th>favorite_count</th>\n",
       "      <th>sent_score</th>\n",
       "      <th>sent_category</th>\n",
       "      <th>pos</th>\n",
       "      <th>neg</th>\n",
       "      <th>neu</th>\n",
       "    </tr>\n",
       "  </thead>\n",
       "  <tbody>\n",
       "    <tr>\n",
       "      <th>0</th>\n",
       "      <td>0</td>\n",
       "      <td>0</td>\n",
       "      <td>2016-04-18 15:38:11</td>\n",
       "      <td>2016-04-18</td>\n",
       "      <td>16</td>\n",
       "      <td>0</td>\n",
       "      <td>0.0000</td>\n",
       "      <td>Neu</td>\n",
       "      <td>0</td>\n",
       "      <td>0</td>\n",
       "      <td>1</td>\n",
       "    </tr>\n",
       "    <tr>\n",
       "      <th>1</th>\n",
       "      <td>1</td>\n",
       "      <td>0</td>\n",
       "      <td>2016-04-18 14:59:39</td>\n",
       "      <td>2016-04-18</td>\n",
       "      <td>16</td>\n",
       "      <td>0</td>\n",
       "      <td>0.3750</td>\n",
       "      <td>Pos</td>\n",
       "      <td>1</td>\n",
       "      <td>0</td>\n",
       "      <td>0</td>\n",
       "    </tr>\n",
       "    <tr>\n",
       "      <th>2</th>\n",
       "      <td>2</td>\n",
       "      <td>0</td>\n",
       "      <td>2016-04-18 13:55:11</td>\n",
       "      <td>2016-04-18</td>\n",
       "      <td>16</td>\n",
       "      <td>0</td>\n",
       "      <td>0.4875</td>\n",
       "      <td>Pos</td>\n",
       "      <td>1</td>\n",
       "      <td>0</td>\n",
       "      <td>0</td>\n",
       "    </tr>\n",
       "    <tr>\n",
       "      <th>3</th>\n",
       "      <td>3</td>\n",
       "      <td>0</td>\n",
       "      <td>2016-04-18 13:45:27</td>\n",
       "      <td>2016-04-18</td>\n",
       "      <td>16</td>\n",
       "      <td>0</td>\n",
       "      <td>0.4875</td>\n",
       "      <td>Pos</td>\n",
       "      <td>1</td>\n",
       "      <td>0</td>\n",
       "      <td>0</td>\n",
       "    </tr>\n",
       "    <tr>\n",
       "      <th>4</th>\n",
       "      <td>4</td>\n",
       "      <td>0</td>\n",
       "      <td>2016-04-18 13:44:59</td>\n",
       "      <td>2016-04-18</td>\n",
       "      <td>16</td>\n",
       "      <td>0</td>\n",
       "      <td>0.3750</td>\n",
       "      <td>Pos</td>\n",
       "      <td>1</td>\n",
       "      <td>0</td>\n",
       "      <td>0</td>\n",
       "    </tr>\n",
       "  </tbody>\n",
       "</table>\n",
       "</div>"
      ],
      "text/plain": [
       "   Unnamed: 0  song_id      created_at_time created_at_time_date  \\\n",
       "0           0        0  2016-04-18 15:38:11           2016-04-18   \n",
       "1           1        0  2016-04-18 14:59:39           2016-04-18   \n",
       "2           2        0  2016-04-18 13:55:11           2016-04-18   \n",
       "3           3        0  2016-04-18 13:45:27           2016-04-18   \n",
       "4           4        0  2016-04-18 13:44:59           2016-04-18   \n",
       "\n",
       "   week_from_one  favorite_count  sent_score sent_category  pos  neg  neu  \n",
       "0             16               0      0.0000           Neu    0    0    1  \n",
       "1             16               0      0.3750           Pos    1    0    0  \n",
       "2             16               0      0.4875           Pos    1    0    0  \n",
       "3             16               0      0.4875           Pos    1    0    0  \n",
       "4             16               0      0.3750           Pos    1    0    0  "
      ]
     },
     "execution_count": 158,
     "metadata": {},
     "output_type": "execute_result"
    }
   ],
   "source": [
    "df_raw_data_csv.head()"
   ]
  },
  {
   "cell_type": "code",
   "execution_count": 159,
   "metadata": {
    "collapsed": false
   },
   "outputs": [
    {
     "data": {
      "text/plain": [
       "(109410, 11)"
      ]
     },
     "execution_count": 159,
     "metadata": {},
     "output_type": "execute_result"
    }
   ],
   "source": [
    "df_raw_data_csv.shape"
   ]
  },
  {
   "cell_type": "code",
   "execution_count": 183,
   "metadata": {
    "collapsed": true
   },
   "outputs": [],
   "source": [
    "def find_date(week_from_one):\n",
    "    \n",
    "    day7 = timedelta(days=7)\n",
    "    day6 = timedelta(days=6)\n",
    "    date_slected = datetime.date(2016,1,3)\n",
    "    all_date =[date_slected]\n",
    "    all_date_last = [date_slected + day6]\n",
    "    for i in range(51):\n",
    "        date_slected = date_slected + day7\n",
    "        all_date.append(date_slected)\n",
    "        all_date_last.append(date_slected +day6)\n",
    "        \n",
    "        \n",
    "\n",
    "    week_Date = pd.DataFrame()\n",
    "    week_Date['firstData'] = all_date\n",
    "    week_Date['lastData'] = all_date_last\n",
    "    week_Date['week'] = range(1,53)\n",
    "    index_date = week_from_one - 1\n",
    "    \n",
    "    return str(all_date[index_date]) + ' ~ ' + str(all_date_last[index_date])"
   ]
  },
  {
   "cell_type": "code",
   "execution_count": 184,
   "metadata": {
    "collapsed": true
   },
   "outputs": [],
   "source": [
    "def plot_hist_sent(table, week, Song_name, artist, file_path ='test.png'):\n",
    "    sentiment = table['sent_score'][table['week_from_one']== week]\n",
    "    plt.figure(figsize = (16,10)) \n",
    "    plt.hist(sentiment, bins = 20, facecolor='g', alpha=0.75)\n",
    "    titlename = \"{} by {} over {}\".format(Song_name, artist,find_date(week))\n",
    "    plt.title (titlename, fontsize = 25)\n",
    "    plt.xlabel('sentiment polarity score', fontsize = 25)\n",
    "    plt.savefig(file_path)\n",
    "    plt.show()"
   ]
  },
  {
   "cell_type": "code",
   "execution_count": 207,
   "metadata": {
    "collapsed": false
   },
   "outputs": [
    {
     "name": "stdout",
     "output_type": "stream",
     "text": [
      "10035\n",
      "(4084.0, 5335.0, 616.0)\n",
      "0.406975585451 0.531639262581 0.0613851519681\n"
     ]
    }
   ],
   "source": [
    "song_id = 143\n",
    "sample = df_raw_data_csv[(df_raw_data_csv['song_id']== song_id) & (df_raw_data_csv['week_from_one']== 16)]\n",
    "print len(sample)\n",
    "a1,a2,a3 = sum(sample['pos'].values), sum(sample['neu'].values), sum(sample['neg'].values)\n",
    "print (a1,a2,a3)\n",
    "a123 = a1 + a2 + a3\n",
    "print a1/a123, a2/a123, a3/a123"
   ]
  },
  {
   "cell_type": "code",
   "execution_count": 201,
   "metadata": {
    "collapsed": false
   },
   "outputs": [],
   "source": [
    "song_art = df_data_csv['Song_ID'][df_data_csv['Song_IDN']==song_id+1].values[0].split('%')"
   ]
  },
  {
   "cell_type": "code",
   "execution_count": 208,
   "metadata": {
    "collapsed": false
   },
   "outputs": [
    {
     "data": {
      "text/plain": [
       "'RIHANNA '"
      ]
     },
     "execution_count": 208,
     "metadata": {},
     "output_type": "execute_result"
    }
   ],
   "source": [
    "artist"
   ]
  },
  {
   "cell_type": "code",
   "execution_count": 202,
   "metadata": {
    "collapsed": false
   },
   "outputs": [
    {
     "data": {
      "image/png": "[encoded data removed]",
      "text/plain": [
       "<matplotlib.figure.Figure at 0x1163a5250>"
      ]
     },
     "metadata": {},
     "output_type": "display_data"
    }
   ],
   "source": [
    "song_id = 143\n",
    "table = df_raw_data_csv[df_raw_data_csv['song_id']== song_id]\n",
    "week = 16\n",
    "Song_name =song_art[0]\n",
    "artist = song_art[1]\n",
    "file_path_name = \"sent_song_id_{}_week_{}.png\".format((song_id),week)\n",
    "plot_hist_sent(table, week, Song_name, artist, file_path =file_path_name)"
   ]
  },
  {
   "cell_type": "code",
   "execution_count": 193,
   "metadata": {
    "collapsed": false
   },
   "outputs": [
    {
     "data": {
      "text/plain": [
       "429    Work%RIHANNA \n",
       "430    Work%RIHANNA \n",
       "431    Work%RIHANNA \n",
       "432    Work%RIHANNA \n",
       "Name: Song_ID, dtype: object"
      ]
     },
     "execution_count": 193,
     "metadata": {},
     "output_type": "execute_result"
    }
   ],
   "source": [
    "df_data_csv['Song_ID'][df_data_csv['Song_IDN']==song_id+1]"
   ]
  },
  {
   "cell_type": "code",
   "execution_count": 191,
   "metadata": {
    "collapsed": true
   },
   "outputs": [],
   "source": [
    "df_data_csv = pd.read_csv('result_song_3_4_01.csv')"
   ]
  },
  {
   "cell_type": "code",
   "execution_count": 6,
   "metadata": {
    "collapsed": false
   },
   "outputs": [
    {
     "data": {
      "text/html": [
       "<div>\n",
       "<table border=\"1\" class=\"dataframe\">\n",
       "  <thead>\n",
       "    <tr style=\"text-align: right;\">\n",
       "      <th></th>\n",
       "      <th>Song_IDN</th>\n",
       "      <th>Song_ID</th>\n",
       "      <th>week</th>\n",
       "      <th>date_period</th>\n",
       "      <th>current_rank</th>\n",
       "      <th>next_rank</th>\n",
       "    </tr>\n",
       "  </thead>\n",
       "  <tbody>\n",
       "    <tr>\n",
       "      <th>0</th>\n",
       "      <td>1</td>\n",
       "      <td>$ave Dat Money%LIL DICKY</td>\n",
       "      <td>14</td>\n",
       "      <td>2016-04-03 ~ 2016-04-09</td>\n",
       "      <td>101</td>\n",
       "      <td>101</td>\n",
       "    </tr>\n",
       "    <tr>\n",
       "      <th>1</th>\n",
       "      <td>1</td>\n",
       "      <td>$ave Dat Money%LIL DICKY</td>\n",
       "      <td>15</td>\n",
       "      <td>2016-04-10 ~ 2016-04-16</td>\n",
       "      <td>101</td>\n",
       "      <td>101</td>\n",
       "    </tr>\n",
       "    <tr>\n",
       "      <th>2</th>\n",
       "      <td>1</td>\n",
       "      <td>$ave Dat Money%LIL DICKY</td>\n",
       "      <td>16</td>\n",
       "      <td>2016-04-17 ~ 2016-04-23</td>\n",
       "      <td>101</td>\n",
       "      <td>101</td>\n",
       "    </tr>\n",
       "    <tr>\n",
       "      <th>3</th>\n",
       "      <td>2</td>\n",
       "      <td>2 Phones%KEVIN GATES</td>\n",
       "      <td>14</td>\n",
       "      <td>2016-04-03 ~ 2016-04-09</td>\n",
       "      <td>18</td>\n",
       "      <td>18</td>\n",
       "    </tr>\n",
       "    <tr>\n",
       "      <th>4</th>\n",
       "      <td>2</td>\n",
       "      <td>2 Phones%KEVIN GATES</td>\n",
       "      <td>15</td>\n",
       "      <td>2016-04-10 ~ 2016-04-16</td>\n",
       "      <td>18</td>\n",
       "      <td>17</td>\n",
       "    </tr>\n",
       "  </tbody>\n",
       "</table>\n",
       "</div>"
      ],
      "text/plain": [
       "   Song_IDN                    Song_ID  week              date_period  \\\n",
       "0         1  $ave Dat Money%LIL DICKY     14  2016-04-03 ~ 2016-04-09   \n",
       "1         1  $ave Dat Money%LIL DICKY     15  2016-04-10 ~ 2016-04-16   \n",
       "2         1  $ave Dat Money%LIL DICKY     16  2016-04-17 ~ 2016-04-23   \n",
       "3         2       2 Phones%KEVIN GATES    14  2016-04-03 ~ 2016-04-09   \n",
       "4         2       2 Phones%KEVIN GATES    15  2016-04-10 ~ 2016-04-16   \n",
       "\n",
       "   current_rank  next_rank  \n",
       "0           101        101  \n",
       "1           101        101  \n",
       "2           101        101  \n",
       "3            18         18  \n",
       "4            18         17  "
      ]
     },
     "execution_count": 6,
     "metadata": {},
     "output_type": "execute_result"
    }
   ],
   "source": [
    "df_data_csv[['Song_IDN','Song_ID','week','date_period','current_rank','next_rank']].head()"
   ]
  },
  {
   "cell_type": "code",
   "execution_count": 7,
   "metadata": {
    "collapsed": false
   },
   "outputs": [
    {
     "data": {
      "text/plain": [
       "440"
      ]
     },
     "execution_count": 7,
     "metadata": {},
     "output_type": "execute_result"
    }
   ],
   "source": [
    "len(df_data_csv)"
   ]
  },
  {
   "cell_type": "code",
   "execution_count": 46,
   "metadata": {
    "collapsed": false
   },
   "outputs": [],
   "source": [
    "def separate_data(data):\n",
    "    \n",
    "    df = data[(data['next_rank'] < 101) & (data['next_rank'] > 0) & (data['current_rank'] < 101)]\n",
    "    \n",
    "    df0 = df[df['past_rank_1']>100]\n",
    "    df1 = df[df['past_rank_1'] <=100]\n",
    "    \n",
    "    df1_only = df1[df1['past_rank_2']>100]\n",
    "    df2 = df1[df1['past_rank_2'] <=100]\n",
    "    \n",
    "    df2_only = df2[df2['past_rank_3']>100]\n",
    "    df3 = df2[df2['past_rank_3'] <=100]\n",
    "    \n",
    "    df3_only = df3[df3['past_rank_4']>100]\n",
    "    df4 = df3[df3['past_rank_4'] <=100]\n",
    "    \n",
    "    return df, df0, df1, df1_only, df2, df2_only, df3, df3_only, df4 "
   ]
  },
  {
   "cell_type": "code",
   "execution_count": 47,
   "metadata": {
    "collapsed": false
   },
   "outputs": [],
   "source": [
    "df, df0, df1, df1_only, df2, df2_only, df3, df3_only, df4  = separate_data(df_data_csv)"
   ]
  },
  {
   "cell_type": "code",
   "execution_count": 109,
   "metadata": {
    "collapsed": false
   },
   "outputs": [
    {
     "name": "stdout",
     "output_type": "stream",
     "text": [
      "251 244 231 7\n"
     ]
    }
   ],
   "source": [
    "print len(df), len(df1), len(df2), len(df3)"
   ]
  },
  {
   "cell_type": "code",
   "execution_count": 49,
   "metadata": {
    "collapsed": false
   },
   "outputs": [],
   "source": [
    "def get_dataForAnalysis_cla(df):\n",
    "    df['y_num'] = df['next_rank'] - df['current_rank'] \n",
    "    df['y_binary'] =df['y_num'].apply(lambda x : 1 if x <= 0 else 0)  \n",
    "    df['diff_past_1_temp'] = df['current_rank'] - df['past_rank_1']\n",
    "    df['diff_past_1'] = 0\n",
    "    df['diff_past_1'][df['past_rank_1'] !=101 ] = df['diff_past_1_temp'][df['past_rank_1'] !=101 ]\n",
    "    df['twitter_per_hour_log'] = np.log(df['twitter_per_hour'])\n",
    "        \n",
    "    col = ['current_rank','twitter_per_hour_log','pos_rate','neg_rate',\n",
    "           'ratio_pos_neg','favorite_rate','diff_past_1','y_binary']\n",
    "    return df[col]"
   ]
  },
  {
   "cell_type": "code",
   "execution_count": 113,
   "metadata": {
    "collapsed": true
   },
   "outputs": [],
   "source": [
    "def get_dataForAnalysis_cla2(df):\n",
    "    df['y_num'] = df['next_rank'] - df['current_rank'] \n",
    "    df['y_binary'] =df['y_num'].apply(lambda x : 1 if x <= 0 else 0)  \n",
    "    df['diff_past_1'] = df['current_rank'] - df['past_rank_1']\n",
    "    df['diff_past_2'] = df['past_rank_1'] - df['past_rank_2']\n",
    "    df['twitter_per_hour_log'] = np.log(df['twitter_per_hour'])\n",
    "        \n",
    "    col = ['current_rank','twitter_per_hour_log','pos_rate','neg_rate',\n",
    "           'ratio_pos_neg','favorite_rate','diff_past_1','diff_past_2', 'y_binary']\n",
    "    return df[col]"
   ]
  },
  {
   "cell_type": "code",
   "execution_count": 50,
   "metadata": {
    "collapsed": false
   },
   "outputs": [],
   "source": [
    "def get_dataForAnalysis_reg(df):\n",
    "    df['y_num'] = df['next_rank'] - df['current_rank'] \n",
    "    df['y_binary'] =df['y_num'].apply(lambda x : 1 if x <= 0 else 0)  \n",
    "    df['diff_past_1_temp'] = df['current_rank'] - df['past_rank_1']\n",
    "    df['diff_past_1'] = 0\n",
    "    df['diff_past_1'][df['past_rank_1'] !=101 ] = df['diff_past_1_temp'][df['past_rank_1'] !=101 ]\n",
    "    df['twitter_per_hour_log'] = np.log(df['twitter_per_hour'])\n",
    "    \n",
    "    col = ['current_rank','twitter_per_hour_log','pos_rate','neg_rate',\n",
    "           'ratio_pos_neg','favorite_rate','diff_past_1','y_num']\n",
    "    return df[col]"
   ]
  },
  {
   "cell_type": "code",
   "execution_count": 114,
   "metadata": {
    "collapsed": false
   },
   "outputs": [
    {
     "data": {
      "text/html": [
       "<div>\n",
       "<table border=\"1\" class=\"dataframe\">\n",
       "  <thead>\n",
       "    <tr style=\"text-align: right;\">\n",
       "      <th></th>\n",
       "      <th>current_rank</th>\n",
       "      <th>twitter_per_hour_log</th>\n",
       "      <th>pos_rate</th>\n",
       "      <th>neg_rate</th>\n",
       "      <th>ratio_pos_neg</th>\n",
       "      <th>favorite_rate</th>\n",
       "      <th>diff_past_1</th>\n",
       "      <th>diff_past_2</th>\n",
       "      <th>y_binary</th>\n",
       "    </tr>\n",
       "  </thead>\n",
       "  <tbody>\n",
       "    <tr>\n",
       "      <th>3</th>\n",
       "      <td>18</td>\n",
       "      <td>2.052500</td>\n",
       "      <td>0.248322</td>\n",
       "      <td>0.067114</td>\n",
       "      <td>3.454545</td>\n",
       "      <td>0.355705</td>\n",
       "      <td>0</td>\n",
       "      <td>-3</td>\n",
       "      <td>1</td>\n",
       "    </tr>\n",
       "    <tr>\n",
       "      <th>4</th>\n",
       "      <td>18</td>\n",
       "      <td>4.625925</td>\n",
       "      <td>0.200000</td>\n",
       "      <td>0.061350</td>\n",
       "      <td>3.245033</td>\n",
       "      <td>0.575051</td>\n",
       "      <td>0</td>\n",
       "      <td>0</td>\n",
       "      <td>1</td>\n",
       "    </tr>\n",
       "    <tr>\n",
       "      <th>5</th>\n",
       "      <td>17</td>\n",
       "      <td>8.247025</td>\n",
       "      <td>0.186667</td>\n",
       "      <td>0.049259</td>\n",
       "      <td>3.768657</td>\n",
       "      <td>0.864444</td>\n",
       "      <td>-1</td>\n",
       "      <td>0</td>\n",
       "      <td>0</td>\n",
       "    </tr>\n",
       "    <tr>\n",
       "      <th>6</th>\n",
       "      <td>39</td>\n",
       "      <td>2.389044</td>\n",
       "      <td>0.330049</td>\n",
       "      <td>0.024631</td>\n",
       "      <td>11.333333</td>\n",
       "      <td>0.290640</td>\n",
       "      <td>-1</td>\n",
       "      <td>1</td>\n",
       "      <td>0</td>\n",
       "    </tr>\n",
       "    <tr>\n",
       "      <th>9</th>\n",
       "      <td>2</td>\n",
       "      <td>-5.123964</td>\n",
       "      <td>0.000000</td>\n",
       "      <td>0.000000</td>\n",
       "      <td>1.000000</td>\n",
       "      <td>0.000000</td>\n",
       "      <td>0</td>\n",
       "      <td>-1</td>\n",
       "      <td>1</td>\n",
       "    </tr>\n",
       "  </tbody>\n",
       "</table>\n",
       "</div>"
      ],
      "text/plain": [
       "   current_rank  twitter_per_hour_log  pos_rate  neg_rate  ratio_pos_neg  \\\n",
       "3            18              2.052500  0.248322  0.067114       3.454545   \n",
       "4            18              4.625925  0.200000  0.061350       3.245033   \n",
       "5            17              8.247025  0.186667  0.049259       3.768657   \n",
       "6            39              2.389044  0.330049  0.024631      11.333333   \n",
       "9             2             -5.123964  0.000000  0.000000       1.000000   \n",
       "\n",
       "   favorite_rate  diff_past_1  diff_past_2  y_binary  \n",
       "3       0.355705            0           -3         1  \n",
       "4       0.575051            0            0         1  \n",
       "5       0.864444           -1            0         0  \n",
       "6       0.290640           -1            1         0  \n",
       "9       0.000000            0           -1         1  "
      ]
     },
     "execution_count": 114,
     "metadata": {},
     "output_type": "execute_result"
    }
   ],
   "source": [
    "df_data = get_dataForAnalysis_cla2(df2)\n",
    "df_data.head()"
   ]
  },
  {
   "cell_type": "code",
   "execution_count": 115,
   "metadata": {
    "collapsed": false
   },
   "outputs": [
    {
     "data": {
      "text/plain": [
       "(231, 126)"
      ]
     },
     "execution_count": 115,
     "metadata": {},
     "output_type": "execute_result"
    }
   ],
   "source": [
    "X = df_data.copy()\n",
    "y = X.pop('y_binary').values\n",
    "len(y), sum(y)"
   ]
  },
  {
   "cell_type": "code",
   "execution_count": 116,
   "metadata": {
    "collapsed": false
   },
   "outputs": [
    {
     "data": {
      "image/png": "[encoded data removed]",
      "text/plain": [
       "<matplotlib.figure.Figure at 0x113784150>"
      ]
     },
     "metadata": {},
     "output_type": "display_data"
    }
   ],
   "source": [
    "import seaborn as sns\n",
    "import matplotlib.pyplot as plt\n",
    "%matplotlib inline\n",
    "import warnings\n",
    "plt.figure(figsize=(10,8))\n",
    "warnings.filterwarnings('ignore')\n",
    "sns.set(style=\"white\", color_codes=True)\n",
    "sns.stripplot(x='y_binary', y='twitter_per_hour_log', data=df_data, jitter=True)\n",
    "plt.title('Analysis on the number of twitters per hour', fontsize = 25)\n",
    "plt.xlabel('0=down              .              1 = up&stay', fontsize = 20)\n",
    "plt.ylabel('log(twitters per hour)', fontsize = 20)\n",
    "sns.despine()\n",
    "plt.savefig('twitter_hour_song4.png')"
   ]
  },
  {
   "cell_type": "markdown",
   "metadata": {},
   "source": [
    "# Random Forest"
   ]
  },
  {
   "cell_type": "code",
   "execution_count": 324,
   "metadata": {
    "collapsed": false
   },
   "outputs": [],
   "source": [
    "X = df_data.copy()\n",
    "y = X.pop('y_binary').values\n",
    "X_train, X_test, y_train, y_test = train_test_split(X.values, y)"
   ]
  },
  {
   "cell_type": "code",
   "execution_count": 259,
   "metadata": {
    "collapsed": false
   },
   "outputs": [
    {
     "name": "stdout",
     "output_type": "stream",
     "text": [
      "RandomForestClassifier\n",
      "Accuracy : 0.586206896552\n",
      "Precession: 0.611111111111\n",
      "recall: 0.6875\n",
      "roc_auc: 0.685697115385\n",
      "Accuracy_out_of_bag: 0.664739884393\n"
     ]
    }
   ],
   "source": [
    "RFC = RandomForestClassifier(oob_score=True, n_estimators=500)\n",
    "RFC.fit(X_train, y_train)\n",
    "y_pred = RFC.predict(X_test)\n",
    "y_pred_prob = RFC.predict_proba(X_test)[:,1]\n",
    "\n",
    "print \"RandomForestClassifier\"\n",
    "print \"Accuracy : {}\".format(RFC.score(X_test, y_test))\n",
    "print \"Precession: {}\".format(skm.precision_score(y_test, y_pred))\n",
    "print \"recall: {}\".format(skm.recall_score(y_test, y_pred))\n",
    "print \"roc_auc: {}\".format(skm.roc_auc_score(y_test, y_pred_prob))\n",
    "print \"Accuracy_out_of_bag: {}\".format(RFC.oob_score_)"
   ]
  },
  {
   "cell_type": "code",
   "execution_count": 260,
   "metadata": {
    "collapsed": false,
    "scrolled": true
   },
   "outputs": [
    {
     "data": {
      "text/html": [
       "<div>\n",
       "<table border=\"1\" class=\"dataframe\">\n",
       "  <thead>\n",
       "    <tr style=\"text-align: right;\">\n",
       "      <th></th>\n",
       "      <th>feature</th>\n",
       "      <th>importance</th>\n",
       "    </tr>\n",
       "  </thead>\n",
       "  <tbody>\n",
       "    <tr>\n",
       "      <th>3</th>\n",
       "      <td>neg_rate</td>\n",
       "      <td>0.041178</td>\n",
       "    </tr>\n",
       "    <tr>\n",
       "      <th>2</th>\n",
       "      <td>pos_rate</td>\n",
       "      <td>0.051025</td>\n",
       "    </tr>\n",
       "    <tr>\n",
       "      <th>5</th>\n",
       "      <td>favorite_rate</td>\n",
       "      <td>0.054799</td>\n",
       "    </tr>\n",
       "    <tr>\n",
       "      <th>4</th>\n",
       "      <td>ratio_pos_neg</td>\n",
       "      <td>0.063470</td>\n",
       "    </tr>\n",
       "    <tr>\n",
       "      <th>1</th>\n",
       "      <td>twitter_per_hour_log</td>\n",
       "      <td>0.081002</td>\n",
       "    </tr>\n",
       "    <tr>\n",
       "      <th>6</th>\n",
       "      <td>diff_past_1</td>\n",
       "      <td>0.191839</td>\n",
       "    </tr>\n",
       "    <tr>\n",
       "      <th>0</th>\n",
       "      <td>current_rank</td>\n",
       "      <td>0.238357</td>\n",
       "    </tr>\n",
       "    <tr>\n",
       "      <th>7</th>\n",
       "      <td>diff_past_2</td>\n",
       "      <td>0.278329</td>\n",
       "    </tr>\n",
       "  </tbody>\n",
       "</table>\n",
       "</div>"
      ],
      "text/plain": [
       "                feature  importance\n",
       "3              neg_rate    0.041178\n",
       "2              pos_rate    0.051025\n",
       "5         favorite_rate    0.054799\n",
       "4         ratio_pos_neg    0.063470\n",
       "1  twitter_per_hour_log    0.081002\n",
       "6           diff_past_1    0.191839\n",
       "0          current_rank    0.238357\n",
       "7           diff_past_2    0.278329"
      ]
     },
     "execution_count": 260,
     "metadata": {},
     "output_type": "execute_result"
    }
   ],
   "source": [
    "importances = RFC.feature_importances_\n",
    "Imp_table2 = pd.DataFrame(columns=['feature','importance'])\n",
    "Imp_table2['feature'] = list(df_data.columns[:-1])\n",
    "Imp_table2['importance'] = list(importances)\n",
    "Imp_table = Imp_table2.sort(['importance'], ascending=[1])\n",
    "Imp_table"
   ]
  },
  {
   "cell_type": "code",
   "execution_count": 270,
   "metadata": {
    "collapsed": false
   },
   "outputs": [
    {
     "data": {
      "image/png": "[encoded data removed]",
      "text/plain": [
       "<matplotlib.figure.Figure at 0x1154088d0>"
      ]
     },
     "metadata": {},
     "output_type": "display_data"
    }
   ],
   "source": [
    "Col_Name = [ \"Neg Rate\", \"Pos Rate\", \"Favorite Rate\", \"Ratio Pos/Neg\",\\\n",
    "            \"tweets/hour\",\"Rank 1wkAgo\",\"Current Rank\",\"Rank 2wkAgo\"]\n",
    "Imp_table.index = Col_Name\n",
    "#Imp_table.index = Imp_table['feature']\n",
    "Imp_table['importance'].plot(kind='barh', figsize=(13, 7), rot=0, fontsize=17 , layout = \"rows\")\n",
    "plt.savefig('Important_feature_02.png')\n",
    "plt.show()"
   ]
  },
  {
   "cell_type": "code",
   "execution_count": 255,
   "metadata": {
    "collapsed": true
   },
   "outputs": [],
   "source": [
    "def estimators():\n",
    "    score_list = []\n",
    "    for x in xrange(5, 500, 5):\n",
    "        RFC = RandomForestClassifier(n_estimators=x)\n",
    "        RFC.fit(X_train, y_train)\n",
    "        #score = RFC.score(X_test, y_test)\n",
    "        y_pred_prob = RFC.predict_proba(X_test)[:,1]\n",
    "        score = skm.roc_auc_score(y_test, y_pred_prob)\n",
    "        score_list.append(score)\n",
    "    return score_list"
   ]
  },
  {
   "cell_type": "code",
   "execution_count": 256,
   "metadata": {
    "collapsed": true
   },
   "outputs": [],
   "source": [
    "score_list = estimators()"
   ]
  },
  {
   "cell_type": "code",
   "execution_count": 257,
   "metadata": {
    "collapsed": false
   },
   "outputs": [
    {
     "data": {
      "image/png": "[encoded data removed]",
      "text/plain": [
       "<matplotlib.figure.Figure at 0x116728950>"
      ]
     },
     "metadata": {},
     "output_type": "display_data"
    }
   ],
   "source": [
    "plt.figure(figsize=(16,8))\n",
    "plt.plot(xrange(5, 500, 5), score_list)\n",
    "#plt.ylabel('Accuracy')\n",
    "plt.ylabel('roc_auc')\n",
    "plt.xlabel('Number of trees used')\n",
    "plt.title('Random Forest')\n",
    "plt.savefig('RandomForestSim_01.png')\n",
    "plt.show()"
   ]
  },
  {
   "cell_type": "code",
   "execution_count": null,
   "metadata": {
    "collapsed": true
   },
   "outputs": [],
   "source": []
  },
  {
   "cell_type": "code",
   "execution_count": 325,
   "metadata": {
    "collapsed": true
   },
   "outputs": [],
   "source": [
    "from sklearn.cross_validation import KFold\n",
    "num_kfold = 10\n",
    "kf = KFold(X.shape[0], num_kfold, shuffle=True)\n",
    "\n",
    "list_RF_mse = []\n",
    "list_RF_roc = []\n",
    "for train_index, test_index in kf:\n",
    "    X_train = X.values[train_index]\n",
    "    X_test = X.values[test_index]\n",
    "    y_train = y[train_index]\n",
    "    y_test = y[test_index]\n",
    "    \n",
    "    RFC = RandomForestClassifier(oob_score=True, n_estimators=500)\n",
    "    RFC.fit(X_train, y_train)\n",
    "    y_pred = RFC.predict(X_test)\n",
    "    y_pred_prob = RFC.predict_proba(X_test)[:,1]\n",
    "    \n",
    "    list_RF_mse.append(RFC.score(X_test, y_test))\n",
    "    list_RF_roc.append(skm.roc_auc_score(y_test, y_pred_prob))\n",
    "    "
   ]
  },
  {
   "cell_type": "code",
   "execution_count": 326,
   "metadata": {
    "collapsed": false
   },
   "outputs": [
    {
     "data": {
      "text/plain": [
       "(0.63677536231884047, 0.67125735375735374)"
      ]
     },
     "execution_count": 326,
     "metadata": {},
     "output_type": "execute_result"
    }
   ],
   "source": [
    "np.mean(list_RF_mse), np.mean(list_RF_roc) "
   ]
  },
  {
   "cell_type": "code",
   "execution_count": null,
   "metadata": {
    "collapsed": true
   },
   "outputs": [],
   "source": []
  },
  {
   "cell_type": "code",
   "execution_count": null,
   "metadata": {
    "collapsed": true
   },
   "outputs": [],
   "source": []
  },
  {
   "cell_type": "code",
   "execution_count": null,
   "metadata": {
    "collapsed": true
   },
   "outputs": [],
   "source": []
  },
  {
   "cell_type": "code",
   "execution_count": null,
   "metadata": {
    "collapsed": true
   },
   "outputs": [],
   "source": []
  },
  {
   "cell_type": "code",
   "execution_count": null,
   "metadata": {
    "collapsed": true
   },
   "outputs": [],
   "source": []
  },
  {
   "cell_type": "markdown",
   "metadata": {},
   "source": [
    "# Logistic Analysis"
   ]
  },
  {
   "cell_type": "code",
   "execution_count": 296,
   "metadata": {
    "collapsed": true
   },
   "outputs": [],
   "source": [
    "def order_select_features(data, y_name, metric = \"accuracy\"):\n",
    "    \n",
    "    remaining = set(data.columns)\n",
    "    remaining.remove(y_name)\n",
    "    y = data[y_name].values\n",
    "    selected = []\n",
    "\n",
    "    while remaining:\n",
    "        scores_with_candidates = []\n",
    "        for candidate in remaining:\n",
    "            LgR = LogisticRegression()\n",
    "            X_data = data[selected + [candidate]]\n",
    "            LgR.fit(X_data.values, y)\n",
    "\n",
    "            if metric == \"accuracy\":\n",
    "                score = LgR.score(X_data.values, y)\n",
    "            \n",
    "            if metric == \"roc_auc\":\n",
    "                y_pred_prob = LgR.predict_proba(X_data)[:,1]\n",
    "                score = skm.roc_auc_score(y, y_pred_prob)\n",
    "                \n",
    "            scores_with_candidates.append((score, candidate))        \n",
    "        \n",
    "        scores_with_candidates.sort()\n",
    "        best_new_score, best_candidate = scores_with_candidates.pop()\n",
    "        remaining.remove(best_candidate)\n",
    "        selected.append(best_candidate)\n",
    "\n",
    "    return selected"
   ]
  },
  {
   "cell_type": "code",
   "execution_count": 318,
   "metadata": {
    "collapsed": false
   },
   "outputs": [
    {
     "name": "stdout",
     "output_type": "stream",
     "text": [
      "['diff_past_2', 'current_rank', 'neg_rate', 'ratio_pos_neg', 'twitter_per_hour_log', 'pos_rate', 'diff_past_1', 'favorite_rate']\n",
      "['neg_rate', 'pos_rate', 'favorite_rate', 'ratio_pos_neg', 'twitter_per_hour_log', 'diff_past_1', 'current_rank', 'diff_past_2']\n"
     ]
    }
   ],
   "source": [
    "data = df_data.copy()\n",
    "y_name = 'y_binary'\n",
    "order_features1 = order_select_features(data, y_name, metric = \"roc_auc\" )\n",
    "order_features = list(Imp_table['feature'])\n",
    "print order_features1\n",
    "print order_features"
   ]
  },
  {
   "cell_type": "code",
   "execution_count": 319,
   "metadata": {
    "collapsed": false
   },
   "outputs": [],
   "source": [
    "order_features= [order_features[i] for i in range(7,-1,-1)]"
   ]
  },
  {
   "cell_type": "code",
   "execution_count": 320,
   "metadata": {
    "collapsed": true
   },
   "outputs": [],
   "source": [
    "import sklearn.metrics as skm\n",
    "\n",
    "def run_model_log(X_train, X_test, y_train, y_test, pub = False):\n",
    "    \n",
    "    LgC = LogisticRegression()\n",
    "    LgC.fit(X_train, y_train)\n",
    "    y_pred = LgC.predict(X_test)\n",
    "    y_pred_prob = LgC.predict_proba(X_test)[:,1]\n",
    "    \n",
    "    accuracy = LgC.score(X_test, y_test)\n",
    "    precision = skm.precision_score(y_test, y_pred)\n",
    "    recall = skm.recall_score(y_test, y_pred)\n",
    "    roc_auc = skm.roc_auc_score(y_test, y_pred_prob)\n",
    "    \n",
    "    if pub:\n",
    "        print \"accuracy_score:{}\".format(accuracy)\n",
    "        print \"precision_score:{}\".format(precision)\n",
    "        print \"recall_score:{}\".format(recall)\n",
    "        print \"roc_auc_score:{}\".format(roc_auc)\n",
    "\n",
    "    return accuracy, precision, recall, roc_auc\n",
    "    "
   ]
  },
  {
   "cell_type": "code",
   "execution_count": 321,
   "metadata": {
    "collapsed": false
   },
   "outputs": [],
   "source": [
    "from sklearn.cross_validation import KFold\n",
    "num_kfold = 10\n",
    "kf = KFold(X.shape[0], num_kfold, shuffle=True)\n",
    "\n",
    "\n",
    "List_loss_mean = np.zeros([len(order_features),2])\n",
    "List_loss_sd = np.zeros([len(order_features),2])\n",
    "\n",
    "Set_Features = []\n",
    "\n",
    "for i,feature in enumerate(order_features):    \n",
    "    Set_Features.append(feature)\n",
    "    X = data[Set_Features].values\n",
    "    y = data[y_name].values\n",
    "    sublist_loss_mse = []\n",
    "    sublist_loss_roc = []\n",
    "    \n",
    "    for train_index, test_index in kf:\n",
    "        X_train = X[train_index]\n",
    "        X_test = X[test_index]\n",
    "        y_train = y[train_index]\n",
    "        y_test = y[test_index]\n",
    "        accuracy, precision, recall, roc_auc = run_model_log(X_train, X_test, y_train, y_test, pub = False)\n",
    "\n",
    "        sublist_loss_mse.append(accuracy)\n",
    "        sublist_loss_roc.append(roc_auc)\n",
    "\n",
    "\n",
    "    List_loss_mean[i,0] = np.mean(np.array(sublist_loss_mse))\n",
    "    List_loss_mean[i,1] = np.mean(np.array(sublist_loss_roc))\n",
    "    List_loss_sd[i,0] = np.std(np.array(sublist_loss_mse), ddof=1)\n",
    "    List_loss_sd[i,1] = np.std(np.array(sublist_loss_roc), ddof=1)\n"
   ]
  },
  {
   "cell_type": "code",
   "execution_count": 322,
   "metadata": {
    "collapsed": false
   },
   "outputs": [
    {
     "data": {
      "text/plain": [
       "array([[ 0.6317029 ,  0.69285603],\n",
       "       [ 0.67463768,  0.72309912],\n",
       "       [ 0.69202899,  0.71730159],\n",
       "       [ 0.68333333,  0.71170996],\n",
       "       [ 0.68333333,  0.70709568],\n",
       "       [ 0.6615942 ,  0.69685148],\n",
       "       [ 0.65724638,  0.68749528],\n",
       "       [ 0.64855072,  0.70143634]])"
      ]
     },
     "execution_count": 322,
     "metadata": {},
     "output_type": "execute_result"
    }
   ],
   "source": [
    "List_loss_mean"
   ]
  },
  {
   "cell_type": "code",
   "execution_count": 271,
   "metadata": {
    "collapsed": false
   },
   "outputs": [
    {
     "ename": "ValueError",
     "evalue": "Shape of passed values is (15, 4), indices imply (2, 7)",
     "output_type": "error",
     "traceback": [
      "\u001b[0;31m---------------------------------------------------------------------------\u001b[0m",
      "\u001b[0;31mValueError\u001b[0m                                Traceback (most recent call last)",
      "\u001b[0;32m<ipython-input-271-cda25ca8281f>\u001b[0m in \u001b[0;36m<module>\u001b[0;34m()\u001b[0m\n\u001b[1;32m      1\u001b[0m \u001b[0mNum_features\u001b[0m \u001b[0;34m=\u001b[0m \u001b[0mrange\u001b[0m\u001b[0;34m(\u001b[0m\u001b[0;36m1\u001b[0m\u001b[0;34m,\u001b[0m\u001b[0;36m8\u001b[0m\u001b[0;34m)\u001b[0m\u001b[0;34m\u001b[0m\u001b[0m\n\u001b[0;32m----> 2\u001b[0;31m \u001b[0mdf3\u001b[0m \u001b[0;34m=\u001b[0m \u001b[0mpd\u001b[0m\u001b[0;34m.\u001b[0m\u001b[0mDataFrame\u001b[0m\u001b[0;34m(\u001b[0m\u001b[0mList_loss_mean\u001b[0m\u001b[0;34m,\u001b[0m \u001b[0mcolumns\u001b[0m\u001b[0;34m=\u001b[0m\u001b[0;34m[\u001b[0m\u001b[0;34m'accuracy'\u001b[0m\u001b[0;34m,\u001b[0m\u001b[0;34m'Roc_Auc'\u001b[0m\u001b[0;34m]\u001b[0m\u001b[0;34m,\u001b[0m \u001b[0mindex\u001b[0m\u001b[0;34m=\u001b[0m\u001b[0mNum_features\u001b[0m\u001b[0;34m)\u001b[0m\u001b[0;34m\u001b[0m\u001b[0m\n\u001b[0m",
      "\u001b[0;32m/Users/Yeongcheon/anaconda/lib/python2.7/site-packages/pandas/core/frame.pyc\u001b[0m in \u001b[0;36m__init__\u001b[0;34m(self, data, index, columns, dtype, copy)\u001b[0m\n\u001b[1;32m    255\u001b[0m             \u001b[0;32melse\u001b[0m\u001b[0;34m:\u001b[0m\u001b[0;34m\u001b[0m\u001b[0m\n\u001b[1;32m    256\u001b[0m                 mgr = self._init_ndarray(data, index, columns, dtype=dtype,\n\u001b[0;32m--> 257\u001b[0;31m                                          copy=copy)\n\u001b[0m\u001b[1;32m    258\u001b[0m         \u001b[0;32melif\u001b[0m \u001b[0misinstance\u001b[0m\u001b[0;34m(\u001b[0m\u001b[0mdata\u001b[0m\u001b[0;34m,\u001b[0m \u001b[0;34m(\u001b[0m\u001b[0mlist\u001b[0m\u001b[0;34m,\u001b[0m \u001b[0mtypes\u001b[0m\u001b[0;34m.\u001b[0m\u001b[0mGeneratorType\u001b[0m\u001b[0;34m)\u001b[0m\u001b[0;34m)\u001b[0m\u001b[0;34m:\u001b[0m\u001b[0;34m\u001b[0m\u001b[0m\n\u001b[1;32m    259\u001b[0m             \u001b[0;32mif\u001b[0m \u001b[0misinstance\u001b[0m\u001b[0;34m(\u001b[0m\u001b[0mdata\u001b[0m\u001b[0;34m,\u001b[0m \u001b[0mtypes\u001b[0m\u001b[0;34m.\u001b[0m\u001b[0mGeneratorType\u001b[0m\u001b[0;34m)\u001b[0m\u001b[0;34m:\u001b[0m\u001b[0;34m\u001b[0m\u001b[0m\n",
      "\u001b[0;32m/Users/Yeongcheon/anaconda/lib/python2.7/site-packages/pandas/core/frame.pyc\u001b[0m in \u001b[0;36m_init_ndarray\u001b[0;34m(self, values, index, columns, dtype, copy)\u001b[0m\n\u001b[1;32m    435\u001b[0m             \u001b[0mvalues\u001b[0m \u001b[0;34m=\u001b[0m \u001b[0m_possibly_infer_to_datetimelike\u001b[0m\u001b[0;34m(\u001b[0m\u001b[0mvalues\u001b[0m\u001b[0;34m)\u001b[0m\u001b[0;34m\u001b[0m\u001b[0m\n\u001b[1;32m    436\u001b[0m \u001b[0;34m\u001b[0m\u001b[0m\n\u001b[0;32m--> 437\u001b[0;31m         \u001b[0;32mreturn\u001b[0m \u001b[0mcreate_block_manager_from_blocks\u001b[0m\u001b[0;34m(\u001b[0m\u001b[0;34m[\u001b[0m\u001b[0mvalues\u001b[0m\u001b[0;34m]\u001b[0m\u001b[0;34m,\u001b[0m \u001b[0;34m[\u001b[0m\u001b[0mcolumns\u001b[0m\u001b[0;34m,\u001b[0m \u001b[0mindex\u001b[0m\u001b[0;34m]\u001b[0m\u001b[0;34m)\u001b[0m\u001b[0;34m\u001b[0m\u001b[0m\n\u001b[0m\u001b[1;32m    438\u001b[0m \u001b[0;34m\u001b[0m\u001b[0m\n\u001b[1;32m    439\u001b[0m     \u001b[0;34m@\u001b[0m\u001b[0mproperty\u001b[0m\u001b[0;34m\u001b[0m\u001b[0m\n",
      "\u001b[0;32m/Users/Yeongcheon/anaconda/lib/python2.7/site-packages/pandas/core/internals.pyc\u001b[0m in \u001b[0;36mcreate_block_manager_from_blocks\u001b[0;34m(blocks, axes)\u001b[0m\n\u001b[1;32m   3903\u001b[0m         \u001b[0mblocks\u001b[0m \u001b[0;34m=\u001b[0m \u001b[0;34m[\u001b[0m\u001b[0mgetattr\u001b[0m\u001b[0;34m(\u001b[0m\u001b[0mb\u001b[0m\u001b[0;34m,\u001b[0m \u001b[0;34m'values'\u001b[0m\u001b[0;34m,\u001b[0m \u001b[0mb\u001b[0m\u001b[0;34m)\u001b[0m \u001b[0;32mfor\u001b[0m \u001b[0mb\u001b[0m \u001b[0;32min\u001b[0m \u001b[0mblocks\u001b[0m\u001b[0;34m]\u001b[0m\u001b[0;34m\u001b[0m\u001b[0m\n\u001b[1;32m   3904\u001b[0m         \u001b[0mtot_items\u001b[0m \u001b[0;34m=\u001b[0m \u001b[0msum\u001b[0m\u001b[0;34m(\u001b[0m\u001b[0mb\u001b[0m\u001b[0;34m.\u001b[0m\u001b[0mshape\u001b[0m\u001b[0;34m[\u001b[0m\u001b[0;36m0\u001b[0m\u001b[0;34m]\u001b[0m \u001b[0;32mfor\u001b[0m \u001b[0mb\u001b[0m \u001b[0;32min\u001b[0m \u001b[0mblocks\u001b[0m\u001b[0;34m)\u001b[0m\u001b[0;34m\u001b[0m\u001b[0m\n\u001b[0;32m-> 3905\u001b[0;31m         \u001b[0mconstruction_error\u001b[0m\u001b[0;34m(\u001b[0m\u001b[0mtot_items\u001b[0m\u001b[0;34m,\u001b[0m \u001b[0mblocks\u001b[0m\u001b[0;34m[\u001b[0m\u001b[0;36m0\u001b[0m\u001b[0;34m]\u001b[0m\u001b[0;34m.\u001b[0m\u001b[0mshape\u001b[0m\u001b[0;34m[\u001b[0m\u001b[0;36m1\u001b[0m\u001b[0;34m:\u001b[0m\u001b[0;34m]\u001b[0m\u001b[0;34m,\u001b[0m \u001b[0maxes\u001b[0m\u001b[0;34m,\u001b[0m \u001b[0me\u001b[0m\u001b[0;34m)\u001b[0m\u001b[0;34m\u001b[0m\u001b[0m\n\u001b[0m\u001b[1;32m   3906\u001b[0m \u001b[0;34m\u001b[0m\u001b[0m\n\u001b[1;32m   3907\u001b[0m \u001b[0;34m\u001b[0m\u001b[0m\n",
      "\u001b[0;32m/Users/Yeongcheon/anaconda/lib/python2.7/site-packages/pandas/core/internals.pyc\u001b[0m in \u001b[0;36mconstruction_error\u001b[0;34m(tot_items, block_shape, axes, e)\u001b[0m\n\u001b[1;32m   3880\u001b[0m         \u001b[0;32mraise\u001b[0m \u001b[0me\u001b[0m\u001b[0;34m\u001b[0m\u001b[0m\n\u001b[1;32m   3881\u001b[0m     raise ValueError(\"Shape of passed values is {0}, indices imply {1}\".format(\n\u001b[0;32m-> 3882\u001b[0;31m         passed,implied))\n\u001b[0m\u001b[1;32m   3883\u001b[0m \u001b[0;34m\u001b[0m\u001b[0m\n\u001b[1;32m   3884\u001b[0m \u001b[0;34m\u001b[0m\u001b[0m\n",
      "\u001b[0;31mValueError\u001b[0m: Shape of passed values is (15, 4), indices imply (2, 7)"
     ]
    }
   ],
   "source": [
    "Num_features = range(1,8)\n",
    "df3 = pd.DataFrame(List_loss_mean, columns=['accuracy','Roc_Auc'], index=Num_features)"
   ]
  },
  {
   "cell_type": "code",
   "execution_count": 134,
   "metadata": {
    "collapsed": false
   },
   "outputs": [
    {
     "data": {
      "image/png": "[encoded data removed]",
      "text/plain": [
       "<matplotlib.figure.Figure at 0x116c0d450>"
      ]
     },
     "metadata": {},
     "output_type": "display_data"
    }
   ],
   "source": [
    "import matplotlib.pyplot as plt\n",
    "Num_features = range(1, len(List_loss_mean)+1)\n",
    "df3 = pd.DataFrame(List_loss_mean, columns=['accuracy','Roc_Auc'], index=Num_features)\n",
    "df4 = df3['accuracy']\n",
    "ax3 = df3.plot(lw=2)#, ylim = [0.6,0.9])\n",
    "ax3.set_title(\"Accuracy over complexity\",fontsize=20)\n",
    "ax3.set_xlabel(\"Compexity\",fontsize=18)\n",
    "ax3.set_ylabel(\" \",fontsize=18)\n",
    "plt.show()"
   ]
  },
  {
   "cell_type": "code",
   "execution_count": 135,
   "metadata": {
    "collapsed": false
   },
   "outputs": [
    {
     "data": {
      "text/html": [
       "<div>\n",
       "<table border=\"1\" class=\"dataframe\">\n",
       "  <thead>\n",
       "    <tr style=\"text-align: right;\">\n",
       "      <th></th>\n",
       "      <th>accuracy</th>\n",
       "      <th>Roc_Auc</th>\n",
       "    </tr>\n",
       "  </thead>\n",
       "  <tbody>\n",
       "    <tr>\n",
       "      <th>1</th>\n",
       "      <td>0.610870</td>\n",
       "      <td>0.632738</td>\n",
       "    </tr>\n",
       "    <tr>\n",
       "      <th>2</th>\n",
       "      <td>0.679891</td>\n",
       "      <td>0.728533</td>\n",
       "    </tr>\n",
       "    <tr>\n",
       "      <th>3</th>\n",
       "      <td>0.684420</td>\n",
       "      <td>0.728339</td>\n",
       "    </tr>\n",
       "    <tr>\n",
       "      <th>4</th>\n",
       "      <td>0.684420</td>\n",
       "      <td>0.726188</td>\n",
       "    </tr>\n",
       "    <tr>\n",
       "      <th>5</th>\n",
       "      <td>0.684601</td>\n",
       "      <td>0.719721</td>\n",
       "    </tr>\n",
       "    <tr>\n",
       "      <th>6</th>\n",
       "      <td>0.680254</td>\n",
       "      <td>0.703476</td>\n",
       "    </tr>\n",
       "    <tr>\n",
       "      <th>7</th>\n",
       "      <td>0.667210</td>\n",
       "      <td>0.698841</td>\n",
       "    </tr>\n",
       "    <tr>\n",
       "      <th>8</th>\n",
       "      <td>0.662681</td>\n",
       "      <td>0.704631</td>\n",
       "    </tr>\n",
       "  </tbody>\n",
       "</table>\n",
       "</div>"
      ],
      "text/plain": [
       "   accuracy   Roc_Auc\n",
       "1  0.610870  0.632738\n",
       "2  0.679891  0.728533\n",
       "3  0.684420  0.728339\n",
       "4  0.684420  0.726188\n",
       "5  0.684601  0.719721\n",
       "6  0.680254  0.703476\n",
       "7  0.667210  0.698841\n",
       "8  0.662681  0.704631"
      ]
     },
     "execution_count": 135,
     "metadata": {},
     "output_type": "execute_result"
    }
   ],
   "source": [
    "df3"
   ]
  },
  {
   "cell_type": "code",
   "execution_count": null,
   "metadata": {
    "collapsed": true
   },
   "outputs": [],
   "source": []
  },
  {
   "cell_type": "code",
   "execution_count": null,
   "metadata": {
    "collapsed": true
   },
   "outputs": [],
   "source": []
  },
  {
   "cell_type": "code",
   "execution_count": 136,
   "metadata": {
    "collapsed": false
   },
   "outputs": [
    {
     "name": "stdout",
     "output_type": "stream",
     "text": [
      "LogisticRegression\n",
      "Accuracy : 0.565217391304\n",
      "Precession: 0.416666666667\n",
      "recall: 0.625\n",
      "roc_auc: 0.658333333333\n"
     ]
    }
   ],
   "source": [
    "LgC = LogisticRegression()\n",
    "LgC.fit(X_train, y_train)\n",
    "y_pred = LgC.predict(X_test)\n",
    "y_pred_prob = LgC.predict_proba(X_test)[:,1]\n",
    "\n",
    "print \"LogisticRegression\"\n",
    "print \"Accuracy : {}\".format(LgC.score(X_test, y_test))\n",
    "print \"Precession: {}\".format(skm.precision_score(y_test, y_pred))\n",
    "print \"recall: {}\".format(skm.recall_score(y_test, y_pred))\n",
    "print \"roc_auc: {}\".format(skm.roc_auc_score(y_test, y_pred_prob))"
   ]
  },
  {
   "cell_type": "code",
   "execution_count": null,
   "metadata": {
    "collapsed": true
   },
   "outputs": [],
   "source": []
  },
  {
   "cell_type": "code",
   "execution_count": null,
   "metadata": {
    "collapsed": true
   },
   "outputs": [],
   "source": []
  },
  {
   "cell_type": "code",
   "execution_count": null,
   "metadata": {
    "collapsed": true
   },
   "outputs": [],
   "source": []
  },
  {
   "cell_type": "code",
   "execution_count": null,
   "metadata": {
    "collapsed": true
   },
   "outputs": [],
   "source": []
  },
  {
   "cell_type": "markdown",
   "metadata": {},
   "source": [
    "# Neural Network"
   ]
  },
  {
   "cell_type": "code",
   "execution_count": 272,
   "metadata": {
    "collapsed": false
   },
   "outputs": [],
   "source": [
    "from keras.models import Sequential\n",
    "from keras.layers.core import Dense, Dropout, Activation\n",
    "from keras.optimizers import SGD\n",
    "from sklearn.cross_validation import train_test_split\n",
    "from sklearn.metrics import precision_score, recall_score, accuracy_score, roc_auc_score\n",
    "from keras.utils import np_utils \n",
    "import pandas as pd\n",
    "from sklearn.cross_validation import KFold"
   ]
  },
  {
   "cell_type": "code",
   "execution_count": 273,
   "metadata": {
    "collapsed": true
   },
   "outputs": [],
   "source": [
    "def normalize(X): \n",
    "    return (X - X.mean(axis = 0)) / X.std(axis = 0, ddof = 1)"
   ]
  },
  {
   "cell_type": "code",
   "execution_count": 274,
   "metadata": {
    "collapsed": true
   },
   "outputs": [],
   "source": [
    "def get_model(X, activation_func = 'tanh', node_count = 10, init_func='uniform', layers = 1): \n",
    "    # Fit a sequential model with some given number of nodes. \n",
    "    model = Sequential()\n",
    "\n",
    "    # Fit the first hidden layer manually, becuase we have to fit it \n",
    "    # with the x-shape by the node_count. \n",
    "    model.add(Dense(node_count, input_dim = X.shape[1], activation = activation_func, init = init_func))\n",
    "\n",
    "    # We can fit any additional layers like this, provided they \n",
    "    # have the same node_count (except the last one). \n",
    "    for layer in xrange(layers): \n",
    "        model.add(Dense(node_count,activation = activation_func))\n",
    "\n",
    "    model.add(Dense(2,activation='softmax'))\n",
    "\n",
    "    #sgd = SGD(lr=0.1, decay=1e-6, momentum=0.9, nesterov=True)\n",
    "    #model.compile(optimizer=sgd, loss='mse')\n",
    "    model.compile(optimizer='rmsprop',loss='binary_crossentropy')\n",
    "\n",
    "    return model\n"
   ]
  },
  {
   "cell_type": "code",
   "execution_count": 142,
   "metadata": {
    "collapsed": true
   },
   "outputs": [],
   "source": [
    "def run_model(X_train, X_test, y_train, y_test, prob_threshold = 50, layers = 1, nodes = 7, epoch_count = 10, pub=False): \n",
    "    \n",
    "    # Grab the model \n",
    "    model = get_model(X_test, node_count = nodes, layers =layers)\n",
    "    model.fit(X_train, y_train, nb_epoch = epoch_count, batch_size = 16)\n",
    "\n",
    "    # Get the test predictions from our model fit. \n",
    "    pred_prob = model.predict_proba(X_test)[:, 1]\n",
    "    \n",
    "    # Set these to either 0 or 1 based off the probability threshold we \n",
    "    # passed in (divide by 100 becuase we passed in intergers). \n",
    "    pred_value = pred_prob >= prob_threshold / 100.0\n",
    "\n",
    "    # Calculate the precision and recall. Only output until \n",
    "    accuracy = accuracy_score(y_test[:, 1], pred_value)\n",
    "    precision = precision_score(y_test[:, 1], pred_value)\n",
    "    recall = recall_score(y_test[:, 1], pred_value)\n",
    "    roc_auc = roc_auc_score(y_test[:, 1], pred_prob)\n",
    "    \n",
    "    if pub:\n",
    "        print \"accuracy_score:{}\".format(accuracy)\n",
    "        print \"precision_score:{}\".format(precision)\n",
    "        print \"recall_score:{}\".format(recall)\n",
    "        print \"roc_auc_score:{}\".format(roc_auc)\n",
    "\n",
    "    return accuracy, precision, recall, roc_auc"
   ]
  },
  {
   "cell_type": "code",
   "execution_count": 291,
   "metadata": {
    "collapsed": true
   },
   "outputs": [],
   "source": [
    "def CV_NeuNet(X,y, Set_Layers, Set_Epoch, file_name_mse, file_name_roc):\n",
    "\n",
    "    num_kfold = 10\n",
    "    kf = KFold(X.shape[0], num_kfold, shuffle=True)\n",
    "    List_loss_mse = np.zeros((len(Set_Layers),len(Set_Epoch)))\n",
    "    List_loss_roc = np.zeros((len(Set_Layers),len(Set_Epoch)))\n",
    "\n",
    "    for i,layer in enumerate(Set_Layers):    \n",
    "        for j, epoch in enumerate(Set_Epoch):\n",
    "\n",
    "            sublist_loss_mse = []\n",
    "            sublist_loss_roc = []\n",
    "\n",
    "            for train_index, test_index in kf:\n",
    "                X_train = X[train_index]\n",
    "                X_test = X[test_index]\n",
    "                y_train = y[train_index]\n",
    "                y_test = y[test_index]\n",
    "                accuracy, precision, recall, roc_auc = run_model(X_train, X_test, y_train, y_test, layers = layer, nodes = 7, \\\n",
    "                                                         epoch_count = epoch, pub = False)\n",
    "        \n",
    "                sublist_loss_mse.append(accuracy)\n",
    "                sublist_loss_roc.append(roc_auc)\n",
    "                    \n",
    "            List_loss_mse[i,j] = np.mean(np.array(sublist_loss_mse))\n",
    "            List_loss_roc[i,j] = np.mean(np.array(sublist_loss_roc))\n",
    "    \n",
    "    Name_Set_Layers = [\"Number of Layer = {}\".format(layer) for layer in Set_Layers]\n",
    "    df_mse = pd.DataFrame(List_loss_mse.T,columns=Name_Set_Layers, index=Set_Epoch)\n",
    "    df_roc = pd.DataFrame(List_loss_roc.T,columns=Name_Set_Layers, index=Set_Epoch)\n",
    "    \n",
    "    df_mse.to_csv(file_name_mse, sep=',', encoding='utf-8')\n",
    "    df_roc.to_csv(file_name_roc, sep=',', encoding='utf-8')\n",
    "        \n",
    "    return List_loss_mse, List_loss_roc \n"
   ]
  },
  {
   "cell_type": "code",
   "execution_count": 292,
   "metadata": {
    "collapsed": true
   },
   "outputs": [],
   "source": [
    "X = df_data.copy()\n",
    "y_bin = X.pop('y_binary')\n",
    "y_bin = np_utils.to_categorical(y_bin, 2) \n",
    "X = normalize(X)\n",
    "#X_train, X_test, y_train, y_test = train_test_split(X.values, y_bin)"
   ]
  },
  {
   "cell_type": "code",
   "execution_count": null,
   "metadata": {
    "collapsed": false
   },
   "outputs": [
    {
     "name": "stdout",
     "output_type": "stream",
     "text": [
      "Epoch 1/30\n",
      "207/207 [==============================] - 0s - loss: 0.6834     \n",
      "Epoch 2/30\n",
      "207/207 [==============================] - 0s - loss: 0.6605     \n",
      "Epoch 3/30\n",
      "207/207 [==============================] - 0s - loss: 0.6450     \n",
      "Epoch 4/30\n",
      "207/207 [==============================] - 0s - loss: 0.6333     \n",
      "Epoch 5/30\n",
      "207/207 [==============================] - 0s - loss: 0.6232     \n",
      "Epoch 6/30\n",
      "207/207 [==============================] - 0s - loss: 0.6163     \n",
      "Epoch 7/30\n",
      "207/207 [==============================] - 0s - loss: 0.6114     \n",
      "Epoch 8/30\n",
      "207/207 [==============================] - 0s - loss: 0.6069     \n",
      "Epoch 9/30\n",
      "207/207 [==============================] - 0s - loss: 0.6043     \n",
      "Epoch 10/30\n",
      "207/207 [==============================] - 0s - loss: 0.6015     \n",
      "Epoch 11/30\n",
      "207/207 [==============================] - 0s - loss: 0.6003     \n",
      "Epoch 12/30\n",
      "207/207 [==============================] - 0s - loss: 0.5995     \n",
      "Epoch 13/30\n",
      "207/207 [==============================] - 0s - loss: 0.5973     \n",
      "Epoch 14/30\n",
      "207/207 [==============================] - 0s - loss: 0.5990     \n",
      "Epoch 15/30\n",
      "207/207 [==============================] - 0s - loss: 0.5970     \n",
      "Epoch 16/30\n",
      "207/207 [==============================] - 0s - loss: 0.5960     \n",
      "Epoch 17/30\n",
      "207/207 [==============================] - 0s - loss: 0.5967     \n",
      "Epoch 18/30\n",
      "207/207 [==============================] - 0s - loss: 0.5973     \n",
      "Epoch 19/30\n",
      "207/207 [==============================] - 0s - loss: 0.5960     \n",
      "Epoch 20/30\n",
      "207/207 [==============================] - 0s - loss: 0.5967     \n",
      "Epoch 21/30\n",
      "207/207 [==============================] - 0s - loss: 0.5952     \n",
      "Epoch 22/30\n",
      "207/207 [==============================] - 0s - loss: 0.5959     \n",
      "Epoch 23/30\n",
      "207/207 [==============================] - 0s - loss: 0.5957     \n",
      "Epoch 24/30\n",
      "207/207 [==============================] - 0s - loss: 0.5957     \n",
      "Epoch 25/30\n",
      "207/207 [==============================] - 0s - loss: 0.5957     \n",
      "Epoch 26/30\n",
      "207/207 [==============================] - 0s - loss: 0.5950     \n",
      "Epoch 27/30\n",
      "207/207 [==============================] - 0s - loss: 0.5950     \n",
      "Epoch 28/30\n",
      "207/207 [==============================] - 0s - loss: 0.5953     \n",
      "Epoch 29/30\n",
      "207/207 [==============================] - 0s - loss: 0.5956     \n",
      "Epoch 30/30\n",
      "207/207 [==============================] - 0s - loss: 0.5948     \n",
      "24/24 [==============================] - 0s\n",
      "Epoch 1/30\n",
      "208/208 [==============================] - 0s - loss: 0.6980     \n",
      "Epoch 2/30\n",
      "208/208 [==============================] - 0s - loss: 0.6778     \n",
      "Epoch 3/30\n",
      "208/208 [==============================] - 0s - loss: 0.6648     \n",
      "Epoch 4/30\n",
      "208/208 [==============================] - 0s - loss: 0.6516     \n",
      "Epoch 5/30\n",
      "208/208 [==============================] - 0s - loss: 0.6414     \n",
      "Epoch 6/30\n",
      "208/208 [==============================] - 0s - loss: 0.6331     \n",
      "Epoch 7/30\n",
      "208/208 [==============================] - 0s - loss: 0.6264     \n",
      "Epoch 8/30\n",
      "208/208 [==============================] - 0s - loss: 0.6223     \n",
      "Epoch 9/30\n",
      "208/208 [==============================] - 0s - loss: 0.6182     \n",
      "Epoch 10/30\n",
      "208/208 [==============================] - 0s - loss: 0.6140     \n",
      "Epoch 11/30\n",
      "208/208 [==============================] - 0s - loss: 0.6124     \n",
      "Epoch 12/30\n",
      "208/208 [==============================] - 0s - loss: 0.6118     \n",
      "Epoch 13/30\n",
      "208/208 [==============================] - 0s - loss: 0.6120     \n",
      "Epoch 14/30\n",
      "208/208 [==============================] - 0s - loss: 0.6092     \n",
      "Epoch 15/30\n",
      "208/208 [==============================] - 0s - loss: 0.6090     \n",
      "Epoch 16/30\n",
      "208/208 [==============================] - 0s - loss: 0.6080     \n",
      "Epoch 17/30\n",
      "208/208 [==============================] - 0s - loss: 0.6092     \n",
      "Epoch 18/30\n",
      "208/208 [==============================] - 0s - loss: 0.6082     \n",
      "Epoch 19/30\n",
      "208/208 [==============================] - 0s - loss: 0.6082     \n",
      "Epoch 20/30\n",
      "208/208 [==============================] - 0s - loss: 0.6074     \n",
      "Epoch 21/30\n",
      "208/208 [==============================] - 0s - loss: 0.6076     \n",
      "Epoch 22/30\n",
      "208/208 [==============================] - 0s - loss: 0.6079     \n",
      "Epoch 23/30\n",
      "208/208 [==============================] - 0s - loss: 0.6077     \n",
      "Epoch 24/30\n",
      "208/208 [==============================] - 0s - loss: 0.6071     \n",
      "Epoch 25/30\n",
      "208/208 [==============================] - 0s - loss: 0.6073     \n",
      "Epoch 26/30\n",
      "208/208 [==============================] - 0s - loss: 0.6077     \n",
      "Epoch 27/30\n",
      "208/208 [==============================] - 0s - loss: 0.6073     \n",
      "Epoch 28/30\n",
      "208/208 [==============================] - 0s - loss: 0.6070     \n",
      "Epoch 29/30\n",
      "208/208 [==============================] - 0s - loss: 0.6071     \n",
      "Epoch 30/30\n",
      "208/208 [==============================] - 0s - loss: 0.6063     \n",
      "23/23 [==============================] - 0s\n",
      "Epoch 1/30\n",
      "208/208 [==============================] - 0s - loss: 0.6629     \n",
      "Epoch 2/30\n",
      "208/208 [==============================] - 0s - loss: 0.6364     \n",
      "Epoch 3/30\n",
      "208/208 [==============================] - 0s - loss: 0.6204     \n",
      "Epoch 4/30\n",
      "208/208 [==============================] - 0s - loss: 0.6081     \n",
      "Epoch 5/30\n",
      "208/208 [==============================] - 0s - loss: 0.5999     \n",
      "Epoch 6/30\n",
      "208/208 [==============================] - 0s - loss: 0.5934     \n",
      "Epoch 7/30\n",
      "208/208 [==============================] - 0s - loss: 0.5902     \n",
      "Epoch 8/30\n",
      "208/208 [==============================] - 0s - loss: 0.5872     \n",
      "Epoch 9/30\n",
      "208/208 [==============================] - 0s - loss: 0.5860     \n",
      "Epoch 10/30\n",
      "208/208 [==============================] - 0s - loss: 0.5847     \n",
      "Epoch 11/30\n",
      "208/208 [==============================] - 0s - loss: 0.5843     \n",
      "Epoch 12/30\n",
      "208/208 [==============================] - 0s - loss: 0.5823     \n",
      "Epoch 13/30\n",
      "208/208 [==============================] - 0s - loss: 0.5821     \n",
      "Epoch 14/30\n",
      "208/208 [==============================] - 0s - loss: 0.5817     \n",
      "Epoch 15/30\n",
      "208/208 [==============================] - 0s - loss: 0.5817     \n",
      "Epoch 16/30\n",
      "208/208 [==============================] - 0s - loss: 0.5822     \n",
      "Epoch 17/30\n",
      "208/208 [==============================] - 0s - loss: 0.5809     \n",
      "Epoch 18/30\n",
      "208/208 [==============================] - 0s - loss: 0.5812     \n",
      "Epoch 19/30\n",
      "208/208 [==============================] - 0s - loss: 0.5806     \n",
      "Epoch 20/30\n",
      "208/208 [==============================] - 0s - loss: 0.5825     \n",
      "Epoch 21/30\n",
      "208/208 [==============================] - 0s - loss: 0.5804     \n",
      "Epoch 22/30\n",
      "208/208 [==============================] - 0s - loss: 0.5810     \n",
      "Epoch 23/30\n",
      "208/208 [==============================] - 0s - loss: 0.5816     \n",
      "Epoch 24/30\n",
      "208/208 [==============================] - 0s - loss: 0.5815     \n",
      "Epoch 25/30\n",
      "208/208 [==============================] - 0s - loss: 0.5805     \n",
      "Epoch 26/30\n",
      "208/208 [==============================] - 0s - loss: 0.5818     \n",
      "Epoch 27/30\n",
      "208/208 [==============================] - 0s - loss: 0.5808     \n",
      "Epoch 28/30\n",
      "208/208 [==============================] - 0s - loss: 0.5801     \n",
      "Epoch 29/30\n",
      "208/208 [==============================] - 0s - loss: 0.5811     \n",
      "Epoch 30/30\n",
      "208/208 [==============================] - 0s - loss: 0.5805     \n",
      "23/23 [==============================] - 0s\n",
      "Epoch 1/30\n",
      "208/208 [==============================] - 0s - loss: 0.6802     \n",
      "Epoch 2/30\n",
      "208/208 [==============================] - 0s - loss: 0.6587     \n",
      "Epoch 3/30\n",
      "208/208 [==============================] - 0s - loss: 0.6443     \n",
      "Epoch 4/30\n",
      "208/208 [==============================] - 0s - loss: 0.6340     \n",
      "Epoch 5/30\n",
      "208/208 [==============================] - 0s - loss: 0.6259     \n",
      "Epoch 6/30\n",
      "208/208 [==============================] - 0s - loss: 0.6183     \n",
      "Epoch 7/30\n",
      "208/208 [==============================] - 0s - loss: 0.6147     \n",
      "Epoch 8/30\n",
      "208/208 [==============================] - 0s - loss: 0.6107     \n",
      "Epoch 9/30\n",
      "208/208 [==============================] - 0s - loss: 0.6091     \n",
      "Epoch 10/30\n",
      "208/208 [==============================] - 0s - loss: 0.6065     \n",
      "Epoch 11/30\n",
      "208/208 [==============================] - 0s - loss: 0.6061     \n",
      "Epoch 12/30\n",
      "208/208 [==============================] - 0s - loss: 0.6048     \n",
      "Epoch 13/30\n",
      "208/208 [==============================] - 0s - loss: 0.6049     \n",
      "Epoch 14/30\n",
      "208/208 [==============================] - 0s - loss: 0.6035     \n",
      "Epoch 15/30\n",
      "208/208 [==============================] - 0s - loss: 0.6042     \n",
      "Epoch 16/30\n",
      "208/208 [==============================] - 0s - loss: 0.6035     \n",
      "Epoch 17/30\n",
      "208/208 [==============================] - 0s - loss: 0.6037     \n",
      "Epoch 18/30\n",
      "208/208 [==============================] - 0s - loss: 0.6029     \n",
      "Epoch 19/30\n",
      "208/208 [==============================] - 0s - loss: 0.6042     \n",
      "Epoch 20/30\n",
      "208/208 [==============================] - 0s - loss: 0.6038     \n",
      "Epoch 21/30\n",
      "208/208 [==============================] - 0s - loss: 0.6023     \n",
      "Epoch 22/30\n",
      "208/208 [==============================] - 0s - loss: 0.6023     \n",
      "Epoch 23/30\n",
      "208/208 [==============================] - 0s - loss: 0.6039     \n",
      "Epoch 24/30\n",
      "208/208 [==============================] - 0s - loss: 0.6022     \n",
      "Epoch 25/30\n",
      "208/208 [==============================] - 0s - loss: 0.6030     \n",
      "Epoch 26/30\n",
      "208/208 [==============================] - 0s - loss: 0.6032     \n",
      "Epoch 27/30\n",
      "208/208 [==============================] - 0s - loss: 0.6027     \n",
      "Epoch 28/30\n",
      "208/208 [==============================] - 0s - loss: 0.6019     \n",
      "Epoch 29/30\n",
      "208/208 [==============================] - 0s - loss: 0.6027     \n",
      "Epoch 30/30\n",
      "208/208 [==============================] - 0s - loss: 0.6025     \n",
      "23/23 [==============================] - 0s\n",
      "Epoch 1/30\n",
      "208/208 [==============================] - 0s - loss: 0.7023     \n",
      "Epoch 2/30\n",
      "208/208 [==============================] - 0s - loss: 0.6844     \n",
      "Epoch 3/30\n",
      "208/208 [==============================] - 0s - loss: 0.6713     \n",
      "Epoch 4/30\n",
      "208/208 [==============================] - 0s - loss: 0.6596     \n",
      "Epoch 5/30\n",
      "208/208 [==============================] - 0s - loss: 0.6478     \n",
      "Epoch 6/30\n",
      "208/208 [==============================] - 0s - loss: 0.6368     \n",
      "Epoch 7/30\n",
      "208/208 [==============================] - 0s - loss: 0.6278     \n",
      "Epoch 8/30\n",
      "208/208 [==============================] - 0s - loss: 0.6202     \n",
      "Epoch 9/30\n",
      "208/208 [==============================] - 0s - loss: 0.6127     \n",
      "Epoch 10/30\n",
      "208/208 [==============================] - 0s - loss: 0.6066     \n",
      "Epoch 11/30\n",
      "208/208 [==============================] - 0s - loss: 0.6018     \n",
      "Epoch 12/30\n",
      "208/208 [==============================] - 0s - loss: 0.5979     \n",
      "Epoch 13/30\n",
      "208/208 [==============================] - 0s - loss: 0.5948     \n",
      "Epoch 14/30\n",
      "208/208 [==============================] - 0s - loss: 0.5947     \n",
      "Epoch 15/30\n",
      "208/208 [==============================] - 0s - loss: 0.5921     \n",
      "Epoch 16/30\n",
      "208/208 [==============================] - 0s - loss: 0.5919     \n",
      "Epoch 17/30\n",
      "208/208 [==============================] - 0s - loss: 0.5906     \n",
      "Epoch 18/30\n",
      "208/208 [==============================] - 0s - loss: 0.5905     \n",
      "Epoch 19/30\n",
      "208/208 [==============================] - 0s - loss: 0.5902     \n",
      "Epoch 20/30\n",
      "208/208 [==============================] - 0s - loss: 0.5883     \n",
      "Epoch 21/30\n",
      "208/208 [==============================] - 0s - loss: 0.5888     \n",
      "Epoch 22/30\n",
      "208/208 [==============================] - 0s - loss: 0.5884     \n",
      "Epoch 23/30\n",
      "208/208 [==============================] - 0s - loss: 0.5888     \n",
      "Epoch 24/30\n",
      "208/208 [==============================] - 0s - loss: 0.5879     \n",
      "Epoch 25/30\n",
      "208/208 [==============================] - 0s - loss: 0.5883     \n",
      "Epoch 26/30\n",
      "208/208 [==============================] - 0s - loss: 0.5875     \n",
      "Epoch 27/30\n",
      "208/208 [==============================] - 0s - loss: 0.5879     \n",
      "Epoch 28/30\n",
      "208/208 [==============================] - 0s - loss: 0.5880     \n",
      "Epoch 29/30\n",
      "208/208 [==============================] - 0s - loss: 0.5879     \n",
      "Epoch 30/30\n",
      "208/208 [==============================] - 0s - loss: 0.5881     \n",
      "23/23 [==============================] - 0s\n",
      "Epoch 1/30\n",
      "208/208 [==============================] - 0s - loss: 0.6937     \n",
      "Epoch 2/30\n",
      "208/208 [==============================] - 0s - loss: 0.6742     \n",
      "Epoch 3/30\n",
      "208/208 [==============================] - 0s - loss: 0.6609     \n",
      "Epoch 4/30\n",
      "208/208 [==============================] - 0s - loss: 0.6473     \n",
      "Epoch 5/30\n",
      "208/208 [==============================] - 0s - loss: 0.6350     \n",
      "Epoch 6/30\n",
      "208/208 [==============================] - 0s - loss: 0.6240     \n",
      "Epoch 7/30\n",
      "208/208 [==============================] - 0s - loss: 0.6147     \n",
      "Epoch 8/30\n",
      "208/208 [==============================] - 0s - loss: 0.6076     \n",
      "Epoch 9/30\n",
      "208/208 [==============================] - 0s - loss: 0.6020     \n",
      "Epoch 10/30\n",
      "208/208 [==============================] - 0s - loss: 0.5977     \n",
      "Epoch 11/30\n",
      "208/208 [==============================] - 0s - loss: 0.5957     \n",
      "Epoch 12/30\n",
      "208/208 [==============================] - 0s - loss: 0.5929     \n",
      "Epoch 13/30\n",
      "208/208 [==============================] - 0s - loss: 0.5917     \n",
      "Epoch 14/30\n",
      "208/208 [==============================] - 0s - loss: 0.5899     \n",
      "Epoch 15/30\n",
      "208/208 [==============================] - 0s - loss: 0.5891     \n",
      "Epoch 16/30\n",
      "208/208 [==============================] - 0s - loss: 0.5890     \n",
      "Epoch 17/30\n",
      "208/208 [==============================] - 0s - loss: 0.5875     \n",
      "Epoch 18/30\n",
      "208/208 [==============================] - 0s - loss: 0.5878     \n",
      "Epoch 19/30\n",
      "208/208 [==============================] - 0s - loss: 0.5873     \n",
      "Epoch 20/30\n",
      "208/208 [==============================] - 0s - loss: 0.5868     \n",
      "Epoch 21/30\n",
      "208/208 [==============================] - 0s - loss: 0.5872     \n",
      "Epoch 22/30\n",
      "208/208 [==============================] - 0s - loss: 0.5861     \n",
      "Epoch 23/30\n",
      "208/208 [==============================] - 0s - loss: 0.5865     \n",
      "Epoch 24/30\n",
      "208/208 [==============================] - 0s - loss: 0.5871     \n",
      "Epoch 25/30\n",
      "208/208 [==============================] - 0s - loss: 0.5866     \n",
      "Epoch 26/30\n",
      "208/208 [==============================] - 0s - loss: 0.5858     \n",
      "Epoch 27/30\n",
      "208/208 [==============================] - 0s - loss: 0.5863     \n",
      "Epoch 28/30\n",
      "208/208 [==============================] - 0s - loss: 0.5856     \n",
      "Epoch 29/30\n",
      "208/208 [==============================] - 0s - loss: 0.5852     \n",
      "Epoch 30/30\n",
      "208/208 [==============================] - 0s - loss: 0.5855     \n",
      "23/23 [==============================] - 0s\n",
      "Epoch 1/30\n",
      "208/208 [==============================] - 0s - loss: 0.6893     \n",
      "Epoch 2/30\n",
      "208/208 [==============================] - 0s - loss: 0.6800     \n",
      "Epoch 3/30\n",
      "208/208 [==============================] - 0s - loss: 0.6721     \n",
      "Epoch 4/30\n",
      "208/208 [==============================] - 0s - loss: 0.6640     \n",
      "Epoch 5/30\n",
      "208/208 [==============================] - 0s - loss: 0.6562     \n",
      "Epoch 6/30\n",
      "208/208 [==============================] - 0s - loss: 0.6481     \n",
      "Epoch 7/30\n",
      "208/208 [==============================] - 0s - loss: 0.6406     \n",
      "Epoch 8/30\n",
      "208/208 [==============================] - 0s - loss: 0.6331     \n",
      "Epoch 9/30\n",
      "208/208 [==============================] - 0s - loss: 0.6267     \n",
      "Epoch 10/30\n",
      "208/208 [==============================] - 0s - loss: 0.6208     \n",
      "Epoch 11/30\n",
      "208/208 [==============================] - 0s - loss: 0.6154     \n",
      "Epoch 12/30\n",
      "208/208 [==============================] - 0s - loss: 0.6117     \n",
      "Epoch 13/30\n",
      "208/208 [==============================] - 0s - loss: 0.6085     \n",
      "Epoch 14/30\n",
      "208/208 [==============================] - 0s - loss: 0.6059     \n",
      "Epoch 15/30\n",
      "208/208 [==============================] - 0s - loss: 0.6047     \n",
      "Epoch 16/30\n",
      "208/208 [==============================] - 0s - loss: 0.6031     \n",
      "Epoch 17/30\n",
      "208/208 [==============================] - 0s - loss: 0.6025     \n",
      "Epoch 18/30\n",
      "208/208 [==============================] - 0s - loss: 0.6017     \n",
      "Epoch 19/30\n",
      "208/208 [==============================] - 0s - loss: 0.6016     \n",
      "Epoch 20/30\n",
      "208/208 [==============================] - 0s - loss: 0.6010     \n",
      "Epoch 21/30\n",
      "208/208 [==============================] - 0s - loss: 0.6006     \n",
      "Epoch 22/30\n",
      "208/208 [==============================] - 0s - loss: 0.6005     \n",
      "Epoch 23/30\n",
      "208/208 [==============================] - 0s - loss: 0.5996     \n",
      "Epoch 24/30\n",
      "208/208 [==============================] - 0s - loss: 0.5996     \n",
      "Epoch 25/30\n",
      "208/208 [==============================] - 0s - loss: 0.5987     \n",
      "Epoch 26/30\n",
      " 32/208 [===>..........................] - ETA: 0s - loss: 0.6147"
     ]
    }
   ],
   "source": [
    "#Set_Layers = [1,2,3,4]\n",
    "Set_Layers = [1]\n",
    "\n",
    "#Set_Epoch = range(5, 80, 5)\n",
    "Set_Epoch = [30]\n",
    "\n",
    "file_name_mse = 'nueral_2_06_mse.csv' \n",
    "file_name_roc = 'nueral_2_06_roc.csv' \n",
    "List_loss_mean, List_loss_roc  = CV_NeuNet(X.values, y_bin, Set_Layers, Set_Epoch, file_name_mse, file_name_roc)"
   ]
  },
  {
   "cell_type": "code",
   "execution_count": 295,
   "metadata": {
    "collapsed": false
   },
   "outputs": [
    {
     "data": {
      "text/plain": [
       "(array([[ 0.68387681]]), array([[ 0.70122655]]))"
      ]
     },
     "execution_count": 295,
     "metadata": {},
     "output_type": "execute_result"
    }
   ],
   "source": [
    "List_loss_mean, List_loss_roc"
   ]
  },
  {
   "cell_type": "code",
   "execution_count": null,
   "metadata": {
    "collapsed": true
   },
   "outputs": [],
   "source": []
  },
  {
   "cell_type": "code",
   "execution_count": null,
   "metadata": {
    "collapsed": true
   },
   "outputs": [],
   "source": []
  },
  {
   "cell_type": "code",
   "execution_count": 278,
   "metadata": {
    "collapsed": false
   },
   "outputs": [
    {
     "data": {
      "image/png": "[encoded data removed]",
      "text/plain": [
       "<matplotlib.figure.Figure at 0x118eb83d0>"
      ]
     },
     "metadata": {},
     "output_type": "display_data"
    }
   ],
   "source": [
    "import matplotlib.pyplot as plt\n",
    "Name_Set_Layers = [\"Number of Layer = {}\".format(layer) for layer in Set_Layers]\n",
    "file_name_mse = 'nueral_2_03_mse.csv' \n",
    "List_loss_mse2 = pd.read_csv(file_name_mse)\n",
    "df_mse = List_loss_mse2[Name_Set_Layers]\n",
    "df_mse.index = List_loss_mse2[\"Unnamed: 0\"]\n",
    "\n",
    "ax = df_mse.plot(lw=2)#, ylim = [0.6,0.9])\n",
    "ax.set_title(\"Accuracy over epoch\",fontsize=20)\n",
    "ax.set_xlabel(\"Epoch\",fontsize=18)\n",
    "ax.set_ylabel(\"Accuracy\",fontsize=18)\n",
    "#plt.savefig('Accuracy_over_epoch_04.png')\n",
    "plt.show()\n"
   ]
  },
  {
   "cell_type": "code",
   "execution_count": 288,
   "metadata": {
    "collapsed": false
   },
   "outputs": [
    {
     "data": {
      "image/png": "[encoded data removed]",
      "text/plain": [
       "<matplotlib.figure.Figure at 0x1177b6f10>"
      ]
     },
     "metadata": {},
     "output_type": "display_data"
    }
   ],
   "source": [
    "Set_Layers = [1,2,3,4]\n",
    "Name_Set_Layers = [\"Number of Layer = {}\".format(layer) for layer in Set_Layers]\n",
    "file_name_mse = 'nueral_2_03_mse.csv' \n",
    "List_loss_mse2 = pd.read_csv(file_name_mse)\n",
    "df_mse = List_loss_mse2[Name_Set_Layers]\n",
    "df_mse.index = List_loss_mse2[\"Unnamed: 0\"]\n",
    "\n",
    "df_mse2 = df_mse[Name_Set_Layers[0:2]]\n",
    "ax = df_mse2.plot(lw=2)#, ylim = [0.6,0.9])\n",
    "ax.set_title(\"Accuracy over epoch\",fontsize=20)\n",
    "ax.set_xlabel(\"Epoch\",fontsize=18)\n",
    "ax.set_ylabel(\"Accuracy\",fontsize=18)\n",
    "plt.savefig('Accuracy_over_epoch_05.png')\n",
    "plt.show()\n",
    "\n"
   ]
  },
  {
   "cell_type": "code",
   "execution_count": 280,
   "metadata": {
    "collapsed": false
   },
   "outputs": [
    {
     "data": {
      "text/plain": [
       "['Number of Layer = 1', 'Number of Layer = 2']"
      ]
     },
     "execution_count": 280,
     "metadata": {},
     "output_type": "execute_result"
    }
   ],
   "source": [
    "Name_Set_Layers[0:2]"
   ]
  },
  {
   "cell_type": "code",
   "execution_count": 155,
   "metadata": {
    "collapsed": false
   },
   "outputs": [
    {
     "data": {
      "image/png": "[encoded data removed]",
      "text/plain": [
       "<matplotlib.figure.Figure at 0x116bc3d90>"
      ]
     },
     "metadata": {},
     "output_type": "display_data"
    }
   ],
   "source": [
    "Name_Set_Layers = [\"Number of Layer = {}\".format(layer) for layer in Set_Layers]\n",
    "List_loss_roc2 = pd.read_csv(file_name_roc)\n",
    "df_roc = List_loss_roc2[Name_Set_Layers]\n",
    "df_roc.index = List_loss_roc2[\"Unnamed: 0\"]\n",
    "\n",
    "ax = df_roc.plot(lw=2)#, ylim = [0.6,0.9])\n",
    "ax.set_title(\"roc_auc over epoch\",fontsize=20)\n",
    "ax.set_xlabel(\"Epoch\",fontsize=18)\n",
    "ax.set_ylabel(\"roc_auc\",fontsize=18)\n",
    "plt.savefig('roc_auc_over_epoch_04.png')\n",
    "plt.show()"
   ]
  },
  {
   "cell_type": "code",
   "execution_count": 290,
   "metadata": {
    "collapsed": false
   },
   "outputs": [
    {
     "data": {
      "image/png": "[encoded data removed]",
      "text/plain": [
       "<matplotlib.figure.Figure at 0x1171e52d0>"
      ]
     },
     "metadata": {},
     "output_type": "display_data"
    }
   ],
   "source": [
    "Set_Layers = [1,2,3,4]\n",
    "Name_Set_Layers = [\"Number of Layer = {}\".format(layer) for layer in Set_Layers]\n",
    "file_name_mse = 'nueral_2_03_roc.csv' \n",
    "List_loss_mse2 = pd.read_csv(file_name_mse)\n",
    "df_mse = List_loss_mse2[Name_Set_Layers]\n",
    "df_mse.index = List_loss_mse2[\"Unnamed: 0\"]\n",
    "\n",
    "df_mse2 = df_mse[Name_Set_Layers[0:2]]\n",
    "ax = df_mse2.plot(lw=2)#, ylim = [0.6,0.9])\n",
    "ax.set_title(\"roc_auc over epoch\",fontsize=20)\n",
    "ax.set_xlabel(\"Epoch\",fontsize=18)\n",
    "ax.set_ylabel(\"roc_auc\",fontsize=18)\n",
    "plt.savefig('roc_auc_over_epoch_05.png')\n",
    "plt.show()\n"
   ]
  },
  {
   "cell_type": "code",
   "execution_count": null,
   "metadata": {
    "collapsed": true
   },
   "outputs": [],
   "source": []
  },
  {
   "cell_type": "code",
   "execution_count": null,
   "metadata": {
    "collapsed": true
   },
   "outputs": [],
   "source": []
  }
 ],
 "metadata": {
  "kernelspec": {
   "display_name": "Python 2",
   "language": "python",
   "name": "python2"
  },
  "language_info": {
   "codemirror_mode": {
    "name": "ipython",
    "version": 2
   },
   "file_extension": ".py",
   "mimetype": "text/x-python",
   "name": "python",
   "nbconvert_exporter": "python",
   "pygments_lexer": "ipython2",
   "version": "2.7.11"
  }
 },
 "nbformat": 4,
 "nbformat_minor": 0
}
