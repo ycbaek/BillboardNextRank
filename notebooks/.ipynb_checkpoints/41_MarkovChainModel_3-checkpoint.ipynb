{
 "cells": [
  {
   "cell_type": "code",
   "execution_count": 117,
   "metadata": {
    "collapsed": true
   },
   "outputs": [],
   "source": [
    "import pandas as pd\n",
    "import numpy as np\n",
    "from sklearn.cross_validation import KFold\n",
    "%matplotlib inline\n",
    "import matplotlib.pyplot as plt"
   ]
  },
  {
   "cell_type": "code",
   "execution_count": 118,
   "metadata": {
    "collapsed": true
   },
   "outputs": [],
   "source": [
    "def get_base(dfngram, ngram = 2):\n",
    "    dfngram = dfngram.astype('int')\n",
    "    col = [\"diff_{}\".format(i) for i in range(ngram)]\n",
    "    df = dfngram[col]\n",
    "    ASET = set()\n",
    "    for i in xrange(len(df)):\n",
    "        ASET.add(tuple(df.iloc[i]))\n",
    "    \n",
    "    return ASET"
   ]
  },
  {
   "cell_type": "code",
   "execution_count": 119,
   "metadata": {
    "collapsed": true
   },
   "outputs": [],
   "source": [
    "def get_markov(dfngram, ngram = 2):\n",
    "    \n",
    "    if ngram == 1:\n",
    "        base = set(range(1,101))\n",
    "    else:\n",
    "        base = get_base(dfngram, ngram = ngram)\n",
    "        \n",
    "    xy_table = pd.DataFrame(data = np.zeros([len(base), 101]), index=base, columns=range(1,102))\n",
    "    x_table = pd.DataFrame(data = np.zeros([len(base), 1]), index=base, columns= ['target'])\n",
    "    \n",
    "    dfngram = dfngram.astype('int')\n",
    "    col = [\"diff_{}\".format(i) for i in range(ngram)]\n",
    "    df = dfngram[col]\n",
    "    target = dfngram['target'].values\n",
    "    \n",
    "    for i in range(len(df)):\n",
    "        if ngram == 1:\n",
    "            t = df.iloc[i].values[0]\n",
    "        else:\n",
    "            t = tuple(df.iloc[i])\n",
    "            \n",
    "        s = target[i]\n",
    "        xy_table.ix[t,s] += 1\n",
    "        x_table.ix[t,\"target\"] += 1\n",
    "    \n",
    "    prob_value = np.array(xy_table)/np.array(x_table)\n",
    "    p_table = pd.DataFrame(data = prob_value, index=base, columns=range(1,102))\n",
    "    \n",
    "    p_table[\"base\"] = p_table.index\n",
    "    p_xy = p_table[range(1,102)].values\n",
    "    p_y = np.array(range(1,102))\n",
    "    p_table['pred'] = np.dot(p_xy,p_y)\n",
    "    \n",
    "    #return p_table, xy_table, x_table, base\n",
    "    return p_table, base\n",
    "    "
   ]
  },
  {
   "cell_type": "code",
   "execution_count": 120,
   "metadata": {
    "collapsed": false
   },
   "outputs": [],
   "source": [
    "def get_mse_7(dfngram, p_table7, p_table6, p_table5, p_table4, p_table3, p_table2, p_table1, \\\n",
    "              base7, base6, base5, base4, base3, base2, base1):\n",
    "    \n",
    "    ngram = 7\n",
    "    dfngram = dfngram.astype('int')\n",
    "    col = [\"diff_{}\".format(i) for i in range(ngram)]\n",
    "    df = dfngram[col]\n",
    "\n",
    "    est_list = []\n",
    "    diff_list = []\n",
    "    for i in range(len(df)):\n",
    "        basei = tuple(df.iloc[i])\n",
    "        esti = get_est_7(basei, p_table7, p_table6, p_table5, p_table4, p_table3, p_table2, p_table1, \\\n",
    "              base7, base6, base5, base4, base3, base2, base1)\n",
    "        est_list.append(esti)\n",
    "        diff_list.append(dfngram['target'].values[i] - esti)\n",
    "    \n",
    "    dfngram['est'] = est_list\n",
    "    dfngram['diff'] = diff_list\n",
    "    mse_list = np.array(diff_list)\n",
    "    return np.sqrt(np.mean(mse_list**2))\n"
   ]
  },
  {
   "cell_type": "code",
   "execution_count": 121,
   "metadata": {
    "collapsed": true
   },
   "outputs": [],
   "source": [
    "def get_mse_6(dfngram, p_table6, p_table5, p_table4, p_table3, p_table2, p_table1,\\\n",
    "              base6, base5, base4, base3, base2, base1):\n",
    "    \n",
    "    ngram = 6\n",
    "    dfngram = dfngram.astype('int')\n",
    "    col = [\"diff_{}\".format(i) for i in range(ngram)]\n",
    "    df = dfngram[col]\n",
    "\n",
    "    est_list = []\n",
    "    diff_list = []\n",
    "    for i in range(len(df)):\n",
    "        basei = tuple(df.iloc[i])\n",
    "        esti = get_est_6(basei, p_table6, p_table5, p_table4, p_table3, p_table2, p_table1,\\\n",
    "              base6, base5, base4, base3, base2, base1)\n",
    "        est_list.append(esti)\n",
    "        diff_list.append(dfngram['target'].values[i] - esti)\n",
    "    \n",
    "    dfngram['est'] = est_list\n",
    "    dfngram['diff'] = diff_list\n",
    "    mse_list = np.array(diff_list)\n",
    "    \n",
    "    return np.sqrt(np.mean(mse_list**2))\n"
   ]
  },
  {
   "cell_type": "code",
   "execution_count": 122,
   "metadata": {
    "collapsed": false
   },
   "outputs": [],
   "source": [
    "def get_mse_5(dfngram, p_table5, p_table4, p_table3, p_table2, p_table1,\\\n",
    "              base5, base4, base3, base2, base1):\n",
    "    \n",
    "    ngram = 5\n",
    "    dfngram = dfngram.astype('int')\n",
    "    col = [\"diff_{}\".format(i) for i in range(ngram)]\n",
    "    df = dfngram[col]\n",
    "\n",
    "    est_list = []\n",
    "    diff_list = []\n",
    "    for i in range(len(df)):\n",
    "        basei = tuple(df.iloc[i])\n",
    "        esti = get_est_5(basei, p_table5, p_table4, p_table3, p_table2, p_table1,\\\n",
    "              base5, base4, base3, base2, base1)\n",
    "        est_list.append(esti)\n",
    "        diff_list.append(dfngram['target'].values[i] - esti)\n",
    "    \n",
    "    dfngram['est'] = est_list\n",
    "    dfngram['diff'] = diff_list\n",
    "    mse_list = np.array(diff_list)\n",
    "    \n",
    "    return np.sqrt(np.mean(mse_list**2))"
   ]
  },
  {
   "cell_type": "code",
   "execution_count": 123,
   "metadata": {
    "collapsed": false
   },
   "outputs": [],
   "source": [
    "def get_mse_4(dfngram, p_table4, p_table3, p_table2, p_table1, base4, base3, base2, base1):\n",
    "    \n",
    "    ngram = 4\n",
    "    dfngram = dfngram.astype('int')\n",
    "    col = [\"diff_{}\".format(i) for i in range(ngram)]\n",
    "    df = dfngram[col]\n",
    "\n",
    "    est_list = []\n",
    "    diff_list = []\n",
    "    for i in range(len(df)):\n",
    "        basei = tuple(df.iloc[i])\n",
    "        esti = get_est_4(basei, p_table4, p_table3, p_table2, p_table1, base4, base3, base2, base1)\n",
    "        est_list.append(esti)\n",
    "        diff_list.append(dfngram['target'].values[i] - esti)\n",
    "    \n",
    "    dfngram['est'] = est_list\n",
    "    dfngram['diff'] = diff_list\n",
    "    mse_list = np.array(diff_list)\n",
    "    \n",
    "    return np.sqrt(np.mean(mse_list**2))"
   ]
  },
  {
   "cell_type": "code",
   "execution_count": 124,
   "metadata": {
    "collapsed": false
   },
   "outputs": [],
   "source": [
    "def get_mse_3(dfngram, p_table3, p_table2, p_table1, base3, base2, base1):\n",
    "    \n",
    "    ngram = 3\n",
    "    dfngram = dfngram.astype('int')\n",
    "    col = [\"diff_{}\".format(i) for i in range(ngram)]\n",
    "    df = dfngram[col]\n",
    "\n",
    "    est_list = []\n",
    "    diff_list = []\n",
    "    for i in range(len(df)):\n",
    "        basei = tuple(df.iloc[i])\n",
    "        esti = get_est_3(basei, p_table3, p_table2, p_table1, base3, base2, base1)\n",
    "        est_list.append(esti)\n",
    "        diff_list.append(dfngram['target'].values[i] - esti)\n",
    "    \n",
    "    dfngram['est'] = est_list\n",
    "    dfngram['diff'] = diff_list\n",
    "    mse_list = np.array(diff_list)\n",
    "    \n",
    "    return np.sqrt(np.mean(mse_list**2))"
   ]
  },
  {
   "cell_type": "code",
   "execution_count": 125,
   "metadata": {
    "collapsed": false
   },
   "outputs": [],
   "source": [
    "def get_mse_2(dfngram, p_table2, p_table1, base2, base1):\n",
    "    \n",
    "    ngram = 2\n",
    "    dfngram = dfngram.astype('int')\n",
    "    col = [\"diff_{}\".format(i) for i in range(ngram)]\n",
    "    df = dfngram[col]\n",
    "\n",
    "    est_list = []\n",
    "    diff_list = []\n",
    "    for i in range(len(df)):\n",
    "        basei = tuple(df.iloc[i])\n",
    "        esti = get_est_2(basei, p_table2, p_table1, base2, base1)\n",
    "        est_list.append(esti)\n",
    "        diff_list.append(dfngram['target'].values[i] - esti)\n",
    "    \n",
    "    dfngram['est'] = est_list\n",
    "    dfngram['diff'] = diff_list\n",
    "    mse_list = np.array(diff_list)\n",
    "    \n",
    "    return np.sqrt(np.mean(mse_list**2))"
   ]
  },
  {
   "cell_type": "code",
   "execution_count": 126,
   "metadata": {
    "collapsed": true
   },
   "outputs": [],
   "source": [
    "def get_mse_1(dfngram, p_table1, base1):\n",
    "    \n",
    "    ngram = 1\n",
    "    dfngram = dfngram.astype('int')\n",
    "    col = [\"diff_{}\".format(i) for i in range(ngram)]\n",
    "    df = dfngram[col]\n",
    "\n",
    "    est_list = []\n",
    "    diff_list = []\n",
    "    for i in range(len(df)):\n",
    "        basei = tuple(df.iloc[i])\n",
    "        esti = get_est_1(basei, p_table1, base1)\n",
    "        est_list.append(esti)\n",
    "        diff_list.append(dfngram['target'].values[i] - esti)\n",
    "    \n",
    "    dfngram['est'] = est_list\n",
    "    dfngram['diff'] = diff_list\n",
    "    mse_list = np.array(diff_list)\n",
    "    \n",
    "    return np.sqrt(np.mean(mse_list**2))"
   ]
  },
  {
   "cell_type": "code",
   "execution_count": 127,
   "metadata": {
    "collapsed": true
   },
   "outputs": [],
   "source": [
    "def get_est_7(basei, p_table7, p_table6, p_table5, p_table4, p_table3, p_table2, p_table1, \\\n",
    "              base7, base6, base5, base4, base3, base2, base1):\n",
    "    \n",
    "    if basei in base7:\n",
    "        return p_table7[p_table7['base']==basei]['pred'].values[0]\n",
    "    else:\n",
    "        if basei[1:] in base6:\n",
    "            return p_table6[p_table6['base']==basei[1:]]['pred'].values[0]\n",
    "        else:\n",
    "            if basei[2:] in base5:\n",
    "                return p_table5[p_table5['base']==basei[2:]]['pred'].values[0]\n",
    "            else: \n",
    "                if basei[3:] in base4:\n",
    "                    return p_table4[p_table4['base']==basei[3:]]['pred'].values[0]\n",
    "                else:\n",
    "                    if basei[4:] in base3:\n",
    "                        return p_table3[p_table3['base']==basei[4:]]['pred'].values[0]\n",
    "                    else:\n",
    "                        if basei[5:] in base2:\n",
    "                            return p_table2[p_table2['base']==basei[5:]]['pred'].values[0]\n",
    "                        else:\n",
    "                            return p_table1[p_table1['base']==basei[6]]['pred'].values[0]"
   ]
  },
  {
   "cell_type": "code",
   "execution_count": 128,
   "metadata": {
    "collapsed": true
   },
   "outputs": [],
   "source": [
    "def get_est_6(basei, p_table6, p_table5, p_table4, p_table3, p_table2, p_table1,\\\n",
    "              base6, base5, base4, base3, base2, base1):\n",
    "    \n",
    "    if basei in base6:\n",
    "        return p_table6[p_table6['base']==basei]['pred'].values[0]\n",
    "    else:\n",
    "        if basei[1:] in base5:\n",
    "            return p_table5[p_table5['base']==basei[1:]]['pred'].values[0]\n",
    "        else:\n",
    "            if basei[2:] in base4:\n",
    "                return p_table4[p_table4['base']==basei[2:]]['pred'].values[0]\n",
    "            else: \n",
    "                if basei[3:] in base3:\n",
    "                    return p_table3[p_table3['base']==basei[3:]]['pred'].values[0]\n",
    "                else:\n",
    "                    if basei[4:] in base2:\n",
    "                        return p_table2[p_table2['base']==basei[4:]]['pred'].values[0]\n",
    "                    else:\n",
    "                        return p_table1[p_table1['base']==basei[5]]['pred'].values[0]"
   ]
  },
  {
   "cell_type": "code",
   "execution_count": 129,
   "metadata": {
    "collapsed": true
   },
   "outputs": [],
   "source": [
    "def get_est_5(basei, p_table5, p_table4, p_table3, p_table2, p_table1,\\\n",
    "              base5, base4, base3, base2, base1):\n",
    "    \n",
    "    if basei in base5:\n",
    "        return p_table5[p_table5['base']==basei]['pred'].values[0]\n",
    "    else:\n",
    "        if basei[1:] in base4:\n",
    "            return p_table4[p_table4['base']==basei[1:]]['pred'].values[0]\n",
    "        else:\n",
    "            if basei[2:] in base3:\n",
    "                return p_table3[p_table3['base']==basei[2:]]['pred'].values[0]\n",
    "            else: \n",
    "                if basei[3:] in base2:\n",
    "                    return p_table2[p_table2['base']==basei[3:]]['pred'].values[0]\n",
    "                else:\n",
    "                    return p_table1[p_table1['base']==basei[4]]['pred'].values[0]"
   ]
  },
  {
   "cell_type": "code",
   "execution_count": 130,
   "metadata": {
    "collapsed": true
   },
   "outputs": [],
   "source": [
    "def get_est_4(basei, p_table4, p_table3, p_table2, p_table1, base4, base3, base2, base1):\n",
    "    \n",
    "    if basei in base4:\n",
    "        return p_table4[p_table4['base']==basei]['pred'].values[0]\n",
    "    else:\n",
    "        if basei[1:] in base3:\n",
    "            return p_table3[p_table3['base']==basei[1:]]['pred'].values[0]\n",
    "        else:\n",
    "            if basei[2:] in base2:\n",
    "                return p_table2[p_table2['base']==basei[2:]]['pred'].values[0]\n",
    "            else: \n",
    "                return p_table1[p_table1['base']==basei[3]]['pred'].values[0]"
   ]
  },
  {
   "cell_type": "code",
   "execution_count": 131,
   "metadata": {
    "collapsed": false
   },
   "outputs": [],
   "source": [
    "def get_est_3(basei, p_table3, p_table2, p_table1, base3, base2, base1):\n",
    "    \n",
    "    if basei in base3:\n",
    "        return p_table3[p_table3['base']==basei]['pred'].values[0]\n",
    "    else:\n",
    "        if basei[1:] in base2:\n",
    "            return p_table2[p_table2['base']==basei[1:]]['pred'].values[0]\n",
    "        else:\n",
    "            return p_table1[p_table1['base']==basei[2]]['pred'].values[0]"
   ]
  },
  {
   "cell_type": "code",
   "execution_count": 132,
   "metadata": {
    "collapsed": true
   },
   "outputs": [],
   "source": [
    "def get_est_2(basei, p_table2, p_table1, base2, base1):\n",
    "    \n",
    "    if basei in base2:\n",
    "        return p_table2[p_table2['base']==basei]['pred'].values[0]\n",
    "    else:\n",
    "        return p_table1[p_table1['base']==basei[1]]['pred'].values[0]"
   ]
  },
  {
   "cell_type": "code",
   "execution_count": 133,
   "metadata": {
    "collapsed": true
   },
   "outputs": [],
   "source": [
    "def get_est_1(basei, p_table1, base1):\n",
    "    \n",
    "    basei = basei[0]\n",
    "    return p_table1[p_table1['base']==basei]['pred'].values[0]\n",
    "    "
   ]
  },
  {
   "cell_type": "code",
   "execution_count": 135,
   "metadata": {
    "collapsed": true
   },
   "outputs": [],
   "source": [
    "def get_cv(dfngram, ngram , p_table7, p_table6, p_table5, p_table4, p_table3, p_table2, p_table1, \\\n",
    "              base7, base6, base5, base4, base3, base2, base1):\n",
    "    \n",
    "    num_kfold = 5\n",
    "\n",
    "    kf = KFold(len(dfngram), num_kfold, shuffle=True)\n",
    "\n",
    "    list_mse_train = []\n",
    "    list_mse_test = []\n",
    "    \n",
    "    for train_index, test_index in kf:\n",
    "        dfngram_train = dfngram.iloc[train_index]\n",
    "        dfngram_test = dfngram.iloc[test_index]\n",
    "        \n",
    "        if ngram == 7:\n",
    "            p_table_train, base_train = get_markov(dfngram_train, ngram = 7)\n",
    "            mse_train = get_mse_7(dfngram_train, p_table_train, p_table6, p_table5, p_table4, p_table3, p_table2, p_table1,\\\n",
    "                            base_train, base6, base5, base4, base3, base2, base1)\n",
    "            mse_test = get_mse_7(dfngram_test, p_table_train, p_table6, p_table5, p_table4, p_table3, p_table2, p_table1,\\\n",
    "                            base_train, base6, base5, base4, base3, base2, base1)\n",
    "         \n",
    "        if ngram == 6:\n",
    "            p_table_train, base_train = get_markov(dfngram_train, ngram = 6)\n",
    "            mse_train = get_mse_6(dfngram_train, p_table_train, p_table5, p_table4, p_table3, p_table2, p_table1,\\\n",
    "                            base_train, base5, base4, base3, base2, base1)\n",
    "            mse_test = get_mse_6(dfngram_test, p_table_train, p_table5, p_table4, p_table3, p_table2, p_table1,\\\n",
    "                            base_train, base5, base4, base3, base2, base1)\n",
    "        \n",
    "        if ngram == 5:\n",
    "            p_table_train, base_train = get_markov(dfngram_train, ngram = 5)\n",
    "            mse_train = get_mse_5(dfngram_train, p_table_train, p_table4, p_table3, p_table2, p_table1,\\\n",
    "                            base_train, base4, base3, base2, base1)\n",
    "            mse_test = get_mse_5(dfngram_test, p_table_train, p_table4, p_table3, p_table2, p_table1,\\\n",
    "                            base_train, base4, base3, base2, base1)\n",
    "        \n",
    "        if ngram == 4:\n",
    "            p_table_train, base_train = get_markov(dfngram_train, ngram = 4)\n",
    "            mse_train = get_mse_4(dfngram_train, p_table_train, p_table3, p_table2, p_table1,\\\n",
    "                            base_train, base3, base2, base1)\n",
    "            mse_test = get_mse_4(dfngram_test, p_table_train, p_table3, p_table2, p_table1,\\\n",
    "                            base_train, base3, base2, base1)\n",
    "        \n",
    "        \n",
    "        if ngram == 3:\n",
    "            p_table_train, base_train = get_markov(dfngram_train, ngram = 3)\n",
    "            mse_train = get_mse_3(dfngram_train, p_table_train, p_table2, p_table1, base_train, base2, base1)\n",
    "            mse_test = get_mse_3(dfngram_test, p_table_train, p_table2, p_table1, base_train, base2, base1)\n",
    "        \n",
    "        \n",
    "        if ngram == 2:\n",
    "            p_table_train, base_train = get_markov(dfngram_train, ngram = 2)\n",
    "            mse_train = get_mse_2(dfngram_train, p_table_train, p_table1, base_train, base1)\n",
    "            mse_test = get_mse_2(dfngram_test, p_table_train, p_table1, base_train, base1)\n",
    "  \n",
    "        \n",
    "        if ngram == 1:\n",
    "            p_table_train, base_train = get_markov(dfngram_train, ngram = 1)\n",
    "            mse_train = get_mse_1(dfngram_train, p_table_train, base_train)\n",
    "            mse_test = get_mse_1(dfngram_train, p_table_train, base_train)\n",
    "   \n",
    "       \n",
    "        list_mse_train.append(mse_train)\n",
    "        list_mse_test.append(mse_test)\n",
    "        \n",
    "        train_mean = np.mean(np.array(list_mse_train))\n",
    "        test_mean = np.mean(np.array(list_mse_test))\n",
    "        \n",
    "    return train_mean, test_mean"
   ]
  },
  {
   "cell_type": "code",
   "execution_count": null,
   "metadata": {
    "collapsed": true
   },
   "outputs": [],
   "source": []
  },
  {
   "cell_type": "code",
   "execution_count": 18,
   "metadata": {
    "collapsed": true
   },
   "outputs": [],
   "source": [
    "'''\n",
    "dfngram1 = pd.read_csv('../data/small_101_1.csv')\n",
    "dfngram2 = pd.read_csv('../data/small_101_2.csv')\n",
    "dfngram3 = pd.read_csv('../data/small_101_3.csv')\n",
    "dfngram4 = pd.read_csv('../data/small_101_4.csv')\n",
    "dfngram5 = pd.read_csv('../data/small_101_5.csv')\n",
    "dfngram6 = pd.read_csv('../data/small_101_6.csv')\n",
    "dfngram7 = pd.read_csv('../data/small_101_7.csv')\n",
    "'''"
   ]
  },
  {
   "cell_type": "code",
   "execution_count": 136,
   "metadata": {
    "collapsed": true
   },
   "outputs": [],
   "source": [
    "dfngram1 = pd.read_csv('../data/ngram101_1.csv')\n",
    "dfngram2 = pd.read_csv('../data/ngram101_2.csv')\n",
    "dfngram3 = pd.read_csv('../data/ngram101_3.csv')\n",
    "dfngram4 = pd.read_csv('../data/ngram101_4.csv')\n",
    "dfngram5 = pd.read_csv('../data/ngram101_5.csv')\n",
    "dfngram6 = pd.read_csv('../data/ngram101_6.csv')\n",
    "dfngram7 = pd.read_csv('../data/ngram101_7.csv')"
   ]
  },
  {
   "cell_type": "code",
   "execution_count": 137,
   "metadata": {
    "collapsed": false
   },
   "outputs": [
    {
     "data": {
      "text/plain": [
       "2"
      ]
     },
     "execution_count": 137,
     "metadata": {},
     "output_type": "execute_result"
    }
   ],
   "source": [
    "1+1"
   ]
  },
  {
   "cell_type": "code",
   "execution_count": null,
   "metadata": {
    "collapsed": true
   },
   "outputs": [],
   "source": []
  },
  {
   "cell_type": "code",
   "execution_count": 138,
   "metadata": {
    "collapsed": false
   },
   "outputs": [
    {
     "ename": "KeyboardInterrupt",
     "evalue": "",
     "output_type": "error",
     "traceback": [
      "\u001b[0;31m---------------------------------------------------------------------------\u001b[0m",
      "\u001b[0;31mKeyboardInterrupt\u001b[0m                         Traceback (most recent call last)",
      "\u001b[0;32m<ipython-input-138-1d764883c594>\u001b[0m in \u001b[0;36m<module>\u001b[0;34m()\u001b[0m\n\u001b[0;32m----> 1\u001b[0;31m \u001b[0mp_table1\u001b[0m\u001b[0;34m,\u001b[0m \u001b[0mbase1\u001b[0m \u001b[0;34m=\u001b[0m \u001b[0mget_markov\u001b[0m\u001b[0;34m(\u001b[0m\u001b[0mdfngram1\u001b[0m\u001b[0;34m,\u001b[0m \u001b[0mngram\u001b[0m \u001b[0;34m=\u001b[0m \u001b[0;36m1\u001b[0m\u001b[0;34m)\u001b[0m\u001b[0;34m\u001b[0m\u001b[0m\n\u001b[0m\u001b[1;32m      2\u001b[0m \u001b[0mp_table2\u001b[0m\u001b[0;34m,\u001b[0m \u001b[0mbase2\u001b[0m \u001b[0;34m=\u001b[0m \u001b[0mget_markov\u001b[0m\u001b[0;34m(\u001b[0m\u001b[0mdfngram2\u001b[0m\u001b[0;34m,\u001b[0m \u001b[0mngram\u001b[0m \u001b[0;34m=\u001b[0m \u001b[0;36m2\u001b[0m\u001b[0;34m)\u001b[0m\u001b[0;34m\u001b[0m\u001b[0m\n\u001b[1;32m      3\u001b[0m \u001b[0mp_table3\u001b[0m\u001b[0;34m,\u001b[0m \u001b[0mbase3\u001b[0m \u001b[0;34m=\u001b[0m \u001b[0mget_markov\u001b[0m\u001b[0;34m(\u001b[0m\u001b[0mdfngram3\u001b[0m\u001b[0;34m,\u001b[0m \u001b[0mngram\u001b[0m \u001b[0;34m=\u001b[0m \u001b[0;36m3\u001b[0m\u001b[0;34m)\u001b[0m\u001b[0;34m\u001b[0m\u001b[0m\n\u001b[1;32m      4\u001b[0m \u001b[0mp_table4\u001b[0m\u001b[0;34m,\u001b[0m \u001b[0mbase4\u001b[0m \u001b[0;34m=\u001b[0m \u001b[0mget_markov\u001b[0m\u001b[0;34m(\u001b[0m\u001b[0mdfngram4\u001b[0m\u001b[0;34m,\u001b[0m \u001b[0mngram\u001b[0m \u001b[0;34m=\u001b[0m \u001b[0;36m4\u001b[0m\u001b[0;34m)\u001b[0m\u001b[0;34m\u001b[0m\u001b[0m\n\u001b[1;32m      5\u001b[0m \u001b[0mp_table5\u001b[0m\u001b[0;34m,\u001b[0m \u001b[0mbase5\u001b[0m \u001b[0;34m=\u001b[0m \u001b[0mget_markov\u001b[0m\u001b[0;34m(\u001b[0m\u001b[0mdfngram5\u001b[0m\u001b[0;34m,\u001b[0m \u001b[0mngram\u001b[0m \u001b[0;34m=\u001b[0m \u001b[0;36m5\u001b[0m\u001b[0;34m)\u001b[0m\u001b[0;34m\u001b[0m\u001b[0m\n",
      "\u001b[0;32m<ipython-input-119-014602f2db98>\u001b[0m in \u001b[0;36mget_markov\u001b[0;34m(dfngram, ngram)\u001b[0m\n\u001b[1;32m     22\u001b[0m         \u001b[0ms\u001b[0m \u001b[0;34m=\u001b[0m \u001b[0mtarget\u001b[0m\u001b[0;34m[\u001b[0m\u001b[0mi\u001b[0m\u001b[0;34m]\u001b[0m\u001b[0;34m\u001b[0m\u001b[0m\n\u001b[1;32m     23\u001b[0m         \u001b[0mxy_table\u001b[0m\u001b[0;34m.\u001b[0m\u001b[0mix\u001b[0m\u001b[0;34m[\u001b[0m\u001b[0mt\u001b[0m\u001b[0;34m,\u001b[0m\u001b[0ms\u001b[0m\u001b[0;34m]\u001b[0m \u001b[0;34m+=\u001b[0m \u001b[0;36m1\u001b[0m\u001b[0;34m\u001b[0m\u001b[0m\n\u001b[0;32m---> 24\u001b[0;31m         \u001b[0mx_table\u001b[0m\u001b[0;34m.\u001b[0m\u001b[0mix\u001b[0m\u001b[0;34m[\u001b[0m\u001b[0mt\u001b[0m\u001b[0;34m,\u001b[0m\u001b[0;34m\"target\"\u001b[0m\u001b[0;34m]\u001b[0m \u001b[0;34m+=\u001b[0m \u001b[0;36m1\u001b[0m\u001b[0;34m\u001b[0m\u001b[0m\n\u001b[0m\u001b[1;32m     25\u001b[0m \u001b[0;34m\u001b[0m\u001b[0m\n\u001b[1;32m     26\u001b[0m     \u001b[0mprob_value\u001b[0m \u001b[0;34m=\u001b[0m \u001b[0mnp\u001b[0m\u001b[0;34m.\u001b[0m\u001b[0marray\u001b[0m\u001b[0;34m(\u001b[0m\u001b[0mxy_table\u001b[0m\u001b[0;34m)\u001b[0m\u001b[0;34m/\u001b[0m\u001b[0mnp\u001b[0m\u001b[0;34m.\u001b[0m\u001b[0marray\u001b[0m\u001b[0;34m(\u001b[0m\u001b[0mx_table\u001b[0m\u001b[0;34m)\u001b[0m\u001b[0;34m\u001b[0m\u001b[0m\n",
      "\u001b[0;32m/Users/Yeongcheon/anaconda/lib/python2.7/site-packages/pandas/core/indexing.pyc\u001b[0m in \u001b[0;36m__setitem__\u001b[0;34m(self, key, value)\u001b[0m\n\u001b[1;32m    115\u001b[0m     \u001b[0;32mdef\u001b[0m \u001b[0m__setitem__\u001b[0m\u001b[0;34m(\u001b[0m\u001b[0mself\u001b[0m\u001b[0;34m,\u001b[0m \u001b[0mkey\u001b[0m\u001b[0;34m,\u001b[0m \u001b[0mvalue\u001b[0m\u001b[0;34m)\u001b[0m\u001b[0;34m:\u001b[0m\u001b[0;34m\u001b[0m\u001b[0m\n\u001b[1;32m    116\u001b[0m         \u001b[0mindexer\u001b[0m \u001b[0;34m=\u001b[0m \u001b[0mself\u001b[0m\u001b[0;34m.\u001b[0m\u001b[0m_get_setitem_indexer\u001b[0m\u001b[0;34m(\u001b[0m\u001b[0mkey\u001b[0m\u001b[0;34m)\u001b[0m\u001b[0;34m\u001b[0m\u001b[0m\n\u001b[0;32m--> 117\u001b[0;31m         \u001b[0mself\u001b[0m\u001b[0;34m.\u001b[0m\u001b[0m_setitem_with_indexer\u001b[0m\u001b[0;34m(\u001b[0m\u001b[0mindexer\u001b[0m\u001b[0;34m,\u001b[0m \u001b[0mvalue\u001b[0m\u001b[0;34m)\u001b[0m\u001b[0;34m\u001b[0m\u001b[0m\n\u001b[0m\u001b[1;32m    118\u001b[0m \u001b[0;34m\u001b[0m\u001b[0m\n\u001b[1;32m    119\u001b[0m     \u001b[0;32mdef\u001b[0m \u001b[0m_has_valid_type\u001b[0m\u001b[0;34m(\u001b[0m\u001b[0mself\u001b[0m\u001b[0;34m,\u001b[0m \u001b[0mk\u001b[0m\u001b[0;34m,\u001b[0m \u001b[0maxis\u001b[0m\u001b[0;34m)\u001b[0m\u001b[0;34m:\u001b[0m\u001b[0;34m\u001b[0m\u001b[0m\n",
      "\u001b[0;32m/Users/Yeongcheon/anaconda/lib/python2.7/site-packages/pandas/core/indexing.pyc\u001b[0m in \u001b[0;36m_setitem_with_indexer\u001b[0;34m(self, indexer, value)\u001b[0m\n\u001b[1;32m    523\u001b[0m             \u001b[0;31m# actually do the set\u001b[0m\u001b[0;34m\u001b[0m\u001b[0;34m\u001b[0m\u001b[0m\n\u001b[1;32m    524\u001b[0m             \u001b[0mself\u001b[0m\u001b[0;34m.\u001b[0m\u001b[0mobj\u001b[0m\u001b[0;34m.\u001b[0m\u001b[0m_consolidate_inplace\u001b[0m\u001b[0;34m(\u001b[0m\u001b[0;34m)\u001b[0m\u001b[0;34m\u001b[0m\u001b[0m\n\u001b[0;32m--> 525\u001b[0;31m             \u001b[0mself\u001b[0m\u001b[0;34m.\u001b[0m\u001b[0mobj\u001b[0m\u001b[0;34m.\u001b[0m\u001b[0m_data\u001b[0m \u001b[0;34m=\u001b[0m \u001b[0mself\u001b[0m\u001b[0;34m.\u001b[0m\u001b[0mobj\u001b[0m\u001b[0;34m.\u001b[0m\u001b[0m_data\u001b[0m\u001b[0;34m.\u001b[0m\u001b[0msetitem\u001b[0m\u001b[0;34m(\u001b[0m\u001b[0mindexer\u001b[0m\u001b[0;34m=\u001b[0m\u001b[0mindexer\u001b[0m\u001b[0;34m,\u001b[0m \u001b[0mvalue\u001b[0m\u001b[0;34m=\u001b[0m\u001b[0mvalue\u001b[0m\u001b[0;34m)\u001b[0m\u001b[0;34m\u001b[0m\u001b[0m\n\u001b[0m\u001b[1;32m    526\u001b[0m             \u001b[0mself\u001b[0m\u001b[0;34m.\u001b[0m\u001b[0mobj\u001b[0m\u001b[0;34m.\u001b[0m\u001b[0m_maybe_update_cacher\u001b[0m\u001b[0;34m(\u001b[0m\u001b[0mclear\u001b[0m\u001b[0;34m=\u001b[0m\u001b[0mTrue\u001b[0m\u001b[0;34m)\u001b[0m\u001b[0;34m\u001b[0m\u001b[0m\n\u001b[1;32m    527\u001b[0m \u001b[0;34m\u001b[0m\u001b[0m\n",
      "\u001b[0;32m/Users/Yeongcheon/anaconda/lib/python2.7/site-packages/pandas/core/internals.pyc\u001b[0m in \u001b[0;36msetitem\u001b[0;34m(self, **kwargs)\u001b[0m\n\u001b[1;32m   2841\u001b[0m \u001b[0;34m\u001b[0m\u001b[0m\n\u001b[1;32m   2842\u001b[0m     \u001b[0;32mdef\u001b[0m \u001b[0msetitem\u001b[0m\u001b[0;34m(\u001b[0m\u001b[0mself\u001b[0m\u001b[0;34m,\u001b[0m \u001b[0;34m**\u001b[0m\u001b[0mkwargs\u001b[0m\u001b[0;34m)\u001b[0m\u001b[0;34m:\u001b[0m\u001b[0;34m\u001b[0m\u001b[0m\n\u001b[0;32m-> 2843\u001b[0;31m         \u001b[0;32mreturn\u001b[0m \u001b[0mself\u001b[0m\u001b[0;34m.\u001b[0m\u001b[0mapply\u001b[0m\u001b[0;34m(\u001b[0m\u001b[0;34m'setitem'\u001b[0m\u001b[0;34m,\u001b[0m \u001b[0;34m**\u001b[0m\u001b[0mkwargs\u001b[0m\u001b[0;34m)\u001b[0m\u001b[0;34m\u001b[0m\u001b[0m\n\u001b[0m\u001b[1;32m   2844\u001b[0m \u001b[0;34m\u001b[0m\u001b[0m\n\u001b[1;32m   2845\u001b[0m     \u001b[0;32mdef\u001b[0m \u001b[0mputmask\u001b[0m\u001b[0;34m(\u001b[0m\u001b[0mself\u001b[0m\u001b[0;34m,\u001b[0m \u001b[0;34m**\u001b[0m\u001b[0mkwargs\u001b[0m\u001b[0;34m)\u001b[0m\u001b[0;34m:\u001b[0m\u001b[0;34m\u001b[0m\u001b[0m\n",
      "\u001b[0;32m/Users/Yeongcheon/anaconda/lib/python2.7/site-packages/pandas/core/internals.pyc\u001b[0m in \u001b[0;36mapply\u001b[0;34m(self, f, axes, filter, do_integrity_check, consolidate, **kwargs)\u001b[0m\n\u001b[1;32m   2803\u001b[0m             \u001b[0malign_keys\u001b[0m \u001b[0;34m=\u001b[0m \u001b[0;34m[\u001b[0m\u001b[0;34m]\u001b[0m\u001b[0;34m\u001b[0m\u001b[0m\n\u001b[1;32m   2804\u001b[0m \u001b[0;34m\u001b[0m\u001b[0m\n\u001b[0;32m-> 2805\u001b[0;31m         aligned_args = dict((k, kwargs[k]) for k in align_keys\n\u001b[0m\u001b[1;32m   2806\u001b[0m                             if hasattr(kwargs[k], 'reindex_axis'))\n\u001b[1;32m   2807\u001b[0m \u001b[0;34m\u001b[0m\u001b[0m\n",
      "\u001b[0;32m/Users/Yeongcheon/anaconda/lib/python2.7/site-packages/pandas/core/internals.pyc\u001b[0m in \u001b[0;36m<genexpr>\u001b[0;34m(***failed resolving arguments***)\u001b[0m\n\u001b[1;32m   2803\u001b[0m             \u001b[0malign_keys\u001b[0m \u001b[0;34m=\u001b[0m \u001b[0;34m[\u001b[0m\u001b[0;34m]\u001b[0m\u001b[0;34m\u001b[0m\u001b[0m\n\u001b[1;32m   2804\u001b[0m \u001b[0;34m\u001b[0m\u001b[0m\n\u001b[0;32m-> 2805\u001b[0;31m         aligned_args = dict((k, kwargs[k]) for k in align_keys\n\u001b[0m\u001b[1;32m   2806\u001b[0m                             if hasattr(kwargs[k], 'reindex_axis'))\n\u001b[1;32m   2807\u001b[0m \u001b[0;34m\u001b[0m\u001b[0m\n",
      "\u001b[0;31mKeyboardInterrupt\u001b[0m: "
     ]
    }
   ],
   "source": [
    "p_table1, base1 = get_markov(dfngram1, ngram = 1)\n",
    "p_table2, base2 = get_markov(dfngram2, ngram = 2)\n",
    "p_table3, base3 = get_markov(dfngram3, ngram = 3)\n",
    "p_table4, base4 = get_markov(dfngram4, ngram = 4)\n",
    "p_table5, base5 = get_markov(dfngram5, ngram = 5)\n",
    "p_table6, base6 = get_markov(dfngram6, ngram = 6)\n",
    "p_table7, base7 = get_markov(dfngram7, ngram = 7)"
   ]
  },
  {
   "cell_type": "code",
   "execution_count": null,
   "metadata": {
    "collapsed": true
   },
   "outputs": [],
   "source": [
    "1+1"
   ]
  },
  {
   "cell_type": "code",
   "execution_count": null,
   "metadata": {
    "collapsed": true
   },
   "outputs": [],
   "source": []
  },
  {
   "cell_type": "code",
   "execution_count": 89,
   "metadata": {
    "collapsed": false
   },
   "outputs": [],
   "source": [
    "train_mean7, test_mean7 = get_cv(dfngram7, 7, p_table7, p_table6, p_table5, p_table4, p_table3, p_table2, p_table1, \\\n",
    "              base7, base6, base5, base4, base3, base2, base1)\n",
    "train_mean6, test_mean6 = get_cv(dfngram6, 6, p_table7, p_table6, p_table5, p_table4, p_table3, p_table2, p_table1, \\\n",
    "              base7, base6, base5, base4, base3, base2, base1)\n",
    "train_mean5, test_mean5 = get_cv(dfngram5, 5, p_table7, p_table6, p_table5, p_table4, p_table3, p_table2, p_table1, \\\n",
    "              base7, base6, base5, base4, base3, base2, base1)\n",
    "train_mean4, test_mean4 = get_cv(dfngram4, 4, p_table7, p_table6, p_table5, p_table4, p_table3, p_table2, p_table1, \\\n",
    "              base7, base6, base5, base4, base3, base2, base1)\n",
    "train_mean3, test_mean3 = get_cv(dfngram3, 3, p_table7, p_table6, p_table5, p_table4, p_table3, p_table2, p_table1, \\\n",
    "              base7, base6, base5, base4, base3, base2, base1)\n",
    "train_mean2, test_mean2 = get_cv(dfngram2, 2, p_table7, p_table6, p_table5, p_table4, p_table3, p_table2, p_table1, \\\n",
    "              base7, base6, base5, base4, base3, base2, base1)\n",
    "train_mean1, test_mean1 = get_cv(dfngram1, 1, p_table7, p_table6, p_table5, p_table4, p_table3, p_table2, p_table1, \\\n",
    "              base7, base6, base5, base4, base3, base2, base1)"
   ]
  },
  {
   "cell_type": "code",
   "execution_count": null,
   "metadata": {
    "collapsed": true
   },
   "outputs": [],
   "source": [
    "1+1"
   ]
  },
  {
   "cell_type": "code",
   "execution_count": null,
   "metadata": {
    "collapsed": true
   },
   "outputs": [],
   "source": []
  },
  {
   "cell_type": "code",
   "execution_count": 106,
   "metadata": {
    "collapsed": false
   },
   "outputs": [],
   "source": [
    "train_set = [train_mean1, train_mean2, train_mean3, train_mean4, train_mean5, train_mean6, train_mean7]\n",
    "test_set = [test_mean1, test_mean2, test_mean3, test_mean4, test_mean5, test_mean6, test_mean7]\n",
    "cv_train_test = pd.DataFrame({'train_cv_mean': train_set, 'test_cv_mean' : test_set})                       \n",
    "\n",
    "cv_train_test.to_csv(\"../data/cv_train_test\", sep=',', encoding='utf-8')\n",
    "#cv_train_test.to_csv(\"../data/cv_train_test_small\", sep=',', encoding='utf-8')"
   ]
  },
  {
   "cell_type": "code",
   "execution_count": null,
   "metadata": {
    "collapsed": true
   },
   "outputs": [],
   "source": [
    "1+1"
   ]
  },
  {
   "cell_type": "code",
   "execution_count": null,
   "metadata": {
    "collapsed": true
   },
   "outputs": [],
   "source": []
  },
  {
   "cell_type": "code",
   "execution_count": 116,
   "metadata": {
    "collapsed": false
   },
   "outputs": [
    {
     "data": {
      "image/png": "[encoded data removed]",
      "text/plain": [
       "<matplotlib.figure.Figure at 0x112c09a10>"
      ]
     },
     "metadata": {},
     "output_type": "display_data"
    }
   ],
   "source": [
    "df_train_test = pd.read_csv(\"../data/cv_train_test\")\n",
    "#df_train_test = pd.read_csv(\"../data/cv_train_test_small\")\n",
    "\n",
    "df_train_test = df_train_test.drop(\"Unnamed: 0\", axis = 1)\n",
    "df_train_test.index = range(2,9)\n",
    "\n",
    "ax1 = df_train_test.plot(lw=2, figsize=(10,6))\n",
    "ax1.set_title(\"cv_mean over ngram\",fontsize=20)\n",
    "ax1.set_xlabel(\"ngram\",fontsize=18)\n",
    "ax1.set_ylabel(\"mse\",fontsize=18)\n",
    "\n",
    "plt.savefig(\"../data/cv_train_test.png\")\n",
    "#plt.savefig(\"../data/cv_train_test_small.png\")\n",
    "\n",
    "plt.show()\n",
    "\n",
    "\n"
   ]
  },
  {
   "cell_type": "code",
   "execution_count": null,
   "metadata": {
    "collapsed": true
   },
   "outputs": [],
   "source": [
    "1+1"
   ]
  },
  {
   "cell_type": "code",
   "execution_count": null,
   "metadata": {
    "collapsed": true
   },
   "outputs": [],
   "source": []
  },
  {
   "cell_type": "code",
   "execution_count": null,
   "metadata": {
    "collapsed": true
   },
   "outputs": [],
   "source": []
  }
 ],
 "metadata": {
  "kernelspec": {
   "display_name": "Python 2",
   "language": "python",
   "name": "python2"
  },
  "language_info": {
   "codemirror_mode": {
    "name": "ipython",
    "version": 2
   },
   "file_extension": ".py",
   "mimetype": "text/x-python",
   "name": "python",
   "nbconvert_exporter": "python",
   "pygments_lexer": "ipython2",
   "version": "2.7.11"
  }
 },
 "nbformat": 4,
 "nbformat_minor": 0
}
