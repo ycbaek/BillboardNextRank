{
 "cells": [
  {
   "cell_type": "code",
   "execution_count": 18,
   "metadata": {
    "collapsed": true
   },
   "outputs": [],
   "source": [
    "import pandas as pd\n",
    "import datetime\n",
    "from datetime import timedelta"
   ]
  },
  {
   "cell_type": "code",
   "execution_count": 30,
   "metadata": {
    "collapsed": true
   },
   "outputs": [],
   "source": [
    "def find_week(date_time):\n",
    "    \n",
    "    day7 = timedelta(days=7)\n",
    "    date_slected = datetime.date(2016,1, 3)\n",
    "    all_date =[date_slected]\n",
    "    for i in range(51):\n",
    "        date_slected = date_slected + day7\n",
    "        all_date.append(date_slected)\n",
    "\n",
    "    week_firstDate = pd.DataFrame()\n",
    "    week_firstDate['firstData'] = all_date\n",
    "    week_firstDate['week'] = range(1,53)\n",
    "    \n",
    "    for i in range(52):\n",
    "        if date_time.date() <= week_firstDate['firstData'][i]:\n",
    "            return week_firstDate['week'][i]"
   ]
  },
  {
   "cell_type": "code",
   "execution_count": 31,
   "metadata": {
    "collapsed": true
   },
   "outputs": [],
   "source": [
    "df2 = pd.read_csv(\"../data/billboard2.csv\", sep='|', names=['last_date','rank','song','long_artist'])\n",
    "df2['last_date_time'] = df2['last_date'].map(lambda x : datetime.datetime.strptime(x, \"%Y-%m-%d\"))\n",
    "df2['week_from_one'] = df2['last_date_time'].map(find_week)\n",
    "df2[\"artist\"] = df2[\"long_artist\"].map(lambda x : x.split('featuring')[0])\n",
    "df2[\"ID\"] = df2[\"song\"] + \"%\" +  df2[\"artist\"]"
   ]
  },
  {
   "cell_type": "code",
   "execution_count": 32,
   "metadata": {
    "collapsed": false
   },
   "outputs": [
    {
     "data": {
      "text/html": [
       "<div>\n",
       "<table border=\"1\" class=\"dataframe\">\n",
       "  <thead>\n",
       "    <tr style=\"text-align: right;\">\n",
       "      <th></th>\n",
       "      <th>last_date</th>\n",
       "      <th>rank</th>\n",
       "      <th>song</th>\n",
       "      <th>long_artist</th>\n",
       "      <th>last_date_time</th>\n",
       "      <th>week_from_one</th>\n",
       "      <th>artist</th>\n",
       "      <th>ID</th>\n",
       "    </tr>\n",
       "  </thead>\n",
       "  <tbody>\n",
       "    <tr>\n",
       "      <th>0</th>\n",
       "      <td>2016-03-05</td>\n",
       "      <td>1</td>\n",
       "      <td>Work</td>\n",
       "      <td>RIHANNA featuring DRAKE</td>\n",
       "      <td>2016-03-05</td>\n",
       "      <td>10</td>\n",
       "      <td>RIHANNA</td>\n",
       "      <td>Work%RIHANNA</td>\n",
       "    </tr>\n",
       "    <tr>\n",
       "      <th>1</th>\n",
       "      <td>2016-03-05</td>\n",
       "      <td>2</td>\n",
       "      <td>Love Yourself</td>\n",
       "      <td>JUSTIN BIEBER</td>\n",
       "      <td>2016-03-05</td>\n",
       "      <td>10</td>\n",
       "      <td>JUSTIN BIEBER</td>\n",
       "      <td>Love Yourself%JUSTIN BIEBER</td>\n",
       "    </tr>\n",
       "    <tr>\n",
       "      <th>2</th>\n",
       "      <td>2016-03-05</td>\n",
       "      <td>3</td>\n",
       "      <td>Stressed Out</td>\n",
       "      <td>TWENTY ONE PILOTS</td>\n",
       "      <td>2016-03-05</td>\n",
       "      <td>10</td>\n",
       "      <td>TWENTY ONE PILOTS</td>\n",
       "      <td>Stressed Out%TWENTY ONE PILOTS</td>\n",
       "    </tr>\n",
       "    <tr>\n",
       "      <th>3</th>\n",
       "      <td>2016-03-05</td>\n",
       "      <td>4</td>\n",
       "      <td>Sorry</td>\n",
       "      <td>JUSTIN BIEBER</td>\n",
       "      <td>2016-03-05</td>\n",
       "      <td>10</td>\n",
       "      <td>JUSTIN BIEBER</td>\n",
       "      <td>Sorry%JUSTIN BIEBER</td>\n",
       "    </tr>\n",
       "    <tr>\n",
       "      <th>4</th>\n",
       "      <td>2016-03-05</td>\n",
       "      <td>5</td>\n",
       "      <td>My House</td>\n",
       "      <td>FLO RIDA</td>\n",
       "      <td>2016-03-05</td>\n",
       "      <td>10</td>\n",
       "      <td>FLO RIDA</td>\n",
       "      <td>My House%FLO RIDA</td>\n",
       "    </tr>\n",
       "  </tbody>\n",
       "</table>\n",
       "</div>"
      ],
      "text/plain": [
       "    last_date  rank           song              long_artist last_date_time  \\\n",
       "0  2016-03-05     1           Work  RIHANNA featuring DRAKE     2016-03-05   \n",
       "1  2016-03-05     2  Love Yourself            JUSTIN BIEBER     2016-03-05   \n",
       "2  2016-03-05     3   Stressed Out        TWENTY ONE PILOTS     2016-03-05   \n",
       "3  2016-03-05     4          Sorry            JUSTIN BIEBER     2016-03-05   \n",
       "4  2016-03-05     5       My House                 FLO RIDA     2016-03-05   \n",
       "\n",
       "   week_from_one             artist                              ID  \n",
       "0             10           RIHANNA                    Work%RIHANNA   \n",
       "1             10      JUSTIN BIEBER     Love Yourself%JUSTIN BIEBER  \n",
       "2             10  TWENTY ONE PILOTS  Stressed Out%TWENTY ONE PILOTS  \n",
       "3             10      JUSTIN BIEBER             Sorry%JUSTIN BIEBER  \n",
       "4             10           FLO RIDA               My House%FLO RIDA  "
      ]
     },
     "execution_count": 32,
     "metadata": {},
     "output_type": "execute_result"
    }
   ],
   "source": [
    "df2.head()"
   ]
  },
  {
   "cell_type": "code",
   "execution_count": 33,
   "metadata": {
    "collapsed": false
   },
   "outputs": [],
   "source": [
    "df= df2.pivot('ID', 'week_from_one', 'rank')\n",
    "df[\"ID\"] = df.index\n",
    "df[\"song\"] = df[\"ID\"].map(lambda x : x.split('%')[0])\n",
    "df[\"artist\"] = df[\"ID\"].map(lambda x : x.split('%')[1])\n",
    "df.fillna(101,inplace=True)\n",
    "df.index = range(1,len(df)+1)\n",
    "df[\"IDN\"] = df.index"
   ]
  },
  {
   "cell_type": "code",
   "execution_count": 34,
   "metadata": {
    "collapsed": false
   },
   "outputs": [
    {
     "data": {
      "text/html": [
       "<div>\n",
       "<table border=\"1\" class=\"dataframe\">\n",
       "  <thead>\n",
       "    <tr style=\"text-align: right;\">\n",
       "      <th>week_from_one</th>\n",
       "      <th>10</th>\n",
       "      <th>11</th>\n",
       "      <th>12</th>\n",
       "      <th>13</th>\n",
       "      <th>14</th>\n",
       "      <th>15</th>\n",
       "      <th>16</th>\n",
       "      <th>17</th>\n",
       "      <th>ID</th>\n",
       "      <th>song</th>\n",
       "      <th>artist</th>\n",
       "      <th>IDN</th>\n",
       "    </tr>\n",
       "  </thead>\n",
       "  <tbody>\n",
       "    <tr>\n",
       "      <th>1</th>\n",
       "      <td>95</td>\n",
       "      <td>95</td>\n",
       "      <td>89</td>\n",
       "      <td>101</td>\n",
       "      <td>101</td>\n",
       "      <td>101</td>\n",
       "      <td>101</td>\n",
       "      <td>101</td>\n",
       "      <td>$ave Dat Money%LIL DICKY</td>\n",
       "      <td>$ave Dat Money</td>\n",
       "      <td>LIL DICKY</td>\n",
       "      <td>1</td>\n",
       "    </tr>\n",
       "    <tr>\n",
       "      <th>2</th>\n",
       "      <td>40</td>\n",
       "      <td>29</td>\n",
       "      <td>25</td>\n",
       "      <td>21</td>\n",
       "      <td>18</td>\n",
       "      <td>18</td>\n",
       "      <td>18</td>\n",
       "      <td>18</td>\n",
       "      <td>2 Phones%KEVIN GATES</td>\n",
       "      <td>2 Phones</td>\n",
       "      <td>KEVIN GATES</td>\n",
       "      <td>2</td>\n",
       "    </tr>\n",
       "    <tr>\n",
       "      <th>3</th>\n",
       "      <td>34</td>\n",
       "      <td>30</td>\n",
       "      <td>35</td>\n",
       "      <td>39</td>\n",
       "      <td>40</td>\n",
       "      <td>39</td>\n",
       "      <td>40</td>\n",
       "      <td>40</td>\n",
       "      <td>679%FETTY WAP</td>\n",
       "      <td>679</td>\n",
       "      <td>FETTY WAP</td>\n",
       "      <td>3</td>\n",
       "    </tr>\n",
       "    <tr>\n",
       "      <th>4</th>\n",
       "      <td>20</td>\n",
       "      <td>12</td>\n",
       "      <td>9</td>\n",
       "      <td>5</td>\n",
       "      <td>3</td>\n",
       "      <td>2</td>\n",
       "      <td>2</td>\n",
       "      <td>2</td>\n",
       "      <td>7 Years%LUKAS GRAHAM</td>\n",
       "      <td>7 Years</td>\n",
       "      <td>LUKAS GRAHAM</td>\n",
       "      <td>4</td>\n",
       "    </tr>\n",
       "    <tr>\n",
       "      <th>5</th>\n",
       "      <td>82</td>\n",
       "      <td>76</td>\n",
       "      <td>75</td>\n",
       "      <td>77</td>\n",
       "      <td>76</td>\n",
       "      <td>73</td>\n",
       "      <td>70</td>\n",
       "      <td>70</td>\n",
       "      <td>Acquainted%THE WEEKND</td>\n",
       "      <td>Acquainted</td>\n",
       "      <td>THE WEEKND</td>\n",
       "      <td>5</td>\n",
       "    </tr>\n",
       "  </tbody>\n",
       "</table>\n",
       "</div>"
      ],
      "text/plain": [
       "week_from_one  10  11  12   13   14   15   16   17                         ID  \\\n",
       "1              95  95  89  101  101  101  101  101  $ave Dat Money%LIL DICKY    \n",
       "2              40  29  25   21   18   18   18   18       2 Phones%KEVIN GATES   \n",
       "3              34  30  35   39   40   39   40   40             679%FETTY WAP    \n",
       "4              20  12   9    5    3    2    2    2       7 Years%LUKAS GRAHAM   \n",
       "5              82  76  75   77   76   73   70   70      Acquainted%THE WEEKND   \n",
       "\n",
       "week_from_one            song        artist  IDN  \n",
       "1              $ave Dat Money    LIL DICKY     1  \n",
       "2                    2 Phones   KEVIN GATES    2  \n",
       "3                         679    FETTY WAP     3  \n",
       "4                     7 Years  LUKAS GRAHAM    4  \n",
       "5                  Acquainted    THE WEEKND    5  "
      ]
     },
     "execution_count": 34,
     "metadata": {},
     "output_type": "execute_result"
    }
   ],
   "source": [
    "df.head()"
   ]
  },
  {
   "cell_type": "code",
   "execution_count": 35,
   "metadata": {
    "collapsed": false
   },
   "outputs": [],
   "source": [
    "Input = [ [\"#\"+str(id.split('%')[0]), str(id.split('%')[1])]  for id in df[\"ID\"]]"
   ]
  },
  {
   "cell_type": "code",
   "execution_count": 37,
   "metadata": {
    "collapsed": false
   },
   "outputs": [
    {
     "data": {
      "text/plain": [
       "146"
      ]
     },
     "execution_count": 37,
     "metadata": {},
     "output_type": "execute_result"
    }
   ],
   "source": [
    "len(Input)"
   ]
  }
 ],
 "metadata": {
  "kernelspec": {
   "display_name": "Python 2",
   "language": "python",
   "name": "python2"
  },
  "language_info": {
   "codemirror_mode": {
    "name": "ipython",
    "version": 2
   },
   "file_extension": ".py",
   "mimetype": "text/x-python",
   "name": "python",
   "nbconvert_exporter": "python",
   "pygments_lexer": "ipython2",
   "version": "2.7.11"
  }
 },
 "nbformat": 4,
 "nbformat_minor": 0
}
