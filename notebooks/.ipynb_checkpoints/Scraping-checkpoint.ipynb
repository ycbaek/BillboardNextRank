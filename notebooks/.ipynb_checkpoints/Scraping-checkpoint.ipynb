{
 "cells": [
  {
   "cell_type": "code",
   "execution_count": 1,
   "metadata": {
    "collapsed": false
   },
   "outputs": [],
   "source": [
    "import os\n"
   ]
  },
  {
   "cell_type": "code",
   "execution_count": 2,
   "metadata": {
    "collapsed": false
   },
   "outputs": [],
   "source": [
    "import tweepy"
   ]
  },
  {
   "cell_type": "code",
   "execution_count": 3,
   "metadata": {
    "collapsed": true
   },
   "outputs": [],
   "source": [
    "#Twitter API credentials\n",
    "consumer_key = os.getenv(\"TWITTER_CONSUMER_KEY\")\n",
    "consumer_secret = os.getenv(\"TWITTER_CONSUMER_SECRET\")\n",
    "access_key = os.getenv(\"TWITTER_ACCESS_TOKEN\")\n",
    "access_secret = os.getenv(\"TWITTER_ACCESS_TOKEN_SECRET\")"
   ]
  },
  {
   "cell_type": "code",
   "execution_count": 4,
   "metadata": {
    "collapsed": true
   },
   "outputs": [],
   "source": [
    "#authorize twitter, initialize tweepy\n",
    "auth = tweepy.OAuthHandler(consumer_key, consumer_secret)\n",
    "auth.set_access_token(access_key, access_secret)\n",
    "api = tweepy.API(auth)"
   ]
  },
  {
   "cell_type": "code",
   "execution_count": 40,
   "metadata": {
    "collapsed": false
   },
   "outputs": [],
   "source": [
    "screen_name = \"abc\"\n",
    "new_tweets = api.user_timeline(screen_name = screen_name,count=200)"
   ]
  },
  {
   "cell_type": "code",
   "execution_count": 41,
   "metadata": {
    "collapsed": false
   },
   "outputs": [
    {
     "name": "stdout",
     "output_type": "stream",
     "text": [
      "<class 'tweepy.models.ResultSet'> 200\n"
     ]
    }
   ],
   "source": [
    "print type(new_tweets), len(new_tweets)"
   ]
  },
  {
   "cell_type": "code",
   "execution_count": 42,
   "metadata": {
    "collapsed": false
   },
   "outputs": [
    {
     "data": {
      "text/plain": [
       "Status(contributors=None, truncated=False, text=u'Tesla voluntarily recalling about 2,700 Model X vehicles due to precautions over its third row seat backs. https://t.co/THVUEStTXv', is_quote_status=False, in_reply_to_status_id=None, id=719644496082771968, favorite_count=15, _api=<tweepy.api.API object at 0x10e78af50>, author=User(follow_request_sent=False, has_extended_profile=False, profile_use_background_image=True, _json={u'follow_request_sent': False, u'has_extended_profile': False, u'profile_use_background_image': True, u'default_profile_image': False, u'id': 28785486, u'profile_background_image_url_https': u'https://pbs.twimg.com/profile_background_images/441965491024719872/pAv-lzCZ.jpeg', u'verified': True, u'profile_text_color': u'333333', u'profile_image_url_https': u'https://pbs.twimg.com/profile_images/658688193651277824/Kv_cNNub_normal.png', u'profile_sidebar_fill_color': u'DDEEF6', u'entities': {u'url': {u'urls': [{u'url': u'https://t.co/v7GWW7ho1l', u'indices': [0, 23], u'expanded_url': u'http://ABCNews.com', u'display_url': u'ABCNews.com'}]}, u'description': {u'urls': [{u'url': u'https://t.co/ewMNZ54axm', u'indices': [59, 82], u'expanded_url': u'https://www.facebook.com/abcnews', u'display_url': u'facebook.com/abcnews'}]}}, u'followers_count': 5690562, u'profile_sidebar_border_color': u'FFFFFF', u'id_str': u'28785486', u'profile_background_color': u'6E8EB5', u'listed_count': 42382, u'is_translation_enabled': True, u'utc_offset': -14400, u'statuses_count': 127524, u'description': u'See the whole picture with @ABC News. Join us on Facebook: https://t.co/ewMNZ54axm', u'friends_count': 897, u'location': u'New York City / Worldwide', u'profile_link_color': u'336699', u'profile_image_url': u'http://pbs.twimg.com/profile_images/658688193651277824/Kv_cNNub_normal.png', u'following': False, u'geo_enabled': False, u'profile_banner_url': u'https://pbs.twimg.com/profile_banners/28785486/1437184265', u'profile_background_image_url': u'http://pbs.twimg.com/profile_background_images/441965491024719872/pAv-lzCZ.jpeg', u'screen_name': u'ABC', u'lang': u'en', u'profile_background_tile': False, u'favourites_count': 529, u'name': u'ABC News', u'notifications': False, u'url': u'https://t.co/v7GWW7ho1l', u'created_at': u'Sat Apr 04 12:40:32 +0000 2009', u'contributors_enabled': False, u'time_zone': u'Eastern Time (US & Canada)', u'protected': False, u'default_profile': False, u'is_translator': False}, time_zone=u'Eastern Time (US & Canada)', id=28785486, _api=<tweepy.api.API object at 0x10e78af50>, verified=True, profile_text_color=u'333333', profile_image_url_https=u'https://pbs.twimg.com/profile_images/658688193651277824/Kv_cNNub_normal.png', profile_sidebar_fill_color=u'DDEEF6', is_translator=False, geo_enabled=False, entities={u'url': {u'urls': [{u'url': u'https://t.co/v7GWW7ho1l', u'indices': [0, 23], u'expanded_url': u'http://ABCNews.com', u'display_url': u'ABCNews.com'}]}, u'description': {u'urls': [{u'url': u'https://t.co/ewMNZ54axm', u'indices': [59, 82], u'expanded_url': u'https://www.facebook.com/abcnews', u'display_url': u'facebook.com/abcnews'}]}}, followers_count=5690562, protected=False, id_str=u'28785486', default_profile_image=False, listed_count=42382, lang=u'en', utc_offset=-14400, statuses_count=127524, description=u'See the whole picture with @ABC News. Join us on Facebook: https://t.co/ewMNZ54axm', friends_count=897, profile_link_color=u'336699', profile_image_url=u'http://pbs.twimg.com/profile_images/658688193651277824/Kv_cNNub_normal.png', notifications=False, profile_background_image_url_https=u'https://pbs.twimg.com/profile_background_images/441965491024719872/pAv-lzCZ.jpeg', profile_background_color=u'6E8EB5', profile_banner_url=u'https://pbs.twimg.com/profile_banners/28785486/1437184265', profile_background_image_url=u'http://pbs.twimg.com/profile_background_images/441965491024719872/pAv-lzCZ.jpeg', name=u'ABC News', is_translation_enabled=True, profile_background_tile=False, favourites_count=529, screen_name=u'ABC', url=u'https://t.co/v7GWW7ho1l', created_at=datetime.datetime(2009, 4, 4, 12, 40, 32), contributors_enabled=False, location=u'New York City / Worldwide', profile_sidebar_border_color=u'FFFFFF', default_profile=False, following=False), _json={u'contributors': None, u'truncated': False, u'text': u'Tesla voluntarily recalling about 2,700 Model X vehicles due to precautions over its third row seat backs. https://t.co/THVUEStTXv', u'is_quote_status': False, u'in_reply_to_status_id': None, u'id': 719644496082771968, u'favorite_count': 15, u'source': u'<a href=\"http://www.socialflow.com\" rel=\"nofollow\">SocialFlow</a>', u'retweeted': False, u'coordinates': None, u'entities': {u'symbols': [], u'user_mentions': [], u'hashtags': [], u'urls': [{u'url': u'https://t.co/THVUEStTXv', u'indices': [107, 130], u'expanded_url': u'http://abcn.ws/1S1Aov7', u'display_url': u'abcn.ws/1S1Aov7'}]}, u'in_reply_to_screen_name': None, u'in_reply_to_user_id': None, u'retweet_count': 25, u'id_str': u'719644496082771968', u'favorited': False, u'user': {u'follow_request_sent': False, u'has_extended_profile': False, u'profile_use_background_image': True, u'default_profile_image': False, u'id': 28785486, u'profile_background_image_url_https': u'https://pbs.twimg.com/profile_background_images/441965491024719872/pAv-lzCZ.jpeg', u'verified': True, u'profile_text_color': u'333333', u'profile_image_url_https': u'https://pbs.twimg.com/profile_images/658688193651277824/Kv_cNNub_normal.png', u'profile_sidebar_fill_color': u'DDEEF6', u'entities': {u'url': {u'urls': [{u'url': u'https://t.co/v7GWW7ho1l', u'indices': [0, 23], u'expanded_url': u'http://ABCNews.com', u'display_url': u'ABCNews.com'}]}, u'description': {u'urls': [{u'url': u'https://t.co/ewMNZ54axm', u'indices': [59, 82], u'expanded_url': u'https://www.facebook.com/abcnews', u'display_url': u'facebook.com/abcnews'}]}}, u'followers_count': 5690562, u'profile_sidebar_border_color': u'FFFFFF', u'id_str': u'28785486', u'profile_background_color': u'6E8EB5', u'listed_count': 42382, u'is_translation_enabled': True, u'utc_offset': -14400, u'statuses_count': 127524, u'description': u'See the whole picture with @ABC News. Join us on Facebook: https://t.co/ewMNZ54axm', u'friends_count': 897, u'location': u'New York City / Worldwide', u'profile_link_color': u'336699', u'profile_image_url': u'http://pbs.twimg.com/profile_images/658688193651277824/Kv_cNNub_normal.png', u'following': False, u'geo_enabled': False, u'profile_banner_url': u'https://pbs.twimg.com/profile_banners/28785486/1437184265', u'profile_background_image_url': u'http://pbs.twimg.com/profile_background_images/441965491024719872/pAv-lzCZ.jpeg', u'screen_name': u'ABC', u'lang': u'en', u'profile_background_tile': False, u'favourites_count': 529, u'name': u'ABC News', u'notifications': False, u'url': u'https://t.co/v7GWW7ho1l', u'created_at': u'Sat Apr 04 12:40:32 +0000 2009', u'contributors_enabled': False, u'time_zone': u'Eastern Time (US & Canada)', u'protected': False, u'default_profile': False, u'is_translator': False}, u'geo': None, u'in_reply_to_user_id_str': None, u'possibly_sensitive': False, u'lang': u'en', u'created_at': u'Mon Apr 11 21:53:12 +0000 2016', u'in_reply_to_status_id_str': None, u'place': None}, coordinates=None, entities={u'symbols': [], u'user_mentions': [], u'hashtags': [], u'urls': [{u'url': u'https://t.co/THVUEStTXv', u'indices': [107, 130], u'expanded_url': u'http://abcn.ws/1S1Aov7', u'display_url': u'abcn.ws/1S1Aov7'}]}, in_reply_to_screen_name=None, id_str=u'719644496082771968', retweet_count=25, in_reply_to_user_id=None, favorited=False, source_url=u'http://www.socialflow.com', user=User(follow_request_sent=False, has_extended_profile=False, profile_use_background_image=True, _json={u'follow_request_sent': False, u'has_extended_profile': False, u'profile_use_background_image': True, u'default_profile_image': False, u'id': 28785486, u'profile_background_image_url_https': u'https://pbs.twimg.com/profile_background_images/441965491024719872/pAv-lzCZ.jpeg', u'verified': True, u'profile_text_color': u'333333', u'profile_image_url_https': u'https://pbs.twimg.com/profile_images/658688193651277824/Kv_cNNub_normal.png', u'profile_sidebar_fill_color': u'DDEEF6', u'entities': {u'url': {u'urls': [{u'url': u'https://t.co/v7GWW7ho1l', u'indices': [0, 23], u'expanded_url': u'http://ABCNews.com', u'display_url': u'ABCNews.com'}]}, u'description': {u'urls': [{u'url': u'https://t.co/ewMNZ54axm', u'indices': [59, 82], u'expanded_url': u'https://www.facebook.com/abcnews', u'display_url': u'facebook.com/abcnews'}]}}, u'followers_count': 5690562, u'profile_sidebar_border_color': u'FFFFFF', u'id_str': u'28785486', u'profile_background_color': u'6E8EB5', u'listed_count': 42382, u'is_translation_enabled': True, u'utc_offset': -14400, u'statuses_count': 127524, u'description': u'See the whole picture with @ABC News. Join us on Facebook: https://t.co/ewMNZ54axm', u'friends_count': 897, u'location': u'New York City / Worldwide', u'profile_link_color': u'336699', u'profile_image_url': u'http://pbs.twimg.com/profile_images/658688193651277824/Kv_cNNub_normal.png', u'following': False, u'geo_enabled': False, u'profile_banner_url': u'https://pbs.twimg.com/profile_banners/28785486/1437184265', u'profile_background_image_url': u'http://pbs.twimg.com/profile_background_images/441965491024719872/pAv-lzCZ.jpeg', u'screen_name': u'ABC', u'lang': u'en', u'profile_background_tile': False, u'favourites_count': 529, u'name': u'ABC News', u'notifications': False, u'url': u'https://t.co/v7GWW7ho1l', u'created_at': u'Sat Apr 04 12:40:32 +0000 2009', u'contributors_enabled': False, u'time_zone': u'Eastern Time (US & Canada)', u'protected': False, u'default_profile': False, u'is_translator': False}, time_zone=u'Eastern Time (US & Canada)', id=28785486, _api=<tweepy.api.API object at 0x10e78af50>, verified=True, profile_text_color=u'333333', profile_image_url_https=u'https://pbs.twimg.com/profile_images/658688193651277824/Kv_cNNub_normal.png', profile_sidebar_fill_color=u'DDEEF6', is_translator=False, geo_enabled=False, entities={u'url': {u'urls': [{u'url': u'https://t.co/v7GWW7ho1l', u'indices': [0, 23], u'expanded_url': u'http://ABCNews.com', u'display_url': u'ABCNews.com'}]}, u'description': {u'urls': [{u'url': u'https://t.co/ewMNZ54axm', u'indices': [59, 82], u'expanded_url': u'https://www.facebook.com/abcnews', u'display_url': u'facebook.com/abcnews'}]}}, followers_count=5690562, protected=False, id_str=u'28785486', default_profile_image=False, listed_count=42382, lang=u'en', utc_offset=-14400, statuses_count=127524, description=u'See the whole picture with @ABC News. Join us on Facebook: https://t.co/ewMNZ54axm', friends_count=897, profile_link_color=u'336699', profile_image_url=u'http://pbs.twimg.com/profile_images/658688193651277824/Kv_cNNub_normal.png', notifications=False, profile_background_image_url_https=u'https://pbs.twimg.com/profile_background_images/441965491024719872/pAv-lzCZ.jpeg', profile_background_color=u'6E8EB5', profile_banner_url=u'https://pbs.twimg.com/profile_banners/28785486/1437184265', profile_background_image_url=u'http://pbs.twimg.com/profile_background_images/441965491024719872/pAv-lzCZ.jpeg', name=u'ABC News', is_translation_enabled=True, profile_background_tile=False, favourites_count=529, screen_name=u'ABC', url=u'https://t.co/v7GWW7ho1l', created_at=datetime.datetime(2009, 4, 4, 12, 40, 32), contributors_enabled=False, location=u'New York City / Worldwide', profile_sidebar_border_color=u'FFFFFF', default_profile=False, following=False), geo=None, in_reply_to_user_id_str=None, possibly_sensitive=False, lang=u'en', created_at=datetime.datetime(2016, 4, 11, 21, 53, 12), in_reply_to_status_id_str=None, place=None, source=u'SocialFlow', retweeted=False)"
      ]
     },
     "execution_count": 42,
     "metadata": {},
     "output_type": "execute_result"
    }
   ],
   "source": [
    "new_tweets[0]"
   ]
  },
  {
   "cell_type": "code",
   "execution_count": 38,
   "metadata": {
    "collapsed": true
   },
   "outputs": [],
   "source": [
    "screen_name = \"school\""
   ]
  },
  {
   "cell_type": "code",
   "execution_count": 39,
   "metadata": {
    "collapsed": false
   },
   "outputs": [
    {
     "ename": "TweepError",
     "evalue": "Not authorized.",
     "output_type": "error",
     "traceback": [
      "\u001b[0;31m---------------------------------------------------------------------------\u001b[0m",
      "\u001b[0;31mTweepError\u001b[0m                                Traceback (most recent call last)",
      "\u001b[0;32m<ipython-input-39-15cf47235d6f>\u001b[0m in \u001b[0;36m<module>\u001b[0;34m()\u001b[0m\n\u001b[0;32m----> 1\u001b[0;31m \u001b[0mnew_tweets2\u001b[0m \u001b[0;34m=\u001b[0m \u001b[0mapi\u001b[0m\u001b[0;34m.\u001b[0m\u001b[0muser_timeline\u001b[0m\u001b[0;34m(\u001b[0m\u001b[0mscreen_name\u001b[0m \u001b[0;34m=\u001b[0m \u001b[0mscreen_name\u001b[0m\u001b[0;34m,\u001b[0m \u001b[0mcount\u001b[0m\u001b[0;34m=\u001b[0m\u001b[0;36m200\u001b[0m\u001b[0;34m)\u001b[0m\u001b[0;34m\u001b[0m\u001b[0m\n\u001b[0m",
      "\u001b[0;32m/Users/Yeongcheon/anaconda/lib/python2.7/site-packages/tweepy/binder.pyc\u001b[0m in \u001b[0;36m_call\u001b[0;34m(*args, **kwargs)\u001b[0m\n\u001b[1;32m    243\u001b[0m             \u001b[0;32mreturn\u001b[0m \u001b[0mmethod\u001b[0m\u001b[0;34m\u001b[0m\u001b[0m\n\u001b[1;32m    244\u001b[0m         \u001b[0;32melse\u001b[0m\u001b[0;34m:\u001b[0m\u001b[0;34m\u001b[0m\u001b[0m\n\u001b[0;32m--> 245\u001b[0;31m             \u001b[0;32mreturn\u001b[0m \u001b[0mmethod\u001b[0m\u001b[0;34m.\u001b[0m\u001b[0mexecute\u001b[0m\u001b[0;34m(\u001b[0m\u001b[0;34m)\u001b[0m\u001b[0;34m\u001b[0m\u001b[0m\n\u001b[0m\u001b[1;32m    246\u001b[0m \u001b[0;34m\u001b[0m\u001b[0m\n\u001b[1;32m    247\u001b[0m     \u001b[0;31m# Set pagination mode\u001b[0m\u001b[0;34m\u001b[0m\u001b[0;34m\u001b[0m\u001b[0m\n",
      "\u001b[0;32m/Users/Yeongcheon/anaconda/lib/python2.7/site-packages/tweepy/binder.pyc\u001b[0m in \u001b[0;36mexecute\u001b[0;34m(self)\u001b[0m\n\u001b[1;32m    227\u001b[0m                     \u001b[0;32mraise\u001b[0m \u001b[0mRateLimitError\u001b[0m\u001b[0;34m(\u001b[0m\u001b[0merror_msg\u001b[0m\u001b[0;34m,\u001b[0m \u001b[0mresp\u001b[0m\u001b[0;34m)\u001b[0m\u001b[0;34m\u001b[0m\u001b[0m\n\u001b[1;32m    228\u001b[0m                 \u001b[0;32melse\u001b[0m\u001b[0;34m:\u001b[0m\u001b[0;34m\u001b[0m\u001b[0m\n\u001b[0;32m--> 229\u001b[0;31m                     \u001b[0;32mraise\u001b[0m \u001b[0mTweepError\u001b[0m\u001b[0;34m(\u001b[0m\u001b[0merror_msg\u001b[0m\u001b[0;34m,\u001b[0m \u001b[0mresp\u001b[0m\u001b[0;34m,\u001b[0m \u001b[0mapi_code\u001b[0m\u001b[0;34m=\u001b[0m\u001b[0mapi_error_code\u001b[0m\u001b[0;34m)\u001b[0m\u001b[0;34m\u001b[0m\u001b[0m\n\u001b[0m\u001b[1;32m    230\u001b[0m \u001b[0;34m\u001b[0m\u001b[0m\n\u001b[1;32m    231\u001b[0m             \u001b[0;31m# Parse the response payload\u001b[0m\u001b[0;34m\u001b[0m\u001b[0;34m\u001b[0m\u001b[0m\n",
      "\u001b[0;31mTweepError\u001b[0m: Not authorized."
     ]
    }
   ],
   "source": [
    "new_tweets2 = api.user_timeline(screen_name = screen_name, count=200)"
   ]
  },
  {
   "cell_type": "code",
   "execution_count": 46,
   "metadata": {
    "collapsed": false
   },
   "outputs": [],
   "source": [
    "screen_name = \"s\"\n",
    "new_tweets = api.user_timeline(screen_name = screen_name,count=200)"
   ]
  },
  {
   "cell_type": "code",
   "execution_count": 48,
   "metadata": {
    "collapsed": false
   },
   "outputs": [
    {
     "data": {
      "text/plain": [
       "Status(contributors=None, truncated=False, text=u'https://t.co/2k99BYr6Mt', is_quote_status=False, in_reply_to_status_id=None, id=718221585660919812, favorite_count=14, _api=<tweepy.api.API object at 0x10e78af50>, author=User(follow_request_sent=False, has_extended_profile=False, profile_use_background_image=False, _json={u'follow_request_sent': False, u'has_extended_profile': False, u'profile_use_background_image': False, u'default_profile_image': False, u'id': 347002675, u'profile_background_image_url_https': u'https://pbs.twimg.com/profile_background_images/666111968768495617/QcbiaBLG.jpg', u'verified': False, u'profile_text_color': u'333333', u'profile_image_url_https': u'https://pbs.twimg.com/profile_images/676761037538992129/Qq-q1bRC_normal.jpg', u'profile_sidebar_fill_color': u'FFBF00', u'entities': {u'url': {u'urls': [{u'url': u'https://t.co/DmeQp7INMS', u'indices': [0, 23], u'expanded_url': u'http://scienceburger.com', u'display_url': u'scienceburger.com'}]}, u'description': {u'urls': []}}, u'followers_count': 83725, u'profile_sidebar_border_color': u'000000', u'id_str': u'347002675', u'profile_background_color': u'C0DEED', u'listed_count': 725, u'is_translation_enabled': False, u'utc_offset': -14400, u'statuses_count': 54, u'description': u'Text SCIENCE to 44222 to be added to our mailing list!', u'friends_count': 18, u'location': u'', u'profile_link_color': u'0084B4', u'profile_image_url': u'http://pbs.twimg.com/profile_images/676761037538992129/Qq-q1bRC_normal.jpg', u'following': False, u'geo_enabled': False, u'profile_banner_url': u'https://pbs.twimg.com/profile_banners/347002675/1450187379', u'profile_background_image_url': u'http://pbs.twimg.com/profile_background_images/666111968768495617/QcbiaBLG.jpg', u'screen_name': u's', u'lang': u'en', u'profile_background_tile': False, u'favourites_count': 65, u'name': u'Science!', u'notifications': False, u'url': u'https://t.co/DmeQp7INMS', u'created_at': u'Tue Aug 02 04:17:30 +0000 2011', u'contributors_enabled': False, u'time_zone': u'Eastern Time (US & Canada)', u'protected': False, u'default_profile': False, u'is_translator': False}, time_zone=u'Eastern Time (US & Canada)', id=347002675, _api=<tweepy.api.API object at 0x10e78af50>, verified=False, profile_text_color=u'333333', profile_image_url_https=u'https://pbs.twimg.com/profile_images/676761037538992129/Qq-q1bRC_normal.jpg', profile_sidebar_fill_color=u'FFBF00', is_translator=False, geo_enabled=False, entities={u'url': {u'urls': [{u'url': u'https://t.co/DmeQp7INMS', u'indices': [0, 23], u'expanded_url': u'http://scienceburger.com', u'display_url': u'scienceburger.com'}]}, u'description': {u'urls': []}}, followers_count=83725, protected=False, id_str=u'347002675', default_profile_image=False, listed_count=725, lang=u'en', utc_offset=-14400, statuses_count=54, description=u'Text SCIENCE to 44222 to be added to our mailing list!', friends_count=18, profile_link_color=u'0084B4', profile_image_url=u'http://pbs.twimg.com/profile_images/676761037538992129/Qq-q1bRC_normal.jpg', notifications=False, profile_background_image_url_https=u'https://pbs.twimg.com/profile_background_images/666111968768495617/QcbiaBLG.jpg', profile_background_color=u'C0DEED', profile_banner_url=u'https://pbs.twimg.com/profile_banners/347002675/1450187379', profile_background_image_url=u'http://pbs.twimg.com/profile_background_images/666111968768495617/QcbiaBLG.jpg', name=u'Science!', is_translation_enabled=False, profile_background_tile=False, favourites_count=65, screen_name=u's', url=u'https://t.co/DmeQp7INMS', created_at=datetime.datetime(2011, 8, 2, 4, 17, 30), contributors_enabled=False, location=u'', profile_sidebar_border_color=u'000000', default_profile=False, following=False), _json={u'contributors': None, u'truncated': False, u'text': u'https://t.co/2k99BYr6Mt', u'is_quote_status': False, u'in_reply_to_status_id': None, u'id': 718221585660919812, u'favorite_count': 14, u'source': u'<a href=\"http://twitter.com/download/iphone\" rel=\"nofollow\">Twitter for iPhone</a>', u'retweeted': False, u'coordinates': None, u'entities': {u'symbols': [], u'user_mentions': [], u'hashtags': [], u'urls': [], u'media': [{u'expanded_url': u'http://twitter.com/s/status/718221585660919812/photo/1', u'display_url': u'pic.twitter.com/2k99BYr6Mt', u'url': u'https://t.co/2k99BYr6Mt', u'media_url_https': u'https://pbs.twimg.com/media/CfeiuDwW4AEQCQT.jpg', u'id_str': u'718221577754697729', u'sizes': {u'large': {u'h': 735, u'resize': u'fit', u'w': 735}, u'small': {u'h': 340, u'resize': u'fit', u'w': 340}, u'medium': {u'h': 600, u'resize': u'fit', u'w': 600}, u'thumb': {u'h': 150, u'resize': u'crop', u'w': 150}}, u'indices': [0, 23], u'type': u'photo', u'id': 718221577754697729, u'media_url': u'http://pbs.twimg.com/media/CfeiuDwW4AEQCQT.jpg'}]}, u'in_reply_to_screen_name': None, u'in_reply_to_user_id': None, u'retweet_count': 10, u'id_str': u'718221585660919812', u'favorited': False, u'user': {u'follow_request_sent': False, u'has_extended_profile': False, u'profile_use_background_image': False, u'default_profile_image': False, u'id': 347002675, u'profile_background_image_url_https': u'https://pbs.twimg.com/profile_background_images/666111968768495617/QcbiaBLG.jpg', u'verified': False, u'profile_text_color': u'333333', u'profile_image_url_https': u'https://pbs.twimg.com/profile_images/676761037538992129/Qq-q1bRC_normal.jpg', u'profile_sidebar_fill_color': u'FFBF00', u'entities': {u'url': {u'urls': [{u'url': u'https://t.co/DmeQp7INMS', u'indices': [0, 23], u'expanded_url': u'http://scienceburger.com', u'display_url': u'scienceburger.com'}]}, u'description': {u'urls': []}}, u'followers_count': 83725, u'profile_sidebar_border_color': u'000000', u'id_str': u'347002675', u'profile_background_color': u'C0DEED', u'listed_count': 725, u'is_translation_enabled': False, u'utc_offset': -14400, u'statuses_count': 54, u'description': u'Text SCIENCE to 44222 to be added to our mailing list!', u'friends_count': 18, u'location': u'', u'profile_link_color': u'0084B4', u'profile_image_url': u'http://pbs.twimg.com/profile_images/676761037538992129/Qq-q1bRC_normal.jpg', u'following': False, u'geo_enabled': False, u'profile_banner_url': u'https://pbs.twimg.com/profile_banners/347002675/1450187379', u'profile_background_image_url': u'http://pbs.twimg.com/profile_background_images/666111968768495617/QcbiaBLG.jpg', u'screen_name': u's', u'lang': u'en', u'profile_background_tile': False, u'favourites_count': 65, u'name': u'Science!', u'notifications': False, u'url': u'https://t.co/DmeQp7INMS', u'created_at': u'Tue Aug 02 04:17:30 +0000 2011', u'contributors_enabled': False, u'time_zone': u'Eastern Time (US & Canada)', u'protected': False, u'default_profile': False, u'is_translator': False}, u'geo': None, u'in_reply_to_user_id_str': None, u'possibly_sensitive': False, u'lang': u'und', u'created_at': u'Thu Apr 07 23:39:04 +0000 2016', u'in_reply_to_status_id_str': None, u'place': None, u'extended_entities': {u'media': [{u'expanded_url': u'http://twitter.com/s/status/718221585660919812/photo/1', u'display_url': u'pic.twitter.com/2k99BYr6Mt', u'url': u'https://t.co/2k99BYr6Mt', u'media_url_https': u'https://pbs.twimg.com/media/CfeiuDwW4AEQCQT.jpg', u'id_str': u'718221577754697729', u'sizes': {u'large': {u'h': 735, u'resize': u'fit', u'w': 735}, u'small': {u'h': 340, u'resize': u'fit', u'w': 340}, u'medium': {u'h': 600, u'resize': u'fit', u'w': 600}, u'thumb': {u'h': 150, u'resize': u'crop', u'w': 150}}, u'indices': [0, 23], u'type': u'photo', u'id': 718221577754697729, u'media_url': u'http://pbs.twimg.com/media/CfeiuDwW4AEQCQT.jpg'}]}}, coordinates=None, entities={u'symbols': [], u'user_mentions': [], u'hashtags': [], u'urls': [], u'media': [{u'expanded_url': u'http://twitter.com/s/status/718221585660919812/photo/1', u'display_url': u'pic.twitter.com/2k99BYr6Mt', u'url': u'https://t.co/2k99BYr6Mt', u'media_url_https': u'https://pbs.twimg.com/media/CfeiuDwW4AEQCQT.jpg', u'id_str': u'718221577754697729', u'sizes': {u'large': {u'h': 735, u'resize': u'fit', u'w': 735}, u'small': {u'h': 340, u'resize': u'fit', u'w': 340}, u'medium': {u'h': 600, u'resize': u'fit', u'w': 600}, u'thumb': {u'h': 150, u'resize': u'crop', u'w': 150}}, u'indices': [0, 23], u'type': u'photo', u'id': 718221577754697729, u'media_url': u'http://pbs.twimg.com/media/CfeiuDwW4AEQCQT.jpg'}]}, in_reply_to_screen_name=None, id_str=u'718221585660919812', retweet_count=10, in_reply_to_user_id=None, favorited=False, source_url=u'http://twitter.com/download/iphone', user=User(follow_request_sent=False, has_extended_profile=False, profile_use_background_image=False, _json={u'follow_request_sent': False, u'has_extended_profile': False, u'profile_use_background_image': False, u'default_profile_image': False, u'id': 347002675, u'profile_background_image_url_https': u'https://pbs.twimg.com/profile_background_images/666111968768495617/QcbiaBLG.jpg', u'verified': False, u'profile_text_color': u'333333', u'profile_image_url_https': u'https://pbs.twimg.com/profile_images/676761037538992129/Qq-q1bRC_normal.jpg', u'profile_sidebar_fill_color': u'FFBF00', u'entities': {u'url': {u'urls': [{u'url': u'https://t.co/DmeQp7INMS', u'indices': [0, 23], u'expanded_url': u'http://scienceburger.com', u'display_url': u'scienceburger.com'}]}, u'description': {u'urls': []}}, u'followers_count': 83725, u'profile_sidebar_border_color': u'000000', u'id_str': u'347002675', u'profile_background_color': u'C0DEED', u'listed_count': 725, u'is_translation_enabled': False, u'utc_offset': -14400, u'statuses_count': 54, u'description': u'Text SCIENCE to 44222 to be added to our mailing list!', u'friends_count': 18, u'location': u'', u'profile_link_color': u'0084B4', u'profile_image_url': u'http://pbs.twimg.com/profile_images/676761037538992129/Qq-q1bRC_normal.jpg', u'following': False, u'geo_enabled': False, u'profile_banner_url': u'https://pbs.twimg.com/profile_banners/347002675/1450187379', u'profile_background_image_url': u'http://pbs.twimg.com/profile_background_images/666111968768495617/QcbiaBLG.jpg', u'screen_name': u's', u'lang': u'en', u'profile_background_tile': False, u'favourites_count': 65, u'name': u'Science!', u'notifications': False, u'url': u'https://t.co/DmeQp7INMS', u'created_at': u'Tue Aug 02 04:17:30 +0000 2011', u'contributors_enabled': False, u'time_zone': u'Eastern Time (US & Canada)', u'protected': False, u'default_profile': False, u'is_translator': False}, time_zone=u'Eastern Time (US & Canada)', id=347002675, _api=<tweepy.api.API object at 0x10e78af50>, verified=False, profile_text_color=u'333333', profile_image_url_https=u'https://pbs.twimg.com/profile_images/676761037538992129/Qq-q1bRC_normal.jpg', profile_sidebar_fill_color=u'FFBF00', is_translator=False, geo_enabled=False, entities={u'url': {u'urls': [{u'url': u'https://t.co/DmeQp7INMS', u'indices': [0, 23], u'expanded_url': u'http://scienceburger.com', u'display_url': u'scienceburger.com'}]}, u'description': {u'urls': []}}, followers_count=83725, protected=False, id_str=u'347002675', default_profile_image=False, listed_count=725, lang=u'en', utc_offset=-14400, statuses_count=54, description=u'Text SCIENCE to 44222 to be added to our mailing list!', friends_count=18, profile_link_color=u'0084B4', profile_image_url=u'http://pbs.twimg.com/profile_images/676761037538992129/Qq-q1bRC_normal.jpg', notifications=False, profile_background_image_url_https=u'https://pbs.twimg.com/profile_background_images/666111968768495617/QcbiaBLG.jpg', profile_background_color=u'C0DEED', profile_banner_url=u'https://pbs.twimg.com/profile_banners/347002675/1450187379', profile_background_image_url=u'http://pbs.twimg.com/profile_background_images/666111968768495617/QcbiaBLG.jpg', name=u'Science!', is_translation_enabled=False, profile_background_tile=False, favourites_count=65, screen_name=u's', url=u'https://t.co/DmeQp7INMS', created_at=datetime.datetime(2011, 8, 2, 4, 17, 30), contributors_enabled=False, location=u'', profile_sidebar_border_color=u'000000', default_profile=False, following=False), geo=None, in_reply_to_user_id_str=None, possibly_sensitive=False, lang=u'und', created_at=datetime.datetime(2016, 4, 7, 23, 39, 4), in_reply_to_status_id_str=None, place=None, source=u'Twitter for iPhone', extended_entities={u'media': [{u'expanded_url': u'http://twitter.com/s/status/718221585660919812/photo/1', u'display_url': u'pic.twitter.com/2k99BYr6Mt', u'url': u'https://t.co/2k99BYr6Mt', u'media_url_https': u'https://pbs.twimg.com/media/CfeiuDwW4AEQCQT.jpg', u'id_str': u'718221577754697729', u'sizes': {u'large': {u'h': 735, u'resize': u'fit', u'w': 735}, u'small': {u'h': 340, u'resize': u'fit', u'w': 340}, u'medium': {u'h': 600, u'resize': u'fit', u'w': 600}, u'thumb': {u'h': 150, u'resize': u'crop', u'w': 150}}, u'indices': [0, 23], u'type': u'photo', u'id': 718221577754697729, u'media_url': u'http://pbs.twimg.com/media/CfeiuDwW4AEQCQT.jpg'}]}, retweeted=False)"
      ]
     },
     "execution_count": 48,
     "metadata": {},
     "output_type": "execute_result"
    }
   ],
   "source": [
    "new_tweets[0]"
   ]
  },
  {
   "cell_type": "code",
   "execution_count": null,
   "metadata": {
    "collapsed": true
   },
   "outputs": [],
   "source": []
  }
 ],
 "metadata": {
  "kernelspec": {
   "display_name": "Python 2",
   "language": "python",
   "name": "python2"
  },
  "language_info": {
   "codemirror_mode": {
    "name": "ipython",
    "version": 2
   },
   "file_extension": ".py",
   "mimetype": "text/x-python",
   "name": "python",
   "nbconvert_exporter": "python",
   "pygments_lexer": "ipython2",
   "version": "2.7.11"
  }
 },
 "nbformat": 4,
 "nbformat_minor": 0
}
