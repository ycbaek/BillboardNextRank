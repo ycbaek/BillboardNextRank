{
 "cells": [
  {
   "cell_type": "code",
   "execution_count": 63,
   "metadata": {
    "collapsed": true
   },
   "outputs": [],
   "source": [
    "import pandas as pd\n",
    "import time\n",
    "import datetime\n",
    "from datetime import timedelta\n",
    "from pymongo import MongoClient\n",
    "from textblob import TextBlob"
   ]
  },
  {
   "cell_type": "code",
   "execution_count": 64,
   "metadata": {
    "collapsed": true
   },
   "outputs": [],
   "source": [
    "client = MongoClient('localhost', 27017)\n",
    "#db = client['test01_database']"
   ]
  },
  {
   "cell_type": "code",
   "execution_count": 65,
   "metadata": {
    "collapsed": true
   },
   "outputs": [],
   "source": [
    "def get_dataframe(tab):\n",
    "\n",
    "    dataSet = pd.DataFrame()    \n",
    "    dataSet[\"id\"] = [tweet['id'] for tweet in tab.find()]\n",
    "    dataSet[\"text\"] = [tweet['text'] for tweet in tab.find()]\n",
    "    dataSet[\"created_at\"] = [tweet['created_at'] for tweet in tab.find()]\n",
    "    dataSet[\"favorite_count\"] = [tweet['favorite_count'] for tweet in tab.find()]\n",
    "    #dataSet[\"retweet_count\"] = [tweet['retweeted_status']['retweet_count'] tweet in tab.find()]\n",
    "    dataSet[\"source\"] = [tweet['source'] for tweet in tab.find()]\n",
    "    dataSet[\"user_id\"] = [tweet['user']['id'] for tweet in tab.find()]\n",
    "    dataSet[\"user_screen_name\"] = [tweet['user']['screen_name'] for tweet in tab.find()]\n",
    "    dataSet[\"user_name\"] = [tweet['user']['name'] for tweet in tab.find()]\n",
    "    dataSet[\"user_created_at\"] = [tweet['user']['created_at'] for tweet in tab.find()]\n",
    "    dataSet[\"user_description\"] = [tweet['user']['description'] for tweet in tab.find()]\n",
    "    dataSet[\"user_followers_count\"] = [tweet['user']['followers_count'] for tweet in tab.find()]\n",
    "    dataSet[\"user_friends_count\"] = [tweet['user']['friends_count'] for tweet in tab.find()]\n",
    "    dataSet[\"user_location\"] = [tweet['user']['location'] for tweet in tab.find()]\n",
    "    dataSet[\"user_time_zone\"] = [tweet['user']['time_zone'] for tweet in tab.find()]\n",
    "\n",
    "    return dataSet.drop_duplicates()"
   ]
  },
  {
   "cell_type": "code",
   "execution_count": 66,
   "metadata": {
    "collapsed": true
   },
   "outputs": [],
   "source": [
    "def get_category_sent(score):\n",
    "    if score > 0 :\n",
    "        return \"Pos\"\n",
    "    elif score < 0:\n",
    "        return \"Neg\"\n",
    "    else:\n",
    "        return \"Neu\""
   ]
  },
  {
   "cell_type": "code",
   "execution_count": 67,
   "metadata": {
    "collapsed": true
   },
   "outputs": [],
   "source": [
    "def find_week(date_time):\n",
    "    \n",
    "    day7 = timedelta(days=7)\n",
    "    date_slected = datetime.date(2016,1, 9)\n",
    "    all_date =[date_slected]\n",
    "    for i in range(51):\n",
    "        date_slected = date_slected + day7\n",
    "        all_date.append(date_slected)\n",
    "\n",
    "    week_firstDate = pd.DataFrame()\n",
    "    week_firstDate['firstData'] = all_date\n",
    "    week_firstDate['week'] = range(1,53)\n",
    "    \n",
    "    for i in range(52):\n",
    "        if date_time.date() <= week_firstDate['firstData'][i]:\n",
    "            return week_firstDate['week'][i]"
   ]
  },
  {
   "cell_type": "code",
   "execution_count": 68,
   "metadata": {
    "collapsed": false
   },
   "outputs": [],
   "source": [
    "def info_twitter_song(tab):\n",
    "\n",
    "    df= get_dataframe(tab)\n",
    "    df['sent_score'] = df['text'].map(lambda x : TextBlob(x).sentiment.polarity)\n",
    "    df['sent_category'] = df['sent_score'].map(get_category_sent)\n",
    "    df['pos'] = df['sent_category'].map(lambda x: 1 if x == 'Pos' else 0)\n",
    "    df['neg'] = df['sent_category'].map(lambda x: 1 if x == 'Neg' else 0)\n",
    "    df['neu'] = df['sent_category'].map(lambda x: 1 if x == 'Neu' else 0)\n",
    "    df['created_at_time'] = df['created_at'].map(lambda x : datetime.datetime.strptime(x, \"%a %b %d %H:%M:%S +0000 %Y\"))\n",
    "    df['created_at_time_min'] = df['created_at_time']\n",
    "    df['created_at_time_max'] = df['created_at_time']\n",
    "    df['created_at_time_date'] = df['created_at_time'].map(lambda x : x.date())\n",
    "    df['week_from_one'] = df['created_at_time'].map(find_week)\n",
    "    df['count'] = 1\n",
    "    #df['source_short'] = df['source'].map(lambda x : str(x.split('>')[1].split('<')[0]))\n",
    "\n",
    "    col_list = ['week_from_one']\n",
    "    #agg_dic = {'favorite_count':sum, 'count':sum, 'pos':sum, 'neg':sum, 'neu':sum, 'created_at_time': [min, max]}\n",
    "    agg_dic = {'favorite_count':sum, 'count':sum, 'pos':sum, 'neg':sum, 'neu':sum,'created_at_time_min': min,\\\n",
    "               'created_at_time_max': max}\n",
    "    grouped = df.groupby(col_list).agg(agg_dic)\n",
    "    grouped = grouped.reset_index()\n",
    "\n",
    "    grouped['neg_rate']=1.0*grouped['neg']/grouped['count']\n",
    "    grouped['pos_rate']=1.0*grouped['pos']/grouped['count']\n",
    "    grouped['neu_rate']=1.0*grouped['neu']/grouped['count']\n",
    "    grouped['ratio_pos_neg']=1.0*(grouped['pos']+1)/(grouped['neg'] +1)\n",
    "    grouped['favorite_rate']=1.0*grouped['favorite_count']/grouped['count']\n",
    "\n",
    "    #selected_col = ['week_from_one','count','pos_rate','neg_rate', 'neu_rate','ratio_pos_neg','favorite_rate']\n",
    "    #slected = grouped[selected_col]\n",
    "    slected = grouped\n",
    "    return slected"
   ]
  },
  {
   "cell_type": "code",
   "execution_count": 69,
   "metadata": {
    "collapsed": true
   },
   "outputs": [],
   "source": [
    "def get_billboard(billboard_filename_path):\n",
    "\n",
    "    df2 = pd.read_csv(billboard_filename_path, sep='|', names=['last_date','rank','song','long_artist'])\n",
    "    df2['last_date_time'] = df2['last_date'].map(lambda x : datetime.datetime.strptime(x, \"%Y-%m-%d\"))\n",
    "    df2['week_from_one'] = df2['last_date_time'].map(find_week)\n",
    "    df2[\"artist\"] = df2[\"long_artist\"].map(lambda x : x.split('featuring')[0])\n",
    "    df2[\"ID\"] = df2[\"song\"] + \"%\" +  df2[\"artist\"]\n",
    "    \n",
    "    df= df2.pivot('ID', 'week_from_one', 'rank')\n",
    "    df[\"ID\"] = df.index\n",
    "    df[\"song\"] = df[\"ID\"].map(lambda x : x.split('%')[0])\n",
    "    df[\"artist\"] = df[\"ID\"].map(lambda x : x.split('%')[1])\n",
    "    df.fillna(101,inplace=True)\n",
    "    df.index = range(1,len(df)+1)\n",
    "    df[\"IDN\"] = df.index\n",
    "    \n",
    "    return df"
   ]
  },
  {
   "cell_type": "code",
   "execution_count": 70,
   "metadata": {
    "collapsed": true
   },
   "outputs": [],
   "source": [
    "def find_date(week_from_one):\n",
    "    \n",
    "    day7 = timedelta(days=7)\n",
    "    day6 = timedelta(days=6)\n",
    "    date_slected = datetime.date(2016,1,3)\n",
    "    all_date =[date_slected]\n",
    "    all_date_last = [date_slected + day6]\n",
    "    for i in range(51):\n",
    "        date_slected = date_slected + day7\n",
    "        all_date.append(date_slected)\n",
    "        all_date_last.append(date_slected +day6)\n",
    "        \n",
    "        \n",
    "\n",
    "    week_Date = pd.DataFrame()\n",
    "    week_Date['firstData'] = all_date\n",
    "    week_Date['lastData'] = all_date_last\n",
    "    week_Date['week'] = range(1,53)\n",
    "    index_date = week_from_one - 1\n",
    "    \n",
    "    return str(all_date[index_date]) + ' ~ ' + str(all_date_last[index_date])"
   ]
  },
  {
   "cell_type": "code",
   "execution_count": 71,
   "metadata": {
    "collapsed": true
   },
   "outputs": [],
   "source": [
    "def twitter_info_table(song_id, db, list_input, current_billboard):\n",
    "\n",
    "    table_name = \"test_01_\" + str(song_id)\n",
    "    tab = db[table_name]\n",
    "    \n",
    "    Input = [ [\"#\"+str(id.split('%')[0]), str(id.split('%')[1])]  for id in list_input[\"ID\"]]\n",
    "    max_week = max([x for x in list(current_billboard.columns) if isinstance(x, int)])\n",
    "    current_billboard[max_week+1] = 0\n",
    "    Song_history = current_billboard[current_billboard['ID']==list_input['ID'].values[song_id]]\n",
    "\n",
    "    twit = info_twitter_song(tab)\n",
    "\n",
    "    twit['Billboard_rank'] = [int(Song_history[week]) for week in twit['week_from_one']]\n",
    "    twit['date_period'] = twit['week_from_one'].map(find_date)\n",
    "    twit['Billboard_rank_text'] = twit['Billboard_rank'].map(lambda x : x if x <= 100 else \"Not on Billboard\")\n",
    "    twit['diff_time'] = twit['created_at_time_max'] - twit['created_at_time_min']\n",
    "    twit['diff_hour'] = twit['diff_time'].astype(pd.Timedelta).map(lambda x : float(x.seconds)/3600)\n",
    "    twit['diff_hour_adj'] = twit['diff_hour'].map(lambda x: 24*7 if x == 0 else x )\n",
    "    twit['twitter_per_hour'] = 1.0*twit['count']/twit['diff_hour_adj']\n",
    "    col = ['date_period','week_from_one', 'Billboard_rank','twitter_per_hour',\\\n",
    "           'pos_rate', 'neg_rate','ratio_pos_neg' ,'favorite_rate']\n",
    "    twitter_table = twit[col]\n",
    "    twitter_table['Song_ID'] = list_input[\"ID\"].values[song_id]\n",
    "    twitter_table['Song_IDN'] = song_id+1\n",
    "    \n",
    "    return Song_history, twitter_table\n"
   ]
  },
  {
   "cell_type": "code",
   "execution_count": 72,
   "metadata": {
    "collapsed": false
   },
   "outputs": [],
   "source": [
    "def get_DataFrame_for_song(song_id, db, list_input, current_billboard):\n",
    "    \n",
    "    Song_history, twitter_table = twitter_info_table(song_id, db, list_input, current_billboard)\n",
    "    df_song = twitter_table\n",
    "    df_song = df_song.rename(columns = {'week_from_one':'week'})\n",
    "    df_song = df_song.rename(columns = {'Billboard_rank':'current_rank'})\n",
    "    df_song['past_rank_1'] = df_song['week'].map(lambda x : int(Song_history[x-1]))\n",
    "    df_song['past_rank_2'] = df_song['week'].map(lambda x : int(Song_history[x-2]))\n",
    "    df_song['past_rank_3'] = df_song['week'].map(lambda x : int(Song_history[x-3]))\n",
    "    df_song['past_rank_4'] = df_song['week'].map(lambda x : int(Song_history[x-4]))\n",
    "    df_song['next_rank'] = df_song['week'].map(lambda x : int(Song_history[x+1]))                                     \n",
    "    \n",
    "    \n",
    "    col =['date_period','week','current_rank','count','twitter_per_hour','pos_rate',\\\n",
    "          'neg_rate','ratio_pos_neg','favorite_rate','Song_ID','Song_IDN',\\\n",
    "          'past_rank_1','past_rank_2','past_rank_3','past_rank_4','past_rank_4','next_rank']\n",
    "    \n",
    "    return df_song\n",
    "    "
   ]
  },
  {
   "cell_type": "code",
   "execution_count": 73,
   "metadata": {
    "collapsed": true
   },
   "outputs": [],
   "source": [
    "def merge_dataframe(list_id, db, list_input, current_billboard, file_name):\n",
    "    \n",
    "    print \"We are getting data frame for id = {}\".format(list_id[0])\n",
    "    df = get_DataFrame_for_song(list_id[0], db, list_input, current_billboard)\n",
    "    print \"The length of dataFrame is {}.\".format(len(df))\n",
    "    print \" \"\n",
    "    \n",
    "    if len(list_id) == 1:\n",
    "        print \"We're done\"\n",
    "        return df\n",
    "    \n",
    "    \n",
    "    for i in range(1, len(list_id)):\n",
    "        print \"We completed {} of the total work and now are merging the data frame with id = {}\".format\\\n",
    "        (1.0*i/len(list_id), list_id[i])\n",
    "        df = pd.concat([df, get_DataFrame_for_song(list_id[i], db, list_input, current_billboard)])\n",
    "        print \"The length of dataFrame is {}.\".format(len(df))\n",
    "        print \" \"\n",
    "    \n",
    "    df.to_csv(file_name, sep=',', encoding='utf-8')\n",
    "    print \"We're done\"\n",
    "    return df\n",
    "    "
   ]
  },
  {
   "cell_type": "code",
   "execution_count": 44,
   "metadata": {
    "collapsed": true
   },
   "outputs": [],
   "source": [
    "db = client['song3_database']\n",
    "list_input = get_billboard(\"../data/billboard.csv\")\n",
    "current_billboard = get_billboard(\"../data/billboard2.csv\")"
   ]
  },
  {
   "cell_type": "code",
   "execution_count": 1,
   "metadata": {
    "collapsed": false
   },
   "outputs": [
    {
     "ename": "NameError",
     "evalue": "name 'list_input' is not defined",
     "output_type": "error",
     "traceback": [
      "\u001b[0;31m---------------------------------------------------------------------------\u001b[0m",
      "\u001b[0;31mNameError\u001b[0m                                 Traceback (most recent call last)",
      "\u001b[0;32m<ipython-input-1-29074d36b974>\u001b[0m in \u001b[0;36m<module>\u001b[0;34m()\u001b[0m\n\u001b[0;32m----> 1\u001b[0;31m \u001b[0mlist_id\u001b[0m \u001b[0;34m=\u001b[0m \u001b[0mrange\u001b[0m\u001b[0;34m(\u001b[0m\u001b[0mlen\u001b[0m\u001b[0;34m(\u001b[0m\u001b[0mlist_input\u001b[0m\u001b[0;34m)\u001b[0m\u001b[0;34m)\u001b[0m\u001b[0;34m\u001b[0m\u001b[0m\n\u001b[0m\u001b[1;32m      2\u001b[0m \u001b[0mfile_name\u001b[0m \u001b[0;34m=\u001b[0m \u001b[0;34m'result_05.csv'\u001b[0m\u001b[0;34m\u001b[0m\u001b[0m\n\u001b[1;32m      3\u001b[0m \u001b[0mdf_total\u001b[0m \u001b[0;34m=\u001b[0m \u001b[0mmerge_dataframe\u001b[0m\u001b[0;34m(\u001b[0m\u001b[0mlist_id\u001b[0m\u001b[0;34m,\u001b[0m \u001b[0mdb\u001b[0m\u001b[0;34m,\u001b[0m \u001b[0mlist_input\u001b[0m\u001b[0;34m,\u001b[0m \u001b[0mcurrent_billboard\u001b[0m\u001b[0;34m,\u001b[0m \u001b[0mfile_name\u001b[0m\u001b[0;34m)\u001b[0m\u001b[0;34m\u001b[0m\u001b[0m\n",
      "\u001b[0;31mNameError\u001b[0m: name 'list_input' is not defined"
     ]
    }
   ],
   "source": [
    "list_id = range(len(list_input))\n",
    "file_name = 'result_01.csv' \n",
    "df_total = merge_dataframe(list_id, db, list_input, current_billboard, file_name)\n"
   ]
  },
  {
   "cell_type": "code",
   "execution_count": null,
   "metadata": {
    "collapsed": true
   },
   "outputs": [],
   "source": []
  }
 ],
 "metadata": {
  "kernelspec": {
   "display_name": "Python 2",
   "language": "python",
   "name": "python2"
  },
  "language_info": {
   "codemirror_mode": {
    "name": "ipython",
    "version": 2
   },
   "file_extension": ".py",
   "mimetype": "text/x-python",
   "name": "python",
   "nbconvert_exporter": "python",
   "pygments_lexer": "ipython2",
   "version": "2.7.11"
  }
 },
 "nbformat": 4,
 "nbformat_minor": 0
}
