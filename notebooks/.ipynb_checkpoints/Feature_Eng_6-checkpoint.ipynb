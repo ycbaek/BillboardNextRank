{
 "cells": [
  {
   "cell_type": "code",
   "execution_count": 31,
   "metadata": {
    "collapsed": true
   },
   "outputs": [],
   "source": [
    "import pandas as pd\n",
    "import time\n",
    "import datetime\n",
    "from datetime import timedelta\n",
    "from pymongo import MongoClient\n",
    "from textblob import TextBlob"
   ]
  },
  {
   "cell_type": "code",
   "execution_count": 32,
   "metadata": {
    "collapsed": true
   },
   "outputs": [],
   "source": [
    "client = MongoClient('localhost', 27017)\n",
    "#db = client['test01_database']"
   ]
  },
  {
   "cell_type": "code",
   "execution_count": 33,
   "metadata": {
    "collapsed": true
   },
   "outputs": [],
   "source": [
    "def get_dataframe(tab):\n",
    "\n",
    "    dataSet = pd.DataFrame()    \n",
    "    dataSet[\"id\"] = [tweet['id'] for tweet in tab.find()]\n",
    "    dataSet[\"text\"] = [tweet['text'] for tweet in tab.find()]\n",
    "    dataSet[\"created_at\"] = [tweet['created_at'] for tweet in tab.find()]\n",
    "    dataSet[\"favorite_count\"] = [tweet['favorite_count'] for tweet in tab.find()]\n",
    "    #dataSet[\"retweet_count\"] = [tweet['retweeted_status']['retweet_count'] tweet in tab.find()]\n",
    "    dataSet[\"source\"] = [tweet['source'] for tweet in tab.find()]\n",
    "    dataSet[\"user_id\"] = [tweet['user']['id'] for tweet in tab.find()]\n",
    "    dataSet[\"user_screen_name\"] = [tweet['user']['screen_name'] for tweet in tab.find()]\n",
    "    dataSet[\"user_name\"] = [tweet['user']['name'] for tweet in tab.find()]\n",
    "    dataSet[\"user_created_at\"] = [tweet['user']['created_at'] for tweet in tab.find()]\n",
    "    dataSet[\"user_description\"] = [tweet['user']['description'] for tweet in tab.find()]\n",
    "    dataSet[\"user_followers_count\"] = [tweet['user']['followers_count'] for tweet in tab.find()]\n",
    "    dataSet[\"user_friends_count\"] = [tweet['user']['friends_count'] for tweet in tab.find()]\n",
    "    dataSet[\"user_location\"] = [tweet['user']['location'] for tweet in tab.find()]\n",
    "    dataSet[\"user_time_zone\"] = [tweet['user']['time_zone'] for tweet in tab.find()]\n",
    "\n",
    "    return dataSet.drop_duplicates()"
   ]
  },
  {
   "cell_type": "code",
   "execution_count": 34,
   "metadata": {
    "collapsed": true
   },
   "outputs": [],
   "source": [
    "def get_category_sent(score):\n",
    "    if score > 0 :\n",
    "        return \"Pos\"\n",
    "    elif score < 0:\n",
    "        return \"Neg\"\n",
    "    else:\n",
    "        return \"Neu\""
   ]
  },
  {
   "cell_type": "code",
   "execution_count": 35,
   "metadata": {
    "collapsed": true
   },
   "outputs": [],
   "source": [
    "def find_week(date_time):\n",
    "    \n",
    "    day7 = timedelta(days=7)\n",
    "    date_slected = datetime.date(2016,1, 9)\n",
    "    all_date =[date_slected]\n",
    "    for i in range(51):\n",
    "        date_slected = date_slected + day7\n",
    "        all_date.append(date_slected)\n",
    "\n",
    "    week_firstDate = pd.DataFrame()\n",
    "    week_firstDate['firstData'] = all_date\n",
    "    week_firstDate['week'] = range(1,53)\n",
    "    \n",
    "    for i in range(52):\n",
    "        if date_time.date() <= week_firstDate['firstData'][i]:\n",
    "            return week_firstDate['week'][i]"
   ]
  },
  {
   "cell_type": "code",
   "execution_count": 36,
   "metadata": {
    "collapsed": false
   },
   "outputs": [],
   "source": [
    "def info_twitter_song(tab):\n",
    "\n",
    "    df= get_dataframe(tab)\n",
    "    df['sent_score'] = df['text'].map(lambda x : TextBlob(x).sentiment.polarity)\n",
    "    df['sent_category'] = df['sent_score'].map(get_category_sent)\n",
    "    df['pos'] = df['sent_category'].map(lambda x: 1 if x == 'Pos' else 0)\n",
    "    df['neg'] = df['sent_category'].map(lambda x: 1 if x == 'Neg' else 0)\n",
    "    df['neu'] = df['sent_category'].map(lambda x: 1 if x == 'Neu' else 0)\n",
    "    df['created_at_time'] = df['created_at'].map(lambda x : datetime.datetime.strptime(x, \"%a %b %d %H:%M:%S +0000 %Y\"))\n",
    "    df['created_at_time_min'] = df['created_at_time']\n",
    "    df['created_at_time_max'] = df['created_at_time']\n",
    "    df['created_at_time_date'] = df['created_at_time'].map(lambda x : x.date())\n",
    "    df['week_from_one'] = df['created_at_time'].map(find_week)\n",
    "    df['count'] = 1\n",
    "    #df['source_short'] = df['source'].map(lambda x : str(x.split('>')[1].split('<')[0]))\n",
    "\n",
    "    col_list = ['week_from_one']\n",
    "    #agg_dic = {'favorite_count':sum, 'count':sum, 'pos':sum, 'neg':sum, 'neu':sum, 'created_at_time': [min, max]}\n",
    "    agg_dic = {'favorite_count':sum, 'count':sum, 'pos':sum, 'neg':sum, 'neu':sum,'created_at_time_min': min,\\\n",
    "               'created_at_time_max': max}\n",
    "    grouped = df.groupby(col_list).agg(agg_dic)\n",
    "    grouped = grouped.reset_index()\n",
    "\n",
    "    grouped['neg_rate']=1.0*grouped['neg']/grouped['count']\n",
    "    grouped['pos_rate']=1.0*grouped['pos']/grouped['count']\n",
    "    grouped['neu_rate']=1.0*grouped['neu']/grouped['count']\n",
    "    grouped['ratio_pos_neg']=1.0*(grouped['pos']+1)/(grouped['neg'] +1)\n",
    "    grouped['favorite_rate']=1.0*grouped['favorite_count']/grouped['count']\n",
    "\n",
    "    #selected_col = ['week_from_one','count','pos_rate','neg_rate', 'neu_rate','ratio_pos_neg','favorite_rate']\n",
    "    #slected = grouped[selected_col]\n",
    "    slected = grouped\n",
    "    return slected"
   ]
  },
  {
   "cell_type": "code",
   "execution_count": 37,
   "metadata": {
    "collapsed": true
   },
   "outputs": [],
   "source": [
    "def get_billboard(billboard_filename_path):\n",
    "\n",
    "    df2 = pd.read_csv(billboard_filename_path, sep='|', names=['last_date','rank','song','long_artist'])\n",
    "    df2['last_date_time'] = df2['last_date'].map(lambda x : datetime.datetime.strptime(x, \"%Y-%m-%d\"))\n",
    "    df2['week_from_one'] = df2['last_date_time'].map(find_week)\n",
    "    df2[\"artist\"] = df2[\"long_artist\"].map(lambda x : x.split('featuring')[0])\n",
    "    df2[\"ID\"] = df2[\"song\"] + \"%\" +  df2[\"artist\"]\n",
    "    \n",
    "    df= df2.pivot('ID', 'week_from_one', 'rank')\n",
    "    df[\"ID\"] = df.index\n",
    "    df[\"song\"] = df[\"ID\"].map(lambda x : x.split('%')[0])\n",
    "    df[\"artist\"] = df[\"ID\"].map(lambda x : x.split('%')[1])\n",
    "    df.fillna(101,inplace=True)\n",
    "    df.index = range(1,len(df)+1)\n",
    "    df[\"IDN\"] = df.index\n",
    "    \n",
    "    return df"
   ]
  },
  {
   "cell_type": "code",
   "execution_count": 38,
   "metadata": {
    "collapsed": true
   },
   "outputs": [],
   "source": [
    "def find_date(week_from_one):\n",
    "    \n",
    "    day7 = timedelta(days=7)\n",
    "    day6 = timedelta(days=6)\n",
    "    date_slected = datetime.date(2016,1,3)\n",
    "    all_date =[date_slected]\n",
    "    all_date_last = [date_slected + day6]\n",
    "    for i in range(51):\n",
    "        date_slected = date_slected + day7\n",
    "        all_date.append(date_slected)\n",
    "        all_date_last.append(date_slected +day6)\n",
    "        \n",
    "        \n",
    "\n",
    "    week_Date = pd.DataFrame()\n",
    "    week_Date['firstData'] = all_date\n",
    "    week_Date['lastData'] = all_date_last\n",
    "    week_Date['week'] = range(1,53)\n",
    "    index_date = week_from_one - 1\n",
    "    \n",
    "    return str(all_date[index_date]) + ' ~ ' + str(all_date_last[index_date])"
   ]
  },
  {
   "cell_type": "code",
   "execution_count": 39,
   "metadata": {
    "collapsed": false
   },
   "outputs": [],
   "source": [
    "db = client['song3_database']\n",
    "list_input = get_billboard(\"../data/billboard.csv\")\n",
    "list_id = range(len(list_input))\n",
    "list_count = []\n",
    "for song_id in list_id:\n",
    "    table_name = \"test_01_\" + str(song_id)\n",
    "    tab = db[table_name]\n",
    "    list_count.append(tab.find().count())"
   ]
  },
  {
   "cell_type": "code",
   "execution_count": 40,
   "metadata": {
    "collapsed": false
   },
   "outputs": [],
   "source": [
    "ID_list_where = []\n",
    "count_list_num = []\n",
    "for i in range(7):\n",
    "    ID_list_where.append(np.where (np.array(list_count) == i))\n",
    "    count_list_num.append(sum(np.array(list_count) == i))"
   ]
  },
  {
   "cell_type": "code",
   "execution_count": 41,
   "metadata": {
    "collapsed": true
   },
   "outputs": [],
   "source": [
    "df_data_csv = pd.read_csv('result_03.csv')"
   ]
  },
  {
   "cell_type": "code",
   "execution_count": 42,
   "metadata": {
    "collapsed": true
   },
   "outputs": [],
   "source": [
    "AA = df_data_csv['Song_IDN']-1"
   ]
  },
  {
   "cell_type": "code",
   "execution_count": 83,
   "metadata": {
    "collapsed": false
   },
   "outputs": [
    {
     "name": "stdout",
     "output_type": "stream",
     "text": [
      "40 40\n",
      "set([])\n",
      "set([])\n",
      "106 146\n"
     ]
    }
   ],
   "source": [
    "from collections import Counter\n",
    "\n",
    "list_song_df_data_csv = Counter(df_data_csv['Song_IDN']-1).keys()\n",
    "\n",
    "No_list_song_df_data_csv = list(set(range(146)) - set(list_song_df_data_csv))\n",
    "NO_data_twitter = list(np.where (np.array(list_count) == 0)[0])\n",
    "\n",
    "print len(No_list_song_df_data_csv), len(NO_data_twitter)\n",
    "print set(No_list_song_df_data_csv) - set(NO_data_twitter)\n",
    "print set(NO_data_twitter) - set(No_list_song_df_data_csv)\n",
    "\n",
    "print len(list_song_df_data_csv), len(list_input)"
   ]
  },
  {
   "cell_type": "code",
   "execution_count": 46,
   "metadata": {
    "collapsed": true
   },
   "outputs": [],
   "source": [
    "db = client['song3_database']\n",
    "list_input = get_billboard(\"../data/billboard.csv\")\n",
    "current_billboard = get_billboard(\"../data/billboard2.csv\")"
   ]
  },
  {
   "cell_type": "code",
   "execution_count": 96,
   "metadata": {
    "collapsed": false
   },
   "outputs": [
    {
     "name": "stderr",
     "output_type": "stream",
     "text": [
      "/Users/Yeongcheon/anaconda/lib/python2.7/site-packages/ipykernel/__main__.py:22: SettingWithCopyWarning: \n",
      "A value is trying to be set on a copy of a slice from a DataFrame.\n",
      "Try using .loc[row_indexer,col_indexer] = value instead\n",
      "\n",
      "See the caveats in the documentation: http://pandas.pydata.org/pandas-docs/stable/indexing.html#indexing-view-versus-copy\n",
      "/Users/Yeongcheon/anaconda/lib/python2.7/site-packages/ipykernel/__main__.py:23: SettingWithCopyWarning: \n",
      "A value is trying to be set on a copy of a slice from a DataFrame.\n",
      "Try using .loc[row_indexer,col_indexer] = value instead\n",
      "\n",
      "See the caveats in the documentation: http://pandas.pydata.org/pandas-docs/stable/indexing.html#indexing-view-versus-copy\n"
     ]
    }
   ],
   "source": [
    "song_id = 8\n",
    "table_name = \"test_01_\" + str(song_id)\n",
    "tab = db[table_name]\n",
    "Song_history, twitter_table = twitter_info_table(song_id, db, list_input, current_billboard)"
   ]
  },
  {
   "cell_type": "code",
   "execution_count": 97,
   "metadata": {
    "collapsed": false
   },
   "outputs": [
    {
     "data": {
      "text/html": [
       "<div>\n",
       "<table border=\"1\" class=\"dataframe\">\n",
       "  <thead>\n",
       "    <tr style=\"text-align: right;\">\n",
       "      <th>week_from_one</th>\n",
       "      <th>9</th>\n",
       "      <th>10</th>\n",
       "      <th>11</th>\n",
       "      <th>12</th>\n",
       "      <th>13</th>\n",
       "      <th>14</th>\n",
       "      <th>15</th>\n",
       "      <th>16</th>\n",
       "      <th>ID</th>\n",
       "      <th>song</th>\n",
       "      <th>artist</th>\n",
       "      <th>IDN</th>\n",
       "      <th>17</th>\n",
       "      <th>18</th>\n",
       "      <th>19</th>\n",
       "    </tr>\n",
       "  </thead>\n",
       "  <tbody>\n",
       "    <tr>\n",
       "      <th>9</th>\n",
       "      <td>101</td>\n",
       "      <td>101</td>\n",
       "      <td>101</td>\n",
       "      <td>83</td>\n",
       "      <td>101</td>\n",
       "      <td>101</td>\n",
       "      <td>101</td>\n",
       "      <td>101</td>\n",
       "      <td>American Country Love Song%JAKE OWEN</td>\n",
       "      <td>American Country Love Song</td>\n",
       "      <td>JAKE OWEN</td>\n",
       "      <td>9</td>\n",
       "      <td>0</td>\n",
       "      <td>0</td>\n",
       "      <td>0</td>\n",
       "    </tr>\n",
       "  </tbody>\n",
       "</table>\n",
       "</div>"
      ],
      "text/plain": [
       "week_from_one    9   10   11  12   13   14   15   16  \\\n",
       "9              101  101  101  83  101  101  101  101   \n",
       "\n",
       "week_from_one                                    ID  \\\n",
       "9              American Country Love Song%JAKE OWEN   \n",
       "\n",
       "week_from_one                        song     artist  IDN  17  18  19  \n",
       "9              American Country Love Song  JAKE OWEN    9   0   0   0  "
      ]
     },
     "execution_count": 97,
     "metadata": {},
     "output_type": "execute_result"
    }
   ],
   "source": [
    "Song_history"
   ]
  },
  {
   "cell_type": "code",
   "execution_count": 98,
   "metadata": {
    "collapsed": false
   },
   "outputs": [
    {
     "data": {
      "text/html": [
       "<div>\n",
       "<table border=\"1\" class=\"dataframe\">\n",
       "  <thead>\n",
       "    <tr style=\"text-align: right;\">\n",
       "      <th></th>\n",
       "      <th>date_period</th>\n",
       "      <th>week_from_one</th>\n",
       "      <th>Billboard_rank</th>\n",
       "      <th>twitter_per_hour</th>\n",
       "      <th>pos_rate</th>\n",
       "      <th>neg_rate</th>\n",
       "      <th>ratio_pos_neg</th>\n",
       "      <th>favorite_rate</th>\n",
       "      <th>Song_ID</th>\n",
       "      <th>Song_IDN</th>\n",
       "    </tr>\n",
       "  </thead>\n",
       "  <tbody>\n",
       "    <tr>\n",
       "      <th>0</th>\n",
       "      <td>2016-04-17 ~ 2016-04-23</td>\n",
       "      <td>16</td>\n",
       "      <td>101</td>\n",
       "      <td>0.005952</td>\n",
       "      <td>1</td>\n",
       "      <td>0</td>\n",
       "      <td>2</td>\n",
       "      <td>0</td>\n",
       "      <td>American Country Love Song%JAKE OWEN</td>\n",
       "      <td>9</td>\n",
       "    </tr>\n",
       "  </tbody>\n",
       "</table>\n",
       "</div>"
      ],
      "text/plain": [
       "               date_period  week_from_one  Billboard_rank  twitter_per_hour  \\\n",
       "0  2016-04-17 ~ 2016-04-23             16             101          0.005952   \n",
       "\n",
       "   pos_rate  neg_rate  ratio_pos_neg  favorite_rate  \\\n",
       "0         1         0              2              0   \n",
       "\n",
       "                                Song_ID  Song_IDN  \n",
       "0  American Country Love Song%JAKE OWEN         9  "
      ]
     },
     "execution_count": 98,
     "metadata": {},
     "output_type": "execute_result"
    }
   ],
   "source": [
    "twitter_table"
   ]
  },
  {
   "cell_type": "code",
   "execution_count": 120,
   "metadata": {
    "collapsed": false
   },
   "outputs": [
    {
     "name": "stdout",
     "output_type": "stream",
     "text": [
      "[] 0"
     ]
    },
    {
     "ename": "IndexError",
     "evalue": "list index out of range",
     "output_type": "error",
     "traceback": [
      "\u001b[0;31m---------------------------------------------------------------------------\u001b[0m",
      "\u001b[0;31mIndexError\u001b[0m                                Traceback (most recent call last)",
      "\u001b[0;32m<ipython-input-120-1f95efba059d>\u001b[0m in \u001b[0;36m<module>\u001b[0;34m()\u001b[0m\n\u001b[1;32m      3\u001b[0m \u001b[0mlist\u001b[0m\u001b[0;34m(\u001b[0m\u001b[0mtwit\u001b[0m\u001b[0;34m[\u001b[0m\u001b[0;34m'week_from_one'\u001b[0m\u001b[0;34m]\u001b[0m\u001b[0;34m.\u001b[0m\u001b[0mvalues\u001b[0m\u001b[0;34m)\u001b[0m\u001b[0;34m\u001b[0m\u001b[0m\n\u001b[1;32m      4\u001b[0m \u001b[0mdiff\u001b[0m \u001b[0;34m=\u001b[0m \u001b[0mlist\u001b[0m\u001b[0;34m(\u001b[0m\u001b[0mset\u001b[0m\u001b[0;34m(\u001b[0m\u001b[0mweek_all\u001b[0m\u001b[0;34m)\u001b[0m \u001b[0;34m-\u001b[0m \u001b[0mset\u001b[0m\u001b[0;34m(\u001b[0m\u001b[0mlist\u001b[0m\u001b[0;34m(\u001b[0m\u001b[0mtwit\u001b[0m\u001b[0;34m[\u001b[0m\u001b[0;34m'week_from_one'\u001b[0m\u001b[0;34m]\u001b[0m\u001b[0;34m.\u001b[0m\u001b[0mvalues\u001b[0m\u001b[0;34m)\u001b[0m\u001b[0;34m)\u001b[0m\u001b[0;34m)\u001b[0m\u001b[0;34m\u001b[0m\u001b[0m\n\u001b[0;32m----> 5\u001b[0;31m \u001b[0;32mprint\u001b[0m \u001b[0mdiff\u001b[0m\u001b[0;34m,\u001b[0m \u001b[0mlen\u001b[0m\u001b[0;34m(\u001b[0m\u001b[0mdiff\u001b[0m\u001b[0;34m)\u001b[0m\u001b[0;34m,\u001b[0m \u001b[0mdiff\u001b[0m\u001b[0;34m[\u001b[0m\u001b[0;36m0\u001b[0m\u001b[0;34m]\u001b[0m\u001b[0;34m\u001b[0m\u001b[0m\n\u001b[0m\u001b[1;32m      6\u001b[0m \u001b[0mtwit\u001b[0m\u001b[0;34m\u001b[0m\u001b[0m\n",
      "\u001b[0;31mIndexError\u001b[0m: list index out of range"
     ]
    }
   ],
   "source": [
    "week_all = [] #[14,15,16]\n",
    "twit = info_twitter_song(tab)\n",
    "list(twit['week_from_one'].values)\n",
    "diff = list(set(week_all) - set(list(twit['week_from_one'].values)))\n",
    "print diff, len(diff), diff[0]\n",
    "twit"
   ]
  },
  {
   "cell_type": "code",
   "execution_count": 23,
   "metadata": {
    "collapsed": false
   },
   "outputs": [],
   "source": [
    "df_song = twitter_table\n",
    "df_song = df_song.rename(columns = {'week_from_one':'week'})\n",
    "df_song = df_song.rename(columns = {'Billboard_rank':'current_rank'})\n",
    "df_song['past_rank_1'] = df_song['week'].map(lambda x : int(Song_history[x-1]))"
   ]
  },
  {
   "cell_type": "code",
   "execution_count": 84,
   "metadata": {
    "collapsed": false
   },
   "outputs": [
    {
     "name": "stderr",
     "output_type": "stream",
     "text": [
      "/Users/Yeongcheon/anaconda/lib/python2.7/site-packages/ipykernel/__main__.py:22: SettingWithCopyWarning: \n",
      "A value is trying to be set on a copy of a slice from a DataFrame.\n",
      "Try using .loc[row_indexer,col_indexer] = value instead\n",
      "\n",
      "See the caveats in the documentation: http://pandas.pydata.org/pandas-docs/stable/indexing.html#indexing-view-versus-copy\n",
      "/Users/Yeongcheon/anaconda/lib/python2.7/site-packages/ipykernel/__main__.py:23: SettingWithCopyWarning: \n",
      "A value is trying to be set on a copy of a slice from a DataFrame.\n",
      "Try using .loc[row_indexer,col_indexer] = value instead\n",
      "\n",
      "See the caveats in the documentation: http://pandas.pydata.org/pandas-docs/stable/indexing.html#indexing-view-versus-copy\n"
     ]
    }
   ],
   "source": [
    "song_id = 0\n",
    "table_name = \"test_01_\" + str(song_id)\n",
    "tab = db[table_name]\n",
    "Song_history, twitter_table = twitter_info_table(song_id, db, list_input, current_billboard)"
   ]
  },
  {
   "cell_type": "code",
   "execution_count": 85,
   "metadata": {
    "collapsed": false
   },
   "outputs": [
    {
     "data": {
      "text/html": [
       "<div>\n",
       "<table border=\"1\" class=\"dataframe\">\n",
       "  <thead>\n",
       "    <tr style=\"text-align: right;\">\n",
       "      <th>week_from_one</th>\n",
       "      <th>9</th>\n",
       "      <th>10</th>\n",
       "      <th>11</th>\n",
       "      <th>12</th>\n",
       "      <th>13</th>\n",
       "      <th>14</th>\n",
       "      <th>15</th>\n",
       "      <th>16</th>\n",
       "      <th>ID</th>\n",
       "      <th>song</th>\n",
       "      <th>artist</th>\n",
       "      <th>IDN</th>\n",
       "      <th>17</th>\n",
       "      <th>18</th>\n",
       "    </tr>\n",
       "  </thead>\n",
       "  <tbody>\n",
       "    <tr>\n",
       "      <th>1</th>\n",
       "      <td>95</td>\n",
       "      <td>95</td>\n",
       "      <td>89</td>\n",
       "      <td>101</td>\n",
       "      <td>101</td>\n",
       "      <td>101</td>\n",
       "      <td>101</td>\n",
       "      <td>101</td>\n",
       "      <td>$ave Dat Money%LIL DICKY</td>\n",
       "      <td>$ave Dat Money</td>\n",
       "      <td>LIL DICKY</td>\n",
       "      <td>1</td>\n",
       "      <td>0</td>\n",
       "      <td>0</td>\n",
       "    </tr>\n",
       "  </tbody>\n",
       "</table>\n",
       "</div>"
      ],
      "text/plain": [
       "week_from_one   9  10  11   12   13   14   15   16                         ID  \\\n",
       "1              95  95  89  101  101  101  101  101  $ave Dat Money%LIL DICKY    \n",
       "\n",
       "week_from_one            song      artist  IDN  17  18  \n",
       "1              $ave Dat Money  LIL DICKY     1   0   0  "
      ]
     },
     "execution_count": 85,
     "metadata": {},
     "output_type": "execute_result"
    }
   ],
   "source": [
    "Song_history"
   ]
  },
  {
   "cell_type": "code",
   "execution_count": 86,
   "metadata": {
    "collapsed": false
   },
   "outputs": [
    {
     "data": {
      "text/html": [
       "<div>\n",
       "<table border=\"1\" class=\"dataframe\">\n",
       "  <thead>\n",
       "    <tr style=\"text-align: right;\">\n",
       "      <th></th>\n",
       "      <th>date_period</th>\n",
       "      <th>week_from_one</th>\n",
       "      <th>Billboard_rank</th>\n",
       "      <th>twitter_per_hour</th>\n",
       "      <th>pos_rate</th>\n",
       "      <th>neg_rate</th>\n",
       "      <th>ratio_pos_neg</th>\n",
       "      <th>favorite_rate</th>\n",
       "      <th>Song_ID</th>\n",
       "      <th>Song_IDN</th>\n",
       "    </tr>\n",
       "  </thead>\n",
       "  <tbody>\n",
       "    <tr>\n",
       "      <th>0</th>\n",
       "      <td>2016-04-03 ~ 2016-04-09</td>\n",
       "      <td>14</td>\n",
       "      <td>101</td>\n",
       "      <td>1.054018</td>\n",
       "      <td>0.888889</td>\n",
       "      <td>0.000000</td>\n",
       "      <td>17.00</td>\n",
       "      <td>0.277778</td>\n",
       "      <td>$ave Dat Money%LIL DICKY</td>\n",
       "      <td>1</td>\n",
       "    </tr>\n",
       "    <tr>\n",
       "      <th>1</th>\n",
       "      <td>2016-04-10 ~ 2016-04-16</td>\n",
       "      <td>15</td>\n",
       "      <td>101</td>\n",
       "      <td>12.939767</td>\n",
       "      <td>0.915825</td>\n",
       "      <td>0.010101</td>\n",
       "      <td>68.25</td>\n",
       "      <td>0.340067</td>\n",
       "      <td>$ave Dat Money%LIL DICKY</td>\n",
       "      <td>1</td>\n",
       "    </tr>\n",
       "    <tr>\n",
       "      <th>2</th>\n",
       "      <td>2016-04-17 ~ 2016-04-23</td>\n",
       "      <td>16</td>\n",
       "      <td>101</td>\n",
       "      <td>3.948090</td>\n",
       "      <td>0.950000</td>\n",
       "      <td>0.000000</td>\n",
       "      <td>58.00</td>\n",
       "      <td>0.433333</td>\n",
       "      <td>$ave Dat Money%LIL DICKY</td>\n",
       "      <td>1</td>\n",
       "    </tr>\n",
       "  </tbody>\n",
       "</table>\n",
       "</div>"
      ],
      "text/plain": [
       "               date_period  week_from_one  Billboard_rank  twitter_per_hour  \\\n",
       "0  2016-04-03 ~ 2016-04-09             14             101          1.054018   \n",
       "1  2016-04-10 ~ 2016-04-16             15             101         12.939767   \n",
       "2  2016-04-17 ~ 2016-04-23             16             101          3.948090   \n",
       "\n",
       "   pos_rate  neg_rate  ratio_pos_neg  favorite_rate  \\\n",
       "0  0.888889  0.000000          17.00       0.277778   \n",
       "1  0.915825  0.010101          68.25       0.340067   \n",
       "2  0.950000  0.000000          58.00       0.433333   \n",
       "\n",
       "                     Song_ID  Song_IDN  \n",
       "0  $ave Dat Money%LIL DICKY          1  \n",
       "1  $ave Dat Money%LIL DICKY          1  \n",
       "2  $ave Dat Money%LIL DICKY          1  "
      ]
     },
     "execution_count": 86,
     "metadata": {},
     "output_type": "execute_result"
    }
   ],
   "source": [
    "twitter_table"
   ]
  },
  {
   "cell_type": "code",
   "execution_count": null,
   "metadata": {
    "collapsed": true
   },
   "outputs": [],
   "source": [
    "def twitter_info_table_all(song_id, db, list_input, current_billboard, week_all):\n",
    "\n",
    "    table_name = \"test_01_\" + str(song_id)\n",
    "    tab = db[table_name]\n",
    "    \n",
    "    Input = [ [\"#\"+str(id.split('%')[0]), str(id.split('%')[1])]  for id in list_input[\"ID\"]]\n",
    "    max_week = max([x for x in list(current_billboard.columns) if isinstance(x, int)])\n",
    "    current_billboard[max_week+1] = 0\n",
    "    Song_history = current_billboard[current_billboard['ID']==list_input['ID'].values[song_id]]\n",
    "\n",
    "    twit = info_twitter_song(tab)\n",
    "    twit['diff_time'] = twit['created_at_time_max'] - twit['created_at_time_min']\n",
    "    twit['diff_hour'] = twit['diff_time'].astype(pd.Timedelta).map(lambda x : float(x.seconds)/3600)\n",
    "    twit['diff_hour_adj'] = twit['diff_hour'].map(lambda x: 24*7 if x == 0 else x )\n",
    "    twit['twitter_per_hour'] = 1.0*twit['count']/twit['diff_hour_adj']\n",
    "    \n",
    "    \n",
    "    col = ['week_from_one', 'twitter_per_hour','pos_rate', 'neg_rate','ratio_pos_neg' ,'favorite_rate']\n",
    "    twitter_table = twit[col]\n",
    "    \n",
    "    list(twitter_table['week_from_one'].values)\n",
    "    diff = set(week_all) - set(list(twitter_table['week_from_one'].values))\n",
    "    \n",
    "    if len(diff) > 0:\n",
    "        for i in diff:\n",
    "            add_one = twitter_table.iloc[0:1,]\n",
    "            add_one['week_from_one'] = i\n",
    "            add_one['twitter_per_hour'] = 1.0/(24*7)\n",
    "            add_one['pos_rate'] = 0\n",
    "            add_one['neg_rate'] = 0\n",
    "            add_one['ratio_pos_neg'] = 1\n",
    "            add_one['favorite_rate'] = 0\n",
    "            twitter_table = pd.concat([add_one, twitter_table])\n",
    "            \n",
    "    twitter_table['Billboard_rank'] = [int(Song_history[week]) for week in twitter_table['week_from_one']]\n",
    "    twitter_table['date_period'] = twitter_table['week_from_one'].map(find_date)\n",
    "    #twitter_table['Billboard_rank_text'] = twitter_table['Billboard_rank'].map(lambda x : x if x <= 100 else \"Not on Billboard\")\n",
    "    twitter_table['Song_ID'] = list_input[\"ID\"].values[song_id]\n",
    "    twitter_table['Song_IDN'] = song_id+1\n",
    "    \n",
    "    \n",
    "    return Song_history, twitter_table\n"
   ]
  },
  {
   "cell_type": "code",
   "execution_count": 107,
   "metadata": {
    "collapsed": true
   },
   "outputs": [],
   "source": [
    "twit = info_twitter_song(tab)"
   ]
  },
  {
   "cell_type": "code",
   "execution_count": 114,
   "metadata": {
    "collapsed": false
   },
   "outputs": [
    {
     "data": {
      "text/html": [
       "<div>\n",
       "<table border=\"1\" class=\"dataframe\">\n",
       "  <thead>\n",
       "    <tr style=\"text-align: right;\">\n",
       "      <th></th>\n",
       "      <th>week_from_one</th>\n",
       "      <th>count</th>\n",
       "      <th>neg</th>\n",
       "      <th>created_at_time_max</th>\n",
       "      <th>pos</th>\n",
       "      <th>created_at_time_min</th>\n",
       "      <th>neu</th>\n",
       "      <th>favorite_count</th>\n",
       "      <th>neg_rate</th>\n",
       "      <th>pos_rate</th>\n",
       "      <th>neu_rate</th>\n",
       "      <th>ratio_pos_neg</th>\n",
       "      <th>favorite_rate</th>\n",
       "    </tr>\n",
       "  </thead>\n",
       "  <tbody>\n",
       "    <tr>\n",
       "      <th>0</th>\n",
       "      <td>16</td>\n",
       "      <td>1</td>\n",
       "      <td>0</td>\n",
       "      <td>2016-04-17 04:27:12</td>\n",
       "      <td>1</td>\n",
       "      <td>2016-04-17 04:27:12</td>\n",
       "      <td>0</td>\n",
       "      <td>0</td>\n",
       "      <td>0</td>\n",
       "      <td>1</td>\n",
       "      <td>0</td>\n",
       "      <td>2</td>\n",
       "      <td>0</td>\n",
       "    </tr>\n",
       "  </tbody>\n",
       "</table>\n",
       "</div>"
      ],
      "text/plain": [
       "   week_from_one  count  neg created_at_time_max  pos created_at_time_min  \\\n",
       "0             16      1    0 2016-04-17 04:27:12    1 2016-04-17 04:27:12   \n",
       "\n",
       "   neu  favorite_count  neg_rate  pos_rate  neu_rate  ratio_pos_neg  \\\n",
       "0    0               0         0         1         0              2   \n",
       "\n",
       "   favorite_rate  \n",
       "0              0  "
      ]
     },
     "execution_count": 114,
     "metadata": {},
     "output_type": "execute_result"
    }
   ],
   "source": [
    "twit.iloc[0:1,]"
   ]
  },
  {
   "cell_type": "code",
   "execution_count": 25,
   "metadata": {
    "collapsed": true
   },
   "outputs": [],
   "source": [
    "def twitter_info_table(song_id, db, list_input, current_billboard):\n",
    "\n",
    "    table_name = \"test_01_\" + str(song_id)\n",
    "    tab = db[table_name]\n",
    "    \n",
    "    Input = [ [\"#\"+str(id.split('%')[0]), str(id.split('%')[1])]  for id in list_input[\"ID\"]]\n",
    "    max_week = max([x for x in list(current_billboard.columns) if isinstance(x, int)])\n",
    "    current_billboard[max_week+1] = 0\n",
    "    Song_history = current_billboard[current_billboard['ID']==list_input['ID'].values[song_id]]\n",
    "\n",
    "    twit = info_twitter_song(tab)\n",
    "\n",
    "    twit['Billboard_rank'] = [int(Song_history[week]) for week in twit['week_from_one']]\n",
    "    twit['date_period'] = twit['week_from_one'].map(find_date)\n",
    "    twit['Billboard_rank_text'] = twit['Billboard_rank'].map(lambda x : x if x <= 100 else \"Not on Billboard\")\n",
    "    twit['diff_time'] = twit['created_at_time_max'] - twit['created_at_time_min']\n",
    "    twit['diff_hour'] = twit['diff_time'].astype(pd.Timedelta).map(lambda x : float(x.seconds)/3600)\n",
    "    twit['diff_hour_adj'] = twit['diff_hour'].map(lambda x: 24*7 if x == 0 else x )\n",
    "    twit['twitter_per_hour'] = 1.0*twit['count']/twit['diff_hour_adj']\n",
    "    col = ['date_period','week_from_one', 'Billboard_rank','twitter_per_hour',\\\n",
    "           'pos_rate', 'neg_rate','ratio_pos_neg' ,'favorite_rate']\n",
    "    twitter_table = twit[col]\n",
    "    twitter_table['Song_ID'] = list_input[\"ID\"].values[song_id]\n",
    "    twitter_table['Song_IDN'] = song_id+1\n",
    "    \n",
    "    return Song_history, twitter_table\n"
   ]
  },
  {
   "cell_type": "code",
   "execution_count": 26,
   "metadata": {
    "collapsed": false
   },
   "outputs": [],
   "source": [
    "def get_DataFrame_for_song(song_id, db, list_input, current_billboard):\n",
    "    \n",
    "    Song_history, twitter_table = twitter_info_table(song_id, db, list_input, current_billboard)\n",
    "    df_song = twitter_table\n",
    "    df_song = df_song.rename(columns = {'week_from_one':'week'})\n",
    "    df_song = df_song.rename(columns = {'Billboard_rank':'current_rank'})\n",
    "    df_song['past_rank_1'] = df_song['week'].map(lambda x : int(Song_history[x-1]))\n",
    "    df_song['past_rank_2'] = df_song['week'].map(lambda x : int(Song_history[x-2]))\n",
    "    df_song['past_rank_3'] = df_song['week'].map(lambda x : int(Song_history[x-3]))\n",
    "    df_song['past_rank_4'] = df_song['week'].map(lambda x : int(Song_history[x-4]))\n",
    "    df_song['next_rank'] = df_song['week'].map(lambda x : int(Song_history[x+1]))                                     \n",
    "    \n",
    "    \n",
    "    col =['date_period','week','current_rank','count','twitter_per_hour','pos_rate',\\\n",
    "          'neg_rate','ratio_pos_neg','favorite_rate','Song_ID','Song_IDN',\\\n",
    "          'past_rank_1','past_rank_2','past_rank_3','past_rank_4','past_rank_4','next_rank']\n",
    "    \n",
    "    return df_song\n",
    "    "
   ]
  },
  {
   "cell_type": "code",
   "execution_count": null,
   "metadata": {
    "collapsed": true
   },
   "outputs": [],
   "source": [
    "def get_DataFrame_for_song_all(song_id, db, list_input, current_billboard, week_all):\n",
    "    \n",
    "    Song_history, twitter_table = twitter_info_table_all(song_id, db, list_input, current_billboard, week_all)\n",
    "    df_song = twitter_table\n",
    "    df_song = df_song.rename(columns = {'week_from_one':'week'})\n",
    "    df_song = df_song.rename(columns = {'Billboard_rank':'current_rank'})\n",
    "    df_song['past_rank_1'] = df_song['week'].map(lambda x : int(Song_history[x-1]))\n",
    "    df_song['past_rank_2'] = df_song['week'].map(lambda x : int(Song_history[x-2]))\n",
    "    df_song['past_rank_3'] = df_song['week'].map(lambda x : int(Song_history[x-3]))\n",
    "    df_song['past_rank_4'] = df_song['week'].map(lambda x : int(Song_history[x-4]))\n",
    "    df_song['next_rank'] = df_song['week'].map(lambda x : int(Song_history[x+1]))                                     \n",
    "    \n",
    "    \n",
    "    col =['date_period','week','current_rank','count','twitter_per_hour','pos_rate',\\\n",
    "          'neg_rate','ratio_pos_neg','favorite_rate','Song_ID','Song_IDN',\\\n",
    "          'past_rank_1','past_rank_2','past_rank_3','past_rank_4','past_rank_4','next_rank']\n",
    "    \n",
    "    return df_song\n",
    "    "
   ]
  },
  {
   "cell_type": "code",
   "execution_count": 27,
   "metadata": {
    "collapsed": false
   },
   "outputs": [
    {
     "data": {
      "text/html": [
       "<div>\n",
       "<table border=\"1\" class=\"dataframe\">\n",
       "  <thead>\n",
       "    <tr style=\"text-align: right;\">\n",
       "      <th></th>\n",
       "      <th>0</th>\n",
       "      <th>1</th>\n",
       "      <th>2</th>\n",
       "      <th>3</th>\n",
       "      <th>4</th>\n",
       "    </tr>\n",
       "  </thead>\n",
       "  <tbody>\n",
       "    <tr>\n",
       "      <th>Unnamed: 0</th>\n",
       "      <td>0</td>\n",
       "      <td>1</td>\n",
       "      <td>2</td>\n",
       "      <td>0</td>\n",
       "      <td>1</td>\n",
       "    </tr>\n",
       "    <tr>\n",
       "      <th>date_period</th>\n",
       "      <td>2016-04-03 ~ 2016-04-09</td>\n",
       "      <td>2016-04-10 ~ 2016-04-16</td>\n",
       "      <td>2016-04-17 ~ 2016-04-23</td>\n",
       "      <td>2016-04-03 ~ 2016-04-09</td>\n",
       "      <td>2016-04-10 ~ 2016-04-16</td>\n",
       "    </tr>\n",
       "    <tr>\n",
       "      <th>week</th>\n",
       "      <td>14</td>\n",
       "      <td>15</td>\n",
       "      <td>16</td>\n",
       "      <td>14</td>\n",
       "      <td>15</td>\n",
       "    </tr>\n",
       "    <tr>\n",
       "      <th>current_rank</th>\n",
       "      <td>101</td>\n",
       "      <td>101</td>\n",
       "      <td>101</td>\n",
       "      <td>18</td>\n",
       "      <td>18</td>\n",
       "    </tr>\n",
       "    <tr>\n",
       "      <th>count</th>\n",
       "      <td>18</td>\n",
       "      <td>297</td>\n",
       "      <td>60</td>\n",
       "      <td>149</td>\n",
       "      <td>1983</td>\n",
       "    </tr>\n",
       "    <tr>\n",
       "      <th>twitter_per_hour</th>\n",
       "      <td>1.05402</td>\n",
       "      <td>12.9398</td>\n",
       "      <td>3.94809</td>\n",
       "      <td>7.78734</td>\n",
       "      <td>82.8052</td>\n",
       "    </tr>\n",
       "    <tr>\n",
       "      <th>pos_rate</th>\n",
       "      <td>0.888889</td>\n",
       "      <td>0.915825</td>\n",
       "      <td>0.95</td>\n",
       "      <td>0.248322</td>\n",
       "      <td>0.199193</td>\n",
       "    </tr>\n",
       "    <tr>\n",
       "      <th>neg_rate</th>\n",
       "      <td>0</td>\n",
       "      <td>0.010101</td>\n",
       "      <td>0</td>\n",
       "      <td>0.0671141</td>\n",
       "      <td>0.0564801</td>\n",
       "    </tr>\n",
       "    <tr>\n",
       "      <th>ratio_pos_neg</th>\n",
       "      <td>17</td>\n",
       "      <td>68.25</td>\n",
       "      <td>58</td>\n",
       "      <td>3.45455</td>\n",
       "      <td>3.50442</td>\n",
       "    </tr>\n",
       "    <tr>\n",
       "      <th>favorite_rate</th>\n",
       "      <td>0.277778</td>\n",
       "      <td>0.340067</td>\n",
       "      <td>0.433333</td>\n",
       "      <td>0.355705</td>\n",
       "      <td>0.537569</td>\n",
       "    </tr>\n",
       "    <tr>\n",
       "      <th>Song_ID</th>\n",
       "      <td>$ave Dat Money%LIL DICKY</td>\n",
       "      <td>$ave Dat Money%LIL DICKY</td>\n",
       "      <td>$ave Dat Money%LIL DICKY</td>\n",
       "      <td>2 Phones%KEVIN GATES</td>\n",
       "      <td>2 Phones%KEVIN GATES</td>\n",
       "    </tr>\n",
       "    <tr>\n",
       "      <th>Song_IDN</th>\n",
       "      <td>1</td>\n",
       "      <td>1</td>\n",
       "      <td>1</td>\n",
       "      <td>2</td>\n",
       "      <td>2</td>\n",
       "    </tr>\n",
       "    <tr>\n",
       "      <th>past_rank_1</th>\n",
       "      <td>101</td>\n",
       "      <td>101</td>\n",
       "      <td>101</td>\n",
       "      <td>18</td>\n",
       "      <td>18</td>\n",
       "    </tr>\n",
       "    <tr>\n",
       "      <th>past_rank_2</th>\n",
       "      <td>101</td>\n",
       "      <td>101</td>\n",
       "      <td>101</td>\n",
       "      <td>21</td>\n",
       "      <td>18</td>\n",
       "    </tr>\n",
       "    <tr>\n",
       "      <th>past_rank_3</th>\n",
       "      <td>89</td>\n",
       "      <td>101</td>\n",
       "      <td>101</td>\n",
       "      <td>25</td>\n",
       "      <td>21</td>\n",
       "    </tr>\n",
       "    <tr>\n",
       "      <th>past_rank_4</th>\n",
       "      <td>95</td>\n",
       "      <td>89</td>\n",
       "      <td>101</td>\n",
       "      <td>29</td>\n",
       "      <td>25</td>\n",
       "    </tr>\n",
       "    <tr>\n",
       "      <th>past_rank_5</th>\n",
       "      <td>95</td>\n",
       "      <td>95</td>\n",
       "      <td>89</td>\n",
       "      <td>40</td>\n",
       "      <td>29</td>\n",
       "    </tr>\n",
       "    <tr>\n",
       "      <th>next_rank</th>\n",
       "      <td>101</td>\n",
       "      <td>101</td>\n",
       "      <td>0</td>\n",
       "      <td>18</td>\n",
       "      <td>18</td>\n",
       "    </tr>\n",
       "  </tbody>\n",
       "</table>\n",
       "</div>"
      ],
      "text/plain": [
       "                                          0                          1  \\\n",
       "Unnamed: 0                                0                          1   \n",
       "date_period         2016-04-03 ~ 2016-04-09    2016-04-10 ~ 2016-04-16   \n",
       "week                                     14                         15   \n",
       "current_rank                            101                        101   \n",
       "count                                    18                        297   \n",
       "twitter_per_hour                    1.05402                    12.9398   \n",
       "pos_rate                           0.888889                   0.915825   \n",
       "neg_rate                                  0                   0.010101   \n",
       "ratio_pos_neg                            17                      68.25   \n",
       "favorite_rate                      0.277778                   0.340067   \n",
       "Song_ID           $ave Dat Money%LIL DICKY   $ave Dat Money%LIL DICKY    \n",
       "Song_IDN                                  1                          1   \n",
       "past_rank_1                             101                        101   \n",
       "past_rank_2                             101                        101   \n",
       "past_rank_3                              89                        101   \n",
       "past_rank_4                              95                         89   \n",
       "past_rank_5                              95                         95   \n",
       "next_rank                               101                        101   \n",
       "\n",
       "                                          2                        3  \\\n",
       "Unnamed: 0                                2                        0   \n",
       "date_period         2016-04-17 ~ 2016-04-23  2016-04-03 ~ 2016-04-09   \n",
       "week                                     16                       14   \n",
       "current_rank                            101                       18   \n",
       "count                                    60                      149   \n",
       "twitter_per_hour                    3.94809                  7.78734   \n",
       "pos_rate                               0.95                 0.248322   \n",
       "neg_rate                                  0                0.0671141   \n",
       "ratio_pos_neg                            58                  3.45455   \n",
       "favorite_rate                      0.433333                 0.355705   \n",
       "Song_ID           $ave Dat Money%LIL DICKY      2 Phones%KEVIN GATES   \n",
       "Song_IDN                                  1                        2   \n",
       "past_rank_1                             101                       18   \n",
       "past_rank_2                             101                       21   \n",
       "past_rank_3                             101                       25   \n",
       "past_rank_4                             101                       29   \n",
       "past_rank_5                              89                       40   \n",
       "next_rank                                 0                       18   \n",
       "\n",
       "                                        4  \n",
       "Unnamed: 0                              1  \n",
       "date_period       2016-04-10 ~ 2016-04-16  \n",
       "week                                   15  \n",
       "current_rank                           18  \n",
       "count                                1983  \n",
       "twitter_per_hour                  82.8052  \n",
       "pos_rate                         0.199193  \n",
       "neg_rate                        0.0564801  \n",
       "ratio_pos_neg                     3.50442  \n",
       "favorite_rate                    0.537569  \n",
       "Song_ID              2 Phones%KEVIN GATES  \n",
       "Song_IDN                                2  \n",
       "past_rank_1                            18  \n",
       "past_rank_2                            18  \n",
       "past_rank_3                            21  \n",
       "past_rank_4                            25  \n",
       "past_rank_5                            29  \n",
       "next_rank                              18  "
      ]
     },
     "execution_count": 27,
     "metadata": {},
     "output_type": "execute_result"
    }
   ],
   "source": [
    "df_data_csv.head().T"
   ]
  },
  {
   "cell_type": "code",
   "execution_count": 28,
   "metadata": {
    "collapsed": true
   },
   "outputs": [],
   "source": [
    "def merge_dataframe_all(list_id, db, list_input, current_billboard, file_name, week_all):\n",
    "    \n",
    "    print \"We are getting data frame for id = {}\".format(list_id[0])\n",
    "    df = get_DataFrame_for_song_all(list_id[0], db, list_input, current_billboard, week_all)\n",
    "    print \"The length of dataFrame is {}.\".format(len(df))\n",
    "    print \" \"\n",
    "    \n",
    "    if len(list_id) == 1:\n",
    "        print \"We're done\"\n",
    "        return df\n",
    "    \n",
    "    \n",
    "    for i in range(1, len(list_id)):\n",
    "        print \"We completed {} of the total work and now are merging the data frame with id = {}\".format\\\n",
    "        (1.0*i/len(list_id), list_id[i])\n",
    "        df = pd.concat([df, get_DataFrame_for_song(list_id[i], db, list_input, current_billboard)])\n",
    "        print \"The length of dataFrame is {}.\".format(len(df))\n",
    "        print \" \"\n",
    "    \n",
    "    df.to_csv(file_name, sep=',', encoding='utf-8')\n",
    "    print \"We're done\"\n",
    "    return df\n",
    "    "
   ]
  },
  {
   "cell_type": "code",
   "execution_count": 115,
   "metadata": {
    "collapsed": true
   },
   "outputs": [],
   "source": [
    "def merge_dataframe(list_id, db, list_input, current_billboard, file_name):\n",
    "    \n",
    "    print \"We are getting data frame for id = {}\".format(list_id[0])\n",
    "    df = get_DataFrame_for_song(list_id[0], db, list_input, current_billboard)\n",
    "    print \"The length of dataFrame is {}.\".format(len(df))\n",
    "    print \" \"\n",
    "    \n",
    "    if len(list_id) == 1:\n",
    "        print \"We're done\"\n",
    "        return df\n",
    "    \n",
    "    \n",
    "    for i in range(1, len(list_id)):\n",
    "        print \"We completed {} of the total work and now are merging the data frame with id = {}\".format\\\n",
    "        (1.0*i/len(list_id), list_id[i])\n",
    "        df = pd.concat([df, get_DataFrame_for_song(list_id[i], db, list_input, current_billboard)])\n",
    "        print \"The length of dataFrame is {}.\".format(len(df))\n",
    "        print \" \"\n",
    "    \n",
    "    df.to_csv(file_name, sep=',', encoding='utf-8')\n",
    "    print \"We're done\"\n",
    "    return df"
   ]
  },
  {
   "cell_type": "code",
   "execution_count": 29,
   "metadata": {
    "collapsed": true
   },
   "outputs": [],
   "source": [
    "db = client['song3_database']\n",
    "list_input = get_billboard(\"../data/billboard.csv\")\n",
    "current_billboard = get_billboard(\"../data/billboard2.csv\")"
   ]
  },
  {
   "cell_type": "code",
   "execution_count": 30,
   "metadata": {
    "collapsed": false
   },
   "outputs": [
    {
     "name": "stdout",
     "output_type": "stream",
     "text": [
      "We are getting data frame for id = 0\n",
      "The length of dataFrame is 3.\n",
      " \n",
      "We completed 0.00684931506849 of the total work and now are merging the data frame with id = 1\n",
      "The length of dataFrame is 6.\n",
      " \n",
      "We completed 0.013698630137 of the total work and now are merging the data frame with id = 2\n",
      "The length of dataFrame is 9.\n",
      " \n",
      "We completed 0.0205479452055 of the total work and now are merging the data frame with id = 3\n"
     ]
    },
    {
     "name": "stderr",
     "output_type": "stream",
     "text": [
      "/Users/Yeongcheon/anaconda/lib/python2.7/site-packages/ipykernel/__main__.py:22: SettingWithCopyWarning: \n",
      "A value is trying to be set on a copy of a slice from a DataFrame.\n",
      "Try using .loc[row_indexer,col_indexer] = value instead\n",
      "\n",
      "See the caveats in the documentation: http://pandas.pydata.org/pandas-docs/stable/indexing.html#indexing-view-versus-copy\n",
      "/Users/Yeongcheon/anaconda/lib/python2.7/site-packages/ipykernel/__main__.py:23: SettingWithCopyWarning: \n",
      "A value is trying to be set on a copy of a slice from a DataFrame.\n",
      "Try using .loc[row_indexer,col_indexer] = value instead\n",
      "\n",
      "See the caveats in the documentation: http://pandas.pydata.org/pandas-docs/stable/indexing.html#indexing-view-versus-copy\n"
     ]
    },
    {
     "ename": "KeyboardInterrupt",
     "evalue": "",
     "output_type": "error",
     "traceback": [
      "\u001b[0;31m---------------------------------------------------------------------------\u001b[0m",
      "\u001b[0;31mKeyboardInterrupt\u001b[0m                         Traceback (most recent call last)",
      "\u001b[0;32m<ipython-input-30-29074d36b974>\u001b[0m in \u001b[0;36m<module>\u001b[0;34m()\u001b[0m\n\u001b[1;32m      1\u001b[0m \u001b[0mlist_id\u001b[0m \u001b[0;34m=\u001b[0m \u001b[0mrange\u001b[0m\u001b[0;34m(\u001b[0m\u001b[0mlen\u001b[0m\u001b[0;34m(\u001b[0m\u001b[0mlist_input\u001b[0m\u001b[0;34m)\u001b[0m\u001b[0;34m)\u001b[0m\u001b[0;34m\u001b[0m\u001b[0m\n\u001b[1;32m      2\u001b[0m \u001b[0mfile_name\u001b[0m \u001b[0;34m=\u001b[0m \u001b[0;34m'result_05.csv'\u001b[0m\u001b[0;34m\u001b[0m\u001b[0m\n\u001b[0;32m----> 3\u001b[0;31m \u001b[0mdf_total\u001b[0m \u001b[0;34m=\u001b[0m \u001b[0mmerge_dataframe\u001b[0m\u001b[0;34m(\u001b[0m\u001b[0mlist_id\u001b[0m\u001b[0;34m,\u001b[0m \u001b[0mdb\u001b[0m\u001b[0;34m,\u001b[0m \u001b[0mlist_input\u001b[0m\u001b[0;34m,\u001b[0m \u001b[0mcurrent_billboard\u001b[0m\u001b[0;34m,\u001b[0m \u001b[0mfile_name\u001b[0m\u001b[0;34m)\u001b[0m\u001b[0;34m\u001b[0m\u001b[0m\n\u001b[0m",
      "\u001b[0;32m<ipython-input-28-f21539a8aeee>\u001b[0m in \u001b[0;36mmerge_dataframe\u001b[0;34m(list_id, db, list_input, current_billboard, file_name)\u001b[0m\n\u001b[1;32m     13\u001b[0m     \u001b[0;32mfor\u001b[0m \u001b[0mi\u001b[0m \u001b[0;32min\u001b[0m \u001b[0mrange\u001b[0m\u001b[0;34m(\u001b[0m\u001b[0;36m1\u001b[0m\u001b[0;34m,\u001b[0m \u001b[0mlen\u001b[0m\u001b[0;34m(\u001b[0m\u001b[0mlist_id\u001b[0m\u001b[0;34m)\u001b[0m\u001b[0;34m)\u001b[0m\u001b[0;34m:\u001b[0m\u001b[0;34m\u001b[0m\u001b[0m\n\u001b[1;32m     14\u001b[0m         \u001b[0;32mprint\u001b[0m \u001b[0;34m\"We completed {} of the total work and now are merging the data frame with id = {}\"\u001b[0m\u001b[0;34m.\u001b[0m\u001b[0mformat\u001b[0m        \u001b[0;34m(\u001b[0m\u001b[0;36m1.0\u001b[0m\u001b[0;34m*\u001b[0m\u001b[0mi\u001b[0m\u001b[0;34m/\u001b[0m\u001b[0mlen\u001b[0m\u001b[0;34m(\u001b[0m\u001b[0mlist_id\u001b[0m\u001b[0;34m)\u001b[0m\u001b[0;34m,\u001b[0m \u001b[0mlist_id\u001b[0m\u001b[0;34m[\u001b[0m\u001b[0mi\u001b[0m\u001b[0;34m]\u001b[0m\u001b[0;34m)\u001b[0m\u001b[0;34m\u001b[0m\u001b[0m\n\u001b[0;32m---> 15\u001b[0;31m         \u001b[0mdf\u001b[0m \u001b[0;34m=\u001b[0m \u001b[0mpd\u001b[0m\u001b[0;34m.\u001b[0m\u001b[0mconcat\u001b[0m\u001b[0;34m(\u001b[0m\u001b[0;34m[\u001b[0m\u001b[0mdf\u001b[0m\u001b[0;34m,\u001b[0m \u001b[0mget_DataFrame_for_song\u001b[0m\u001b[0;34m(\u001b[0m\u001b[0mlist_id\u001b[0m\u001b[0;34m[\u001b[0m\u001b[0mi\u001b[0m\u001b[0;34m]\u001b[0m\u001b[0;34m,\u001b[0m \u001b[0mdb\u001b[0m\u001b[0;34m,\u001b[0m \u001b[0mlist_input\u001b[0m\u001b[0;34m,\u001b[0m \u001b[0mcurrent_billboard\u001b[0m\u001b[0;34m)\u001b[0m\u001b[0;34m]\u001b[0m\u001b[0;34m)\u001b[0m\u001b[0;34m\u001b[0m\u001b[0m\n\u001b[0m\u001b[1;32m     16\u001b[0m         \u001b[0;32mprint\u001b[0m \u001b[0;34m\"The length of dataFrame is {}.\"\u001b[0m\u001b[0;34m.\u001b[0m\u001b[0mformat\u001b[0m\u001b[0;34m(\u001b[0m\u001b[0mlen\u001b[0m\u001b[0;34m(\u001b[0m\u001b[0mdf\u001b[0m\u001b[0;34m)\u001b[0m\u001b[0;34m)\u001b[0m\u001b[0;34m\u001b[0m\u001b[0m\n\u001b[1;32m     17\u001b[0m         \u001b[0;32mprint\u001b[0m \u001b[0;34m\" \"\u001b[0m\u001b[0;34m\u001b[0m\u001b[0m\n",
      "\u001b[0;32m<ipython-input-26-a99170297c87>\u001b[0m in \u001b[0;36mget_DataFrame_for_song\u001b[0;34m(song_id, db, list_input, current_billboard)\u001b[0m\n\u001b[1;32m      1\u001b[0m \u001b[0;32mdef\u001b[0m \u001b[0mget_DataFrame_for_song\u001b[0m\u001b[0;34m(\u001b[0m\u001b[0msong_id\u001b[0m\u001b[0;34m,\u001b[0m \u001b[0mdb\u001b[0m\u001b[0;34m,\u001b[0m \u001b[0mlist_input\u001b[0m\u001b[0;34m,\u001b[0m \u001b[0mcurrent_billboard\u001b[0m\u001b[0;34m)\u001b[0m\u001b[0;34m:\u001b[0m\u001b[0;34m\u001b[0m\u001b[0m\n\u001b[1;32m      2\u001b[0m \u001b[0;34m\u001b[0m\u001b[0m\n\u001b[0;32m----> 3\u001b[0;31m     \u001b[0mSong_history\u001b[0m\u001b[0;34m,\u001b[0m \u001b[0mtwitter_table\u001b[0m \u001b[0;34m=\u001b[0m \u001b[0mtwitter_info_table\u001b[0m\u001b[0;34m(\u001b[0m\u001b[0msong_id\u001b[0m\u001b[0;34m,\u001b[0m \u001b[0mdb\u001b[0m\u001b[0;34m,\u001b[0m \u001b[0mlist_input\u001b[0m\u001b[0;34m,\u001b[0m \u001b[0mcurrent_billboard\u001b[0m\u001b[0;34m)\u001b[0m\u001b[0;34m\u001b[0m\u001b[0m\n\u001b[0m\u001b[1;32m      4\u001b[0m     \u001b[0mdf_song\u001b[0m \u001b[0;34m=\u001b[0m \u001b[0mtwitter_table\u001b[0m\u001b[0;34m\u001b[0m\u001b[0m\n\u001b[1;32m      5\u001b[0m     \u001b[0mdf_song\u001b[0m \u001b[0;34m=\u001b[0m \u001b[0mdf_song\u001b[0m\u001b[0;34m.\u001b[0m\u001b[0mrename\u001b[0m\u001b[0;34m(\u001b[0m\u001b[0mcolumns\u001b[0m \u001b[0;34m=\u001b[0m \u001b[0;34m{\u001b[0m\u001b[0;34m'week_from_one'\u001b[0m\u001b[0;34m:\u001b[0m\u001b[0;34m'week'\u001b[0m\u001b[0;34m}\u001b[0m\u001b[0;34m)\u001b[0m\u001b[0;34m\u001b[0m\u001b[0m\n",
      "\u001b[0;32m<ipython-input-25-b3a35b27e0bb>\u001b[0m in \u001b[0;36mtwitter_info_table\u001b[0;34m(song_id, db, list_input, current_billboard)\u001b[0m\n\u001b[1;32m      9\u001b[0m     \u001b[0mSong_history\u001b[0m \u001b[0;34m=\u001b[0m \u001b[0mcurrent_billboard\u001b[0m\u001b[0;34m[\u001b[0m\u001b[0mcurrent_billboard\u001b[0m\u001b[0;34m[\u001b[0m\u001b[0;34m'ID'\u001b[0m\u001b[0;34m]\u001b[0m\u001b[0;34m==\u001b[0m\u001b[0mlist_input\u001b[0m\u001b[0;34m[\u001b[0m\u001b[0;34m'ID'\u001b[0m\u001b[0;34m]\u001b[0m\u001b[0;34m.\u001b[0m\u001b[0mvalues\u001b[0m\u001b[0;34m[\u001b[0m\u001b[0msong_id\u001b[0m\u001b[0;34m]\u001b[0m\u001b[0;34m]\u001b[0m\u001b[0;34m\u001b[0m\u001b[0m\n\u001b[1;32m     10\u001b[0m \u001b[0;34m\u001b[0m\u001b[0m\n\u001b[0;32m---> 11\u001b[0;31m     \u001b[0mtwit\u001b[0m \u001b[0;34m=\u001b[0m \u001b[0minfo_twitter_song\u001b[0m\u001b[0;34m(\u001b[0m\u001b[0mtab\u001b[0m\u001b[0;34m)\u001b[0m\u001b[0;34m\u001b[0m\u001b[0m\n\u001b[0m\u001b[1;32m     12\u001b[0m \u001b[0;34m\u001b[0m\u001b[0m\n\u001b[1;32m     13\u001b[0m     \u001b[0mtwit\u001b[0m\u001b[0;34m[\u001b[0m\u001b[0;34m'Billboard_rank'\u001b[0m\u001b[0;34m]\u001b[0m \u001b[0;34m=\u001b[0m \u001b[0;34m[\u001b[0m\u001b[0mint\u001b[0m\u001b[0;34m(\u001b[0m\u001b[0mSong_history\u001b[0m\u001b[0;34m[\u001b[0m\u001b[0mweek\u001b[0m\u001b[0;34m]\u001b[0m\u001b[0;34m)\u001b[0m \u001b[0;32mfor\u001b[0m \u001b[0mweek\u001b[0m \u001b[0;32min\u001b[0m \u001b[0mtwit\u001b[0m\u001b[0;34m[\u001b[0m\u001b[0;34m'week_from_one'\u001b[0m\u001b[0;34m]\u001b[0m\u001b[0;34m]\u001b[0m\u001b[0;34m\u001b[0m\u001b[0m\n",
      "\u001b[0;32m<ipython-input-6-1c438df74bc9>\u001b[0m in \u001b[0;36minfo_twitter_song\u001b[0;34m(tab)\u001b[0m\n\u001b[1;32m      1\u001b[0m \u001b[0;32mdef\u001b[0m \u001b[0minfo_twitter_song\u001b[0m\u001b[0;34m(\u001b[0m\u001b[0mtab\u001b[0m\u001b[0;34m)\u001b[0m\u001b[0;34m:\u001b[0m\u001b[0;34m\u001b[0m\u001b[0m\n\u001b[1;32m      2\u001b[0m \u001b[0;34m\u001b[0m\u001b[0m\n\u001b[0;32m----> 3\u001b[0;31m     \u001b[0mdf\u001b[0m\u001b[0;34m=\u001b[0m \u001b[0mget_dataframe\u001b[0m\u001b[0;34m(\u001b[0m\u001b[0mtab\u001b[0m\u001b[0;34m)\u001b[0m\u001b[0;34m\u001b[0m\u001b[0m\n\u001b[0m\u001b[1;32m      4\u001b[0m     \u001b[0mdf\u001b[0m\u001b[0;34m[\u001b[0m\u001b[0;34m'sent_score'\u001b[0m\u001b[0;34m]\u001b[0m \u001b[0;34m=\u001b[0m \u001b[0mdf\u001b[0m\u001b[0;34m[\u001b[0m\u001b[0;34m'text'\u001b[0m\u001b[0;34m]\u001b[0m\u001b[0;34m.\u001b[0m\u001b[0mmap\u001b[0m\u001b[0;34m(\u001b[0m\u001b[0;32mlambda\u001b[0m \u001b[0mx\u001b[0m \u001b[0;34m:\u001b[0m \u001b[0mTextBlob\u001b[0m\u001b[0;34m(\u001b[0m\u001b[0mx\u001b[0m\u001b[0;34m)\u001b[0m\u001b[0;34m.\u001b[0m\u001b[0msentiment\u001b[0m\u001b[0;34m.\u001b[0m\u001b[0mpolarity\u001b[0m\u001b[0;34m)\u001b[0m\u001b[0;34m\u001b[0m\u001b[0m\n\u001b[1;32m      5\u001b[0m     \u001b[0mdf\u001b[0m\u001b[0;34m[\u001b[0m\u001b[0;34m'sent_category'\u001b[0m\u001b[0;34m]\u001b[0m \u001b[0;34m=\u001b[0m \u001b[0mdf\u001b[0m\u001b[0;34m[\u001b[0m\u001b[0;34m'sent_score'\u001b[0m\u001b[0;34m]\u001b[0m\u001b[0;34m.\u001b[0m\u001b[0mmap\u001b[0m\u001b[0;34m(\u001b[0m\u001b[0mget_category_sent\u001b[0m\u001b[0;34m)\u001b[0m\u001b[0;34m\u001b[0m\u001b[0m\n",
      "\u001b[0;32m<ipython-input-3-3421f938c70b>\u001b[0m in \u001b[0;36mget_dataframe\u001b[0;34m(tab)\u001b[0m\n\u001b[1;32m      2\u001b[0m \u001b[0;34m\u001b[0m\u001b[0m\n\u001b[1;32m      3\u001b[0m     \u001b[0mdataSet\u001b[0m \u001b[0;34m=\u001b[0m \u001b[0mpd\u001b[0m\u001b[0;34m.\u001b[0m\u001b[0mDataFrame\u001b[0m\u001b[0;34m(\u001b[0m\u001b[0;34m)\u001b[0m\u001b[0;34m\u001b[0m\u001b[0m\n\u001b[0;32m----> 4\u001b[0;31m     \u001b[0mdataSet\u001b[0m\u001b[0;34m[\u001b[0m\u001b[0;34m\"id\"\u001b[0m\u001b[0;34m]\u001b[0m \u001b[0;34m=\u001b[0m \u001b[0;34m[\u001b[0m\u001b[0mtweet\u001b[0m\u001b[0;34m[\u001b[0m\u001b[0;34m'id'\u001b[0m\u001b[0;34m]\u001b[0m \u001b[0;32mfor\u001b[0m \u001b[0mtweet\u001b[0m \u001b[0;32min\u001b[0m \u001b[0mtab\u001b[0m\u001b[0;34m.\u001b[0m\u001b[0mfind\u001b[0m\u001b[0;34m(\u001b[0m\u001b[0;34m)\u001b[0m\u001b[0;34m]\u001b[0m\u001b[0;34m\u001b[0m\u001b[0m\n\u001b[0m\u001b[1;32m      5\u001b[0m     \u001b[0mdataSet\u001b[0m\u001b[0;34m[\u001b[0m\u001b[0;34m\"text\"\u001b[0m\u001b[0;34m]\u001b[0m \u001b[0;34m=\u001b[0m \u001b[0;34m[\u001b[0m\u001b[0mtweet\u001b[0m\u001b[0;34m[\u001b[0m\u001b[0;34m'text'\u001b[0m\u001b[0;34m]\u001b[0m \u001b[0;32mfor\u001b[0m \u001b[0mtweet\u001b[0m \u001b[0;32min\u001b[0m \u001b[0mtab\u001b[0m\u001b[0;34m.\u001b[0m\u001b[0mfind\u001b[0m\u001b[0;34m(\u001b[0m\u001b[0;34m)\u001b[0m\u001b[0;34m]\u001b[0m\u001b[0;34m\u001b[0m\u001b[0m\n\u001b[1;32m      6\u001b[0m     \u001b[0mdataSet\u001b[0m\u001b[0;34m[\u001b[0m\u001b[0;34m\"created_at\"\u001b[0m\u001b[0;34m]\u001b[0m \u001b[0;34m=\u001b[0m \u001b[0;34m[\u001b[0m\u001b[0mtweet\u001b[0m\u001b[0;34m[\u001b[0m\u001b[0;34m'created_at'\u001b[0m\u001b[0;34m]\u001b[0m \u001b[0;32mfor\u001b[0m \u001b[0mtweet\u001b[0m \u001b[0;32min\u001b[0m \u001b[0mtab\u001b[0m\u001b[0;34m.\u001b[0m\u001b[0mfind\u001b[0m\u001b[0;34m(\u001b[0m\u001b[0;34m)\u001b[0m\u001b[0;34m]\u001b[0m\u001b[0;34m\u001b[0m\u001b[0m\n",
      "\u001b[0;32m/Users/Yeongcheon/anaconda/lib/python2.7/site-packages/pymongo/cursor.pyc\u001b[0m in \u001b[0;36mnext\u001b[0;34m(self)\u001b[0m\n\u001b[1;32m   1095\u001b[0m             \u001b[0;32mraise\u001b[0m \u001b[0mStopIteration\u001b[0m\u001b[0;34m\u001b[0m\u001b[0m\n\u001b[1;32m   1096\u001b[0m         \u001b[0m_db\u001b[0m \u001b[0;34m=\u001b[0m \u001b[0mself\u001b[0m\u001b[0;34m.\u001b[0m\u001b[0m__collection\u001b[0m\u001b[0;34m.\u001b[0m\u001b[0mdatabase\u001b[0m\u001b[0;34m\u001b[0m\u001b[0m\n\u001b[0;32m-> 1097\u001b[0;31m         \u001b[0;32mif\u001b[0m \u001b[0mlen\u001b[0m\u001b[0;34m(\u001b[0m\u001b[0mself\u001b[0m\u001b[0;34m.\u001b[0m\u001b[0m__data\u001b[0m\u001b[0;34m)\u001b[0m \u001b[0;32mor\u001b[0m \u001b[0mself\u001b[0m\u001b[0;34m.\u001b[0m\u001b[0m_refresh\u001b[0m\u001b[0;34m(\u001b[0m\u001b[0;34m)\u001b[0m\u001b[0;34m:\u001b[0m\u001b[0;34m\u001b[0m\u001b[0m\n\u001b[0m\u001b[1;32m   1098\u001b[0m             \u001b[0;32mif\u001b[0m \u001b[0mself\u001b[0m\u001b[0;34m.\u001b[0m\u001b[0m__manipulate\u001b[0m\u001b[0;34m:\u001b[0m\u001b[0;34m\u001b[0m\u001b[0m\n\u001b[1;32m   1099\u001b[0m                 return _db._fix_outgoing(self.__data.popleft(),\n",
      "\u001b[0;32m/Users/Yeongcheon/anaconda/lib/python2.7/site-packages/pymongo/cursor.pyc\u001b[0m in \u001b[0;36m_refresh\u001b[0;34m(self)\u001b[0m\n\u001b[1;32m   1037\u001b[0m                                              \u001b[0mself\u001b[0m\u001b[0;34m.\u001b[0m\u001b[0m__id\u001b[0m\u001b[0;34m,\u001b[0m\u001b[0;34m\u001b[0m\u001b[0m\n\u001b[1;32m   1038\u001b[0m                                              \u001b[0mself\u001b[0m\u001b[0;34m.\u001b[0m\u001b[0m__codec_options\u001b[0m\u001b[0;34m,\u001b[0m\u001b[0;34m\u001b[0m\u001b[0m\n\u001b[0;32m-> 1039\u001b[0;31m                                              self.__max_await_time_ms))\n\u001b[0m\u001b[1;32m   1040\u001b[0m \u001b[0;34m\u001b[0m\u001b[0m\n\u001b[1;32m   1041\u001b[0m         \u001b[0;32melse\u001b[0m\u001b[0;34m:\u001b[0m  \u001b[0;31m# Cursor id is zero nothing else to return\u001b[0m\u001b[0;34m\u001b[0m\u001b[0m\n",
      "\u001b[0;32m/Users/Yeongcheon/anaconda/lib/python2.7/site-packages/pymongo/cursor.pyc\u001b[0m in \u001b[0;36m__send_message\u001b[0;34m(self, operation)\u001b[0m\n\u001b[1;32m    901\u001b[0m             doc = helpers._unpack_response(response=data,\n\u001b[1;32m    902\u001b[0m                                            \u001b[0mcursor_id\u001b[0m\u001b[0;34m=\u001b[0m\u001b[0mself\u001b[0m\u001b[0;34m.\u001b[0m\u001b[0m__id\u001b[0m\u001b[0;34m,\u001b[0m\u001b[0;34m\u001b[0m\u001b[0m\n\u001b[0;32m--> 903\u001b[0;31m                                            codec_options=self.__codec_options)\n\u001b[0m\u001b[1;32m    904\u001b[0m             \u001b[0;32mif\u001b[0m \u001b[0mfrom_command\u001b[0m\u001b[0;34m:\u001b[0m\u001b[0;34m\u001b[0m\u001b[0m\n\u001b[1;32m    905\u001b[0m                 \u001b[0mhelpers\u001b[0m\u001b[0;34m.\u001b[0m\u001b[0m_check_command_response\u001b[0m\u001b[0;34m(\u001b[0m\u001b[0mdoc\u001b[0m\u001b[0;34m[\u001b[0m\u001b[0;34m'data'\u001b[0m\u001b[0;34m]\u001b[0m\u001b[0;34m[\u001b[0m\u001b[0;36m0\u001b[0m\u001b[0;34m]\u001b[0m\u001b[0;34m)\u001b[0m\u001b[0;34m\u001b[0m\u001b[0m\n",
      "\u001b[0;32m/Users/Yeongcheon/anaconda/lib/python2.7/site-packages/pymongo/helpers.pyc\u001b[0m in \u001b[0;36m_unpack_response\u001b[0;34m(response, cursor_id, codec_options)\u001b[0m\n\u001b[1;32m    131\u001b[0m               \u001b[0;34m\"starting_from\"\u001b[0m\u001b[0;34m:\u001b[0m \u001b[0mstruct\u001b[0m\u001b[0;34m.\u001b[0m\u001b[0munpack\u001b[0m\u001b[0;34m(\u001b[0m\u001b[0;34m\"<i\"\u001b[0m\u001b[0;34m,\u001b[0m \u001b[0mresponse\u001b[0m\u001b[0;34m[\u001b[0m\u001b[0;36m12\u001b[0m\u001b[0;34m:\u001b[0m\u001b[0;36m16\u001b[0m\u001b[0;34m]\u001b[0m\u001b[0;34m)\u001b[0m\u001b[0;34m[\u001b[0m\u001b[0;36m0\u001b[0m\u001b[0;34m]\u001b[0m\u001b[0;34m,\u001b[0m\u001b[0;34m\u001b[0m\u001b[0m\n\u001b[1;32m    132\u001b[0m               \u001b[0;34m\"number_returned\"\u001b[0m\u001b[0;34m:\u001b[0m \u001b[0mstruct\u001b[0m\u001b[0;34m.\u001b[0m\u001b[0munpack\u001b[0m\u001b[0;34m(\u001b[0m\u001b[0;34m\"<i\"\u001b[0m\u001b[0;34m,\u001b[0m \u001b[0mresponse\u001b[0m\u001b[0;34m[\u001b[0m\u001b[0;36m16\u001b[0m\u001b[0;34m:\u001b[0m\u001b[0;36m20\u001b[0m\u001b[0;34m]\u001b[0m\u001b[0;34m)\u001b[0m\u001b[0;34m[\u001b[0m\u001b[0;36m0\u001b[0m\u001b[0;34m]\u001b[0m\u001b[0;34m,\u001b[0m\u001b[0;34m\u001b[0m\u001b[0m\n\u001b[0;32m--> 133\u001b[0;31m               \"data\": bson.decode_all(response[20:], codec_options)}\n\u001b[0m\u001b[1;32m    134\u001b[0m \u001b[0;34m\u001b[0m\u001b[0m\n\u001b[1;32m    135\u001b[0m     \u001b[0;32massert\u001b[0m \u001b[0mlen\u001b[0m\u001b[0;34m(\u001b[0m\u001b[0mresult\u001b[0m\u001b[0;34m[\u001b[0m\u001b[0;34m\"data\"\u001b[0m\u001b[0;34m]\u001b[0m\u001b[0;34m)\u001b[0m \u001b[0;34m==\u001b[0m \u001b[0mresult\u001b[0m\u001b[0;34m[\u001b[0m\u001b[0;34m\"number_returned\"\u001b[0m\u001b[0;34m]\u001b[0m\u001b[0;34m\u001b[0m\u001b[0m\n",
      "\u001b[0;32m/Users/Yeongcheon/anaconda/lib/python2.7/site-packages/bson/objectid.pyc\u001b[0m in \u001b[0;36m__init__\u001b[0;34m(self, oid)\u001b[0m\n\u001b[1;32m     66\u001b[0m     \u001b[0m_type_marker\u001b[0m \u001b[0;34m=\u001b[0m \u001b[0;36m7\u001b[0m\u001b[0;34m\u001b[0m\u001b[0m\n\u001b[1;32m     67\u001b[0m \u001b[0;34m\u001b[0m\u001b[0m\n\u001b[0;32m---> 68\u001b[0;31m     \u001b[0;32mdef\u001b[0m \u001b[0m__init__\u001b[0m\u001b[0;34m(\u001b[0m\u001b[0mself\u001b[0m\u001b[0;34m,\u001b[0m \u001b[0moid\u001b[0m\u001b[0;34m=\u001b[0m\u001b[0mNone\u001b[0m\u001b[0;34m)\u001b[0m\u001b[0;34m:\u001b[0m\u001b[0;34m\u001b[0m\u001b[0m\n\u001b[0m\u001b[1;32m     69\u001b[0m         \"\"\"Initialize a new ObjectId.\n\u001b[1;32m     70\u001b[0m \u001b[0;34m\u001b[0m\u001b[0m\n",
      "\u001b[0;31mKeyboardInterrupt\u001b[0m: "
     ]
    }
   ],
   "source": [
    "list_id = range(len(list_input))\n",
    "week_all = [14,15,16]\n",
    "file_name = 'result_04.csv' \n",
    "df_total = merge_dataframe_all(list_id, db, list_input, current_billboard, file_name, week_all)\n"
   ]
  },
  {
   "cell_type": "code",
   "execution_count": null,
   "metadata": {
    "collapsed": true
   },
   "outputs": [],
   "source": []
  }
 ],
 "metadata": {
  "kernelspec": {
   "display_name": "Python 2",
   "language": "python",
   "name": "python2"
  },
  "language_info": {
   "codemirror_mode": {
    "name": "ipython",
    "version": 2
   },
   "file_extension": ".py",
   "mimetype": "text/x-python",
   "name": "python",
   "nbconvert_exporter": "python",
   "pygments_lexer": "ipython2",
   "version": "2.7.11"
  }
 },
 "nbformat": 4,
 "nbformat_minor": 0
}
