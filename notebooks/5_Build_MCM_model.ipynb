{
 "cells": [
  {
   "cell_type": "code",
   "execution_count": 1,
   "metadata": {
    "collapsed": true
   },
   "outputs": [],
   "source": [
    "import pandas as pd\n",
    "import numpy as np\n",
    "from sklearn.cross_validation import KFold\n",
    "%matplotlib inline\n",
    "import matplotlib.pyplot as plt"
   ]
  },
  {
   "cell_type": "code",
   "execution_count": 2,
   "metadata": {
    "collapsed": true
   },
   "outputs": [],
   "source": [
    "def get_base(dfngram, ngram = 2):\n",
    "    dfngram = dfngram.astype('int')\n",
    "    col = [\"diff_{}\".format(i) for i in range(ngram)]\n",
    "    df = dfngram[col]\n",
    "    ASET = set()\n",
    "    for i in xrange(len(df)):\n",
    "        ASET.add(tuple(df.iloc[i]))\n",
    "    \n",
    "    return ASET"
   ]
  },
  {
   "cell_type": "code",
   "execution_count": 3,
   "metadata": {
    "collapsed": true
   },
   "outputs": [],
   "source": [
    "def get_markov(dfngram, ngram = 2):\n",
    "    \n",
    "    if ngram == 1:\n",
    "        base = set(range(1,101))\n",
    "    else:\n",
    "        base = get_base(dfngram, ngram = ngram)\n",
    "        \n",
    "    xy_table = pd.DataFrame(data = np.zeros([len(base), 101]), index=base, columns=range(1,102))\n",
    "    x_table = pd.DataFrame(data = np.zeros([len(base), 1]), index=base, columns= ['target'])\n",
    "    \n",
    "    dfngram = dfngram.astype('int')\n",
    "    col = [\"diff_{}\".format(i) for i in range(ngram)]\n",
    "    df = dfngram[col]\n",
    "    target = dfngram['target'].values\n",
    "    \n",
    "    for i in range(len(df)):\n",
    "        if ngram == 1:\n",
    "            t = df.iloc[i].values[0]\n",
    "        else:\n",
    "            t = tuple(df.iloc[i])\n",
    "            \n",
    "        s = target[i]\n",
    "        xy_table.ix[t,s] += 1\n",
    "        x_table.ix[t,\"target\"] += 1\n",
    "    \n",
    "    prob_value = np.array(xy_table)/np.array(x_table)\n",
    "    p_table = pd.DataFrame(data = prob_value, index=base, columns=range(1,102))\n",
    "    \n",
    "    p_table[\"base\"] = p_table.index\n",
    "    p_xy = p_table[range(1,102)].values\n",
    "    p_y = np.array(range(1,102))\n",
    "    p_table['pred'] = np.dot(p_xy,p_y)\n",
    "    \n",
    "    #return p_table, xy_table, x_table, base\n",
    "    return p_table, base\n",
    "    "
   ]
  },
  {
   "cell_type": "code",
   "execution_count": 4,
   "metadata": {
    "collapsed": false
   },
   "outputs": [],
   "source": [
    "def get_mse_7(dfngram, p_table7, p_table6, p_table5, p_table4, p_table3, p_table2, p_table1, \\\n",
    "              base7, base6, base5, base4, base3, base2, base1):\n",
    "    \n",
    "    ngram = 7\n",
    "    dfngram = dfngram.astype('int')\n",
    "    col = [\"diff_{}\".format(i) for i in range(ngram)]\n",
    "    df = dfngram[col]\n",
    "\n",
    "    est_list = []\n",
    "    diff_list = []\n",
    "    for i in range(len(df)):\n",
    "        basei = tuple(df.iloc[i])\n",
    "        esti = get_est_7(basei, p_table7, p_table6, p_table5, p_table4, p_table3, p_table2, p_table1, \\\n",
    "              base7, base6, base5, base4, base3, base2, base1)\n",
    "        est_list.append(esti)\n",
    "        diff_list.append(dfngram['target'].values[i] - esti)\n",
    "    \n",
    "    dfngram['est'] = est_list\n",
    "    dfngram['diff'] = diff_list\n",
    "    mse_list = np.array(diff_list)\n",
    "    return np.sqrt(np.mean(mse_list**2))\n"
   ]
  },
  {
   "cell_type": "code",
   "execution_count": 5,
   "metadata": {
    "collapsed": true
   },
   "outputs": [],
   "source": [
    "def get_mse_6(dfngram, p_table6, p_table5, p_table4, p_table3, p_table2, p_table1,\\\n",
    "              base6, base5, base4, base3, base2, base1):\n",
    "    \n",
    "    ngram = 6\n",
    "    dfngram = dfngram.astype('int')\n",
    "    col = [\"diff_{}\".format(i) for i in range(ngram)]\n",
    "    df = dfngram[col]\n",
    "\n",
    "    est_list = []\n",
    "    diff_list = []\n",
    "    for i in range(len(df)):\n",
    "        basei = tuple(df.iloc[i])\n",
    "        esti = get_est_6(basei, p_table6, p_table5, p_table4, p_table3, p_table2, p_table1,\\\n",
    "              base6, base5, base4, base3, base2, base1)\n",
    "        est_list.append(esti)\n",
    "        diff_list.append(dfngram['target'].values[i] - esti)\n",
    "    \n",
    "    dfngram['est'] = est_list\n",
    "    dfngram['diff'] = diff_list\n",
    "    mse_list = np.array(diff_list)\n",
    "    \n",
    "    return np.sqrt(np.mean(mse_list**2))\n"
   ]
  },
  {
   "cell_type": "code",
   "execution_count": 6,
   "metadata": {
    "collapsed": false
   },
   "outputs": [],
   "source": [
    "def get_mse_5(dfngram, p_table5, p_table4, p_table3, p_table2, p_table1,\\\n",
    "              base5, base4, base3, base2, base1):\n",
    "    \n",
    "    ngram = 5\n",
    "    dfngram = dfngram.astype('int')\n",
    "    col = [\"diff_{}\".format(i) for i in range(ngram)]\n",
    "    df = dfngram[col]\n",
    "\n",
    "    est_list = []\n",
    "    diff_list = []\n",
    "    for i in range(len(df)):\n",
    "        basei = tuple(df.iloc[i])\n",
    "        esti = get_est_5(basei, p_table5, p_table4, p_table3, p_table2, p_table1,\\\n",
    "              base5, base4, base3, base2, base1)\n",
    "        est_list.append(esti)\n",
    "        diff_list.append(dfngram['target'].values[i] - esti)\n",
    "    \n",
    "    dfngram['est'] = est_list\n",
    "    dfngram['diff'] = diff_list\n",
    "    mse_list = np.array(diff_list)\n",
    "    \n",
    "    return np.sqrt(np.mean(mse_list**2))"
   ]
  },
  {
   "cell_type": "code",
   "execution_count": 7,
   "metadata": {
    "collapsed": false
   },
   "outputs": [],
   "source": [
    "def get_mse_4(dfngram, p_table4, p_table3, p_table2, p_table1, base4, base3, base2, base1):\n",
    "    \n",
    "    ngram = 4\n",
    "    dfngram = dfngram.astype('int')\n",
    "    col = [\"diff_{}\".format(i) for i in range(ngram)]\n",
    "    df = dfngram[col]\n",
    "\n",
    "    est_list = []\n",
    "    diff_list = []\n",
    "    for i in range(len(df)):\n",
    "        basei = tuple(df.iloc[i])\n",
    "        esti = get_est_4(basei, p_table4, p_table3, p_table2, p_table1, base4, base3, base2, base1)\n",
    "        est_list.append(esti)\n",
    "        diff_list.append(dfngram['target'].values[i] - esti)\n",
    "    \n",
    "    dfngram['est'] = est_list\n",
    "    dfngram['diff'] = diff_list\n",
    "    mse_list = np.array(diff_list)\n",
    "    \n",
    "    return np.sqrt(np.mean(mse_list**2))"
   ]
  },
  {
   "cell_type": "code",
   "execution_count": 8,
   "metadata": {
    "collapsed": false
   },
   "outputs": [],
   "source": [
    "def get_mse_3(dfngram, p_table3, p_table2, p_table1, base3, base2, base1):\n",
    "    \n",
    "    ngram = 3\n",
    "    dfngram = dfngram.astype('int')\n",
    "    col = [\"diff_{}\".format(i) for i in range(ngram)]\n",
    "    df = dfngram[col]\n",
    "\n",
    "    est_list = []\n",
    "    diff_list = []\n",
    "    for i in range(len(df)):\n",
    "        basei = tuple(df.iloc[i])\n",
    "        esti = get_est_3(basei, p_table3, p_table2, p_table1, base3, base2, base1)\n",
    "        est_list.append(esti)\n",
    "        diff_list.append(dfngram['target'].values[i] - esti)\n",
    "    \n",
    "    dfngram['est'] = est_list\n",
    "    dfngram['diff'] = diff_list\n",
    "    mse_list = np.array(diff_list)\n",
    "    \n",
    "    return np.sqrt(np.mean(mse_list**2))"
   ]
  },
  {
   "cell_type": "code",
   "execution_count": 9,
   "metadata": {
    "collapsed": false
   },
   "outputs": [],
   "source": [
    "def get_mse_2(dfngram, p_table2, p_table1, base2, base1):\n",
    "    \n",
    "    ngram = 2\n",
    "    dfngram = dfngram.astype('int')\n",
    "    col = [\"diff_{}\".format(i) for i in range(ngram)]\n",
    "    df = dfngram[col]\n",
    "\n",
    "    est_list = []\n",
    "    diff_list = []\n",
    "    for i in range(len(df)):\n",
    "        basei = tuple(df.iloc[i])\n",
    "        esti = get_est_2(basei, p_table2, p_table1, base2, base1)\n",
    "        est_list.append(esti)\n",
    "        diff_list.append(dfngram['target'].values[i] - esti)\n",
    "    \n",
    "    dfngram['est'] = est_list\n",
    "    dfngram['diff'] = diff_list\n",
    "    mse_list = np.array(diff_list)\n",
    "    \n",
    "    return np.sqrt(np.mean(mse_list**2))"
   ]
  },
  {
   "cell_type": "code",
   "execution_count": 10,
   "metadata": {
    "collapsed": true
   },
   "outputs": [],
   "source": [
    "def get_mse_1(dfngram, p_table1, base1):\n",
    "    \n",
    "    ngram = 1\n",
    "    dfngram = dfngram.astype('int')\n",
    "    col = [\"diff_{}\".format(i) for i in range(ngram)]\n",
    "    df = dfngram[col]\n",
    "\n",
    "    est_list = []\n",
    "    diff_list = []\n",
    "    for i in range(len(df)):\n",
    "        basei = tuple(df.iloc[i])\n",
    "        esti = get_est_1(basei, p_table1, base1)\n",
    "        est_list.append(esti)\n",
    "        diff_list.append(dfngram['target'].values[i] - esti)\n",
    "    \n",
    "    dfngram['est'] = est_list\n",
    "    dfngram['diff'] = diff_list\n",
    "    mse_list = np.array(diff_list)\n",
    "    \n",
    "    return np.sqrt(np.mean(mse_list**2))"
   ]
  },
  {
   "cell_type": "code",
   "execution_count": 11,
   "metadata": {
    "collapsed": true
   },
   "outputs": [],
   "source": [
    "def get_est_7(basei, p_table7, p_table6, p_table5, p_table4, p_table3, p_table2, p_table1, \\\n",
    "              base7, base6, base5, base4, base3, base2, base1):\n",
    "    \n",
    "    if basei in base7:\n",
    "        return p_table7[p_table7['base']==basei]['pred'].values[0]\n",
    "    else:\n",
    "        if basei[1:] in base6:\n",
    "            return p_table6[p_table6['base']==basei[1:]]['pred'].values[0]\n",
    "        else:\n",
    "            if basei[2:] in base5:\n",
    "                return p_table5[p_table5['base']==basei[2:]]['pred'].values[0]\n",
    "            else: \n",
    "                if basei[3:] in base4:\n",
    "                    return p_table4[p_table4['base']==basei[3:]]['pred'].values[0]\n",
    "                else:\n",
    "                    if basei[4:] in base3:\n",
    "                        return p_table3[p_table3['base']==basei[4:]]['pred'].values[0]\n",
    "                    else:\n",
    "                        if basei[5:] in base2:\n",
    "                            return p_table2[p_table2['base']==basei[5:]]['pred'].values[0]\n",
    "                        else:\n",
    "                            return p_table1[p_table1['base']==basei[6]]['pred'].values[0]"
   ]
  },
  {
   "cell_type": "code",
   "execution_count": 12,
   "metadata": {
    "collapsed": true
   },
   "outputs": [],
   "source": [
    "def get_est_6(basei, p_table6, p_table5, p_table4, p_table3, p_table2, p_table1,\\\n",
    "              base6, base5, base4, base3, base2, base1):\n",
    "    \n",
    "    if basei in base6:\n",
    "        return p_table6[p_table6['base']==basei]['pred'].values[0]\n",
    "    else:\n",
    "        if basei[1:] in base5:\n",
    "            return p_table5[p_table5['base']==basei[1:]]['pred'].values[0]\n",
    "        else:\n",
    "            if basei[2:] in base4:\n",
    "                return p_table4[p_table4['base']==basei[2:]]['pred'].values[0]\n",
    "            else: \n",
    "                if basei[3:] in base3:\n",
    "                    return p_table3[p_table3['base']==basei[3:]]['pred'].values[0]\n",
    "                else:\n",
    "                    if basei[4:] in base2:\n",
    "                        return p_table2[p_table2['base']==basei[4:]]['pred'].values[0]\n",
    "                    else:\n",
    "                        return p_table1[p_table1['base']==basei[5]]['pred'].values[0]"
   ]
  },
  {
   "cell_type": "code",
   "execution_count": 13,
   "metadata": {
    "collapsed": true
   },
   "outputs": [],
   "source": [
    "def get_est_5(basei, p_table5, p_table4, p_table3, p_table2, p_table1,\\\n",
    "              base5, base4, base3, base2, base1):\n",
    "    \n",
    "    if basei in base5:\n",
    "        return p_table5[p_table5['base']==basei]['pred'].values[0]\n",
    "    else:\n",
    "        if basei[1:] in base4:\n",
    "            return p_table4[p_table4['base']==basei[1:]]['pred'].values[0]\n",
    "        else:\n",
    "            if basei[2:] in base3:\n",
    "                return p_table3[p_table3['base']==basei[2:]]['pred'].values[0]\n",
    "            else: \n",
    "                if basei[3:] in base2:\n",
    "                    return p_table2[p_table2['base']==basei[3:]]['pred'].values[0]\n",
    "                else:\n",
    "                    return p_table1[p_table1['base']==basei[4]]['pred'].values[0]"
   ]
  },
  {
   "cell_type": "code",
   "execution_count": 14,
   "metadata": {
    "collapsed": true
   },
   "outputs": [],
   "source": [
    "def get_est_4(basei, p_table4, p_table3, p_table2, p_table1, base4, base3, base2, base1):\n",
    "    \n",
    "    if basei in base4:\n",
    "        return p_table4[p_table4['base']==basei]['pred'].values[0]\n",
    "    else:\n",
    "        if basei[1:] in base3:\n",
    "            return p_table3[p_table3['base']==basei[1:]]['pred'].values[0]\n",
    "        else:\n",
    "            if basei[2:] in base2:\n",
    "                return p_table2[p_table2['base']==basei[2:]]['pred'].values[0]\n",
    "            else: \n",
    "                return p_table1[p_table1['base']==basei[3]]['pred'].values[0]"
   ]
  },
  {
   "cell_type": "code",
   "execution_count": 15,
   "metadata": {
    "collapsed": false
   },
   "outputs": [],
   "source": [
    "def get_est_3(basei, p_table3, p_table2, p_table1, base3, base2, base1):\n",
    "    \n",
    "    if basei in base3:\n",
    "        return p_table3[p_table3['base']==basei]['pred'].values[0]\n",
    "    else:\n",
    "        if basei[1:] in base2:\n",
    "            return p_table2[p_table2['base']==basei[1:]]['pred'].values[0]\n",
    "        else:\n",
    "            return p_table1[p_table1['base']==basei[2]]['pred'].values[0]"
   ]
  },
  {
   "cell_type": "code",
   "execution_count": 16,
   "metadata": {
    "collapsed": true
   },
   "outputs": [],
   "source": [
    "def get_est_2(basei, p_table2, p_table1, base2, base1):\n",
    "    \n",
    "    if basei in base2:\n",
    "        return p_table2[p_table2['base']==basei]['pred'].values[0]\n",
    "    else:\n",
    "        return p_table1[p_table1['base']==basei[1]]['pred'].values[0]"
   ]
  },
  {
   "cell_type": "code",
   "execution_count": 17,
   "metadata": {
    "collapsed": true
   },
   "outputs": [],
   "source": [
    "def get_est_1(basei, p_table1, base1):\n",
    "    \n",
    "    basei = basei[0]\n",
    "    return p_table1[p_table1['base']==basei]['pred'].values[0]\n",
    "    "
   ]
  },
  {
   "cell_type": "code",
   "execution_count": 18,
   "metadata": {
    "collapsed": false
   },
   "outputs": [],
   "source": [
    "def get_train_test(dfngram1_train, dfngram2_train, dfngram3_train, dfngram4_train, dfngram5_train,\\\n",
    "                   dfngram6_train, dfngram7_train, dfngram1_test, dfngram2_test, dfngram3_test,\\\n",
    "                   dfngram4_test, dfngram5_test, dfngram6_test, dfngram7_test, file_name = \"../data/temp.csv\"):\n",
    "    \n",
    "\n",
    "            \n",
    "    p_table_train7, base_train7 = get_markov(dfngram7_train, ngram = 7)\n",
    "    p_table_train6, base_train6 = get_markov(dfngram6_train, ngram = 6)\n",
    "    p_table_train5, base_train5 = get_markov(dfngram5_train, ngram = 5)\n",
    "    p_table_train4, base_train4 = get_markov(dfngram4_train, ngram = 4)\n",
    "    p_table_train3, base_train3 = get_markov(dfngram3_train, ngram = 3)\n",
    "    p_table_train2, base_train2 = get_markov(dfngram2_train, ngram = 2)\n",
    "    p_table_train1, base_train1 = get_markov(dfngram1_train, ngram = 1)\n",
    "    \n",
    "        \n",
    "    mse_train7 = get_mse_7(dfngram7_train, p_table_train7, p_table_train6, p_table_train5, p_table_train4, \\\n",
    "                          p_table_train3, p_table_train2, p_table_train1, \\\n",
    "                          base_train7, base_train6, base_train5, base_train4, \\\n",
    "                          base_train3, base_train2, base_train1)\n",
    "    mse_test7 = get_mse_7(dfngram7_test, p_table_train7, p_table_train6, p_table_train5, p_table_train4, \\\n",
    "                          p_table_train3, p_table_train2, p_table_train1, \\\n",
    "                          base_train7, base_train6, base_train5, base_train4, \\\n",
    "                          base_train3, base_train2, base_train1)\n",
    "\n",
    "    mse_train6 = get_mse_6(dfngram6_train, p_table_train6, p_table_train5, p_table_train4, \\\n",
    "                          p_table_train3, p_table_train2, p_table_train1, \\\n",
    "                          base_train6, base_train5, base_train4, \\\n",
    "                          base_train3, base_train2, base_train1)\n",
    "    mse_test6 = get_mse_6(dfngram6_test, p_table_train6, p_table_train5, p_table_train4, \\\n",
    "                          p_table_train3, p_table_train2, p_table_train1, \\\n",
    "                          base_train6, base_train5, base_train4, \\\n",
    "                          base_train3, base_train2, base_train1)\n",
    "\n",
    "    mse_train5 = get_mse_5(dfngram5_train, p_table_train5, p_table_train4, \\\n",
    "                          p_table_train3, p_table_train2, p_table_train1, \\\n",
    "                          base_train5, base_train4, \\\n",
    "                          base_train3, base_train2, base_train1)\n",
    "    mse_test5 = get_mse_5(dfngram5_test, p_table_train5, p_table_train4, \\\n",
    "                          p_table_train3, p_table_train2, p_table_train1, \\\n",
    "                          base_train5, base_train4, \\\n",
    "                          base_train3, base_train2, base_train1)\n",
    "\n",
    "    mse_train4 = get_mse_4(dfngram4_train, p_table_train4, p_table_train3, p_table_train2, p_table_train1, \\\n",
    "                          base_train4, base_train3, base_train2, base_train1)\n",
    "    mse_test4 = get_mse_4(dfngram4_test, p_table_train4, p_table_train3, p_table_train2, p_table_train1, \\\n",
    "                          base_train4, base_train3, base_train2, base_train1)\n",
    "\n",
    "    mse_train3 = get_mse_3(dfngram3_train, p_table_train3, p_table_train2, p_table_train1, \\\n",
    "                          base_train3, base_train2, base_train1)\n",
    "    mse_test3 = get_mse_3(dfngram3_test, p_table_train3, p_table_train2, p_table_train1, \\\n",
    "                          base_train3, base_train2, base_train1)\n",
    "\n",
    "    mse_train2 = get_mse_2(dfngram2_train, p_table_train2, p_table_train1, base_train2, base_train1)\n",
    "    mse_test2 = get_mse_2(dfngram2_test, p_table_train2, p_table_train1, base_train2, base_train1)\n",
    "\n",
    "    mse_train1 = get_mse_1(dfngram1_train, p_table_train1, base_train1)\n",
    "    mse_test1 = get_mse_1(dfngram1_test, p_table_train1, base_train1)\n",
    "\n",
    "    mse_train = [mse_train1, mse_train2, mse_train3, mse_train4, mse_train5, mse_train6, mse_train7] \n",
    "    mse_test = [mse_test1, mse_test2, mse_test3, mse_test4, mse_test5, mse_test6, mse_test7]\n",
    "    mse = [mse_train, mse_test]\n",
    "    \n",
    "    col_name = ['ngram_2','ngram_3','ngram_4','ngram_5', 'ngram_6','ngram_7','ngram_8']  \n",
    "    mse_data = pd.DataFrame(data = mse)\n",
    "    mse_data.columns = col_name\n",
    "    mse_data.index = ['train_mse', 'test_mse']\n",
    "    \n",
    "    mse_data.to_csv(file_name, sep=',', encoding='utf-8')\n",
    "    \n",
    "    return mse_data"
   ]
  },
  {
   "cell_type": "markdown",
   "metadata": {
    "collapsed": true
   },
   "source": [
    "# Get the best n-gram"
   ]
  },
  {
   "cell_type": "code",
   "execution_count": 39,
   "metadata": {
    "collapsed": false
   },
   "outputs": [],
   "source": [
    "\n",
    "'''\n",
    "dfngram1_train = pd.read_csv('../data/small_101_1.csv')\n",
    "dfngram2_train = pd.read_csv('../data/small_101_2.csv')\n",
    "dfngram3_train = pd.read_csv('../data/small_101_3.csv')\n",
    "dfngram4_train = pd.read_csv('../data/small_101_4.csv')\n",
    "dfngram5_train = pd.read_csv('../data/small_101_5.csv')\n",
    "dfngram6_train = pd.read_csv('../data/small_101_6.csv')\n",
    "dfngram7_train = pd.read_csv('../data/small_101_7.csv')\n",
    "\n",
    "dfngram1_test = pd.read_csv('../data/small_101_1.csv')\n",
    "dfngram2_test = pd.read_csv('../data/small_101_2.csv')\n",
    "dfngram3_test = pd.read_csv('../data/small_101_3.csv')\n",
    "dfngram4_test = pd.read_csv('../data/small_101_4.csv')\n",
    "dfngram5_test = pd.read_csv('../data/small_101_5.csv')\n",
    "dfngram6_test = pd.read_csv('../data/small_101_6.csv')\n",
    "dfngram7_test = pd.read_csv('../data/small_101_7.csv')\n",
    "'''\n"
   ]
  },
  {
   "cell_type": "code",
   "execution_count": 66,
   "metadata": {
    "collapsed": false
   },
   "outputs": [],
   "source": [
    "\n",
    "'''\n",
    "dfngram1_train = pd.read_csv('../data/ngram_1990_2009_1.csv')\n",
    "dfngram2_train = pd.read_csv('../data/ngram_1990_2009_2.csv')\n",
    "dfngram3_train = pd.read_csv('../data/ngram_1990_2009_3.csv')\n",
    "dfngram4_train = pd.read_csv('../data/ngram_1990_2009_4.csv')\n",
    "dfngram5_train = pd.read_csv('../data/ngram_1990_2009_5.csv')\n",
    "dfngram6_train = pd.read_csv('../data/ngram_1990_2009_6.csv')\n",
    "dfngram7_train = pd.read_csv('../data/ngram_1990_2009_7.csv')\n",
    "\n",
    "dfngram1_test = pd.read_csv('../data/ngram_2010_2016_1.csv')\n",
    "dfngram2_test = pd.read_csv('../data/ngram_2010_2016_2.csv')\n",
    "dfngram3_test = pd.read_csv('../data/ngram_2010_2016_3.csv')\n",
    "dfngram4_test = pd.read_csv('../data/ngram_2010_2016_4.csv')\n",
    "dfngram5_test = pd.read_csv('../data/ngram_2010_2016_5.csv')\n",
    "dfngram6_test = pd.read_csv('../data/ngram_2010_2016_6.csv')\n",
    "dfngram7_test = pd.read_csv('../data/ngram_2010_2016_7.csv')\n",
    "'''\n"
   ]
  },
  {
   "cell_type": "code",
   "execution_count": 68,
   "metadata": {
    "collapsed": false
   },
   "outputs": [],
   "source": [
    "#fileName = \"../data/mse_train_test_2010.csv\"\n",
    "mse_data = get_train_test(dfngram1_train, dfngram2_train, dfngram3_train, dfngram4_train, dfngram5_train,\\\n",
    "                   dfngram6_train, dfngram7_train, dfngram1_test, dfngram2_test, dfngram3_test,\\\n",
    "                   dfngram4_test, dfngram5_test, dfngram6_test, dfngram7_test, file_name = fileName)"
   ]
  },
  {
   "cell_type": "markdown",
   "metadata": {
    "collapsed": true
   },
   "source": [
    "### Get Graph"
   ]
  },
  {
   "cell_type": "code",
   "execution_count": 58,
   "metadata": {
    "collapsed": false
   },
   "outputs": [
    {
     "data": {
      "image/png": "[encoded data removed]",
      "text/plain": [
       "<matplotlib.figure.Figure at 0x111a636d0>"
      ]
     },
     "metadata": {},
     "output_type": "display_data"
    }
   ],
   "source": [
    "fileName = \"../data/mse_train_test_2010.csv\"\n",
    "df = pd.read_csv(fileName)\n",
    "df = df.drop(\"Unnamed: 0\", axis = 1)\n",
    "df.index = ['train_mse', 'test_mse']\n",
    "col_name = [\"order = {}\".format(i+1) for i in range(7)]\n",
    "df.columns = col_name\n",
    "\n",
    "ax1 = df.T.plot(lw=5, figsize=(10,6))\n",
    "ax1.set_title(\"mse over order\",fontsize=20)\n",
    "ax1.set_xlabel(\"order\",fontsize=18)\n",
    "ax1.set_ylabel(\"mse\",fontsize=18)\n",
    "\n",
    "plt.savefig(\"../data/mse_train_test_2010.png\")\n",
    "#plt.savefig(\"../data/temp.png\")\n",
    "\n",
    "plt.show()"
   ]
  },
  {
   "cell_type": "markdown",
   "metadata": {},
   "source": [
    "# Combined with Twitter data  "
   ]
  },
  {
   "cell_type": "code",
   "execution_count": 19,
   "metadata": {
    "collapsed": true
   },
   "outputs": [],
   "source": [
    "def separate_data(data):\n",
    "    \n",
    "    df = data[(data['next_rank'] < 101) & (data['next_rank'] > 0) & (data['current_rank'] < 101)]\n",
    "    \n",
    "    df0 = df[df['past_rank_1']>100]\n",
    "    df1 = df[df['past_rank_1'] <=100]\n",
    "    \n",
    "    df1_only = df1[df1['past_rank_2']>100]\n",
    "    df2 = df1[df1['past_rank_2'] <=100]\n",
    "    \n",
    "    df2_only = df2[df2['past_rank_3']>100]\n",
    "    df3 = df2[df2['past_rank_3'] <=100]\n",
    "    \n",
    "    df3_only = df3[df3['past_rank_4']>100]\n",
    "    df4 = df3[df3['past_rank_4'] <=100]\n",
    "    \n",
    "    return df, df0, df1, df1_only, df2, df2_only, df3, df3_only, df4 "
   ]
  },
  {
   "cell_type": "code",
   "execution_count": 45,
   "metadata": {
    "collapsed": true
   },
   "outputs": [],
   "source": [
    "def data_twitter_reg(df, p_table2, p_table1, base2, base1, file_name = \"../data/data_twitter_reg_temp\"):\n",
    "    \n",
    "    df = df.drop(\"Unnamed: 0\", axis = 1)\n",
    "    df['past_rank_0'] = df['current_rank']\n",
    "    \n",
    "    ngram = 2\n",
    "    col = [\"past_rank_{}\".format(i) for i in sorted(range(ngram), reverse=True)]\n",
    "    df2 = df[col]\n",
    "    \n",
    "    diff_list = []\n",
    "    est_list = []\n",
    "    for i in range(len(df2)):\n",
    "        basei = tuple(df2.iloc[i])\n",
    "        esti = get_est_2(basei, p_table2, p_table1, base2, base1)\n",
    "        diff_list.append(df['next_rank'].values[i] - esti)\n",
    "        est_list.append(esti)\n",
    "    \n",
    "    df['diff'] = diff_list\n",
    "    df['est'] = est_list\n",
    "    \n",
    "    df.to_csv(file_name, sep=',', encoding='utf-8')\n",
    "    \n",
    "    return df\n",
    "    "
   ]
  },
  {
   "cell_type": "code",
   "execution_count": null,
   "metadata": {
    "collapsed": true
   },
   "outputs": [],
   "source": []
  },
  {
   "cell_type": "code",
   "execution_count": 21,
   "metadata": {
    "collapsed": true
   },
   "outputs": [],
   "source": [
    "'''\n",
    "dfngram1 = pd.read_csv('../data/small_101_1.csv')\n",
    "dfngram2 = pd.read_csv('../data/small_101_2.csv')\n",
    "'''"
   ]
  },
  {
   "cell_type": "code",
   "execution_count": 59,
   "metadata": {
    "collapsed": true
   },
   "outputs": [],
   "source": [
    "'''\n",
    "dfngram1 = pd.read_csv('../data/ngram101_1.csv')\n",
    "dfngram2 = pd.read_csv('../data/ngram101_2.csv')\n",
    "'''"
   ]
  },
  {
   "cell_type": "code",
   "execution_count": 61,
   "metadata": {
    "collapsed": false
   },
   "outputs": [
    {
     "data": {
      "text/plain": [
       "(137120, 126144)"
      ]
     },
     "execution_count": 61,
     "metadata": {},
     "output_type": "execute_result"
    }
   ],
   "source": [
    "len(dfngram1), len(dfngram2)"
   ]
  },
  {
   "cell_type": "code",
   "execution_count": 50,
   "metadata": {
    "collapsed": true
   },
   "outputs": [],
   "source": [
    "p_table1, base1 = get_markov(dfngram1, ngram = 1)\n",
    "p_table2, base2 = get_markov(dfngram2, ngram = 2)"
   ]
  },
  {
   "cell_type": "code",
   "execution_count": 23,
   "metadata": {
    "collapsed": true
   },
   "outputs": [],
   "source": [
    "df_data_csv = pd.read_csv('../data/result_database34_20160430.csv')"
   ]
  },
  {
   "cell_type": "code",
   "execution_count": 24,
   "metadata": {
    "collapsed": false
   },
   "outputs": [
    {
     "name": "stdout",
     "output_type": "stream",
     "text": [
      "436 265 257 243 231\n"
     ]
    }
   ],
   "source": [
    "df, df0, df1, df1_only, df2, df2_only, df3, df3_only, df4  = separate_data(df_data_csv)\n",
    "print len(df_data_csv), len(df), len(df1), len(df2), len(df3)"
   ]
  },
  {
   "cell_type": "code",
   "execution_count": 54,
   "metadata": {
    "collapsed": false
   },
   "outputs": [],
   "source": [
    "#fileName = \"../data/data_twitter_reg_temp.csv\"\n",
    "fileName = \"../data/data_twitter_reg.csv\"\n",
    "data_twitter = data_twitter_reg(df1, p_table2, p_table1, base2, base1, file_name = fileName)"
   ]
  },
  {
   "cell_type": "code",
   "execution_count": null,
   "metadata": {
    "collapsed": true
   },
   "outputs": [],
   "source": []
  }
 ],
 "metadata": {
  "kernelspec": {
   "display_name": "Python 2",
   "language": "python",
   "name": "python2"
  },
  "language_info": {
   "codemirror_mode": {
    "name": "ipython",
    "version": 2
   },
   "file_extension": ".py",
   "mimetype": "text/x-python",
   "name": "python",
   "nbconvert_exporter": "python",
   "pygments_lexer": "ipython2",
   "version": "2.7.11"
  }
 },
 "nbformat": 4,
 "nbformat_minor": 0
}
